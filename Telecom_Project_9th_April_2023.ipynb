{
  "cells": [
    {
      "cell_type": "code",
      "execution_count": 1,
      "id": "a5097def",
      "metadata": {
        "id": "a5097def"
      },
      "outputs": [],
      "source": [
        "import os, sys\n",
        "import numpy as np\n",
        "import pandas as pd\n",
        "%matplotlib inline\n",
        "import matplotlib.pyplot as plt\n",
        "import seaborn as sns\n",
        "sns.set()\n",
        "import warnings\n",
        "warnings.filterwarnings('ignore')"
      ]
    },
    {
      "cell_type": "code",
      "execution_count": 2,
      "id": "dd184487",
      "metadata": {
        "colab": {
          "base_uri": "https://localhost:8080/",
          "height": 386
        },
        "id": "dd184487",
        "outputId": "b1a8608e-2d9b-4e91-fa34-d1f5a174ba79"
      },
      "outputs": [
        {
          "output_type": "execute_result",
          "data": {
            "text/plain": [
              "   customerID  gender  SeniorCitizen Partner Dependents  tenure PhoneService  \\\n",
              "0  7590-VHVEG  Female              0     Yes         No       1           No   \n",
              "1  5575-GNVDE    Male              0      No         No      34          Yes   \n",
              "2  3668-QPYBK    Male              0      No         No       2          Yes   \n",
              "3  7795-CFOCW    Male              0      No         No      45           No   \n",
              "4  9237-HQITU  Female              0      No         No       2          Yes   \n",
              "\n",
              "      MultipleLines InternetService OnlineSecurity  ... DeviceProtection  \\\n",
              "0  No phone service             DSL             No  ...               No   \n",
              "1                No             DSL            Yes  ...              Yes   \n",
              "2                No             DSL            Yes  ...               No   \n",
              "3  No phone service             DSL            Yes  ...              Yes   \n",
              "4                No     Fiber optic             No  ...               No   \n",
              "\n",
              "  TechSupport StreamingTV StreamingMovies        Contract PaperlessBilling  \\\n",
              "0          No          No              No  Month-to-month              Yes   \n",
              "1          No          No              No        One year               No   \n",
              "2          No          No              No  Month-to-month              Yes   \n",
              "3         Yes          No              No        One year               No   \n",
              "4          No          No              No  Month-to-month              Yes   \n",
              "\n",
              "               PaymentMethod MonthlyCharges  TotalCharges Churn  \n",
              "0           Electronic check          29.85         29.85    No  \n",
              "1               Mailed check          56.95        1889.5    No  \n",
              "2               Mailed check          53.85        108.15   Yes  \n",
              "3  Bank transfer (automatic)          42.30       1840.75    No  \n",
              "4           Electronic check          70.70        151.65   Yes  \n",
              "\n",
              "[5 rows x 21 columns]"
            ],
            "text/html": [
              "\n",
              "  <div id=\"df-dfdf95a2-ccee-4257-bee2-31ac2cbedfe1\">\n",
              "    <div class=\"colab-df-container\">\n",
              "      <div>\n",
              "<style scoped>\n",
              "    .dataframe tbody tr th:only-of-type {\n",
              "        vertical-align: middle;\n",
              "    }\n",
              "\n",
              "    .dataframe tbody tr th {\n",
              "        vertical-align: top;\n",
              "    }\n",
              "\n",
              "    .dataframe thead th {\n",
              "        text-align: right;\n",
              "    }\n",
              "</style>\n",
              "<table border=\"1\" class=\"dataframe\">\n",
              "  <thead>\n",
              "    <tr style=\"text-align: right;\">\n",
              "      <th></th>\n",
              "      <th>customerID</th>\n",
              "      <th>gender</th>\n",
              "      <th>SeniorCitizen</th>\n",
              "      <th>Partner</th>\n",
              "      <th>Dependents</th>\n",
              "      <th>tenure</th>\n",
              "      <th>PhoneService</th>\n",
              "      <th>MultipleLines</th>\n",
              "      <th>InternetService</th>\n",
              "      <th>OnlineSecurity</th>\n",
              "      <th>...</th>\n",
              "      <th>DeviceProtection</th>\n",
              "      <th>TechSupport</th>\n",
              "      <th>StreamingTV</th>\n",
              "      <th>StreamingMovies</th>\n",
              "      <th>Contract</th>\n",
              "      <th>PaperlessBilling</th>\n",
              "      <th>PaymentMethod</th>\n",
              "      <th>MonthlyCharges</th>\n",
              "      <th>TotalCharges</th>\n",
              "      <th>Churn</th>\n",
              "    </tr>\n",
              "  </thead>\n",
              "  <tbody>\n",
              "    <tr>\n",
              "      <th>0</th>\n",
              "      <td>7590-VHVEG</td>\n",
              "      <td>Female</td>\n",
              "      <td>0</td>\n",
              "      <td>Yes</td>\n",
              "      <td>No</td>\n",
              "      <td>1</td>\n",
              "      <td>No</td>\n",
              "      <td>No phone service</td>\n",
              "      <td>DSL</td>\n",
              "      <td>No</td>\n",
              "      <td>...</td>\n",
              "      <td>No</td>\n",
              "      <td>No</td>\n",
              "      <td>No</td>\n",
              "      <td>No</td>\n",
              "      <td>Month-to-month</td>\n",
              "      <td>Yes</td>\n",
              "      <td>Electronic check</td>\n",
              "      <td>29.85</td>\n",
              "      <td>29.85</td>\n",
              "      <td>No</td>\n",
              "    </tr>\n",
              "    <tr>\n",
              "      <th>1</th>\n",
              "      <td>5575-GNVDE</td>\n",
              "      <td>Male</td>\n",
              "      <td>0</td>\n",
              "      <td>No</td>\n",
              "      <td>No</td>\n",
              "      <td>34</td>\n",
              "      <td>Yes</td>\n",
              "      <td>No</td>\n",
              "      <td>DSL</td>\n",
              "      <td>Yes</td>\n",
              "      <td>...</td>\n",
              "      <td>Yes</td>\n",
              "      <td>No</td>\n",
              "      <td>No</td>\n",
              "      <td>No</td>\n",
              "      <td>One year</td>\n",
              "      <td>No</td>\n",
              "      <td>Mailed check</td>\n",
              "      <td>56.95</td>\n",
              "      <td>1889.5</td>\n",
              "      <td>No</td>\n",
              "    </tr>\n",
              "    <tr>\n",
              "      <th>2</th>\n",
              "      <td>3668-QPYBK</td>\n",
              "      <td>Male</td>\n",
              "      <td>0</td>\n",
              "      <td>No</td>\n",
              "      <td>No</td>\n",
              "      <td>2</td>\n",
              "      <td>Yes</td>\n",
              "      <td>No</td>\n",
              "      <td>DSL</td>\n",
              "      <td>Yes</td>\n",
              "      <td>...</td>\n",
              "      <td>No</td>\n",
              "      <td>No</td>\n",
              "      <td>No</td>\n",
              "      <td>No</td>\n",
              "      <td>Month-to-month</td>\n",
              "      <td>Yes</td>\n",
              "      <td>Mailed check</td>\n",
              "      <td>53.85</td>\n",
              "      <td>108.15</td>\n",
              "      <td>Yes</td>\n",
              "    </tr>\n",
              "    <tr>\n",
              "      <th>3</th>\n",
              "      <td>7795-CFOCW</td>\n",
              "      <td>Male</td>\n",
              "      <td>0</td>\n",
              "      <td>No</td>\n",
              "      <td>No</td>\n",
              "      <td>45</td>\n",
              "      <td>No</td>\n",
              "      <td>No phone service</td>\n",
              "      <td>DSL</td>\n",
              "      <td>Yes</td>\n",
              "      <td>...</td>\n",
              "      <td>Yes</td>\n",
              "      <td>Yes</td>\n",
              "      <td>No</td>\n",
              "      <td>No</td>\n",
              "      <td>One year</td>\n",
              "      <td>No</td>\n",
              "      <td>Bank transfer (automatic)</td>\n",
              "      <td>42.30</td>\n",
              "      <td>1840.75</td>\n",
              "      <td>No</td>\n",
              "    </tr>\n",
              "    <tr>\n",
              "      <th>4</th>\n",
              "      <td>9237-HQITU</td>\n",
              "      <td>Female</td>\n",
              "      <td>0</td>\n",
              "      <td>No</td>\n",
              "      <td>No</td>\n",
              "      <td>2</td>\n",
              "      <td>Yes</td>\n",
              "      <td>No</td>\n",
              "      <td>Fiber optic</td>\n",
              "      <td>No</td>\n",
              "      <td>...</td>\n",
              "      <td>No</td>\n",
              "      <td>No</td>\n",
              "      <td>No</td>\n",
              "      <td>No</td>\n",
              "      <td>Month-to-month</td>\n",
              "      <td>Yes</td>\n",
              "      <td>Electronic check</td>\n",
              "      <td>70.70</td>\n",
              "      <td>151.65</td>\n",
              "      <td>Yes</td>\n",
              "    </tr>\n",
              "  </tbody>\n",
              "</table>\n",
              "<p>5 rows × 21 columns</p>\n",
              "</div>\n",
              "      <button class=\"colab-df-convert\" onclick=\"convertToInteractive('df-dfdf95a2-ccee-4257-bee2-31ac2cbedfe1')\"\n",
              "              title=\"Convert this dataframe to an interactive table.\"\n",
              "              style=\"display:none;\">\n",
              "        \n",
              "  <svg xmlns=\"http://www.w3.org/2000/svg\" height=\"24px\"viewBox=\"0 0 24 24\"\n",
              "       width=\"24px\">\n",
              "    <path d=\"M0 0h24v24H0V0z\" fill=\"none\"/>\n",
              "    <path d=\"M18.56 5.44l.94 2.06.94-2.06 2.06-.94-2.06-.94-.94-2.06-.94 2.06-2.06.94zm-11 1L8.5 8.5l.94-2.06 2.06-.94-2.06-.94L8.5 2.5l-.94 2.06-2.06.94zm10 10l.94 2.06.94-2.06 2.06-.94-2.06-.94-.94-2.06-.94 2.06-2.06.94z\"/><path d=\"M17.41 7.96l-1.37-1.37c-.4-.4-.92-.59-1.43-.59-.52 0-1.04.2-1.43.59L10.3 9.45l-7.72 7.72c-.78.78-.78 2.05 0 2.83L4 21.41c.39.39.9.59 1.41.59.51 0 1.02-.2 1.41-.59l7.78-7.78 2.81-2.81c.8-.78.8-2.07 0-2.86zM5.41 20L4 18.59l7.72-7.72 1.47 1.35L5.41 20z\"/>\n",
              "  </svg>\n",
              "      </button>\n",
              "      \n",
              "  <style>\n",
              "    .colab-df-container {\n",
              "      display:flex;\n",
              "      flex-wrap:wrap;\n",
              "      gap: 12px;\n",
              "    }\n",
              "\n",
              "    .colab-df-convert {\n",
              "      background-color: #E8F0FE;\n",
              "      border: none;\n",
              "      border-radius: 50%;\n",
              "      cursor: pointer;\n",
              "      display: none;\n",
              "      fill: #1967D2;\n",
              "      height: 32px;\n",
              "      padding: 0 0 0 0;\n",
              "      width: 32px;\n",
              "    }\n",
              "\n",
              "    .colab-df-convert:hover {\n",
              "      background-color: #E2EBFA;\n",
              "      box-shadow: 0px 1px 2px rgba(60, 64, 67, 0.3), 0px 1px 3px 1px rgba(60, 64, 67, 0.15);\n",
              "      fill: #174EA6;\n",
              "    }\n",
              "\n",
              "    [theme=dark] .colab-df-convert {\n",
              "      background-color: #3B4455;\n",
              "      fill: #D2E3FC;\n",
              "    }\n",
              "\n",
              "    [theme=dark] .colab-df-convert:hover {\n",
              "      background-color: #434B5C;\n",
              "      box-shadow: 0px 1px 3px 1px rgba(0, 0, 0, 0.15);\n",
              "      filter: drop-shadow(0px 1px 2px rgba(0, 0, 0, 0.3));\n",
              "      fill: #FFFFFF;\n",
              "    }\n",
              "  </style>\n",
              "\n",
              "      <script>\n",
              "        const buttonEl =\n",
              "          document.querySelector('#df-dfdf95a2-ccee-4257-bee2-31ac2cbedfe1 button.colab-df-convert');\n",
              "        buttonEl.style.display =\n",
              "          google.colab.kernel.accessAllowed ? 'block' : 'none';\n",
              "\n",
              "        async function convertToInteractive(key) {\n",
              "          const element = document.querySelector('#df-dfdf95a2-ccee-4257-bee2-31ac2cbedfe1');\n",
              "          const dataTable =\n",
              "            await google.colab.kernel.invokeFunction('convertToInteractive',\n",
              "                                                     [key], {});\n",
              "          if (!dataTable) return;\n",
              "\n",
              "          const docLinkHtml = 'Like what you see? Visit the ' +\n",
              "            '<a target=\"_blank\" href=https://colab.research.google.com/notebooks/data_table.ipynb>data table notebook</a>'\n",
              "            + ' to learn more about interactive tables.';\n",
              "          element.innerHTML = '';\n",
              "          dataTable['output_type'] = 'display_data';\n",
              "          await google.colab.output.renderOutput(dataTable, element);\n",
              "          const docLink = document.createElement('div');\n",
              "          docLink.innerHTML = docLinkHtml;\n",
              "          element.appendChild(docLink);\n",
              "        }\n",
              "      </script>\n",
              "    </div>\n",
              "  </div>\n",
              "  "
            ]
          },
          "metadata": {},
          "execution_count": 2
        }
      ],
      "source": [
        "customer_churn = pd.read_csv('/content/Telcom Data.csv')\n",
        "customer_churn.head()"
      ]
    },
    {
      "cell_type": "code",
      "execution_count": null,
      "id": "de6b60d3",
      "metadata": {
        "id": "de6b60d3",
        "outputId": "b4f073b7-3edf-4e3f-cb34-69814cf364b0"
      },
      "outputs": [
        {
          "name": "stdout",
          "output_type": "stream",
          "text": [
            "<class 'pandas.core.frame.DataFrame'>\n",
            "RangeIndex: 7043 entries, 0 to 7042\n",
            "Data columns (total 21 columns):\n",
            " #   Column            Non-Null Count  Dtype  \n",
            "---  ------            --------------  -----  \n",
            " 0   customerID        7043 non-null   object \n",
            " 1   gender            7043 non-null   object \n",
            " 2   SeniorCitizen     7043 non-null   int64  \n",
            " 3   Partner           7043 non-null   object \n",
            " 4   Dependents        7043 non-null   object \n",
            " 5   tenure            7043 non-null   int64  \n",
            " 6   PhoneService      7043 non-null   object \n",
            " 7   MultipleLines     7043 non-null   object \n",
            " 8   InternetService   7043 non-null   object \n",
            " 9   OnlineSecurity    7043 non-null   object \n",
            " 10  OnlineBackup      7043 non-null   object \n",
            " 11  DeviceProtection  7043 non-null   object \n",
            " 12  TechSupport       7043 non-null   object \n",
            " 13  StreamingTV       7043 non-null   object \n",
            " 14  StreamingMovies   7043 non-null   object \n",
            " 15  Contract          7043 non-null   object \n",
            " 16  PaperlessBilling  7043 non-null   object \n",
            " 17  PaymentMethod     7043 non-null   object \n",
            " 18  MonthlyCharges    7043 non-null   float64\n",
            " 19  TotalCharges      7043 non-null   object \n",
            " 20  Churn             7043 non-null   object \n",
            "dtypes: float64(1), int64(2), object(18)\n",
            "memory usage: 1.1+ MB\n"
          ]
        }
      ],
      "source": [
        "customer_churn.info()"
      ]
    },
    {
      "cell_type": "code",
      "execution_count": null,
      "id": "c6b1ae37",
      "metadata": {
        "id": "c6b1ae37",
        "outputId": "7d153cca-ec98-417f-97f8-93455bd2fa05"
      },
      "outputs": [
        {
          "data": {
            "text/plain": [
              "No     73.463013\n",
              "Yes    26.536987\n",
              "Name: Churn, dtype: float64"
            ]
          },
          "execution_count": 4,
          "metadata": {},
          "output_type": "execute_result"
        }
      ],
      "source": [
        "customer_churn['Churn'].value_counts()/(len(customer_churn))*100"
      ]
    },
    {
      "cell_type": "code",
      "execution_count": null,
      "id": "d511cd6e",
      "metadata": {
        "id": "d511cd6e",
        "outputId": "1dbd1497-36b0-4cf6-cfad-bbc1321c05a7"
      },
      "outputs": [
        {
          "data": {
            "text/plain": [
              "\"\\nchurn_no = customer_churn[customer_churn['Churn']=='No']\\nchurn_yes = customer_churn[customer_churn['Churn']=='Yes']\\n\""
            ]
          },
          "execution_count": 11,
          "metadata": {},
          "output_type": "execute_result"
        }
      ],
      "source": [
        "\"\"\"\n",
        "churn_no = customer_churn[customer_churn['Churn']=='No']\n",
        "churn_yes = customer_churn[customer_churn['Churn']=='Yes']\n",
        "\"\"\""
      ]
    },
    {
      "cell_type": "code",
      "execution_count": null,
      "id": "a411b3ee",
      "metadata": {
        "id": "a411b3ee",
        "outputId": "894b5aae-261d-419b-d727-8ec6c6578ee8"
      },
      "outputs": [
        {
          "data": {
            "text/plain": [
              "((5174, 21), (1869, 21))"
            ]
          },
          "execution_count": 6,
          "metadata": {},
          "output_type": "execute_result"
        }
      ],
      "source": [
        "churn_no.shape, churn_yes.shape"
      ]
    },
    {
      "cell_type": "code",
      "execution_count": null,
      "id": "8e5c0a61",
      "metadata": {
        "id": "8e5c0a61",
        "outputId": "4be11478-83f7-4341-a763-d0b9d2989ce0"
      },
      "outputs": [
        {
          "data": {
            "text/html": [
              "<div>\n",
              "<style scoped>\n",
              "    .dataframe tbody tr th:only-of-type {\n",
              "        vertical-align: middle;\n",
              "    }\n",
              "\n",
              "    .dataframe tbody tr th {\n",
              "        vertical-align: top;\n",
              "    }\n",
              "\n",
              "    .dataframe thead th {\n",
              "        text-align: right;\n",
              "    }\n",
              "</style>\n",
              "<table border=\"1\" class=\"dataframe\">\n",
              "  <thead>\n",
              "    <tr style=\"text-align: right;\">\n",
              "      <th></th>\n",
              "      <th>customerID</th>\n",
              "      <th>gender</th>\n",
              "      <th>SeniorCitizen</th>\n",
              "      <th>Partner</th>\n",
              "      <th>Dependents</th>\n",
              "      <th>tenure</th>\n",
              "      <th>PhoneService</th>\n",
              "      <th>MultipleLines</th>\n",
              "      <th>InternetService</th>\n",
              "      <th>OnlineSecurity</th>\n",
              "      <th>...</th>\n",
              "      <th>DeviceProtection</th>\n",
              "      <th>TechSupport</th>\n",
              "      <th>StreamingTV</th>\n",
              "      <th>StreamingMovies</th>\n",
              "      <th>Contract</th>\n",
              "      <th>PaperlessBilling</th>\n",
              "      <th>PaymentMethod</th>\n",
              "      <th>MonthlyCharges</th>\n",
              "      <th>TotalCharges</th>\n",
              "      <th>Churn</th>\n",
              "    </tr>\n",
              "  </thead>\n",
              "  <tbody>\n",
              "    <tr>\n",
              "      <th>2</th>\n",
              "      <td>3668-QPYBK</td>\n",
              "      <td>Male</td>\n",
              "      <td>0</td>\n",
              "      <td>No</td>\n",
              "      <td>No</td>\n",
              "      <td>2</td>\n",
              "      <td>Yes</td>\n",
              "      <td>No</td>\n",
              "      <td>DSL</td>\n",
              "      <td>Yes</td>\n",
              "      <td>...</td>\n",
              "      <td>No</td>\n",
              "      <td>No</td>\n",
              "      <td>No</td>\n",
              "      <td>No</td>\n",
              "      <td>Month-to-month</td>\n",
              "      <td>Yes</td>\n",
              "      <td>Mailed check</td>\n",
              "      <td>53.85</td>\n",
              "      <td>108.15</td>\n",
              "      <td>Yes</td>\n",
              "    </tr>\n",
              "    <tr>\n",
              "      <th>4</th>\n",
              "      <td>9237-HQITU</td>\n",
              "      <td>Female</td>\n",
              "      <td>0</td>\n",
              "      <td>No</td>\n",
              "      <td>No</td>\n",
              "      <td>2</td>\n",
              "      <td>Yes</td>\n",
              "      <td>No</td>\n",
              "      <td>Fiber optic</td>\n",
              "      <td>No</td>\n",
              "      <td>...</td>\n",
              "      <td>No</td>\n",
              "      <td>No</td>\n",
              "      <td>No</td>\n",
              "      <td>No</td>\n",
              "      <td>Month-to-month</td>\n",
              "      <td>Yes</td>\n",
              "      <td>Electronic check</td>\n",
              "      <td>70.70</td>\n",
              "      <td>151.65</td>\n",
              "      <td>Yes</td>\n",
              "    </tr>\n",
              "  </tbody>\n",
              "</table>\n",
              "<p>2 rows × 21 columns</p>\n",
              "</div>"
            ],
            "text/plain": [
              "   customerID  gender  SeniorCitizen Partner Dependents  tenure PhoneService  \\\n",
              "2  3668-QPYBK    Male              0      No         No       2          Yes   \n",
              "4  9237-HQITU  Female              0      No         No       2          Yes   \n",
              "\n",
              "  MultipleLines InternetService OnlineSecurity  ... DeviceProtection  \\\n",
              "2            No             DSL            Yes  ...               No   \n",
              "4            No     Fiber optic             No  ...               No   \n",
              "\n",
              "  TechSupport StreamingTV StreamingMovies        Contract PaperlessBilling  \\\n",
              "2          No          No              No  Month-to-month              Yes   \n",
              "4          No          No              No  Month-to-month              Yes   \n",
              "\n",
              "      PaymentMethod MonthlyCharges  TotalCharges Churn  \n",
              "2      Mailed check          53.85        108.15   Yes  \n",
              "4  Electronic check          70.70        151.65   Yes  \n",
              "\n",
              "[2 rows x 21 columns]"
            ]
          },
          "execution_count": 7,
          "metadata": {},
          "output_type": "execute_result"
        }
      ],
      "source": [
        "# Handling by using oversampling method - Target - Minority class\n",
        "churn_yes.head(2)"
      ]
    },
    {
      "cell_type": "code",
      "execution_count": null,
      "id": "626f5707",
      "metadata": {
        "id": "626f5707"
      },
      "outputs": [],
      "source": [
        "customer_churn['Churn'] = customer_churn['Churn'].replace({'Yes':1, 'No':0})"
      ]
    },
    {
      "cell_type": "code",
      "execution_count": null,
      "id": "9cb03113",
      "metadata": {
        "id": "9cb03113",
        "outputId": "1bb25162-dce2-48cf-d20b-e284679af988"
      },
      "outputs": [
        {
          "data": {
            "text/plain": [
              "0    73.463013\n",
              "1    26.536987\n",
              "Name: Churn, dtype: float64"
            ]
          },
          "execution_count": 13,
          "metadata": {},
          "output_type": "execute_result"
        }
      ],
      "source": [
        "customer_churn['Churn'].value_counts()/(len(customer_churn))*100"
      ]
    },
    {
      "cell_type": "code",
      "execution_count": null,
      "id": "e5c6b351",
      "metadata": {
        "id": "e5c6b351",
        "outputId": "09ea663d-216a-47fe-fd40-c9f8fe7ed5d1"
      },
      "outputs": [
        {
          "data": {
            "text/plain": [
              "Index(['customerID', 'gender', 'SeniorCitizen', 'Partner', 'Dependents',\n",
              "       'tenure', 'PhoneService', 'MultipleLines', 'InternetService',\n",
              "       'OnlineSecurity', 'OnlineBackup', 'DeviceProtection', 'TechSupport',\n",
              "       'StreamingTV', 'StreamingMovies', 'Contract', 'PaperlessBilling',\n",
              "       'PaymentMethod', 'MonthlyCharges', 'TotalCharges', 'Churn'],\n",
              "      dtype='object')"
            ]
          },
          "execution_count": 14,
          "metadata": {},
          "output_type": "execute_result"
        }
      ],
      "source": [
        "customer_churn.columns"
      ]
    },
    {
      "cell_type": "code",
      "execution_count": null,
      "id": "1580f1de",
      "metadata": {
        "id": "1580f1de",
        "outputId": "648956ce-082c-4622-9ebf-62b36cfb4832"
      },
      "outputs": [
        {
          "data": {
            "text/plain": [
              "No                  3390\n",
              "Yes                 2971\n",
              "No phone service     682\n",
              "Name: MultipleLines, dtype: int64"
            ]
          },
          "execution_count": 21,
          "metadata": {},
          "output_type": "execute_result"
        }
      ],
      "source": [
        "customer_churn['MultipleLines'].value_counts()"
      ]
    },
    {
      "cell_type": "code",
      "execution_count": null,
      "id": "4b2c92a0",
      "metadata": {
        "id": "4b2c92a0",
        "outputId": "2f66b752-94e9-425d-ebdb-b46917fd6a93"
      },
      "outputs": [
        {
          "data": {
            "text/plain": [
              "Fiber optic    3096\n",
              "DSL            2421\n",
              "No             1526\n",
              "Name: InternetService, dtype: int64"
            ]
          },
          "execution_count": 22,
          "metadata": {},
          "output_type": "execute_result"
        }
      ],
      "source": [
        "customer_churn['InternetService'].value_counts()"
      ]
    },
    {
      "cell_type": "code",
      "execution_count": null,
      "id": "63f08a9b",
      "metadata": {
        "id": "63f08a9b",
        "outputId": "6f0ca839-8b47-4aac-a98d-22a0acec9742"
      },
      "outputs": [
        {
          "data": {
            "text/plain": [
              "No                     3498\n",
              "Yes                    2019\n",
              "No internet service    1526\n",
              "Name: OnlineSecurity, dtype: int64"
            ]
          },
          "execution_count": 23,
          "metadata": {},
          "output_type": "execute_result"
        }
      ],
      "source": [
        "customer_churn['OnlineSecurity'].value_counts()"
      ]
    },
    {
      "cell_type": "code",
      "execution_count": null,
      "id": "a60d085d",
      "metadata": {
        "id": "a60d085d",
        "outputId": "e7661995-8331-4123-c841-bea1c7364189"
      },
      "outputs": [
        {
          "data": {
            "text/plain": [
              "No                     3088\n",
              "Yes                    2429\n",
              "No internet service    1526\n",
              "Name: OnlineBackup, dtype: int64"
            ]
          },
          "execution_count": 24,
          "metadata": {},
          "output_type": "execute_result"
        }
      ],
      "source": [
        "customer_churn['OnlineBackup'].value_counts()"
      ]
    },
    {
      "cell_type": "code",
      "execution_count": null,
      "id": "93643bac",
      "metadata": {
        "id": "93643bac",
        "outputId": "ce59ccf9-1f04-496d-9563-b540b82f567a"
      },
      "outputs": [
        {
          "data": {
            "text/plain": [
              "No                     3095\n",
              "Yes                    2422\n",
              "No internet service    1526\n",
              "Name: DeviceProtection, dtype: int64"
            ]
          },
          "execution_count": 25,
          "metadata": {},
          "output_type": "execute_result"
        }
      ],
      "source": [
        "customer_churn['DeviceProtection'].value_counts()"
      ]
    },
    {
      "cell_type": "code",
      "execution_count": null,
      "id": "451fa203",
      "metadata": {
        "id": "451fa203",
        "outputId": "68510c9b-8c81-40aa-afde-df566c736d10"
      },
      "outputs": [
        {
          "data": {
            "text/plain": [
              "No                     3473\n",
              "Yes                    2044\n",
              "No internet service    1526\n",
              "Name: TechSupport, dtype: int64"
            ]
          },
          "execution_count": 26,
          "metadata": {},
          "output_type": "execute_result"
        }
      ],
      "source": [
        "customer_churn['TechSupport'].value_counts()"
      ]
    },
    {
      "cell_type": "code",
      "execution_count": null,
      "id": "cec7ac5a",
      "metadata": {
        "id": "cec7ac5a",
        "outputId": "b1db41ef-8de0-415e-ba8c-33253188e098"
      },
      "outputs": [
        {
          "data": {
            "text/plain": [
              "No                     2810\n",
              "Yes                    2707\n",
              "No internet service    1526\n",
              "Name: StreamingTV, dtype: int64"
            ]
          },
          "execution_count": 27,
          "metadata": {},
          "output_type": "execute_result"
        }
      ],
      "source": [
        "customer_churn['StreamingTV'].value_counts()"
      ]
    },
    {
      "cell_type": "code",
      "execution_count": null,
      "id": "154d419b",
      "metadata": {
        "id": "154d419b",
        "outputId": "59f3ec44-2400-407b-fd98-918f62e93d82"
      },
      "outputs": [
        {
          "data": {
            "text/plain": [
              "No                     2785\n",
              "Yes                    2732\n",
              "No internet service    1526\n",
              "Name: StreamingMovies, dtype: int64"
            ]
          },
          "execution_count": 28,
          "metadata": {},
          "output_type": "execute_result"
        }
      ],
      "source": [
        "customer_churn['StreamingMovies'].value_counts()"
      ]
    },
    {
      "cell_type": "code",
      "execution_count": null,
      "id": "cd7f0f55",
      "metadata": {
        "id": "cd7f0f55",
        "outputId": "ee5e76e2-c759-4e92-af25-e6a16cf09397"
      },
      "outputs": [
        {
          "data": {
            "text/plain": [
              "Month-to-month    3875\n",
              "Two year          1695\n",
              "One year          1473\n",
              "Name: Contract, dtype: int64"
            ]
          },
          "execution_count": 29,
          "metadata": {},
          "output_type": "execute_result"
        }
      ],
      "source": [
        "customer_churn['Contract'].value_counts()"
      ]
    },
    {
      "cell_type": "code",
      "execution_count": null,
      "id": "b0bda61e",
      "metadata": {
        "id": "b0bda61e",
        "outputId": "084bb337-4836-46f6-9563-2a009bbfff34"
      },
      "outputs": [
        {
          "data": {
            "text/plain": [
              "Yes    4171\n",
              "No     2872\n",
              "Name: PaperlessBilling, dtype: int64"
            ]
          },
          "execution_count": 30,
          "metadata": {},
          "output_type": "execute_result"
        }
      ],
      "source": [
        "customer_churn['PaperlessBilling'].value_counts()"
      ]
    },
    {
      "cell_type": "code",
      "execution_count": null,
      "id": "4038fea5",
      "metadata": {
        "id": "4038fea5",
        "outputId": "d40f66de-3e52-4d9b-9779-bf3d81ab5806"
      },
      "outputs": [
        {
          "data": {
            "text/plain": [
              "Electronic check             2365\n",
              "Mailed check                 1612\n",
              "Bank transfer (automatic)    1544\n",
              "Credit card (automatic)      1522\n",
              "Name: PaymentMethod, dtype: int64"
            ]
          },
          "execution_count": 31,
          "metadata": {},
          "output_type": "execute_result"
        }
      ],
      "source": [
        "customer_churn['PaymentMethod'].value_counts()"
      ]
    },
    {
      "cell_type": "code",
      "execution_count": null,
      "id": "12149430",
      "metadata": {
        "id": "12149430",
        "outputId": "ba0f7a20-e9a5-415e-9299-da9339e414cc"
      },
      "outputs": [
        {
          "data": {
            "text/plain": [
              "20.05     61\n",
              "19.85     45\n",
              "19.95     44\n",
              "19.90     44\n",
              "20.00     43\n",
              "          ..\n",
              "23.65      1\n",
              "114.70     1\n",
              "43.65      1\n",
              "87.80      1\n",
              "78.70      1\n",
              "Name: MonthlyCharges, Length: 1585, dtype: int64"
            ]
          },
          "execution_count": 32,
          "metadata": {},
          "output_type": "execute_result"
        }
      ],
      "source": [
        "customer_churn['MonthlyCharges'].value_counts()"
      ]
    },
    {
      "cell_type": "code",
      "execution_count": null,
      "id": "d6e7606c",
      "metadata": {
        "id": "d6e7606c"
      },
      "outputs": [],
      "source": [
        "customer_churn['MonthlyCharges'].value_counts()"
      ]
    },
    {
      "cell_type": "code",
      "execution_count": null,
      "id": "d4b2d5aa",
      "metadata": {
        "id": "d4b2d5aa",
        "outputId": "aead20e8-091e-4bb9-8074-7c4bf4ea334a"
      },
      "outputs": [
        {
          "data": {
            "text/plain": [
              "20.2      11\n",
              "19.75      9\n",
              "20.05      8\n",
              "19.9       8\n",
              "19.65      8\n",
              "          ..\n",
              "6849.4     1\n",
              "692.35     1\n",
              "130.15     1\n",
              "3211.9     1\n",
              "6844.5     1\n",
              "Name: TotalCharges, Length: 6530, dtype: int64"
            ]
          },
          "execution_count": 36,
          "metadata": {},
          "output_type": "execute_result"
        }
      ],
      "source": [
        "customer_churn['TotalCharges'].value_counts()"
      ]
    },
    {
      "cell_type": "code",
      "execution_count": null,
      "id": "6c935847",
      "metadata": {
        "id": "6c935847",
        "outputId": "4fdd48bb-1a56-4124-94b7-59236817c83d"
      },
      "outputs": [
        {
          "name": "stdout",
          "output_type": "stream",
          "text": [
            "******************************************************* customerID ***********************************************************\n",
            "\n",
            "{'5955-EPOAZ', '2886-KEFUM', '4627-MIHJH', '2101-RANCD', '1705-GUHPV', '3569-EDBPQ', '2038-OEQZH', '0621-JFHOL', '9396-ZSFLL', '4646-QZXTF', '9402-CXWPL', '3995-WFCSM', '6510-UPNKS', '9137-UIYPG', '6549-BTYPG', '6434-TTGJP', '2446-BEGGB', '3023-GFLBR', '6614-FHDBO', '6599-GZWCM', '8879-ZKJOF', '6609-MXJHJ', '7524-VRLPL', '8644-XYTSV', '0487-CRLZF', '9823-EALYC', '9715-WZCLW', '8773-HHUOZ', '0224-HJAPT', '2740-TVLFN', '5387-ASZNZ', '2637-FKFSY', '0596-BQCEQ', '9770-KXGQU', '4403-BWPAY', '8224-IVVPA', '2197-OMWGI', '4077-HWUYD', '3518-FSTWG', '2560-PPCHE', '7817-OMJNA', '8780-YRMTT', '9668-PUGNU', '6959-GQEGV', '1839-UMACK', '8237-ULIXL', '7595-EHCDL', '0082-OQIQY', '2988-GBIVW', '2885-HIJDH', '3347-YJZZE', '8756-RDDLT', '9330-IJWIO', '9788-HNGUT', '6481-LXPWL', '4373-MAVJG', '7156-MHUGY', '3005-TYFRD', '4712-AUQZO', '7460-ITWWP', '2380-DAMQP', '1904-WAJAA', '7361-YPXFS', '1670-SVOWZ', '6243-OZGFH', '3165-HDOEW', '7993-NQLJE', '1023-BQXZE', '2985-JUUBZ', '0564-JJHGS', '6164-HXUGH', '5307-UVGNB', '0856-NAOES', '0378-XSZPU', '0810-DHDBD', '6281-FKEWS', '9907-SWKKF', '5172-MIGPM', '2499-AJYUA', '6695-AMZUF', '6614-VBEGU', '8775-ERLNB', '7480-SPLEF', '7895-VONWT', '6899-PPEEA', '9505-SQFSW', '7029-RPUAV', '8280-MQRQN', '6242-FEGFD', '2320-SLKMB', '3705-PSNGL', '2900-PHPLN', '7369-TRPFD', '9248-OJYKK', '2454-RPBRZ', '5203-XEHAX', '9805-FILKB', '0723-FDLAY', '3736-BLEPA', '8727-JQFHV', '0754-UKWQP', '6328-ZPBGN', '1410-RSCMR', '5835-BEQEU', '2971-SGAFL', '1069-XAIEM', '2108-YKQTY', '7266-GSSJX', '2074-GKOWZ', '6656-GULJQ', '8885-QSQBX', '8149-RSOUN', '1395-WSWXR', '1853-UDXBW', '0134-XWXCE', '3721-CNZHX', '0839-JTCUD', '3506-OVLKD', '0674-GCDXG', '8992-OBVDG', '8778-LMWTJ', '4223-BKEOR', '4878-BUNFV', '8118-LSUEL', '5619-PTMIK', '5961-VUSRV', '9500-IWPXQ', '3190-FZATL', '2239-CGBUZ', '9503-XJUME', '1866-DIOQZ', '0967-BMLBD', '0708-SJDIS', '7742-MYPGI', '3645-DEYGF', '3778-FOAQW', '1265-HVPZB', '3316-UWXUY', '5650-VDUDS', '0014-BMAQU', '8701-DGLVH', '0807-ZABDG', '5997-OPVFA', '1051-GEJLJ', '1658-BYGOY', '7537-RBWEA', '2115-BFTIW', '7929-DMBCV', '8902-ZEOVF', '9572-MTILT', '6120-RJKLU', '2311-QYMUQ', '1195-OIYEJ', '7353-YOWFP', '8035-PWSEV', '2335-GSODA', '2569-WGERO', '3489-VSFRD', '8357-EQXFO', '3391-JSQEW', '6075-QMNRR', '6035-BXTTY', '1193-RTSLK', '6661-EIPZC', '3969-JQABI', '2777-PHDEI', '4660-IRIBM', '9095-HFAFX', '1678-FYZOW', '8894-JVDCV', '4098-NAUKP', '1031-IIDEO', '5449-FIBXJ', '5160-UXJED', '6267-DCFFZ', '9866-OCCKE', '1810-MVMAI', '5624-BQSSA', '5567-GZKQY', '2320-YKQBO', '7279-NMVJC', '2858-EIMXH', '4376-KFVRS', '1915-OAKWD', '7245-JMTTQ', '8242-SOQUO', '9695-IDRZR', '3039-MJSLN', '2661-GKBTK', '0325-XBFAC', '2511-ALLCS', '2207-QPJED', '8387-MOJJT', '7777-UNYHB', '8224-KDLKN', '2429-AYKKO', '2077-MPJQO', '7952-OBOYL', '7881-EVUAD', '4201-JMNGR', '6486-LHTMA', '7197-VOJMM', '3580-REOAC', '9102-OXKFY', '6260-XLACS', '6861-XWTWQ', '2363-BJLSL', '8622-ZLFKO', '3452-SRFEG', '9985-MWVIX', '5846-ABOBJ', '5630-AHZIL', '6215-NQCPY', '5440-VHLUL', '7139-JZFVG', '7746-AWNQW', '3030-YZADT', '2581-VKIRT', '0719-SYFRB', '6048-NJXHX', '6061-GWWAV', '8361-LBRDI', '4990-ALDGW', '9300-RENDD', '7629-WIXZF', '7270-BDIOA', '2774-LVQUS', '3323-CPBWR', '7698-YFGEZ', '1038-RQOST', '9052-DHNKM', '8777-PVYGU', '7938-OUHIO', '6366-XIVKZ', '5914-XRFQB', '6161-ERDGD', '2984-MIIZL', '8969-PRHFK', '0442-ZXKVS', '2386-OWURY', '3580-HYCSP', '5813-UECBU', '1357-MVDOZ', '1834-ABKHQ', '4900-MSOMT', '6289-CPNLD', '1696-MZVAU', '3692-JHONH', '5527-ACHSO', '1352-HNSAW', '7054-ENNGU', '2982-IHMFT', '4737-AQCPU', '3230-IUALN', '0206-OYVOC', '9408-HRXRK', '4673-KKSLS', '0866-QLSIR', '5787-KXGIY', '3085-QUOZK', '2979-SXESE', '3588-WSTTJ', '5736-YEJAX', '0853-NWIFK', '8473-VUVJN', '3799-ISUZQ', '4132-KALRO', '6292-TOSSS', '4873-ILOLJ', '3178-FESZO', '5726-CVNYA', '6497-TILVL', '6198-PNNSZ', '9611-CTWIH', '6266-QHOJZ', '0195-IESCP', '3678-MNGZX', '5394-MEITZ', '8466-PZBLH', '4482-EWFMI', '4177-JPDFU', '4213-HKBJO', '1991-VOPLL', '5895-QSXOD', '4274-DRSQT', '3276-HDUEG', '4086-WITJG', '2954-PIBKO', '7839-QRKXN', '0464-WJTKO', '3070-BDOQC', '9681-KYGYB', '9787-XVQIU', '8777-MBMTS', '5334-AFQJB', '7000-WCEVQ', '2150-UWTFY', '5734-EJKXG', '9290-SHCMB', '5394-SVGJV', '6537-OTKMY', '8409-WQJUX', '5296-PSYVW', '8086-OVPWV', '9054-FOWNV', '2272-WUSPA', '2921-XWDJH', '8374-XGEJJ', '3806-DXQOM', '2469-DTSGX', '8652-YHIYU', '9637-EIHEQ', '0795-GMVQO', '7901-IIDQV', '3859-CVCET', '7779-ORAEL', '0458-HEUZG', '7554-AKDQF', '6242-MBHPK', '1891-UAWWU', '2956-GGUCQ', '8631-XVRZL', '8654-DHAOW', '2391-IPLOP', '7130-YXBRO', '2067-QYTCF', '0384-RVBPI', '6457-GIRWB', '0564-MUUQK', '8168-UQWWF', '6968-MHOMU', '0746-JTRFU', '9680-NIAUV', '0620-DLSLK', '9150-HEPMB', '0380-ZCSBI', '7706-YLMQA', '9146-JRIOX', '2866-IKBTM', '7184-LRUUR', '9283-LZQOH', '1704-NRWYE', '1608-GMEWB', '8510-AWCXC', '9348-YVOMK', '2226-ICFDO', '7129-AZJDE', '5951-AOFIH', '4973-MGTON', '3007-FDPEA', '0386-CWRGM', '8766-PAFNE', '3174-RKMOW', '5889-JTMUL', '3194-ORPIK', '3795-CAWEX', '1370-GGAWX', '5204-QZXPU', '6996-KNSML', '3873-NFTGI', '9386-LDCZR', '6210-KBBPI', '1187-WILMM', '5177-RVZNU', '8905-IAZPF', '3654-ARMGP', '8008-OTEZX', '0958-YHXGP', '2873-ZLIWT', '4903-UYAVB', '9940-HPQPG', '6352-TWCAU', '6173-ITPWD', '6122-EFVKN', '1821-BUCWY', '3301-LSLWQ', '5356-RHIPP', '5299-RULOA', '7550-WIQVA', '5922-ABDVO', '0562-FGDCR', '8760-ZRHKE', '8984-HPEMB', '9254-RBFON', '0577-WHMEV', '5233-GEEAX', '4208-UFFGW', '8485-GJCDN', '3671-SHRSP', '7785-RDVIG', '1768-HNVGJ', '0608-JDVEC', '2428-HYUNX', '5451-MHQOF', '4918-QLLIW', '1345-ZUKID', '0306-JAELE', '1814-WFGVS', '4871-JTKJF', '9774-NRNAU', '2251-PYLPB', '1735-XMJVH', '7825-GKXMW', '8380-MQINP', '8443-ZRDBZ', '3884-UEBXB', '4504-YOULA', '7409-JURKQ', '2080-GKCWQ', '9026-RNUJS', '2378-YIZKA', '5271-YNWVR', '7241-AJHFS', '6195-MELTI', '0076-LVEPS', '8868-WOZGU', '5916-QEWPT', '9178-JHUVJ', '3481-JHUZH', '6994-KERXL', '9943-VSZUV', '9889-TMAHG', '5774-QPLTF', '5914-DVBWJ', '5220-AGAAX', '5896-NPFWW', '1228-FZFRV', '2405-LBMUW', '6532-YLWSI', '4999-IEZLT', '1779-PWPMG', '5578-NKCXI', '5014-WUQMG', '3727-RJMEO', '4451-RWASJ', '4641-FROLU', '0993-OSGPT', '7159-FVYPK', '1728-BQDMA', '5125-CNDSP', '9961-JBNMK', '5397-NSKQG', '3179-GBRWV', '0929-PECLO', '6877-TJMBR', '1452-VOQCH', '7432-FFVAR', '8597-CTXVJ', '0867-MKZVY', '7674-YTAFD', '3422-LYEPQ', '8722-NGNBH', '4559-UWIHT', '3810-PJUHR', '8246-SHFGA', '2111-DWYHN', '5018-LXQQG', '5804-HYIEZ', '8465-SBRXP', '1110-KYLGQ', '4145-UQXUQ', '7298-IZWLY', '5201-USSQZ', '2834-JKOOW', '0187-WZNAB', '4006-HKYHO', '5792-JALQC', '3045-XETSH', '6496-JDSSB', '9026-LHEVG', '0771-CHWSK', '3536-IQCTX', '1423-BMPBQ', '1905-OEILC', '3627-FHKBK', '8752-GHJFU', '4255-DDUOU', '5777-ZPQNC', '7219-TLZHO', '6393-WRYZE', '0420-HLGXF', '2905-KFQUV', '1297-VQDRP', '5035-PGZXH', '2305-MRGLV', '5168-MSWXT', '8746-BFOAJ', '4361-FEBGN', '2933-XEUJM', '8262-COGGB', '6048-UWKAL', '2737-YNGYW', '5628-FCGYG', '0516-WJVXC', '9199-PWQVC', '6572-ADKRS', '3874-EQOEP', '4750-UKWJK', '1732-VHUBQ', '5195-KPUNQ', '7706-DZNKK', '2277-AXSDC', '5478-JJVZK', '2207-RYYRL', '4452-ROHMO', '9365-CSLBQ', '7876-BEUTG', '6726-WEXXK', '2865-TCHJW', '1809-DMJHQ', '0357-NVCRI', '7351-MHQVU', '0953-LGOVU', '4751-ERMAN', '8943-URTMR', '1355-KUSBG', '1089-HDMKP', '3680-CTHUH', '4667-OHGKG', '0230-WEQUW', '7233-IOQNP', '8513-OLYGY', '3904-UKFRE', '0017-IUDMW', '4488-PSYCG', '6968-URWQU', '6810-VCAEX', '1431-AIDJQ', '1092-WPIVQ', '1471-GIQKQ', '6994-ORCWG', '7492-TAFJD', '5868-YWPDW', '3873-WOSBC', '5320-BRKGK', '7921-BEPCI', '3551-HUAZH', '7967-HYCDE', '8884-FEEWR', '9362-MWODR', '3643-AHCFP', '6135-OZQVA', '0620-XEFWH', '3721-CNEYS', '8878-HMWBV', '2955-PSXOE', '4429-WYGFR', '5294-IMHHT', '7136-RVDTZ', '5649-TJHOV', '0523-VNGTF', '7021-XSNYE', '4455-BFSPD', '3258-SANFR', '3841-CONLJ', '5522-JBWMO', '2452-SNHFZ', '4749-VFKVB', '9763-PDTKK', '6122-LJADA', '8966-KZXXA', '5277-ZLOOR', '1564-NTYXF', '0129-KPTWJ', '6425-YQLLO', '1919-RTPQD', '6993-YCOBK', '8364-TRMMK', '9306-CPCBC', '7235-NXZCP', '5651-CRHKQ', '5231-FIQPA', '3173-NVMPX', '6094-ZIVKX', '1088-AUUZZ', '8769-KKTPH', '5222-JCXZT', '1686-STUHN', '8738-JOKAR', '1208-DNHLN', '0533-BNWKF', '7636-XUHWW', '3512-IZIKN', '3956-CJUST', '4124-MMETB', '5442-BHQNG', '3806-YAZOV', '1767-TGTKO', '5583-EJXRD', '0885-HMGPY', '5514-YQENT', '1552-CZCLL', '9140-CZQZZ', '2692-AQCPF', '9959-WOFKT', '6298-QDFNH', '2514-GINMM', '6629-LADHQ', '6402-EJMWF', '3466-BYAVD', '4690-LLKUA', '1134-YWTYF', '6358-LYNGM', '6629-CZTTH', '6727-IOTLZ', '4471-KXAUH', '0178-SZBHO', '4905-JEFDW', '8242-PDSGJ', '0397-GZBBC', '2957-LOLHO', '2256-YLYLP', '2277-BKJKN', '8815-LMFLX', '9867-XOBQA', '9750-BOOHV', '5302-BDJNT', '2604-IJPDU', '5012-YSPJJ', '2672-TGEFF', '5504-WSIUR', '5201-FRKKS', '6463-HHXJR', '0318-ZOPWS', '2055-SIFSS', '5553-AOINX', '8922-LIEGH', '9167-APMXZ', '0931-MHTEM', '9593-CVZKR', '2017-CCBLH', '5919-TMRGD', '1935-IMVBB', '5375-XLDOF', '2234-XADUH', '8696-JKZNU', '0859-YGKFW', '4979-HPRFL', '9927-DSWDF', '5619-XZZKR', '1226-JZNKR', '3705-RHRFR', '6348-SNFUS', '6900-RBKER', '6961-VCPMC', '5027-QPKTE', '2773-OVBPK', '6917-YACBP', '6185-TASNN', '9091-WTUUY', '1641-RQDAY', '2378-VTKDH', '2321-OMBXY', '5909-ECHUI', '8566-YPRGL', '8582-KRHPJ', '0956-SYCWG', '5071-FBJFS', '4625-LAMOB', '4503-BDXBD', '7721-DVEKZ', '8676-OOQEJ', '3219-JQRSL', '0661-WCQNQ', '5651-WYIPH', '1020-JPQOW', '9122-UMROB', '4598-XLKNJ', '0374-IOEGQ', '8680-CGLTP', '3727-JEZTU', '5377-NDTOU', '6833-JMZYP', '1098-TDVUQ', '3669-LVWZB', '8204-TIFGJ', '4079-VTGLK', '3473-XIIIT', '6350-XFYGW', '8878-RYUKI', '6770-XUAGN', '5898-IGSLP', '2192-CKRLV', '5336-UFNZP', '4097-YODCF', '1724-BQUHA', '7272-QDCKA', '6921-OZMFH', '7463-IFMQU', '5906-CVLHP', '5897-ZYEKH', '2462-XIIJB', '3722-WPXTK', '5186-EJEGL', '9170-GYZJC', '3720-DBRWL', '7126-RBHSD', '8148-WOCMK', '1841-YSJGV', '2796-UUZZO', '5349-IECLD', '6729-FZWSY', '0689-DSXGL', '4070-OKWVH', '3688-FTHLT', '1897-OKVMW', '4694-PHWFW', '3351-NGXYI', '1506-YJTYT', '7928-VJYAB', '9108-EJFJP', '9522-ZSINC', '7596-ZYWBB', '8805-JNRAZ', '4926-UMJZD', '9448-REEVD', '3878-AVSOQ', '8028-PNXHQ', '2580-ASVVY', '6542-LWGXJ', '1465-VINDH', '1767-CJKBA', '2230-XTUWL', '1960-UYCNN', '6092-QZVPP', '1840-BIUOG', '9360-OMDZZ', '2662-NNTDK', '9481-SFCQY', '2853-CWQFQ', '4971-PUYQO', '4324-BZCKL', '9114-DPSIA', '9435-JMLSX', '6508-NJYRO', '8229-BUJHX', '3506-LCJDC', '2578-JQPHZ', '2828-SLQPF', '0093-EXYQL', '2495-INZWQ', '2685-SREOM', '7908-QCBCA', '3315-IKYZQ', '5774-XZTQC', '3796-ENZGF', '8869-LIHMK', '8938-UMKPI', '9000-PLFUZ', '3511-BFTJW', '1229-RCALF', '8107-KNCIM', '0795-LAFGP', '8164-OCKUJ', '4316-XCSLJ', '1240-KNSEZ', '1136-XGEQU', '5656-MJEFC', '5498-TXHLF', '2007-QVGAW', '4391-RESHN', '9746-MDMBK', '7401-JIXNM', '1907-YLNYW', '8041-TMEID', '3177-LASXD', '2333-KWEWW', '4143-HHPMK', '4298-OYIFC', '3793-MMFUH', '3372-CDXFJ', '5370-IIVVL', '9495-REDIY', '2150-WLKUW', '8008-ESFLK', '2292-XQWSV', '6695-FRVEC', '6313-GIDIT', '2091-RFFBA', '1849-RJYIG', '9895-VFOXH', '9356-AXGMP', '0362-RAOQO', '7159-NOKYQ', '1309-XGFSN', '4657-FWVFY', '5537-UXXVS', '0772-GYEQQ', '2664-XJZNO', '0804-YGEQV', '4220-TINQT', '8774-GSBUN', '2878-RMWXY', '8727-XDPUD', '3196-NVXLZ', '4957-SREEC', '1053-MXTTK', '0580-PIQHM', '1271-UODNO', '4229-CZMLL', '7753-USQYQ', '7338-ERIVA', '7989-VCQOH', '9571-EDEBV', '7780-OTDSO', '0925-VYDLG', '0603-OLQDC', '8950-MTZNV', '6119-SPUDB', '3658-KIBGF', '6349-JDHQP', '7343-EOBEU', '7534-BFESC', '6504-VBLFL', '9506-UXUSK', '7923-IYJWY', '2397-BRLOM', '3349-ANQNH', '4844-JJWUY', '7976-CICYS', '3134-DSHVC', '8984-EYLLL', '9742-XOKTS', '0336-KXKFK', '7016-NVRIC', '4813-HQMGZ', '2205-YMZZJ', '4902-OHLSK', '7748-UMTRK', '6481-ESCNL', '7096-ZNBZI', '2320-JRSDE', '7033-CLAMM', '5161-XEUVX', '5949-XIKAE', '1513-XNPPH', '6461-SZMCV', '3966-HRMZA', '5762-TJXGK', '0975-VOOVL', '8690-UPCZI', '8309-IEYJD', '8734-FNWVH', '1818-ESQMW', '5016-ETTFF', '5016-LIPDW', '1867-BDVFH', '5816-QVHRX', '1768-ZAIFU', '2804-ETQDK', '9541-ZPSEA', '2927-CVULT', '3462-BJQQA', '5348-CAGXB', '4919-IKATY', '7812-FZHPE', '7242-EDTYC', '4712-UYOOI', '3546-GHEAE', '5647-FXOTP', '9921-EZKBY', '1077-HUUJM', '4973-RLZVI', '4329-YPDDQ', '5616-PRTNT', '2137-DQMEV', '3910-MRQOY', '7426-WEIJX', '7128-GGCNO', '1120-BMWUB', '8220-OCUFY', '0330-BGYZE', '9846-GKXAS', '9591-YVTEB', '0862-PRCBS', '6202-JVYEU', '0487-RPVUM', '3902-FOIGH', '0430-IHCDJ', '9173-IVZVP', '3166-PNEOF', '7714-YXSMB', '8749-CLJXC', '6704-UTUKK', '1568-LJSZU', '7966-YOTQW', '5847-MXBEO', '4947-DSMXK', '0196-VULGZ', '4537-CIBHB', '3694-GLTJM', '3723-BFBGR', '9432-RUVSL', '9912-OMZDS', '3946-MHCZW', '9375-MHRRS', '6248-BSHKG', '6625-FLENO', '1666-JZPZT', '4282-ACRXS', '8718-PTMEZ', '9624-EGDEQ', '8124-NZVGJ', '1583-IHQZE', '4922-CVPDX', '5309-TAIKL', '6741-EGCBI', '9364-YKUVW', '7688-AWMDX', '2995-YWTCD', '1269-FOYWN', '1936-UAFEH', '9565-FLVCG', '6689-TCZHQ', '6907-CQGPN', '4381-MHQDC', '0094-OIFMO', '6543-JXSOO', '8378-LKJAF', '4178-EGMON', '1494-EJZDW', '7402-EYFXX', '6894-LFHLY', '1163-ONYEY', '9509-MPYOD', '2680-XKKNJ', '6583-KQJLK', '5338-YHWYT', '7767-UXAGJ', '6579-JPICP', '2927-QRRQV', '9840-DVNDC', '5842-POCOP', '5063-IUOKK', '3078-ZKNTS', '6248-TKCQV', '8413-YNHNV', '0727-BMPLR', '0219-YTZUE', '9648-BCHKM', '1602-IJQQE', '2725-KXXWT', '4636-TVXVG', '0582-AVCLN', '2096-XOTMO', '2930-UOTMB', '4883-QICIH', '2717-HVIZY', '9067-YGSCA', '0512-FLFDW', '0388-EOPEX', '1764-VUUMT', '7621-VPNET', '6919-ELBGL', '5266-PFRQK', '0682-USIXD', '2472-OVKUP', '2037-XJFUP', '2718-YSKCS', '9917-KWRBE', '9776-CLUJA', '2135-DQWAQ', '0295-QVKPB', '3249-VHRIP', '9778-OGKQZ', '9121-PHQSR', '1478-VPOAD', '8661-BOYNW', '1448-PWKYE', '2533-TIBIX', '1784-EZDKJ', '3930-ZGWVE', '2636-SJDOU', '0060-FUALY', '9970-QBCDA', '0122-OAHPZ', '9108-EQPNQ', '1304-NECVQ', '5882-CMAZQ', '1576-PFZIW', '8152-UOBNY', '8148-NLEGT', '4612-SSVHJ', '2694-CIUMO', '9500-LTVBP', '9210-IAHGH', '0960-HUWBM', '5451-YHYPW', '3808-HFKDE', '1247-QBVSH', '3243-ZHOHY', '5893-PYOLZ', '5456-ITGIC', '0191-ZHSKZ', '5294-DMSFH', '3348-CFRNX', '9603-OAIHC', '8741-LQOBK', '2691-NZETQ', '8382-SHQEH', '8559-CIZFV', '2672-HUYVI', '6918-UMQCG', '7623-HKYRK', '3486-NPGST', '2845-KDHVX', '5673-TIYIB', '8445-DNBAE', '3026-ATZYV', '5515-IDEJJ', '6586-PSJOX', '4937-QPZPO', '1496-GGSUK', '4283-FUTGF', '5110-CHOPY', '2520-SGTTA', '2460-FPSYH', '5970-GHJAW', '9397-TZSHA', '2159-TURXX', '9209-NWPGU', '8181-YHCMF', '7321-KKSDU', '2791-SFVEW', '5201-CBWYG', '9189-JWSHV', '8158-WPEZG', '1015-OWJKI', '3642-BYHDO', '5671-RQRLP', '7005-CCBKV', '7781-HVGMK', '6377-WHAOX', '2085-JVGAD', '4501-EQDRN', '8782-LKFPK', '5281-BUZGT', '2607-DHDAK', '4039-PIMHX', '0536-ACXIP', '3752-CQSJI', '2458-EOMRE', '5940-NFXKV', '5797-APWZC', '0419-YAAPX', '6685-GBWJZ', '0876-WDUUZ', '6181-AXXYF', '5366-OBVMR', '9732-OUYRN', '5989-AXPUC', '8802-UNOJF', '9385-EHGDO', '2606-RMDHZ', '9953-ZMKSM', '5832-EXGTT', '6993-YGFJV', '1814-DKOLC', '8631-NBHFZ', '7014-ZZXAW', '0754-EEBDC', '2732-ISEZX', '5002-GCQFH', '6407-GSJNL', '6701-DHKWQ', '1763-WQFUK', '0220-EBGCE', '2446-ZKVAF', '7285-KLOTR', '0096-FCPUF', '5795-BKOYE', '7105-MXJLL', '3070-DVEYC', '6997-UVGOX', '3656-TKRVZ', '4475-NVTLU', '5999-LCXAO', '4299-SIMNS', '3498-LZGQZ', '6979-ZNSFF', '9576-SYUHJ', '0093-XWZFY', '6082-GLJIX', '7277-KAMWT', '6034-YMTOB', '6145-NNPNO', '8514-VZHEB', '4115-UMJFQ', '2834-SPCJV', '4458-KVRBJ', '0064-SUDOG', '1251-KRREG', '3244-CQPHU', '0742-LAFQK', '5599-HVLTW', '5076-YVXCM', '7113-HIPFI', '1579-KLYDT', '9360-AHGNL', '3419-SNJJD', '9050-IKDZA', '4237-RLAQD', '8092-NLTGF', '5945-AZYHT', '2817-NTQDO', '5245-VDBUR', '0463-WZZKO', '2027-OAQQC', '2750-BJLSB', '2480-JZOSN', '4423-JWZJN', '3597-MVHJT', '5414-OFQCB', '3726-TBHQT', '6789-HJBWG', '0761-AETCS', '6507-ZJSUR', '8017-UVSZU', '6870-ZWMNX', '7740-KKCXF', '7517-SAWMO', '3703-VAVCL', '5275-PMFUT', '4958-GZWIY', '5442-PPTJY', '4238-JSSWH', '2050-ONYDQ', '4367-NHWMM', '6762-NSODU', '3205-MXZRA', '2587-EKXTS', '8012-SOUDQ', '5928-QLDHB', '2122-YWVYA', '2079-FBMZK', '7979-CORPM', '8681-ICONS', '5419-JKZNQ', '2657-VPXTA', '2808-CHTDM', '3682-YEUWS', '0114-PEGZZ', '0623-IIHUG', '7762-URZQH', '9453-PATOS', '2519-ERQOJ', '8999-YPYBV', '9894-QMIMJ', '3545-CNWRG', '0234-TEVTT', '3415-TAILE', '7694-VLBWQ', '5494-WOZRZ', '8747-UDCOI', '2960-NKRSO', '5977-CKHON', '8433-WXGNA', '1709-EJDOX', '7449-HVPIV', '7379-FNIUJ', '9610-WCESF', '8016-ZMGMO', '2160-GPFXD', '5760-FXFVO', '6174-NRBTZ', '2361-FJWNO', '2347-WKKAE', '2164-SOQXL', '0599-XNYDO', '4393-GEADV', '9904-EHEVJ', '9647-ERGBE', '8976-OQHGT', '3417-TSCIC', '4785-QRJHC', '0787-LHDYT', '7957-RYHQD', '4566-GOLUK', '9629-NHXFW', '5424-RLQLC', '3129-AAQOU', '0379-DJQHR', '6922-NCEDI', '3572-UOLYZ', '2002-MZHWP', '8883-ANODQ', '7774-OJSXI', '6745-JEFZB', '1328-EUZHC', '7176-WIONM', '4827-LTQRJ', '1251-STYSZ', '7163-OCEQI', '9968-FFVVH', '4530-NDRKU', '3807-BPOMJ', '3370-GQEAL', '8069-YQQAJ', '1599-MMYRQ', '9560-ARGQJ', '6896-SRVYQ', '2720-FVBQP', '8901-HJXTF', '4585-HETAI', '7124-UGSUR', '1301-LOPVR', '9170-ARBTB', '6169-PGNCD', '6797-LNAQX', '5522-NYKPB', '3207-OYBWH', '3777-XROBG', '7047-FWEYA', '3086-RUCRN', '3088-FVYWK', '7047-YXDMZ', '2371-JQHZZ', '4312-KFRXN', '0640-YJTPY', '6738-ISCBM', '3739-YBWAB', '1629-DQQVB', '9763-GRSKD', '8884-MRNSU', '0266-GMEAO', '0376-OIWME', '9602-WCXPI', '5644-PDMZC', '6986-IXNDM', '4360-QRAVE', '8981-FJGLA', '2120-SMPEX', '5505-OVWQW', '0778-NELLA', '6172-FECYY', '4765-OXPPD', '7663-RGWBC', '6981-TDRFT', '8166-ORCHU', '0887-WBJVH', '8808-ELEHO', '6728-VOIFY', '0004-TLHLJ', '4353-HYOJD', '9256-JTBNZ', '0181-RITDD', '4488-KQFDT', '4139-DETXS', '0307-BCOPK', '8098-TDCBU', '4597-ELFTS', '0530-IJVDB', '3352-ALMCK', '0704-VCUMB', '9099-FTUHS', '9359-JANWS', '0125-LZQXK', '4074-SJFFA', '9921-QFQUL', '4389-UEFCZ', '7781-EWARA', '4115-BNPJY', '4250-ZBWLV', '9565-JSNFM', '6646-JPPHA', '0999-QXNSA', '0374-FIUCA', '5196-SGOAK', '1750-CSKKM', '2325-NBPZG', '5663-QBGIS', '1964-SVLEA', '8393-JMVMB', '2830-LEWOA', '0871-OPBXW', '3256-EZDBI', '3067-SVMTC', '6518-LGAOV', '5448-VWNAM', '7228-PAQPD', '9351-LZYGF', '9334-GWGOW', '9853-JFZDU', '6240-EURKS', '7581-EBBOU', '4423-YLHDV', '2740-JFBOK', '6559-ILWKJ', '3552-CTCYF', '5701-ZIKJE', '9530-EHPOH', '7206-PQBBZ', '6285-FTQBF', '7392-YYPYJ', '8050-XGRVL', '9190-MFJLN', '4012-ZTHBR', '0691-JVSYA', '8910-LEDAG', '6980-CDGFC', '9758-MFWGD', '4307-KWMXE', '4647-XXZAM', '8710-YGLWG', '3712-PKXZA', '1644-IRKSF', '6357-JJPQT', '7841-FCRQD', '3283-WCWXT', '5724-BIDBU', '9625-QSTYE', '6250-CGGUN', '6696-YDAYZ', '5307-DZCVC', '8019-ENHXU', '5149-QYTTU', '7969-AULMZ', '2266-FUBDZ', '1936-CZAKF', '4770-QAZXN', '9089-UOWJG', '1580-BMCMR', '9405-GPBBG', '9741-YLNTD', '4060-LDNLU', '3118-UHVVQ', '4710-NKCAW', '5533-NHFRF', '9342-VNIMQ', '9330-VOFSZ', '2038-LLMLM', '4583-PARNH', '8610-ZIKJJ', '0701-TJSEF', '6050-IJRHS', '3097-NNSPB', '7354-OIJLX', '0584-BJQGZ', '8314-DPQHL', '6847-KJLTS', '0690-SRQID', '9225-BZLNZ', '9767-FFLEM', '6164-HAQTX', '2636-OHFMN', '2739-CCZMB', '7893-IXHRQ', '9754-CLVZW', '0743-HRVFF', '2135-RXIHG', '9674-EHPPG', '0621-TSSMU', '3374-PZLXD', '8904-OPDCK', '3398-FSHON', '9137-NOQKA', '8388-DMKAE', '0769-MURVM', '9640-ZSLDC', '2805-AUFQN', '9644-KVCNC', '4547-LYTDD', '0373-AIVNJ', '2761-XECQW', '0979-MOZQI', '0549-CYCQN', '2105-PHWON', '5384-ZTTWP', '4223-WOZCM', '9412-ARGBX', '8999-EXMNO', '8022-BECSI', '7734-DBOAI', '2351-RRBUE', '9194-GFVOI', '5498-IBWPI', '9873-MNDKV', '7470-DYNOE', '7997-EASSD', '2812-SFXMJ', '2718-GAXQD', '7216-EWTRS', '9821-BESNZ', '8180-AKMJV', '3669-OYSJI', '5519-NPHVG', '4080-OGPJL', '4195-PNGZS', '6641-XRPSU', '8249-THVEC', '9286-BHDQG', '2560-WBWXF', '8208-EUMTE', '8780-RSYYU', '0168-XZKBB', '0848-ZGQIJ', '7739-LAXOG', '4184-VODJZ', '2325-ZUSFD', '1752-OZXFY', '6341-JVQGF', '5730-RIITO', '4030-VPZBD', '6874-SGLHU', '4860-IJUDE', '1089-XZWHH', '9419-IPPBE', '8024-XNAFQ', '5676-CFLYY', '3642-GKTCT', '7614-QVWQL', '8671-KKKOS', '7410-KTVFV', '3977-QCRSL', '1422-DGUBX', '2202-CUYXZ', '3482-ABPKK', '4908-XAXAY', '3038-PQIUY', '3296-SILRA', '3247-MHJKM', '2088-IEBAU', '4188-FRABG', '7663-YJHSN', '8468-EHYJA', '7268-IGMFD', '4430-UZIPO', '7503-MIOGA', '4803-AXVYP', '3936-QQFLL', '6860-YRJZP', '1335-HQMKX', '2346-DJQTB', '1302-TPUBN', '8919-FYFQZ', '3938-YFPXD', '9711-FJTBX', '9481-IEBZY', '5747-PMBSQ', '9136-ALYBR', '4464-JCOLN', '5702-SKUOB', '7996-MHXLW', '8628-MFKAX', '5360-LJCNJ', '2675-DHUTR', '6591-QGOYB', '0042-RLHYP', '4360-PNRQB', '8069-RHUXK', '2667-WYLWJ', '4910-AQFFX', '2041-JIJCI', '2897-DOVND', '0701-RFGFI', '1389-CXMLU', '5318-YKDPV', '1658-TJVOA', '3544-FBCAS', '6362-QHAFM', '6371-NZYEG', '8849-AYPTR', '3800-LYTRK', '6506-EYCNH', '8630-QSGXK', '6383-ZTSIW', '2612-PHGOX', '5366-IJEQJ', '7340-KEFQE', '7142-HVGBG', '7435-ZNUYY', '1971-DTCZB', '2324-AALNO', '4293-ETKAP', '3594-UVONA', '3181-MIZBN', '0128-MKWSG', '1813-JLKWR', '6516-NKQBO', '7570-WELNY', '3186-BAXNB', '9828-QHFBK', '7929-SKFGK', '3058-WQDRE', '4250-WAROZ', '7707-PYBBH', '8748-HFWBO', '4786-UKSNZ', '7109-CQYUZ', '4472-LVYGI', '7799-LGRDP', '0345-HKJVM', '3768-NLUBH', '1898-JSNDC', '5871-DGTXZ', '0970-QXPXW', '2005-DWQZJ', '0678-RLHVP', '8399-YNDCH', '3452-FLHYD', '4143-OOBWZ', '2486-WYVVE', '9906-NHHVC', '0839-QNXME', '8197-BFWVU', '6161-UUUTA', '4811-JBUVU', '1162-ECVII', '0956-ACVZC', '1260-TTRXI', '2190-BCXEC', '3106-ULWFW', '9576-ANLXO', '3221-CJMSG', '2068-WWXQZ', '3125-RAHBV', '0940-OUQEC', '0434-CSFON', '2874-YXVVA', '9950-MTGYX', '1310-QRITU', '7601-DHFWZ', '7994-UYIVZ', '4404-HIBDJ', '9546-CQJSU', '8486-AYEQH', '4487-ZYJZK', '1222-LRYKO', '3374-LXDEV', '6345-HOVES', '9350-VLHMB', '5825-XJOCM', '5188-HGMLP', '3898-BSJYF', '7587-RZNME', '0013-EXCHZ', '8095-WANWK', '2474-BRUCM', '5133-POWUA', '0112-QAWRZ', '1202-KKGFU', '6101-IMRMM', '6479-SZPLM', '2682-KEVRP', '0123-CRBRT', '1729-VLAZJ', '9369-XFEHK', '5982-XMDEX', '7044-YAACC', '6954-OOYZZ', '7813-ZGGAW', '4710-FDUIZ', '4695-VADHF', '6968-GMKPR', '2424-WVHPL', '9492-TOKRI', '2560-QTSBS', '8190-ZTQFB', '1223-UNPKS', '4929-BSTRX', '3068-OMWZA', '5756-JYOJT', '5567-WSELE', '3639-XJHKQ', '6480-YAGIY', '6258-PVZWJ', '5049-MUBWG', '9850-OWRHQ', '8327-WKMIE', '8450-LUGUK', '2133-TSRRM', '2725-TTRIQ', '3640-PHQXK', '7797-EJMDP', '7856-GANIL', '6476-EPYZR', '6229-LSCKB', '3160-TYXLT', '3521-HTQTV', '5995-SNNEW', '6374-NTQLP', '2234-EOFPT', '9795-SHUHB', '6464-KEXXH', '0829-DDVLK', '4822-LPTYJ', '9050-QLROH', '7803-XOCCZ', '3307-TLCUD', '4002-BQWPQ', '2055-BFOCC', '7590-VHVEG', '2575-GFSOE', '1771-OADNZ', '3146-JTQHR', '3892-NXAZG', '3468-DRVQJ', '2207-NHRJK', '6979-TNDEU', '5154-VEKBL', '7921-LMDFQ', '1925-TIBLE', '8048-DSDFQ', '2237-ZFSMY', '9658-WYUFB', '5760-WRAHC', '5499-ECUTN', '7722-VJRQD', '7377-DMMRI', '3530-CRZSB', '8859-DZTGQ', '9548-ZMVTX', '9185-TQCVP', '6988-CJEYV', '2806-MLNTI', '2371-KFUOG', '1998-VHJHK', '9388-ZEYVT', '1960-UOTYM', '9415-DPEWS', '3195-TQDZX', '4291-HPAXL', '0056-EPFBG', '5815-HGGHV', '8610-WFCJF', '6476-YHMGA', '0870-VEMYL', '8861-HGGKB', '6088-BXMRG', '3583-EKAPL', '6030-REHUX', '8065-QBYTO', '1855-CFULU', '0052-DCKON', '9261-WDCAF', '2792-LSHWX', '8314-HTWVE', '9764-REAFF', '2398-YPMUR', '3423-HHXAO', '6425-JWTDV', '1470-PSXNM', '5130-YPIRV', '9327-QSDED', '9909-IDLEK', '1684-FLBGS', '5569-OUICF', '4193-IBKSW', '7017-VFULY', '1379-FRVEB', '2011-TRQYE', '0913-XWSCN', '8937-RDTHP', '4119-ZYPZY', '8735-DCXNF', '4236-UJPWO', '4749-OJKQU', '8174-TBVCF', '3797-FKOGQ', '3853-LYGAM', '1915-IOFGU', '1041-RXHRA', '2023-VQFDL', '6698-OXETB', '0231-LXVAP', '2143-LJULT', '5135-RDDQL', '5995-OIGLP', '4110-PFEUZ', '4228-ZGYUW', '4092-OFQZS', '7459-RRWQZ', '0973-KYVNF', '5519-YLDGW', '6890-PFRQX', '9239-GZHZE', '3424-NMNBO', '9693-XMUOB', '9079-LWTFD', '6663-JOCQO', '8496-DMZUK', '2656-FMOKZ', '6551-GNYDG', '9027-TMATR', '5583-SXDAG', '1396-QWFBJ', '4163-KIUHY', '9206-GVPEQ', '7596-IIWYC', '3354-OADJP', '8896-BQTTI', '3744-ZBHON', '8075-GXIUB', '0696-UKTOX', '5993-JSUWV', '3577-AMVUX', '9702-AIUJO', '4524-QCSSM', '7821-DPRQE', '4927-WWOOZ', '7446-YPODE', '5396-IZEPB', '3967-VQOGC', '3569-VLDHH', '0390-DCFDQ', '5129-HHMZC', '6288-CHQJB', '9585-KKMFD', '1200-TUZHR', '3557-HTYWR', '1400-MMYXY', '4366-CTOUZ', '1090-ESELR', '4822-RVYBB', '4523-WXCEF', '9430-NKQLY', '0774-IFUVM', '6408-OTUBZ', '9465-RWMXL', '5913-INRQV', '4674-HGNUA', '2882-WDTBA', '9507-EXLTT', '6618-RYATB', '5883-GTGVD', '8260-NGFNY', '1093-YSWCA', '3373-YZZYM', '3590-TCXTB', '6302-JGYRJ', '4106-HADHQ', '8327-LZKAS', '2538-OIMXF', '5167-GBFRE', '2929-QNSRW', '1100-DDVRV', '4607-CHPCA', '5948-UJZLF', '7850-THJMU', '8404-VIOMB', '7088-FBAWU', '3457-PQBYH', '8612-GXIDD', '9408-SSNVZ', '2386-LAHRK', '0440-EKDCF', '6711-VTNRE', '8608-OZTLB', '2057-ZBLPD', '8033-VCZGH', '9552-TGUZV', '9577-WJVCQ', '9957-YODKZ', '0531-ZZJWQ', '2968-SSGAA', '0117-LFRMW', '9958-MEKUC', '5542-DHSXL', '6608-QQLVK', '9367-TCUYN', '4468-KAZHE', '2480-SQIOB', '5120-ZBLAI', '0848-SOMKO', '6032-IGALN', '2348-KCJLT', '9696-RMYBA', '5310-NOOVA', '3094-JOJAI', '6685-XSHHU', '6169-PPETC', '0730-KOAVE', '6904-JLBGY', '6140-QNRQQ', '2070-FNEXE', '3279-DYZQM', '0133-BMFZO', '7609-YBPXG', '2890-WFBHU', '6857-VWJDT', '4342-HENTK', '2716-GFZOR', '6942-LBFDP', '7072-MBHEV', '3798-EPWRR', '1485-YDHMM', '8791-GFXLZ', '3717-LNXKW', '5597-GLBUC', '0048-PIHNL', '5781-RFZRP', '4931-TRZWN', '0107-WESLM', '6582-OIVSP', '1080-BWSYE', '5533-RJFTJ', '1035-IPQPU', '3458-IDMFK', '5240-CAOYT', '3401-URHDA', '5349-AZPEW', '5566-SOEZD', '5256-SKJGO', '7508-SMHXL', '2946-KIQSP', '6047-SUHPR', '3393-FMZPV', '1061-PNTHC', '0983-TATYJ', '3097-PYWXL', '8319-QBEHW', '0936-NQLJU', '9931-KGHOA', '4311-QTTAI', '5148-HKFIR', '6980-IMXXE', '4078-SAYYN', '8749-JMNKX', '3313-QKNKB', '4484-GLZOU', '4522-AKYLR', '4254-QPEDE', '1545-ACTAS', '1143-NMNQJ', '7587-AOVVU', '3737-GCSPV', '3454-JFUBC', '2474-LCNUE', '1114-CENIM', '6015-VVHHE', '7789-CRUVC', '1656-DRSMG', '7639-LIAYI', '9565-AXSMR', '1194-HVAIF', '5701-YVSVF', '3389-KTRXV', '4054-CUMIA', '1680-VDCWW', '1842-EZJMK', '6341-AEVKX', '3494-JCHRQ', '5472-CVMDX', '2848-YXSMW', '7401-RUBNK', '0851-DFJKB', '4806-DXQCE', '5204-HMGYF', '7225-CBZPL', '3285-UCQVC', '3144-AUDBS', '2259-OUUSZ', '5820-PTRYM', '6366-ZGQGL', '2931-SVLTV', '2632-TACXW', '8266-VBFQL', '2660-EMUBI', '0641-EVBOJ', '9391-YZEJW', '3750-YHRYO', '4837-PZTIC', '5876-QMYLD', '5652-MSDEY', '7729-XBTWX', '1972-XMUWV', '2623-DRYAM', '3629-WEAAM', '2851-STERV', '0568-ONFPC', '3617-XLSGQ', '2603-HVKCG', '2511-MORQY', '2923-ARZLG', '6340-DACFT', '5846-QFDFI', '1751-NCDLI', '2550-AEVRU', '0365-TRTPY', '7529-ZDFXI', '7255-SSFBC', '2746-DIJLO', '4468-YDOVK', '9504-DSHWM', '7537-CBQUZ', '8573-JGCZW', '5389-FFVKB', '5915-ANOEI', '8544-GOQSH', '4550-VBOFE', '9974-JFBHQ', '3761-FLYZI', '2320-TZRRH', '0932-YIXYU', '5244-IRFIH', '6072-NUQCB', '7598-UAASY', '1075-BGWOH', '8058-JMEQO', '6778-EICRF', '9766-HGEDE', '7682-AZNDK', '6961-MJKBO', '4659-NZRUF', '7622-NXQZR', '3813-DHBBB', '9025-AOMKI', '1099-GODLO', '0402-CQAJN', '1179-INLAT', '3540-RZJYU', '2599-CIPQE', '6898-MDLZW', '5600-PDUJF', '0186-CAERR', '1796-JANOW', '7973-DZRKH', '2632-UCGVD', '1493-AMTIE', '1298-PHBTI', '9133-AYJZG', '3597-YASZG', '5485-ITNPC', '8844-TONUD', '9786-IJYDL', '0853-TWRVK', '4881-JVQOD', '6000-UKLWI', '7114-AEOZE', '3428-MMGUB', '4521-WFJAI', '4512-ZUIYL', '4115-NZRKS', '6631-HMANX', '6257-RJOHI', '8706-HRADD', '0921-OHLVP', '3069-SSVSN', '3486-KHMLI', '2091-MJTFX', '7549-MYGPK', '3744-ZRRDZ', '7138-GIRSH', '3640-JQGJG', '5577-OTWWW', '5863-OOKCL', '2999-AANRQ', '9470-XCCEM', '9172-ANCRX', '4558-CGYCZ', '0023-XUOPT', '8257-RZAHR', '5003-XZWWO', '3605-JISKB', '7801-KICAO', '2294-DMMUS', '7161-DFHUF', '7868-BGSZA', '9399-APLBT', '2876-GZYZC', '5876-HZVZM', '6402-SSEJG', '1230-QAJDW', '2676-ISHSF', '3672-YITQD', '3838-OZURD', '0401-WDBXM', '8739-WWKDU', '4553-DVPZG', '6439-PKTRR', '8221-HVAYI', '8679-JOEVF', '5641-DMBFJ', '9575-IWCAZ', '2911-IJORQ', '4727-MCYZG', '6481-OGDOO', '3115-JPJDD', '6421-SZVEM', '2959-MJHIC', '3801-HMYNL', '4283-IVYCI', '9845-PEEKO', '7203-OYKCT', '3948-KXDUF', '7601-WFVZV', '9317-WZPGV', '0526-SXDJP', '7861-UVUFT', '5227-JSCFE', '8499-BRXTD', '7501-VTYLJ', '1431-CYWMH', '5061-PBXFW', '7075-BNDVQ', '3537-RYBHH', '6569-KTMDU', '3606-SBKRY', '4695-WJZUE', '5150-LJNSR', '2800-QQUSO', '2880-FPNAE', '9558-IHEZX', '7729-JTEEC', '4187-CINZD', '1866-NXPSP', '8313-KTIHG', '3612-YUNGG', '9601-BRXPO', '8851-RAGOV', '2894-QOJRX', '9236-NDUCW', '3969-GYXEL', '5118-MUEYH', '2928-HLDBA', '3198-VELRD', '4043-MKDTV', '8263-JQAIK', '7989-CHGTL', '1855-AGAWH', '1730-ZMAME', '4753-PADAS', '4462-CYWMH', '6598-RFFVI', '9097-ZUBYC', '9796-BPKIW', '6650-VJONK', '2097-YVPKN', '9367-WXLCH', '2368-GAKKQ', '7018-FPXHH', '6625-IUTTT', '8642-GVWRF', '0727-BNRLG', '4825-XJGDM', '0750-EBAIU', '4817-KEQSP', '7240-ETPTR', '1122-YJBCS', '0392-BZIUW', '4785-FCIFB', '9300-AGZNL', '9473-CBZOP', '7036-TYDEC', '3055-MJDSB', '9332-GYWLO', '1371-OJCEK', '5144-TVGLP', '1116-FRYVH', '4628-WQCQQ', '7446-KQISO', '6689-VRRTK', '5186-PEIZU', '9821-POOTN', '3765-JXVKY', '2267-FPIMA', '5214-CHIWJ', '6305-YLBMM', '5482-NUPNA', '6270-OMFIW', '7824-PANSQ', '6461-PPAXN', '0265-EDXBD', '1996-DBMUS', '6818-WOBHJ', '2811-POVEX', '5707-ORNDZ', '4549-ZDQYY', '2809-ILCYT', '2077-DDHJK', '6437-UDQJM', '8133-ANHHJ', '0822-GAVAP', '5095-ETBRJ', '6402-ZFPPI', '6856-RAURS', '7599-FKVXZ', '7610-TVOPG', '7853-WNZSY', '0927-CNGRH', '8835-VSDSE', '3810-DVDQQ', '4568-TTZRT', '6621-NRZAK', '7026-YMSBE', '8992-VONJD', '9659-QEQSY', '6959-UWKHF', '3707-LRWZD', '1091-SOZGA', '6556-DBKZF', '0864-FVJNJ', '8033-ATFAS', '5593-SUAOO', '4671-VJLCL', '9361-YNQWJ', '3407-JMJQQ', '1087-UDSIH', '2724-FJDYW', '2176-OSJUV', '9481-WHGWY', '2232-DMLXU', '1708-PBBOA', '5373-SFODM', '9129-UXERG', '0547-HURJB', '6369-MCAKO', '2223-KAGMX', '8166-ZZTFS', '1628-BIZYP', '4456-RHSNB', '3785-KTYSH', '9547-ITEFG', '9281-CEDRU', '3746-EUBYR', '9231-ZJYAM', '2642-DTVCO', '9070-BCKQP', '4597-NUCQV', '1846-XWOQN', '0970-ETWGE', '5966-EMAZU', '4385-GZQXV', '7162-WPHPM', '4919-MOAVT', '1184-PJVDB', '3472-OAOOR', '2832-SCUCO', '4750-ZRXIU', '5433-KYGHE', '2243-FNMMI', '2073-QBVBI', '2800-VEQXM', '2322-VCZHZ', '7359-PTSXY', '9798-OPFEM', '9592-ERDKV', '3914-FDRHP', '4625-EWPTF', '9544-PYPSJ', '7758-UJWYS', '1343-EHPYB', '2272-QAGFO', '2181-TIDSV', '7521-AFHAB', '4611-ANLQC', '1197-BVMVG', '6261-RCVNS', '5939-SXWHM', '5688-KZTSN', '9625-RZFUK', '2194-IIQOF', '7198-GLXTC', '3845-JHAMY', '9578-FOMUK', '3724-BSCVH', '3410-MHHUM', '9762-YAQAA', '8637-XJIVR', '1794-HBQTJ', '3466-RITXD', '0815-MFZGM', '2330-PQGDQ', '9891-NQDBD', '6234-PFPXL', '9972-VAFJJ', '5364-XYIRR', '7964-VEXDG', '6972-SNKKW', '6087-YPWHO', '1585-MQSSU', '0100-DUVFC', '9633-XQABV', '2357-COQEK', '7926-IJOOU', '6242-SGYTS', '5372-FBKBN', '6408-WHTEF', '4853-RULSV', '3845-FXCYS', '6121-VZNQB', '7029-IJEJK', '0824-VWDPO', '8929-KSWIH', '7089-RKVSZ', '2619-WFQWU', '0193-ESZXP', '1539-LNKHM', '4626-OZDTJ', '4672-FOTSD', '7634-HLQJR', '0148-DCDOS', '3887-PBQAO', '3935-TBRZZ', '3970-XGJDU', '6982-SSHFK', '5968-HYJRZ', '5857-XRECV', '5473-KHBPS', '4393-OBCRR', '0680-DFNNY', '9871-ELEYA', '7382-DFJTU', '4785-NKHCX', '5760-IFJOZ', '1306-RPWXZ', '7025-IWFHT', '9739-JLPQJ', '0486-HECZI', '3870-SPZSI', '9298-WGMRW', '2634-HCZGT', '6857-TKDJV', '9499-XPZXM', '1621-YNCJH', '5549-ZGHFB', '7718-UPSKJ', '8559-WNQZS', '0607-DAAHE', '1942-OQFRW', '2260-USTRB', '1929-ZCBHE', '3334-CTHOL', '2984-TBYKU', '7244-KXYZN', '4032-RMHCI', '8393-DLHGA', '8073-IJDCM', '4566-QVRRW', '6963-KQYQB', '1600-DILPE', '9402-ORRAH', '2018-PZKMU', '3703-TTEPD', '8634-MPHTR', '4566-NECEV', '4619-EVPHY', '3771-PZOBW', '2867-UIMSS', '4062-HBMOS', '4824-GUCBY', '9619-GSATL', '3587-PMCOY', '5981-ZVXOT', '4198-VFOEA', '5524-KHNJP', '4138-NAXED', '1156-ZFYDO', '3254-YRILK', '2522-AHJXR', '3945-GFWQL', '1624-WOIWJ', '6388-TABGU', '1980-KXVPM', '0898-XCGTF', '1303-SRDOK', '4629-NRXKX', '6650-BWFRT', '7691-KGKGP', '8990-ZXLSU', '4678-DVQEO', '8016-NCFVO', '8535-SFUTN', '1976-AZZPJ', '6368-TZZDT', '4808-YNLEU', '2683-JXWQQ', '4009-ALQFH', '5458-CQJTA', '5039-LZRQT', '6352-GIGGQ', '2434-EEVDB', '8125-QPFJD', '6380-ARCEH', '8630-FJLIB', '1333-PBMXB', '8290-YWKHZ', '5397-TUPSH', '1320-HTRDR', '7074-STDCN', '6692-UDPJC', '5590-BYNII', '5175-WLYXL', '4338-EYCER', '9637-CDTKZ', '4816-JBHOV', '4987-GQWPO', '3604-WLABM', '1169-SAOCL', '1293-HHSHJ', '7379-POKDZ', '9987-LUTYD', '7164-BPTUT', '1347-KTTTA', '9919-KNPOO', '9584-EXCDZ', '4716-MRVEN', '7321-PKUYW', '4957-TIALW', '8945-GRKHX', '6479-VDGRK', '1371-WEPDS', '5858-EAFCZ', '7654-YWJUF', '5285-MVEHD', '0326-VDYXE', '6771-XWBDM', '8547-NSBBO', '6474-FVJLC', '8441-SHIPE', '2669-QVCRG', '3272-VUHPV', '5304-EFJLP', '3992-YWPKO', '8780-IXSTS', '3863-IUBJR', '5158-RIVOP', '0270-THENM', '4102-OQUPX', '0322-YINQP', '3258-ZKPAI', '7168-HDQHG', '9013-AQORL', '5062-CJJKH', '3413-CSSTH', '7817-BOQPW', '1004-NOZNR', '1096-ADRUX', '3115-CZMZD', '8979-CAMGB', '2344-JMOGN', '6124-ACRHJ', '9477-LGWQI', '1508-DFXCU', '5542-NKVRU', '1088-CNNKB', '6749-UTDVX', '1624-NALOJ', '3780-YVMFA', '7649-PHJVR', '3030-YDNRM', '3870-MQAMG', '8270-RKSAP', '3638-VBZTA', '7854-EDSSA', '2012-NWRPA', '0107-YHINA', '9722-UJOJR', '7055-HNEOJ', '5699-BNCAS', '7502-BNYGS', '7641-EUYET', '1383-EZRWL', '6791-YBNAK', '7599-NTMDP', '7771-ZONAT', '3061-BCKYI', '9500-WBGRP', '9079-YEXQJ', '1555-DJEQW', '0156-FVPTA', '8063-GBATB', '4837-QUSFT', '6625-UTXEW', '1455-ESIQH', '9626-WEQRM', '6319-QSUSR', '3927-NLNRY', '1571-SAVHK', '5766-ZJYBB', '5382-TEMLV', '3420-ZDBMA', '1265-XTECC', '8591-NXRCV', '3170-GWYKC', '3001-UNBTL', '8945-MUQUF', '6559-PDZLR', '5816-JMLGY', '2188-SXWVT', '4573-JKNAE', '9531-NSBMR', '5406-KGRMX', '6304-IJFSQ', '6024-RUGGH', '5986-WWXDV', '0487-VVUVK', '2794-XIMMO', '0541-FITGH', '4199-QHJNM', '2888-ADFAO', '1113-IUJYX', '9281-OFDMF', '8185-UPYBR', '6621-YOBKI', '2599-CZABP', '3547-LQRIK', '0673-IGUQO', '7073-QETQY', '8165-ZJRNM', '6711-FLDFB', '2332-TODQS', '9208-OLGAQ', '5365-LLFYV', '6077-BDPXA', '5170-PTRKA', '8540-ZQGEA', '3002-WQZWT', '3213-VVOLG', '3079-BCHLN', '6615-NGGZJ', '3871-IKPYH', '3329-WDIOK', '9467-ROOLM', '2911-WDXMV', '0733-VUNUW', '4940-KHCWD', '2121-JAFOM', '1063-DHQJF', '5378-IKEEG', '0923-PNFUB', '1760-CAZHT', '1052-QJIBV', '5968-VXZLG', '8404-GFGCZ', '0013-SMEOE', '3677-TNKIO', '9761-XUJWD', '3387-VATUS', '0221-NAUXK', '2545-LXYVJ', '2978-XXSOG', '7248-VZQLC', '7246-ZGQDF', '1346-PJWTK', '9938-TKDGL', '4676-WLUHT', '0363-QJVFX', '0151-ONTOV', '8869-TORSS', '4020-KIUDI', '1871-MOWRM', '2054-PJOCK', '7108-DGVUU', '0320-JDNQG', '3223-DWFIO', '2369-FEVNO', '5935-FCCNB', '9975-GPKZU', '7978-DKUQH', '4289-DTDKW', '6176-YJWAS', '1927-QEWMY', '8348-HFYIV', '0361-HJRDX', '9620-QJREV', '1897-RCFUM', '8434-PNQZX', '7421-ZLUPA', '2153-MREFK', '2506-CLAKW', '5716-EZXZN', '9115-YQHGA', '0679-IDSTG', '7940-UQQUG', '2550-QHZGP', '3791-LGQCY', '6311-UEUME', '2466-NEJOJ', '4584-LBNMK', '4039-HEUNW', '6368-NWMCE', '1393-IMKZG', '1934-MKPXS', '4425-OWHWB', '5803-NQJZO', '5052-PNLOS', '9418-RUKPH', '2382-BCKQJ', '8490-BXHEO', '0980-PVMRC', '2775-SEFEE', '1530-ZTDOZ', '5939-XAIXZ', '7964-YESJC', '0345-XMMUG', '5134-IKDAY', '5702-KVQRD', '3489-HHPFY', '8436-BJUMM', '3649-JPUGY', '6837-BJYDQ', '2091-GPPIQ', '0875-CABNR', '9355-NPPFS', '0661-KBKPA', '0378-TOVMS', '4018-PPNDW', '4656-CAURT', '4661-NJEUX', '1902-XBTFB', '3428-XZMAZ', '5681-LLOEI', '2817-LVCPP', '8510-TMWYB', '7675-OZCZG', '9479-HYNYL', '6987-XQSJT', '3247-ZVOUO', '1042-HFUCW', '7521-YXVZY', '9685-WKZGT', '0774-RMNUW', '2796-NNUFI', '3071-VBYPO', '9052-VKDUW', '9073-ZZIAY', '4521-YEEHE', '0635-WKOLD', '4667-QONEA', '9798-DRYDS', '0322-CHQRU', '5687-DKDTV', '8731-WBBMB', '3647-GMGDH', '5055-MGMGF', '3719-TDVQB', '3508-CFVZL', '4189-NAKJS', '2676-OXPPQ', '0572-ZJKLT', '5115-SQAAU', '6974-DAFLI', '1734-ZMNTZ', '3716-BDVDB', '4760-XOHVN', '7422-WNBTY', '1171-TYKUR', '0074-HDKDG', '7872-BAAZR', '4139-JPIAM', '8138-EALND', '3096-IZETN', '6818-DJXAA', '4664-NJCMS', '1777-JYQPJ', '9027-YFHQJ', '2410-CIYFZ', '2202-OUTMO', '7711-YIJWC', '3082-YVEKW', '4578-PHJYZ', '7696-AMHOD', '3704-IEAXF', '8189-DUKMV', '0537-QYZZN', '1131-ALZWV', '0988-JRWWP', '0601-WZHJF', '1536-YHDOE', '0968-GSIKN', '6212-ATMLK', '2709-UQGNP', '2324-EFHVG', '5027-YOCXN', '9391-TTOYH', '2933-FILNV', '2220-IAHLS', '2195-ZRVAX', '6050-FFXES', '7020-OZKXZ', '2361-UPSND', '1112-CUNAO', '7218-HKQFK', '7471-WNSUF', '7721-JXEAW', '7766-CLTIC', '5136-KCKGI', '0685-MLYYM', '4335-UPJSI', '2809-ZMYOQ', '0201-MIBOL', '9227-LUNBG', '1221-GHZEP', '5564-NEMQO', '6509-TSGWN', '8433-WPJTV', '3318-ISQFQ', '2433-KMEAS', '6229-UOLQL', '7384-GHBPI', '6351-SCJKT', '0816-TSPHQ', '5789-LDFXO', '2478-EEWWM', '9040-KZVWO', '7137-NAXML', '4958-XCBDQ', '5155-AZQPB', '9279-CJEOJ', '5937-EORGB', '0420-TXVSG', '4398-HSCJH', '9795-NREXC', '1472-TNCWL', '9818-XQCUV', '8932-CZHRQ', '7601-GNDYK', '2254-DLXRI', '0289-IVARM', '6910-HADCM', '9490-DFPMD', '9881-VCZEP', '8626-PTQGE', '9916-AYHTC', '2267-WTPYD', '0362-ZBZWJ', '7703-ZEKEF', '2823-LKABH', '1612-EOHDH', '2788-CJQAQ', '7901-HXJVA', '6211-WHMYA', '0334-ZFJSR', '1086-LXKFY', '0657-DOGUM', '4967-WPNCF', '1320-GVNHT', '9074-KGVOX', '1577-HKTFG', '1952-DVVSW', '9451-LPGOO', '0257-KXZGU', '0023-UYUPN', '8097-VBQTZ', '1389-WNUIB', '2589-AYCRP', '0513-RBGPE', '5383-MMTWC', '4072-IPYLT', '5288-AHOUP', '5066-GFJMM', '0508-OOLTO', '4328-VUFWD', '6133-OZILE', '6969-MVBAI', '0756-MPZRL', '8819-IMISP', '7594-RQHXR', '0959-WHOKV', '9928-BZVLZ', '2608-BHKFN', '9730-DRTMJ', '5884-GCYMI', '4846-WHAFZ', '3668-QPYBK', '5828-AVIPD', '7101-HRBLJ', '2225-ZRGSG', '7605-SNLQG', '2155-AMQRX', '2792-VPPET', '2868-MZAGQ', '5380-WJKOV', '2273-QCKXA', '2542-HYGIQ', '3192-NQECA', '4195-NZGTA', '7074-IEVOJ', '2205-LPVGL', '2082-OJVTK', '3318-OSATS', '9365-SRSZE', '5022-KVDQT', '3525-DVKFN', '5651-YLPRD', '1724-IQWNM', '1142-IHLOO', '3452-GWUIN', '0557-ASKVU', '4859-ZSRDZ', '8510-BBWMU', '2040-OBMLJ', '7636-OWBPG', '4587-VVTOX', '6734-GMPVK', '0238-WHBIQ', '9667-EQRXU', '3727-OVPRY', '5271-DBYSJ', '5474-LAMUQ', '5716-LIBJC', '6288-LBEAR', '0411-EZJZE', '5562-YJQGT', '2346-LOCWC', '5536-RTPWK', '3585-YNADK', '0524-IAVZO', '0137-OCGAB', '4342-HFXWS', '0650-BWOZN', '9253-QXKBE', '7252-NTGSS', '5181-OABFK', '5837-LXSDN', '3308-JSGML', '8761-NSOBC', '7919-ZODZZ', '6437-UKHMV', '5380-AFSSK', '9618-LFJRU', '6953-PBDIN', '6365-HITVU', '6418-HNFED', '3057-VJJQE', '5074-FBGHB', '9117-SHLZX', '1862-QRWPE', '3606-TWKGI', '2346-CZYIL', '8606-CIQUL', '1430-SFQSA', '0354-WYROK', '8690-ZVLCL', '4759-PXTAN', '7789-HKSBS', '8992-JQYUN', '5924-IFQTT', '3410-YOQBQ', '9443-JUBUO', '9391-DXGGG', '8739-XNIKG', '7493-TPUWZ', '7912-SYRQT', '9955-QOPOY', '1453-RZFON', '4335-BSMJS', '4486-EFAEB', '2408-PSJVE', '0031-PVLZI', '9894-EZEWG', '3804-RVTGV', '6990-YNRIO', '0506-LVNGN', '9828-AOQLM', '6937-GCDGQ', '5649-VUKMC', '0644-OQMDK', '9224-VTYID', '4248-QPAVC', '4854-CIDCF', '7009-PCARS', '3900-AQPHZ', '0742-MOABM', '7442-YGZFK', '4285-GYRQC', '0906-QVPMS', '9488-FVZCC', '6168-WFVVF', '7943-RQCHR', '8800-JOOCF', '4079-WWQQQ', '2235-EZAIK', '0177-PXBAT', '9800-OUIGR', '5917-RYRMG', '1304-BCCFO', '4146-SVFUD', '6967-QIQRV', '4526-EXKKN', '9605-WGJVW', '7182-OVLBJ', '8519-QJGJD', '3398-GCPMU', '7831-QGOXH', '7838-LAZFO', '9184-GALIL', '6546-OPBBH', '4647-MUZON', '3278-FSIXX', '1153-GNOLC', '5839-SUYVZ', '8812-ZRHFP', '0266-CLZKZ', '1636-NTNCO', '6823-SIDFQ', '3865-ZFZIB', '8050-DVOJX', '6447-GORXK', '8413-VONUO', '4895-TMWIR', '3541-ZNUHK', '8388-FYNPZ', '1450-SKCVI', '0516-VRYBW', '5197-YPYBZ', '2903-YYTBW', '6705-LNMDD', '8292-TYSPY', '1121-QSIVB', '4730-AWNAU', '5921-NGYRH', '6713-OKOMC', '5174-RNGBH', '3585-ISXZP', '1502-XFCVR', '8740-XLHDR', '1335-MXCSE', '7319-VENRZ', '5649-ANRML', '4826-DXMUP', '8199-ZLLSA', '3727-OWVYD', '0495-RVCBF', '6227-HWPWX', '9667-TKTVZ', '5666-CYCYZ', '0407-BDJKB', '6067-NGCEU', '1428-GTBJJ', '0268-QKIWO', '8639-NHQEI', '7008-LZVOZ', '7566-DSRLQ', '5117-ZSMHQ', '4094-NSEDU', '7879-CGSFV', '9795-VOWON', '4800-VHZKI', '6131-JLWZM', '4061-UKJWL', '8059-UDZFY', '7854-FOKSF', '3239-TPHPZ', '1270-XKUCC', '8329-GWVPJ', '9537-JALFH', '4513-CXYIX', '3006-XIMLN', '5299-SJCZT', '4277-UDIEF', '2027-CWDNU', '6885-PKOAM', '6418-PIQSP', '5312-UXESG', '6198-ZFIOJ', '1599-EAHXY', '4747-LCAQL', '9094-AZPHK', '5605-IYGFG', '8042-JVNFH', '6227-FBDXH', '8231-BSWXX', '6702-OHFWR', '1336-EZFZY', '7279-BUYWN', '6275-YDUVO', '8865-TNMNX', '8750-QWZAJ', '2952-QAYZF', '3913-RDSJZ', '5485-WUYWF', '2929-ERCFZ', '6141-OOXUQ', '6198-RTPMF', '4644-PIZRT', '3399-BMLVW', '5954-BDFSG', '1427-VERSM', '9995-HOTOH', '6908-VVYHM', '5989-PGKJB', '6502-HCJTI', '7881-INRLC', '1415-YFWLT', '3043-SUDUA', '8150-QUDFX', '0670-ANMUU', '4091-TVOCN', '2154-KVJFF', '0203-HHYIJ', '8384-FZBJK', '4821-SJHJV', '2758-RNWXS', '9068-FHQHD', '7394-LWLYN', '0265-PSUAE', '5955-ERIHD', '5173-ZXXXL', '0962-CQPWQ', '5298-GSTLM', '4616-EWBNJ', '4102-HLENU', '9060-HJJRW', '4797-AXPXK', '1356-MKYSK', '7049-GKVZY', '3518-PZXZQ', '8570-KLJYJ', '3301-VKTGC', '1452-KIOVK', '3815-SLMEF', '6075-SLNIL', '4737-HOBAX', '4697-LUPSU', '9705-ZJBCG', '3961-SXAXY', '8375-DKEBR', '0363-SVHYR', '5178-LMXOP', '7503-ZGUZJ', '9297-EONCV', '5609-CEBID', '6946-LMSQS', '1024-VRZHF', '3190-XFANI', '5171-EPLKN', '3197-ARFOY', '2829-HYVZP', '6992-TKNYO', '8098-LLAZX', '4939-KYYPY', '9488-HGMJH', '8267-ZNYVZ', '4983-CCWMC', '1685-VAYJF', '2710-WYVXG', '4709-LKHYG', '7560-QJAVJ', '1217-VASWC', '6034-ZRYCV', '5228-EXCET', '0708-LGSMF', '4615-PIVVU', '2227-JRSJX', '7244-QWYHG', '2476-YGEFM', '5208-FVQKB', '5949-EBSQK', '1049-FYSYG', '3638-DIMPH', '4829-AUOAX', '9127-FHJBZ', '0118-JPNOY', '1064-FBXNK', '6993-OHLXR', '2190-PHBHR', '8229-MYEJZ', '2883-ILGWO', '6435-SRWBJ', '6060-DRTNL', '0895-DQHEW', '5968-XQIVE', '8571-ZCMCX', '5982-PSMKW', '0872-NXJYS', '5095-AESKG', '9986-BONCE', '0607-MVMGC', '1728-CXQBE', '9489-UTFKA', '6598-KELSS', '5325-UWTWJ', '2468-SJFLM', '3397-AVTKU', '4029-HPFVY', '5569-IDSEY', '4781-ZXYGU', '6521-YYTYI', '1043-UXOVO', '6901-GOGZG', '3178-CIFOT', '7951-VRDVK', '7508-KBIMB', '5906-DVAPM', '4256-ZWTZI', '7854-EKTJL', '0052-YNYOT', '8034-RYTVV', '0019-GFNTW', '5248-YGIJN', '7627-JKIAZ', '8840-DQLGN', '7055-VKGDA', '2001-EWBQU', '0902-XKXPN', '4903-CNOZC', '6723-CEGQI', '7845-URHJN', '2450-ZKEED', '2739-CACDQ', '0103-CSITQ', '6410-LEFEN', '9488-FYQAU', '4654-ULTTN', '3030-ZKIWL', '1024-GUALD', '5886-VLQVU', '5778-BVOFB', '8821-XNHVZ', '3317-HRTNN', '2657-ALMWY', '0337-CNPZE', '1852-XEMDW', '7657-DYEPJ', '3496-LFSZU', '9250-WYPLL', '2171-UDMFD', '1679-JRFBR', '3620-MWJNE', '8670-MEFCP', '1498-NHTLT', '4194-FJARJ', '2176-LVPNX', '5542-TBBWB', '9253-VIFJQ', '6681-ZSEXG', '9650-VBUOG', '5879-HMFFH', '3551-GAEGL', '9621-OUPYD', '4501-UYKBC', '9154-QDGTH', '0354-VXMJC', '0327-WFZSY', '5020-ZSTTY', '4994-OBRSZ', '3866-MDTUB', '7989-AWGEH', '5219-YIPTK', '7696-CFTAT', '6893-ODYYE', '4323-SADQS', '8064-RAVOH', '0130-SXOUN', '0628-CNQRM', '0611-DFXKO', '4049-ZPALD', '4853-OITSN', '2249-YPRNG', '4877-EVATK', '0661-KQHNK', '6128-AQBMT', '5183-SNMJQ', '8660-BUETV', '7274-RTAPZ', '0749-IRGQE', '9661-MHUMO', '2371-JUNGC', '6627-CFOSN', '2842-BCQGE', '7758-XKCBS', '0253-ZTEOB', '5649-RXQTV', '1163-VIPRI', '9030-QGZNL', '8717-VCTXJ', '1166-PQLGG', '7527-QNRUS', '7190-XHTWJ', '5482-PLVPE', '7493-GVFIO', '3097-NQYSN', '2057-BOYKM', '2507-QZPQS', '7208-PSIHR', '0570-BFQHT', '0823-HSCDJ', '4194-WHFCB', '4701-AHWMW', '3865-QBWSJ', '2674-MLXMN', '3982-XWFZQ', '3567-PQTSO', '1084-UQCHV', '0907-HQNTS', '8920-NAVAY', '3223-WZWJM', '8015-IHCGW', '3865-YIOTT', '6522-OIQSX', '8853-TZDGH', '5669-SRAIP', '5376-DEQCP', '1172-VIYBP', '7718-RXDGG', '0098-BOWSO', '7711-GQBZC', '7878-JGDKK', '7890-VYYWG', '7349-ALMUX', '3229-USWAR', '3266-FTKHB', '9163-GHAYE', '4572-DVCGN', '0939-YAPAF', '2585-KTFRE', '6112-KTHFQ', '5708-EVONK', '4186-ZBUEW', '7916-VCCPB', '9242-TKFSV', '9755-JHNMN', '1357-BIJKI', '2961-VNFKL', '2274-XUATA', '2300-RQGOI', '2307-FYNNL', '5186-SAMNZ', '6295-OSINB', '8668-KNZTI', '9929-PLVPA', '2000-MPKCA', '4884-TVUQF', '2697-NQBPF', '5947-SGKCL', '3729-OWRVL', '5010-IPEAQ', '7625-XCQRH', '1925-LFCZZ', '5605-XNWEN', '3327-YBAKM', '9851-KIELU', '3082-WQRVY', '7089-XXAYG', '2519-FAKOD', '4550-EVXNY', '5223-UZAVK', '6016-LVTJQ', '1627-AFWVJ', '1635-NZATJ', '5153-RTHKF', '8444-WRIDW', '0952-KMEEH', '5799-JRCZO', '2856-NNASM', '4632-XJMEX', '6131-IUNXN', '5084-OOVCJ', '5176-LMJXE', '5808-TOTXO', '6917-FIJHC', '0247-SLUJI', '0654-PQKDW', '1623-NLDOT', '8676-TRMJS', '3274-NSDWE', '6877-LGWXO', '4706-DGAHW', '3621-CHYVB', '8857-CUPFQ', '2916-BQZLN', '6086-ESGRL', '7102-JJVTX', '2026-TGDHM', '6574-MCOEH', '0880-TKATG', '3648-GZPHF', '4109-CYRBD', '3717-OFRTN', '2272-JKMSI', '6467-CHFZW', '7105-BENQF', '8709-KRDVL', '8286-AFUYI', '6179-GJPSO', '1853-ARAAQ', '2167-FQSTQ', '5995-LFTLE', '9524-EGPJC', '9924-JPRMC', '2696-ECXKC', '1635-FJFCC', '8276-MQBYC', '1543-LLLFT', '0793-TWELN', '3948-XHGNA', '7234-KMNRQ', '1740-CSDJP', '8417-GSODA', '0491-KAPQG', '5816-SCGFC', '6654-QGBZZ', '0674-EYYZV', '5692-ICXLW', '7903-CMPEY', '0536-BGFMZ', '7137-RYLPP', '7730-CLDSV', '8003-EWNDZ', '3751-KTZEL', '1142-WACZW', '2314-TNDJQ', '2565-JSLRY', '1732-FEKLD', '6807-SIWJI', '7579-KKLOE', '5753-QQWPW', '2004-OCQXK', '9445-SZLCH', '5088-QZLRL', '3563-SVYLG', '3754-DXMRT', '3779-OSWCF', '5923-GXUOC', '7145-FEJWU', '9803-FTJCG', '7346-MEDWM', '6199-IPCAO', '6432-TWQLB', '7795-CFOCW', '4480-QQRHC', '0484-FFVBJ', '9938-ZREHM', '0277-ORXQS', '6614-YWYSC', '7975-TZMLR', '8173-RXAYP', '6416-TVAIH', '8328-SKJNO', '8621-MNIHH', '3795-GWTRD', '0136-IFMYD', '7080-TNUWP', '1027-LKKQQ', '2967-MXRAV', '9057-SIHCH', '4918-FYJNT', '5515-AKOAJ', '6873-UDNLD', '1716-LSAMB', '3932-CMDTD', '8705-WZCYL', '7271-AJDTL', '8421-WZOOW', '8799-OXZMD', '9992-RRAMN', '4075-JFPGR', '3400-ESFUW', '0643-OKLRP', '6100-QQHEB', '6005-OBZPH', '7481-ATQQS', '3308-MHOOC', '7336-RLLRH', '8740-CRYFY', '8896-RAZCR', '1970-KKFWL', '0058-EVZWM', '7410-OIEDU', '9474-PHLYD', '4819-HJPIW', '8046-DNVTL', '4397-FRLTA', '5151-HQRDG', '8337-UPOAQ', '1813-JYWTO', '1090-PYKCI', '6013-BHCAW', '0329-GTIAJ', '1775-KWJKQ', '6705-LXORM', '1013-QCWAM', '3451-VAWLI', '3133-PZNSR', '8746-OQQRW', '2654-VBVPB', '1069-QJOEE', '4913-EHYUI', '8106-GWQOK', '6867-ACCZI', '3934-HXCFZ', '8854-CCVSQ', '1699-HPSBG', '9281-PKKZE', '1862-SKORY', '8205-VSLRB', '1619-YWUBB', '1078-TDCRN', '5294-CDGWY', '6828-HMKWP', '0479-HMSWA', '3750-CKVKH', '8017-LXHFA', '1447-GIQMR', '4868-AADLV', '9039-ZVJDC', '6778-JFCMK', '0585-EGDDA', '0256-LTHVJ', '2798-NYLMZ', '8120-JDCAM', '4396-KLSEH', '1207-BLKSA', '2483-XSSMZ', '5322-TEUJK', '4211-MMAZN', '6156-UZDLF', '7716-YTYHG', '3896-RCYYE', '4568-KNYWR', '7964-ZRKKG', '0702-PGIBZ', '9114-VEPUF', '9540-JYROE', '5480-HPRRX', '9135-MGVPY', '6549-NNDYT', '5322-ZSMZY', '9933-QRGTX', '5022-JNQEQ', '1154-HYWWO', '9885-MFVSU', '2831-EBWRN', '7647-GYYKX', '3199-XGZCY', '0254-KCJGT', '1958-RNRKS', '4322-RCYMT', '1291-CUOCY', '6519-CFDBX', '3999-QGRJH', '4608-LCIMN', '6777-TGHTM', '3340-QBBFM', '5138-WVKYJ', '7216-KAOID', '8058-DMYRU', '1465-WCZVT', '0604-THJFP', '9504-YAZWB', '6584-VQMYT', '7112-OPOTK', '8292-FRFZQ', '4010-YLMVT', '9947-OTFQU', '3932-IJWDZ', '4508-OEBEY', '3508-VLHCZ', '4795-KTRTH', '2165-VOEGB', '2430-RRYUW', '9701-CDXHR', '7209-JCUDS', '5570-PTWEH', '8809-XKHMD', '4250-FDVOU', '9802-CAQUT', '6917-IAYHD', '0375-HVGXO', '5293-WXJAK', '7167-PCEYD', '8058-INTPH', '7396-VJUZB', '4459-BBGHE', '8695-WDYEA', '3191-CSNMG', '2039-JONDJ', '8400-WZICQ', '5089-IFSDP', '7017-VFHAY', '0222-CNVPT', '9700-ZCLOT', '2466-FCCPT', '7254-IQWOZ', '9107-UKCKY', '0897-FEGMU', '2240-HSJQD', '0071-NDAFP', '8734-DKSTZ', '5924-SNGKP', '1930-BZLHI', '1216-BGTSP', '5176-OLSKT', '4816-OKWNX', '4676-MQUEA', '7892-POOKP', '2208-MPXIO', '9838-BFCQT', '0319-QZTCO', '5013-SBUIH', '0015-UOCOJ', '6664-FPDAC', '7695-PKLCZ', '1989-PRJHP', '3262-EIDHV', '9061-TIHDA', '4090-KPJIP', '3675-YDUPJ', '4685-ERGHK', '3460-TJBWI', '1910-FMXJM', '0788-DXBFY', '3716-LRGXK', '4007-NHVHI', '5759-RCVCB', '6139-ZZRBQ', '5317-FLPJF', '0239-OXEXL', '6898-RBTLU', '9498-FIMXL', '9114-AAFQH', '5075-JSDKI', '7693-QPEFS', '1746-TGTWV', '3507-GASNP', '9374-YOLBJ', '6158-DWPZT', '3199-NPKCN', '6322-PJJDJ', '7950-XWOVN', '3755-JBMNH', '7567-ECMCM', '7452-FOLON', '4320-QMLLA', '9018-PCIOK', '6296-DDOOR', '0829-XXPLX', '6356-ELRKD', '2612-RRIDN', '8345-MVDYC', '0310-VQXAM', '1150-WFARN', '6370-ZVHDV', '2203-GHNWN', '3164-YAXFY', '7558-IMLMT', '5419-CONWX', '3950-VPYJB', '5143-EGQFK', '1098-KFQEC', '4129-LYCOI', '6490-FGZAT', '1702-CCFNJ', '7560-QRBXH', '4791-QRGMF', '8823-RLPWL', '7077-XJMET', '6064-PUPMC', '5998-DZLYR', '3823-KYNQY', '0260-ZDLGK', '1894-IGFSG', '3097-IDVPU', '5364-EVNIB', '2987-BJXIK', '9495-SKLKD', '2712-SYWAY', '1266-NZYUI', '8295-FHIVV', '9898-KZQDZ', '7603-USHJS', '4822-NGOCH', '0212-ISBBF', '4951-UKAAQ', '2731-GJRDG', '5249-QYHEX', '3594-IVHJZ', '0781-LKXBR', '7538-GWHML', '7794-JASDG', '5698-BQJOH', '7851-FLGGQ', '8169-SAEJD', '4716-HHKQH', '5709-LVOEQ', '3318-NMQXL', '0027-KWYKW', '0621-TWIEM', '1986-PHGZF', '0308-IVGOK', '5918-VUKWP', '6715-OFDBP', '6217-KDYWC', '4452-QIIEB', '6691-CCIHA', '5402-HTOTQ', '6728-WYQBC', '0727-IWKVK', '9867-JCZSP', '5382-SOYZL', '5552-ZNFSJ', '5457-COLHT', '2460-NGXBJ', '8128-YVJRG', '5965-GGPRW', '0786-VSSUD', '5707-ZMDJP', '8544-JNBOX', '7018-WBJNK', '5054-IEXZT', '0942-KOWSM', '2832-KJCRD', '8873-GLDMH', '1173-NOEYG', '9938-EKRGF', '1614-JBEBI', '2262-SLNVK', '2749-CTKAJ', '6844-DZKRF', '8118-TJAFG', '3889-VWBID', '9617-UDPEU', '5117-IFGPS', '3164-AALRN', '8383-SGHJU', '3001-CBHLQ', '6693-DJWTY', '6897-RWMUB', '0096-BXERS', '7956-XQWGU', '1450-GALXR', '5122-CYFXA', '7148-XZPHA', '7465-ZZRVX', '0619-OLYUR', '2085-BOJKI', '9475-NNDGC', '3324-OIRTO', '0709-TVGUR', '2074-GUHPQ', '1982-FEBTD', '0799-DDIHE', '0428-IKYCP', '4291-YZODP', '5136-RGMZO', '6620-JDYNW', '5902-WBLSE', '4933-BSAIP', '8631-WUXGY', '2898-LSJGD', '6838-HVLXG', '9993-LHIEB', '9065-ZCPQX', '6087-MVHJH', '4950-HKQTE', '3317-VLGQT', '8755-IWJHN', '9313-QOLTZ', '0236-HFWSV', '2826-UWHIS', '5569-KGJHX', '6878-GGDWG', '3714-XPXBW', '0426-TIRNE', '8966-SNIZF', '0164-XAIRP', '4325-NFSKC', '3768-VHXQO', '3378-AJRAO', '8216-AZUUZ', '7629-WFGLW', '7872-RDDLZ', '0621-CXBKL', '7299-GNVPL', '0442-TDYUO', '9779-DPNEJ', '8053-WWDRO', '5546-QUERU', '4112-LUEIZ', '5046-NUHWD', '2169-RRLFW', '2391-SOORI', '1872-EBWSC', '2782-JEEBU', '9677-AVKED', '9625-QNLUX', '2266-SJNAT', '2025-JKFWI', '1407-DIGZV', '9710-ZUSHQ', '9134-WYRVP', '6407-UTSLV', '1784-BXEFA', '6960-HVYXR', '2388-LAESQ', '6080-TCMYC', '4652-ODEVH', '0244-LGNFY', '6261-LHRTG', '9780-FKVVF', '5346-BZCHP', '8623-ULFNQ', '9738-QLWTP', '5980-BDHPY', '1837-YQUCE', '9223-UCPVT', '7078-NVFAM', '3733-LSYCE', '5032-MIYKT', '1535-VTJOQ', '1468-DEFNC', '6177-PEVRA', '7434-SHXLS', '4057-FKCZK', '5845-BZZIB', '7993-PYKOF', '8963-JLGJT', '4909-JOUPP', '3780-DDGSE', '7339-POGZN', '7730-IUTDZ', '5438-QMDDL', '2284-VFLKH', '0679-TDGAK', '1335-NTIUC', '4702-HDRKD', '4377-VDHYI', '0562-KBDVM', '8961-QDZZJ', '6656-JWRQX', '8213-TAZPM', '0929-HYQEW', '7632-MNYOY', '6204-IEUXJ', '1227-UDMZR', '8711-LOBKY', '3345-JHUEO', '9896-UYMIE', '3988-RQIXO', '0928-JMXNP', '6344-SFJVH', '7815-PDTHL', '4291-SHSBH', '7576-OYWBN', '9138-EFSMO', '8597-CWYHH', '2626-VEEWG', '9174-IHETN', '7580-UGXNC', '6537-QLGEX', '5575-TPIZQ', '2972-YDYUW', '6797-UCJHZ', '4948-WBBKL', '1218-VKFPE', '0285-INHLN', '2773-MADBQ', '4640-UHDOS', '2418-TPEUN', '9651-GTSAQ', '5357-TZHPP', '3082-VQXNH', '3440-JPSCL', '7995-ZHHNZ', '0320-DWVTU', '4361-BKAXE', '3104-OWCGK', '4686-GEFRM', '6725-TPKJO', '2465-BLLEU', '3320-VEOYC', '9278-VZKCD', '4644-OBGFZ', '1222-KJNZD', '6754-LZUKA', '4598-ZADCK', '0104-PPXDV', '9142-XMYJH', '4526-ZJJTM', '3633-CDBUW', '6985-HAYWX', '0020-JDNXP', '8329-UTMVM', '6007-TCTST', '9371-BITHB', '0716-BQNDX', '6235-VDHOM', '8720-RQSBJ', '0612-RTZZA', '8914-RBTSB', '0827-ITJPH', '5376-PCKNB', '6096-EGVTU', '6559-RAKOZ', '4402-FTBXC', '7181-BQYBV', '2172-EJXVF', '4952-YSOGZ', '2722-VOJQL', '1240-HCBOH', '4815-TUMEQ', '4236-XPXAV', '1206-EHBDD', '5828-DWPIL', '3891-NLXJB', '2302-OUZXB', '2360-RDGRO', '1349-WXNGG', '0835-DUUIQ', '9588-YRFHY', '9221-OTIVJ', '6376-GAHQE', '0164-APGRB', '6723-WSNTY', '8344-WFMFH', '6907-FLBER', '3154-CFSZG', '8480-PPONV', '5198-HQAEN', '2754-VDLTR', '8044-BGWPI', '8387-UGUSU', '5148-ORICT', '2640-LYMOV', '2926-JEJJC', '9746-YKGXB', '0886-QGENL', '3312-UUMZW', '1131-QQZEB', '5915-DGNVC', '1324-NLTJE', '0281-CNTZX', '5931-FLJJF', '2018-QKYGT', '3824-RHKVR', '4367-NUYAO', '2876-VBBBL', '8258-GSTJK', '2592-SEIFQ', '0396-UKGAI', '6806-YDEUL', '2984-AFWNC', '2799-ARNLO', '6923-JHPMP', '1741-WTPON', '7638-QVMVY', '3951-NJCVI', '8992-CEUEN', '9447-YPTBX', '3131-NWVFJ', '5161-UBZXI', '8930-XOTDP', '5780-INQIK', '8728-SKJLR', '7909-FIOIY', '1177-XZBJL', '0757-WCUUZ', '1228-ZLNBX', '1099-BTKWT', '4581-LNWUM', '6483-OATDN', '5673-FSSMF', '9348-ROUAI', '9909-DFRJA', '7410-YTJIK', '9801-NOSHQ', '2988-PLAHS', '0495-ZBNGW', '0722-TROQR', '6127-IYJOZ', '0854-UYHZD', '3445-HXXGF', '5090-EMGTC', '6784-XYJAE', '1492-QGCLU', '3128-YOVTD', '8111-SLLHI', '5650-YLIBA', '7395-IGJOS', '4881-GQJTW', '0225-ZORZP', '4993-JCRGJ', '0939-EREMR', '8722-PRFDV', '1399-OUPJN', '8049-WJCLQ', '5173-WXOQV', '8963-MQVYN', '7802-EFKNY', '5949-HGVJL', '3096-YXENJ', '6127-ISGTU', '4806-HIPDW', '7067-KSAZT', '7860-UXCRM', '9451-WLYRI', '9809-IMGCQ', '1830-IPXVJ', '3503-TYDAY', '7479-NITWS', '5081-NWSUP', '8277-RVRSV', '0578-SKVMF', '1029-QFBEN', '6016-NXBNJ', '6252-DFGTK', '3665-JATSN', '7439-DKZTW', '8879-XUAHX', '4635-EJYPD', '9514-JDSKI', '5232-NXPAY', '7576-JMYWV', '9574-RKJIF', '2408-WITXK', '2995-UPRYS', '2272-UOINI', '8917-FAEMR', '2640-PMGFL', '6772-KSATR', '0744-GKNGE', '9633-DENPU', '3882-IYOIJ', '7180-PISOG', '3088-LHEFH', '7024-OHCCK', '3696-XRIEN', '6286-SUUWT', '6693-FRIRW', '0057-QBUQH', '6581-NQCBA', '9880-TDQAC', '2621-UDNLU', '6319-IEJWJ', '9272-LSVYH', '3946-JEWRQ', '7615-ESMYF', '5950-AAAGJ', '9534-NSXEM', '7994-XIRTR', '6732-FZUGP', '5914-GXMDA', '8294-UIMBA', '2233-TXSIU', '7660-HDPJV', '6180-YBIQI', '6184-DYUOB', '7595-EUIVN', '5103-MHMHY', '2862-PFNIK', '2400-XIWIO', '7517-LDMPS', '3113-IWHLC', '4277-BWBML', '7508-MYBOG', '4282-YMKNA', '5215-LNLDJ', '0602-DDUML', '8263-QMNTJ', '4724-WXVWF', '1354-YZFNB', '8380-PEFPE', '8647-SDTWQ', '5899-MQZZL', '1106-HRLKZ', '5606-AMZBO', '2108-XWMPY', '4312-GVYNH', '3016-KSVCP', '0369-ZGOVK', '1376-HHBDV', '8434-VGEQQ', '7402-PWYJJ', '3091-FYHKI', '8821-KVZKQ', '9103-CXVOK', '3957-LXOLK', '6671-NGWON', '4238-HFHSN', '2436-QBZFP', '7931-PXHFC', '3566-VVORZ', '1271-SJBGZ', '0461-CVKMU', '5568-DMXZS', '5447-VYTKW', '8226-BXGES', '5468-BPMMO', '0208-BPQEJ', '3338-CVVEH', '7622-FWGEW', '8229-TNIQA', '1987-AUELQ', '1820-TQVEV', '2228-BZDEE', '8563-OYMQY', '7315-WYOAW', '8775-LHDJH', '7056-IMHCC', '5862-BRIXZ', '7593-JNWRU', '8903-WMRNW', '5140-FOMCQ', '2782-LFZVW', '5543-QDCRY', '8405-IGQFX', '9200-NLNPD', '0508-SQWPL', '0519-DRGTI', '6653-CBBOM', '4140-WJAWW', '3521-SYVOR', '7233-PAHHL', '7808-DVWEP', '7743-EXURX', '7710-JSYOA', '5846-NEQVZ', '2530-ENDWQ', '2451-YMUXS', '8591-TKMZH', '5908-QMGOE', '7407-SUJIZ', '3014-WJKSM', '8372-JUXUI', '3211-ILJTT', '6260-ONULR', '7649-SIJJF', '8496-EJAUI', '3685-YLCMQ', '2122-SZZZD', '4182-BGSIQ', '5295-PCJOO', '6680-WKXRZ', '6563-VNPMN', '0115-TFERT', '9644-UMGQA', '4373-VVHQL', '0301-KOBTQ', '8573-CGOCC', '9564-KCLHR', '2616-UUTFK', '4560-WQAQW', '1363-TXLSL', '4450-MDZFX', '6047-YHPVI', '8990-YOZLV', '8714-EUHJO', '6023-GSSXW', '2372-HWUHI', '6854-EXGSF', '3803-KMQFW', '4104-PVRPS', '3569-JFODW', '7123-WQUHX', '0428-AXXLJ', '9497-QCMMS', '2475-MROZF', '1403-LKLIK', '9069-LGEUL', '6128-DAFVY', '5343-SGUBI', '4439-JMPMT', '8146-QQKZH', '2595-KIWPV', '6849-WLEYG', '4304-TSPVK', '3646-ITDGM', '1273-MTETI', '8245-UMPYT', '5229-PRWKT', '1564-HJUVY', '6778-YSNIH', '9720-JJJOR', '9840-EFJQB', '7641-TQFHN', '0916-KNFAJ', '3663-MITLP', '0842-IWYCP', '1482-OXZSY', '7107-UBYKY', '6330-JKLPC', '5696-EXCYS', '7096-UCLNH', '0520-FDVVT', '6029-WTIPC', '6416-JNVRK', '8552-OBVRU', '6194-HBGQN', '0013-MHZWF', '8650-RHRKE', '3373-DIUUN', '6582-PLFUU', '0975-UYDTX', '3787-TRIAL', '4232-JGKIY', '5176-LDKUH', '5439-WIKXB', '4137-BTIKL', '2528-HFYZX', '6353-BRMMA', '7356-IWLFW', '3090-HAWSU', '7963-GQRMY', '5461-QKNTN', '2824-MYYBN', '2342-CKIAO', '4484-CGXFK', '8993-IZEUX', '1319-YLZJG', '3209-ZPKFI', '1245-HARPS', '8592-PLTMQ', '3197-NNYNB', '8645-KWHJO', '2509-TFPJU', '7495-OOKFY', '8952-WCVCD', '8189-XRIKE', '1262-OPMFY', '0178-CIIKR', '0786-IVLAW', '6637-KYRCV', '8725-JEDFD', '5087-SUURX', '0945-TSONX', '2984-RGEYA', '1951-IEYXM', '1304-SEGFY', '1596-OQSPS', '0468-YRPXN', '3963-RYFNS', '7394-FKDNK', '3987-KQDDU', '2821-WARNZ', '8292-ITGYJ', '3200-MNQTF', '2546-KZAAT', '2402-TAIRZ', '2845-AFFTX', '1480-IVEVR', '4277-PVRAN', '6734-CKRSM', '5032-USPKF', '2144-BFDSO', '9717-QEBGU', '6900-PXRMS', '6941-PMGEP', '5893-KCLGT', '5445-UTODQ', '4537-DKTAL', '6032-KRXXO', '6770-UAYGJ', '0439-IFYUN', '8695-ARGXZ', '9494-MRNYX', '6870-ECSHE', '8183-ONMXC', '4801-KFYKL', '4742-DRORA', '4026-SKKHW', '8593-WHYHV', '5480-TBGPH', '4910-GMJOT', '0616-ATFGB', '9398-MMQTO', '5934-RMPOV', '6475-VHUIZ', '2495-TTHBQ', '3009-JWMPU', '1137-DGOWI', '7798-JVXYM', '4959-JOSRX', '1810-BOHSY', '4804-NCPET', '9337-SRRNI', '2799-TSLAG', '1452-UZOSF', '0412-UCCNP', '4332-MUOEZ', '2235-DWLJU', '6712-OAWRH', '2208-NKVVH', '6776-TLWOI', '3055-OYMSE', '1209-VFFOC', '9817-APLHW', '2812-ENYMO', '6578-KRMAW', '3249-ZPQRG', '2672-OJQZP', '6010-DDPPW', '0961-ZWLVI', '6440-DKQGE', '6332-FBZRI', '0895-LNKRC', '7251-XFOIL', '0292-WEGCH', '6253-GNHWH', '1591-XWLGB', '6211-WWLTF', '6505-OZNPG', '9420-LOJKX', '5067-WJEUN', '0310-MVLET', '3255-GRXMG', '4422-QVIJA', '3886-CERTZ', '1820-DJFPH', '2479-BRAMR', '7055-JCGNI', '5656-JAMLX', '6633-MPWBS', '1342-JPNKI', '2533-QVMSK', '7094-MSZAO', '9274-CNFMO', '8996-ZROXE', '1104-FEJAM', '2146-EGVDT', '5712-PTIWW', '0129-QMPDR', '0463-TXOAK', '0303-WMMRN', '5222-IMUKT', '6648-INWPS', '2364-UFROM', '6199-IWKGC', '4988-IQIGL', '7562-GSUHK', '9708-HPXWZ', '0323-XWWTN', '3724-UCSHY', '9191-MYQKX', '2868-SNELZ', '3363-DTIVD', '3413-DHLPB', '5729-KLZAR', '9134-CEQMF', '5515-RUGKN', '2580-ATZSQ', '1456-TWCGB', '3411-WLRSQ', '4745-LSPLO', '5956-VKDTT', '1660-HSOOQ', '5502-RLUYV', '7764-BDPEE', '7666-WKRON', '9496-IVVRP', '8818-XYFCQ', '0991-BRRFB', '3836-FZSDJ', '2419-FSORS', '4760-THGOT', '7450-NWRTR', '9244-ZVAPM', '2801-NISEI', '0215-BQKGS', '8670-ERCJH', '0732-OCQOC', '4443-EMBNA', '6230-BSUXY', '8132-YPVBX', '4825-FUREZ', '3261-CQXOL', '1265-ZFOSD', '0581-MDMPW', '2485-ITVKB', '2815-CPTUL', '5126-RCXYW', '8714-CTZJW', '0617-AQNWT', '6469-QJKZW', '5692-FPTAH', '7619-PLRLP', '4116-TZAQJ', '1574-DYCWE', '8191-XWSZG', '5327-CNLUQ', '7722-CVFXN', '7013-PSXHK', '0734-OXWBT', '4693-VWVBO', '9553-DLCLU', '9174-FKWZE', '1703-MGIAB', '5274-XHAKY', '8065-BVEPF', '9835-ZIITK', '0089-IIQKO', '6567-HOOPW', '7134-HBPBS', '6869-FGJJC', '6374-AFWOX', '6000-APYLU', '6110-OHIHY', '9128-CPXKI', '4680-KUTAJ', '4154-AQUGT', '2650-GYRYL', '1448-CYWKC', '2754-XBHTB', '9574-BOSMD', '6214-EDAKZ', '4393-RYCRE', '7551-JOHTI', '4295-YURET', '5345-BMKWB', '8160-HOWOX', '7669-LCRSD', '1066-JKSGK', '6338-AVWCY', '9844-FELAJ', '7398-SKNQZ', '6265-SXWBU', '9169-BSVIN', '8267-KFGYD', '6941-KXRRV', '9586-JGQKH', '2452-KDRRH', '1640-PLFMP', '0731-EBJQB', '4877-TSOFF', '8439-LTUGF', '2263-SFSQZ', '1231-YNDEK', '4890-VMUAV', '7608-RGIRO', '0730-BGQGF', '0114-IGABW', '0899-LIIBW', '8085-MSNLK', '1852-QSWCD', '4176-RELJR', '2277-DJJDL', '1676-MQAOA', '6583-QGCSI', '9800-ONTFE', '6595-YGXIT', '5006-MXVRN', '5339-PXDVH', '0613-WUXUM', '7169-YWAMK', '5834-ASPWA', '4450-DLLMH', '7779-LGOVN', '2673-ZALNP', '4472-VESGY', '2988-QRAJY', '2215-ZAFGX', '0030-FNXPP', '8443-WVPSS', '3336-JORSO', '8749-TZYEC', '2592-HODOV', '9681-OXGVC', '1525-LNLOJ', '9385-NXKDA', '3621-CEOVK', '5356-CSVSQ', '1666-JXLKU', '2645-QTLMB', '5199-FPUSP', '3756-VNWDH', '1730-VFMWO', '3679-XASPY', '1965-AKTSX', '4299-OPXEJ', '0440-MOGPM', '3831-YCPUO', '1051-EQPZR', '3192-LNKRK', '8182-BJDSI', '3916-NRPAP', '1488-PBLJN', '5917-HBSDW', '8317-BVKSO', '0018-NYROU', '7010-BRBUU', '6080-LNESI', '8467-WYNSR', '0078-XZMHT', '5829-NVSQN', '9921-ZVRHG', '2250-IVBWA', '8550-XSXUQ', '4077-CROMM', '5879-SESNB', '3891-PUQOD', '6933-VLYFX', '2834-JRTUA', '5696-CEIQJ', '1307-ATKGB', '9978-HYCIN', '3143-ILDAL', '3858-VOBET', '3370-HXOPH', '6994-FGRHH', '6527-PZFPV', '4671-LXRDQ', '8665-UTDHZ', '5788-YPOEG', '4632-PAOYU', '8259-NFJTV', '2659-VXMWZ', '0463-ZSDNT', '4782-OSFXZ', '1095-JUDTC', '7977-HXJKU', '9444-JTXHZ', '2525-GVKQU', '9874-QLCLH', '8348-JLBUG', '8806-EAGWC', '9101-BWFSS', '0315-LVCRK', '8313-NDOIA', '0655-RBDUG', '6729-GDNGC', '1174-FGIFN', '5133-VRSAB', '1403-GYAFU', '2877-VDUER', '1150-FTQGN', '0040-HALCW', '9940-RHLFB', '9308-ANMVE', '8084-OIVBS', '9546-KDTRB', '7813-TKCVO', '4021-RQSNY', '3011-WQKSZ', '3863-QSTYI', '1213-NGCUN', '3623-FQBOX', '7207-RMRDB', '5393-RXQSZ', '9372-TXXPS', '8577-QSOCG', '6916-HIJSE', '4480-MBMLB', '1402-PTHGN', '3753-TSEMP', '9801-GDWGV', '3522-CDKHF', '1016-DJTSV', '5919-VCZYM', '0661-XEYAN', '8620-RJPZN', '7284-ZZLOH', '0011-IGKFF', '0402-OAMEN', '1452-XRSJV', '4735-ASGMA', '7954-MLBUN', '1302-UHBDD', '8752-IMQOS', '5804-LEPIM', '0343-QLUZP', '1945-XISKS', '0565-JUPYD', '2931-FSOHN', '8982-NHAVY', '4176-FXYBO', '0404-AHASP', '6616-AALSR', '6876-ADESB', '9777-WJJPR', '9470-RTWDV', '9294-TDIPC', '9462-MJUAW', '4686-UXDML', '2530-FMFXO', '3049-NDXFL', '0083-PIVIK', '8942-DBMHZ', '8999-XXGNS', '9415-TPKRV', '4013-GUXND', '5602-BVFMK', '5028-HTLJB', '6218-KNUBD', '6500-JVEGC', '4707-MAXGU', '7945-PRBVF', '7516-GMHUV', '9441-QHEVC', '3308-DGHKL', '4592-IWTJI', '3387-PLKUI', '7100-FQPRV', '7596-LDUXP', '6646-VRFOL', '2612-RANWT', '7951-QKZPL', '8763-KIAFH', '5565-FILXA', '4945-RVMTE', '4079-ULGFR', '4304-XUMGI', '3126-WQMGH', '7083-MIOPC', '3745-HRPHI', '9381-NDKME', '0843-WTBXE', '7249-WBIYX', '8071-SBTRN', '2931-XIQBR', '6599-SFQVE', '5666-MBJPT', '1769-GRUIK', '0082-LDZUE', '4869-EPIUS', '0455-XFASS', '2845-HSJCY', '0137-UDEUO', '1950-KSVVJ', '2049-BAFNW', '6040-CGACY', '7173-TETGO', '8406-LNMHF', '5172-RKOCB', '2761-OCIAX', '4123-FCVCB', '4702-IOQDC', '5248-KWLAR', '3208-YPIOE', '7408-OFWXJ', '2070-XYMFH', '0365-BZUWY', '6333-YDVLT', '3500-RMZLT', '5647-URDKA', '0314-TKOSI', '0378-CJKPV', '4203-QGNZA', '6147-CBCRA', '6300-BWMJX', '0111-KLBQG', '7291-CDTMJ', '3146-MSEGF', '9269-CQOOL', '3099-OONVS', '2568-BRGYX', '1755-FZQEC', '7519-JTWQH', '6284-KMNUF', '1699-UOTXU', '3757-NJYBX', '4390-KYULV', '4817-VYYWS', '1414-YADCW', '0224-RLWWD', '5099-BAILX', '8645-KOMJQ', '1722-LDZJS', '4759-TRPLW', '0324-BRPCJ', '3884-HCSWG', '7503-EPSZW', '8083-YTZES', '1582-RAFML', '8868-GAGIO', '8819-ZBYNA', '7242-QZLXF', '3737-XBQDD', '4546-FOKWR', '0475-RIJEP', '3227-WLKLI', '8871-JLMHM', '7267-FRMJW', '2789-CZANW', '5180-UCIIQ', '1697-NVVGY', '1561-BWHIN', '8332-OSJDW', '9412-GHEEC', '5766-XQXMQ', '1254-IZEYF', '8295-KMENE', '9944-HKVVB', '0988-AADSA', '7064-JHXCE', '9053-JZFKV', '7351-KYHQH', '6933-FHBZC', '7228-OMTPN', '3292-PBZEJ', '6668-CNMFP', '4654-GGUII', '6734-JDTTV', '7314-OXENN', '7250-EQKIY', '9512-UIBFX', '2309-OSFEU', '8066-POXGX', '1097-FSPVW', '2729-VNVAP', '5574-NXZIU', '3224-DFQNQ', '5159-YFPKQ', '6859-QNXIQ', '4847-TAJYI', '7982-VCELR', '1140-UKVZG', '5821-MMEIL', '6950-TWMYB', '1045-LTCYT', '7548-SEPYI', '3486-HOOGQ', '2833-SLKDQ', '0637-UBJRP', '1723-HKXJQ', '0722-SVSFK', '3898-GUYTS', '7328-ZJAJO', '0436-TWFFZ', '6231-WFGFH', '5445-GLVOT', '0666-UXTJO', '8922-NPKBJ', '9919-FZDED', '8519-IMDHU', '0825-CPPQH', '9945-PSVIP', '0654-HMSHN', '1009-IRMNA', '6131-FOYAS', '1832-PEUTS', '0725-CXOTM', '1891-FZYSA', '2379-ENZGV', '1597-LHYNC', '1981-INRFU', '4359-INNWN', '7136-IHZJA', '9339-FIIJL', '8898-KASCD', '8225-BTJAU', '7665-NKLAV', '5981-ITEMU', '2302-ANTDP', '5339-TJFEK', '9967-ATRFS', '4636-JGAAI', '2541-YGPKE', '4439-YRNVD', '8397-MVTAZ', '2162-FRZAA', '8178-EYZUO', '8541-QVFKM', '0818-OCPZO', '2577-GVSIL', '4603-JANFB', '8149-AIQCG', '5351-QESIO', '4290-BSXUX', '6905-NIQIN', '8062-YBDOE', '2024-BASKD', '6773-LQTVT', '0742-NXBGR', '7605-BDWDC', '8039-ACLPL', '8819-WFGGJ', '3156-QLHBO', '8626-XHBIE', '6518-PPLMZ', '3096-JRDSO', '5306-BVTKJ', '6652-YFFJO', '1545-JFUML', '8807-ARQET', '0559-CKHUS', '7269-JISCY', '9822-BIIGN', '5404-GGUKR', '1043-YCUTE', '5150-ITWWB', '6982-UQZLY', '7552-KEYGT', '1475-VWVDO', '1015-JPFYW', '6817-WTYHE', '4446-BZKHU', '1236-WFCDV', '6888-SBYAI', '0221-WMXNQ', '9153-BTBVV', '6734-PSBAW', '0139-IVFJG', '8809-RIHDD', '2075-RMJIK', '3785-NRHYR', '0880-FVFWF', '3549-ZTMNH', '0840-DCNZE', '3345-PBBFH', '5906-BFOZT', '9845-QOMAD', '0459-SPZHJ', '1374-DMZUI', '6303-KFWSL', '9274-UARKJ', '8980-WQFWL', '4067-HLYQI', '2720-WGKHP', '8063-RJYNF', '4815-GBTCD', '0259-GBZSH', '2362-IBOOY', '5539-TMZLF', '5057-LCOUI', '1930-QPBVZ', '2869-ADAWR', '1833-VGRUM', '2223-GDSHL', '1488-SYSFC', '3814-MLAXC', '0228-MAUWC', '7839-NUIAA', '6743-HHQPF', '8144-DGHXP', '7639-OPLNG', '3566-HJGPK', '0348-SDKOL', '9938-PRCVK', '4193-ORFCL', '7841-TZDMQ', '5168-MQQCA', '3066-RRJIO', '1589-AGTLK', '3511-APPBJ', '6259-WJQLC', '2453-SAFNS', '2753-JMMCV', '5628-RKIFK', '8039-EQPIM', '3926-CUQZX', '0946-FKYTX', '2824-DXNKN', '2332-EFBJY', '6386-SZZKH', '0840-DFEZH', '5857-TYBCJ', '0625-AFOHS', '5996-EBTKM', '5827-MWCZK', '1135-HIORI', '5243-SAOTC', '6035-RIIOM', '3154-HMWUU', '2257-BOVXD', '4636-QRJKY', '4415-IJZTP', '4855-SNKMY', '9992-UJOEL', '4883-KCPZJ', '5804-JMYIO', '3620-EHIMZ', '4378-MYPGO', '6630-UJZMY', '8623-TMRBY', '2239-JALAW', '2615-YVMYX', '2974-GGUXS', '7941-RCJOW', '5287-QWLKY', '8807-OPMBM', '2126-GSEGL', '5536-SLHPM', '6859-RKMZJ', '3235-ETOOB', '1474-JUWSM', '6168-YBYNP', '4818-QIUFN', '7295-JOMMD', '8129-GMVGI', '6568-POCUI', '3530-VWVGU', '8625-AZYZY', '3450-WXOAT', '3911-RSNHI', '2055-PDADH', '8429-XIBUM', '8966-OIQHG', '1399-UBQIU', '8198-RKSZG', '6855-VLGOS', '5275-SQEIZ', '9507-HSMMZ', '7963-SHNDT', '2790-XUYMV', '1658-XUHBX', '2233-FAGXV', '3834-XUIFC', '3797-VTIDR', '2303-PJYHN', '6326-MTTXK', '8565-CLBZW', '5732-IKGQH', '9688-YGXVR', '8414-MYSHR', '5680-LQOGP', '6143-JQKEA', '0771-WLCLA', '5353-WILCI', '0902-RFHOF', '9068-VPWQQ', '4829-ZLJTK', '9251-WNSOD', '4698-KVLLG', '4450-YOOHP', '9518-XXBXE', '6655-LHBYW', '5044-XDPYX', '1248-DYXUB', '7677-SJJJK', '7568-PODML', '8347-GDTMP', '9646-NMHXE', '2430-USGXP', '0634-SZPQA', '5934-TSSAU', '0924-BJCRC', '1385-TQOZW', '6733-LRIZX', '6928-ONTRW', '4726-DLWQN', '2252-ISRNH', '5297-MDOIR', '6339-TBELP', '7217-JYHOQ', '5480-XTFFL', '4989-LIXVT', '6686-YPGHK', '2839-RFSQE', '0280-XJGEX', '6646-QVXLR', '4732-RRJZC', '7980-MHFLQ', '8285-ABVLB', '3230-WYKIR', '8788-DOXSU', '5640-CAXOA', '5539-HIVAK', '6635-MYYYZ', '7684-XSZIY', '9822-WMWVG', '9314-IJWSQ', '5202-IVJNU', '8595-SIZNC', '8605-ITULD', '6848-YLDFR', '9025-ZRPVR', '4430-YHXGG', '0784-GTUUK', '8006-PYCSW', '4670-TABXH', '6022-KOUQO', '8155-IBNHG', '5930-GBIWP', '3319-DWOEP', '5144-PQCDZ', '0003-MKNFE', '4609-KNNWG', '2843-CQMEG', '9919-YLNNG', '2338-BQEZT', '1776-SPBWV', '9689-PTNPG', '2379-GYFLQ', '7328-OWMOM', '6078-VESFR', '2439-LYPMQ', '0667-NSRGI', '7297-DVYGA', '2294-SALNE', '6925-BAYGL', '5982-FPVQN', '1226-IENZN', '4836-WNFNO', '6502-MJQAE', '9143-CANJF', '9055-MOJJJ', '3786-WOVKF', '9606-PBKBQ', '6617-WLBQC', '3161-GETRM', '3402-XRIUO', '4986-MXSFP', '2651-ZCBXV', '8200-KLNYW', '0422-OHQHQ', '6680-NENYN', '9489-JMTTN', '7898-PDWQE', '9670-BPNXF', '2178-PMGCJ', '9323-HGFWY', '4011-ARPHK', '2404-JIBFC', '1442-BQPVU', '3325-FUYCG', '6429-SHBCB', '3658-QQJYD', '1567-DSCIC', '6999-CHVCF', '2812-REYAT', '7416-CKTEP', '2955-BJZHG', '3696-DFHHB', '9964-WBQDJ', '2810-FTLEM', '3280-MRDOF', '5153-LXKDT', '5324-KTGCG', '5073-RZGBK', '8735-SDUFN', '1816-FLZDK', '5624-RYAMH', '8785-CJSHH', '1449-XQEMT', '3374-TTZTK', '6734-FQAJX', '1559-DTODC', '9548-LIGTA', '6906-ANDWJ', '4116-IQRFR', '4720-VSTSI', '4580-TMHJU', '4946-EDSEW', '2480-EJWYP', '8627-ZYGSZ', '2616-FLVQC', '6891-JPYFF', '3137-NYQQI', '3230-JCNZS', '8096-LOIST', '1622-HSHSF', '7133-VBDCG', '8468-FZTOE', '8207-DMRVL', '2107-FBPTK', '2040-LDIWQ', '6682-VCIXC', '0080-OROZO', '4130-MZLCC', '0872-CASZJ', '0121-SNYRK', '3062-ICYZQ', '7278-CKDNC', '1552-AAGRX', '1569-TTNYJ', '1104-TNLZA', '9948-YPTDG', '6008-NAIXK', '8785-EPNCG', '5748-RNCJT', '8455-HIRAQ', '4821-WQOYN', '2625-TRCZQ', '9318-NKNFC', '7427-AUFPY', '8931-GJJIQ', '2114-MGINA', '4818-DRBQT', '9888-ZCUMM', '2034-GDRCN', '0623-EJQEG', '2186-QZEYA', '9529-OFXHY', '8410-BGQXN', '5980-NOPLP', '0447-BEMNG', '7572-KPVKK', '3683-QKIUE', '3701-SFMUH', '9432-VOFYX', '4324-AHJKS', '3990-QYKBE', '6741-QRLUP', '2000-DHJUY', '6384-VMJHP', '3976-NLDEZ', '4083-BFNYK', '7869-ZYDST', '0594-UFTUL', '2211-RMNHO', '4897-QSUYC', '0511-JTEOY', '8401-EMUWF', '0971-QIFJK', '8849-PRIQJ', '1095-WGNGG', '8648-PFRMP', '9769-TSBZE', '6838-YAUVY', '3594-KADLU', '1397-XKKWR', '1085-LDWAM', '8838-GPHZP', '0383-CLDDA', '7925-PNRGI', '7273-TEFQD', '7188-CBBBA', '9445-ZUEQE', '6674-KVJHG', '2684-EIWEO', '5701-SVCWR', '8859-AXJZP', '5529-GIBVH', '4648-YPBTM', '0214-JHPFW', '3167-SNQPL', '8402-EIVQS', '1568-BEKZM', '1481-ZUWZA', '3452-ABWRL', '3533-UVMOM', '5018-HEKFO', '4188-PCPIG', '4636-OLWOE', '9728-FTTVZ', '7511-YMXVQ', '2150-OEGBV', '3018-TFTSU', '3538-WZPHD', '9962-BFPDU', '0330-IVZHA', '7277-OZCGZ', '2432-TFSMK', '6834-NXDCA', '4683-WYDOU', '7577-SWIFR', '2606-PKWJB', '0691-NIKRI', '0274-JKUJR', '1205-WNWPJ', '3234-VKACU', '1725-MIMXW', '9092-GDZKO', '0484-JPBRU', '5149-CUZUJ', '5960-MVTUK', '7389-KBFIT', '5240-IJOQT', '9867-NNXLC', '7876-AEHIG', '2378-HTWFW', '9732-KPKBW', '6575-SUVOI', '4315-MURBD', '0036-IHMOT', '1984-GPTEH', '5003-OKNNK', '4884-LEVMQ', '5206-XZZQI', '7661-CPURM', '0318-QUUOB', '0488-GSLFR', '0248-PGHBZ', '9359-UGBTK', '3392-EHMNK', '8020-BWHYL', '4536-PLEQY', '9979-RGMZT', '1421-HCERK', '7409-KIUTL', '4998-IKFSE', '5301-GAUUY', '9168-INPSZ', '3446-QDSZF', '9609-BENEA', '4831-EOBFE', '0336-PIKEI', '8111-RKSPX', '1550-LOAHA', '0264-CNITK', '6036-TTFYU', '3933-DQPWX', '7009-LGECI', '8390-FESFV', '4707-YNOQA', '1334-FJSVR', '2428-ZMCTB', '1409-PHXTF', '9620-ENEJV', '4703-MQYKT', '8450-JOVAH', '7268-WNTCP', '7319-ZNRTR', '8543-MSDMF', '3372-KWFBM', '9885-CSMWE', '4634-JLRJT', '1215-EXRMO', '7321-VGNKU', '6465-GSRCL', '7883-ROJOC', '3472-QPRCH', '6865-JZNKO', '4849-PYRLQ', '7048-GXDAY', '1930-WNXSB', '4548-SDBKE', '5550-VFRLC', '3063-QFSZL', '9715-SBVSU', '0536-ESJEP', '4183-MYFRB', '2123-AGEEN', '9046-JBFWA', '7395-XWZOY', '9053-EJUNL', '0147-ESWWR', '4351-QLCSU', '8218-FFJDS', '1322-AGOQM', '5092-STPKP', '3143-JQEGI', '6897-UUBNU', '3474-BAFSJ', '9776-OJUZI', '7541-YLXCL', '5213-TWWJU', '2957-JIRMN', '6134-KWTBV', '3466-WAESX', '3842-QTGDL', '8847-GEOOQ', '4174-LPGTI', '2242-MFOTG', '8165-CBKXO', '2523-EWWZL', '6825-UYPFK', '7945-HLKEA', '6907-NZZIJ', '7814-LEEVE', '7143-BQIBA', '8481-YYXWG', '7623-TRNQN', '4369-NYSCF', '7115-IRDHS', '6845-RGTYS', '9277-JOOMO', '4538-WNTMJ', '9912-GVSEQ', '6413-XKKPU', '6765-MBQNU', '4128-ETESU', '5269-NRGDP', '0480-KYJVA', '3537-HPKQT', '6728-CZFEI', '8883-GRDWQ', '5135-GRQJV', '2138-VFAPZ', '7607-QKKTJ', '0191-EQUUH', '4024-CSNBY', '9512-PHSMG', '4570-QHXHL', '3976-HXHCE', '0626-QXNGV', '4544-RXFMG', '1955-IBMMB', '8035-BUYVG', '3339-EAQNV', '3413-BMNZE', '7398-LXGYX', '9170-CCKOU', '9699-UBQFS', '7663-CUXZB', '5019-GQVCR', '5174-ITUMV', '9972-EWRJS', '3439-GVUSX', '1032-MAELW', '2482-CZGBB', '3758-CKOQL', '9773-PEQBZ', '2081-KJSQF', '2878-DHMIN', '3376-BMGFE', '0068-FIGTF', '3050-GBUSH', '1237-WIYYZ', '2065-MMKGR', '0378-NHQXU', '0871-URUWO', '2058-DCJBE', '7240-FQLHE', '8512-WIWYV', '2181-UAESM', '8985-OOPOS', '8148-BPLZQ', '4274-OWWYO', '7602-DBTOU', '4957-TREIR', '2208-NQBCT', '2908-WGAXL', '7632-YUTXB', '0947-MUGVO', '6848-HJTXY', '8221-EQDGL', '2506-TNFCO', '6635-CPNUN', '7398-HPYZQ', '6347-DCUIK', '5453-YBTWV', '0142-GVYSN', '6233-HXJMX', '3776-EKTKM', '9814-AOUDH', '3520-FJGCV', '0334-GDDSO', '8901-UPRHR', '3120-FAZKD', '9314-QDMDW', '1360-RCYRT', '8316-BBQAY', '6365-MTGZX', '2003-CKLOR', '4662-EKDPQ', '9039-RBEEE', '6484-LATFU', '8417-FMLZI', '3528-HFRIQ', '3893-JRNFS', '7471-MQPOS', '9944-AEXBM', '2688-BHGOG', '5356-KZCKT', '0835-JKADZ', '8782-NUUOL', '2080-CAZNM', '1169-WCVAK', '2669-OIDSD', '5743-KHMNA', '6619-RPLQZ', '3677-IYRBF', '2200-DSAAL', '7470-MCQTK', '5546-BYZSM', '5093-FEGLU', '7852-LECYP', '5130-IEKQT', '0684-AOSIH', '9259-PACGQ', '2275-RBYQS', '9127-QRZMH', '3074-GQWYX', '1257-SXUXQ', '9239-ZBZZV', '6518-KZXCB', '2969-QWUBZ', '0301-FIDRB', '1833-TCXKK', '9661-JALZV', '4992-LTJNE', '4541-RMRLG', '7337-CINUD', '2235-ZGKPT', '8457-XIGKN', '5371-VYLSX', '1587-FKLZB', '3138-BKYAV', '1697-BCSHV', '4735-BJKOU', '9067-SQTNS', '5399-ZIMKF', '9734-UYXQI', '5442-UTCVD', '2351-BKRZW', '4976-LNFVV', '4231-LZUYM', '7083-YNSKY', '0020-INWCK', '1268-ASBGA', '9833-TGFHX', '8080-POTJR', '1159-WFSGR', '2521-NPUZR', '8606-OEGQZ', '1963-SVUCV', '5995-WWKKG', '7717-BICXI', '4184-TJFAN', '0562-HKHML', '8464-EETCQ', '8203-XJZRC', '6207-WIOLX', '7613-LLQFO', '5025-GOOKI', '4906-ZHGPK', '3488-PGMQJ', '4923-ADWXJ', '0817-HSUSE', '8909-BOLNL', '9786-YWNHU', '8374-UULRV', '1921-KYSAY', '8007-YYPWD', '1591-NFNLQ', '3251-YMVWZ', '4529-CKBCL', '9614-RMGHA', '4835-YSJMR', '0022-TCJCI', '1265-BCFEO', '9373-WSLOY', '5996-NRVXR', '1552-TKMXS', '5405-ZMYXQ', '2990-OGYTD', '2144-ESWKO', '3097-FQTVJ', '4465-VDKIQ', '2990-IAJSV', '4612-THJBS', '5802-ADBRC', '2123-VSCOT', '3956-MGXOG', '0356-OBMAC', '4003-FUSHP', '9753-OYLBX', '8975-SKGRX', '2754-SDJRD', '4633-MKHYU', '6427-FEFIG', '4717-GHADL', '3426-NIYYL', '4860-YZGZM', '5423-BHIXO', '0707-HOVVN', '7665-TOALD', '5311-IHLEI', '2863-IMQDR', '4123-DVHPH', '9565-DJPIB', '1501-SGHBW', '5730-DBDSI', '9600-NAXZN', '2604-XVDAM', '1352-VHKAJ', '4257-GAESD', '7206-GZCDC', '1212-GLHMD', '8957-THMOA', '5419-KLXBN', '1139-WUOAH', '0895-UADGO', '7025-WCBNE', '0374-AACSZ', '8200-LGKSR', '3253-HKOKL', '4614-NUVZD', '6956-SMUCM', '8080-DDEMJ', '4723-BEGSG', '1465-LNTLJ', '5493-SDRDQ', '8050-WYBND', '7765-LWVVH', '5446-DKWYW', '0603-TPMIB', '9033-EOXWV', '9258-CNWAC', '6103-BOCOU', '1022-RKXDR', '6892-XPFPU', '2282-YGNOR', '4361-JEIVL', '2400-FEQME', '3920-HIHMQ', '2692-PFYTJ', '0196-JTUQI', '0795-XCCTE', '2027-WKXMW', '5973-EJGDP', '4616-ULAOA', '4872-VXRIL', '6142-VSJQO', '7760-OYPDY', '8874-EJNSR', '5642-MHDQT', '4318-RAJVY', '8215-NGSPE', '8837-VVWLQ', '7399-QHBJS', '1899-VXWXM', '9777-IQHWP', '1444-VVSGW', '0023-HGHWL', '1661-CZBAU', '6814-ZPWFQ', '1522-VVDMG', '6645-MXQJT', '4847-QNOKA', '9351-HXDMR', '0440-UEDAI', '1226-UDFZR', '4815-YOSUK', '4770-UEZOX', '0114-RSRRW', '4482-FTFFX', '5985-BEHZK', '4139-SUGLD', '8565-HBFNN', '5216-WASFJ', '5998-VVEJY', '8988-ECPJR', '0174-QRVVY', '5740-YHGTW', '0188-GWFLE', '4929-XIHVW', '8800-ZKRFW', '7317-GGVPB', '2826-DXLQO', '4016-BJKTZ', '6463-MVYRY', '3976-BWUCK', '6038-GCYEC', '6583-SZVGP', '6203-HBZPA', '6563-VRERX', '0376-YMCJC', '8263-OKETD', '4690-PKDQG', '6586-MYGKD', '5334-JLAXU', '6445-TNRXS', '8515-OCTJS', '2985-FMWYF', '5887-IKKYO', '1429-UYJSV', '3714-NTNFO', '2977-CEBSX', '5014-GSOUQ', '2842-JTCCU', '8107-RZLNV', '9746-UGFAC', '5393-HJZSM', '1401-FTHFQ', '8008-HAWED', '0135-NMXAP', '7301-ABVAD', '1057-FOGLZ', '4795-UXVCJ', '5043-TRZWM', '9172-JITSM', '9799-CAYJJ', '8949-JTMAY', '5756-OZRIO', '0831-JNISG', '5453-AXEPF', '5795-KTGUD', '8663-UPDGF', '8070-AAWZP', '6599-CEBNN', '1219-NNDDO', '6152-ONASV', '5840-NVDCG', '0665-XHDJU', '0235-KGSLC', '4323-ELYYB', '0516-QREYC', '4826-XTSOH', '2896-TBNBE', '9093-FPDLG', '4554-YGZIH', '6439-GTPCA', '8143-ETQTI', '7234-FECYN', '1850-AKQEP', '1000-AJSLD', '3130-ICDUP', '1261-FWTTE', '1371-DWPAZ', '6769-DCQLI', '4418-LZMSV', '1047-RNXZV', '2959-EEXWB', '7129-ACFOG', '5049-GLYVG', '7469-LKBCI', '8189-HBVRW', '9112-WSNPU', '4086-ATNFV', '8972-HJWNV', '8461-EFQYM', '6762-QVYJO', '1977-STDKI', '8775-CEBBJ', '0486-LGCCH', '2519-TWKFS', '6244-BESBM', '6839-ITVZJ', '4355-CVPVS', '5469-CTCWN', '2919-HBCJO', '8780-IHCRN', '8699-ASUFO', '4840-ORQXB', '6017-PPLPX', '4395-PZMSN', '3275-RHRNE', '6557-BZXLQ', '0943-ZQPXH', '6400-BWQKW', '1541-ETJZO', '1548-FEHVL', '2676-SSLTO', '3794-NFNCH', '2719-BDAQO', '5678-VFNEQ', '6253-WRFHY', '8745-PVESG', '0804-XBFBV', '1877-HKBQX', '6651-AZVTJ', '6458-CYIDZ', '1028-FFNJK', '3740-RLMVT', '9860-LISIZ', '9788-YTFGE', '9139-TWBAS', '0187-QSXOE', '1241-FPMOF', '0406-BPDVR', '8548-AWOFC', '0207-MDKNV', '4056-QHXHZ', '2656-TABEH', '3012-VFFMN', '3571-RFHAR', '4445-KWOKW', '7860-KSUGX', '9028-LIHRP', '2675-IJRGJ', '0618-XWMSS', '5465-BUBFA', '3359-DSRKA', '5996-DAOQL', '1258-YMZNM', '4654-DLAMQ', '0980-FEXWF', '9391-EOYLI', '5196-WPYOW', '0496-AHOOK', '7969-FFOWG', '3807-XHCJH', '6651-RLGGM', '3653-NCRDJ', '3259-QMXUN', '4522-XRWWI', '2632-IVXVF', '9554-DFKIC', '0067-DKWBL', '3981-QSVQI', '0813-TAXXS', '3858-XHYJO', '4741-WWJQZ', '0048-LUMLS', '7245-NIIWQ', '0269-XFESX', '7129-CAKJW', '6689-KXGBO', '8305-VHZBZ', '2014-MKGMH', '5115-GZDEL', '8250-ZNGGW', '2592-YKDIF', '4879-GZLFH', '4719-UMSIY', '9824-BEMCV', '0489-WMEMG', '7426-GSWPO', '5018-GWURO', '4525-VZCZG', '8685-WHQPW', '2043-WVTQJ', '2725-IWWBA', '3982-DQLUS', '0928-XUTSN', '9861-PDSZP', '1216-JWVUX', '8242-JSVBO', '9770-LXDBK', '4806-KEXQR', '8882-TLVRW', '6872-HXFNF', '5959-BELXA', '1696-HXOWK', '5321-NTRKC', '7103-IPXPJ', '4013-UBXWQ', '7109-MFBYV', '2868-LLSKM', '4210-QFJMF', '6286-ZHAOK', '8395-ETZKQ', '1956-YIFGE', '3769-MHZNV', '2030-BTZRO', '4234-XTNEA', '4816-LXZYW', '2860-RANUS', '8338-QIUNR', '0440-QEXBZ', '4713-ZBURT', '0794-YVSGE', '5843-TTHGI', '7586-ZATGZ', '6394-HHHZM', '9734-YWGEX', '7459-IMVYU', '7302-ZHMHP', '7294-TMAOP', '5260-UMPWX', '4317-VTEOA', '4369-HTUIF', '2706-QZIHY', '4872-JCVCA', '1264-BYWMS', '5832-TRLPB', '2501-XWWTZ', '2081-VEYEH', '9350-ZXYJC', '3058-HJCUY', '1934-SJVJK', '3877-JRJIP', '0947-IDHRQ', '4081-DYXAV', '2359-QWQUL', '2100-BDNSN', '3948-FVVRP', '4415-WNGVR', '3442-ZHHCC', '7483-IQWIB', '4950-BDEUX', '7668-XCFYV', '4713-LZDRV', '7683-CBDKJ', '0019-EFAEP', '2862-JVEOY', '5696-JVVQY', '6339-DKLMK', '3556-BVQGL', '1391-UBDAR', '6137-MFAJN', '8167-GJLRN', '7892-QVYKW', '7776-QGYJC', '8845-LWKGE', '0930-EHUZA', '7874-ECPQJ', '2252-NKNSI', '4227-OJHAL', '8182-PNAGI', '1710-RCXUS', '7905-NJMXS', '8109-YUOHE', '5482-VXSXJ', '8309-PPCED', '6116-RFVHN', '7028-DVOIQ', '6615-ZGEDR', '7562-UXTPG', '9066-QRSDU', '3996-ZNWYK', '3259-KNMRR', '3158-MOERK', '8679-LZBMD', '8224-UAXBZ', '0697-ZMSWS', '8627-EHGIP', '0822-QGCXA', '2672-DZUOY', '7041-TXQJH', '2770-NSVDG', '2907-ILJBN', '5712-VBOXD', '7284-BUYEC', '2969-WGHQO', '7153-OANIO', '1875-QIVME', '8232-CTLKO', '7305-ZWMAJ', '4088-YLDSU', '3967-KXAPS', '5693-PIPCS', '0277-BKSQP', '2207-OBZNX', '6257-DTAYD', '2887-JPYLU', '3298-QEICA', '7998-WNZEM', '3774-VBNXY', '4576-CSAJH', '1573-LGXBA', '8532-UEFWH', '1591-MQJTP', '3902-MIVLE', '8562-GHPPI', '0505-SPOOW', '5156-UMKOW', '7924-GJZFI', '4140-MUHUG', '2636-ALXXZ', '5561-NWEVX', '7825-ECJRF', '3915-ODIYG', '7191-ADRGF', '3384-CTMSF', '2072-ZVJJX', '8908-SLFCJ', '5590-ZSKRV', '0748-RDGGM', '2056-EVGZL', '4310-KEDTB', '6379-RXJRQ', '5060-TQUQN', '5331-RGMTT', '1925-GMVBW', '9743-DQKQW', '9572-WUKSB', '7318-EIVKO', '6171-ZTVYB', '8993-PHFWD', '8999-BOHSE', '4526-RMTLL', '0909-SELIE', '1518-VOWAV', '4827-USJHP', '8356-WUAOJ', '8212-DJRCH', '5512-IDZEI', '9152-AMKAK', '6549-YMFAW', '2080-SRCDE', '4291-TPNFG', '2696-RZVZW', '7799-DSEWS', '6496-SLWHQ', '5985-TBABQ', '8375-KVTHK', '5684-FJVYR', '5268-DSMNQ', '9700-ISPUP', '1010-DIAUQ', '9220-ZNKJI', '1744-JHKYS', '9581-GVBXT', '7341-LXCAF', '2446-PLQVO', '0917-EZOLA', '9825-YCXWZ', '6507-DTJZV', '7526-BEZQB', '7554-NEWDD', '3908-BLSYF', '6023-YEBUP', '9135-HSWOC', '3059-NGMXB', '1432-FPAXX', '6924-TDGMT', '6121-TNHBO', '6585-WCEWR', '2924-KHUVI', '2683-BPJSO', '0674-DGMAQ', '7156-MXBJE', '1866-OBPNR', '8752-STIVR', '6522-YRBXD', '8076-FEZKJ', '1329-VHWNP', '6794-HKIAJ', '9048-JVYVF', '7727-SHVZV', '3258-SYSWS', '8967-SZQAS', '8194-PEEBY', '3315-TOTBP', '2665-NPTGL', '4828-FAZPK', '4505-EXZHB', '2236-HILPA', '1272-ILHFG', '3657-COGMW', '4350-ZTLPI', '6551-VLJMV', '1891-QRQSA', '3523-QRQLL', '1790-NESIO', '2359-KMGLI', '3764-MNMOI', '6082-OQFBA', '4118-CEVPF', '0248-IPDFW', '1337-BOZWO', '0311-UNPFF', '7611-YKYTC', '2061-VVFST', '5686-CMAWK', '7247-XOZPB', '3662-FXJFO', '6061-PQHMK', '2805-EDJPQ', '8779-QRDMV', '7445-WMRBW', '4378-BZYFP', '2208-UGTGR', '7673-BQGKU', '0423-UDIJQ', '4628-CTTLA', '5976-JCJRH', '0519-XUZJU', '8474-UMLNT', '0308-GIQJT', '4412-YLTKF', '1062-LHZOD', '6469-MRVET', '8946-BFWSG', '4925-LMHOK', '8713-IGZSO', '0310-SUCIN', '9965-YOKZB', '8958-JPTRR', '1932-UEDCX', '5944-UGLLK', '7602-MVRMB', '3453-RTHJQ', '0567-GGCAC', '2384-OVPSA', '9450-TRJUU', '6986-IJDHX', '8590-OHDIW', '9415-ZNBSX', '4854-SSLTN', '1697-LYYYX', '2027-DNKIV', '3346-BRMIS', '5445-PZWGX', '0847-HGRML', '3331-HQDTW', '2990-HWIML', '8261-GWDBQ', '8469-SNFFH', '7486-KSRVI', '1941-HOSAM', '8917-SZTTJ', '4510-HIMLV', '6485-QXWWE', '4826-TZEVA', '1867-TJHTS', '8634-CILSZ', '3957-SQXML', '4912-PIGUY', '1307-TVUFB', '4626-GYCZP', '4273-MBHYA', '5520-FVEWJ', '6394-MFYNG', '9139-WQQDY', '8051-HJRLT', '0895-LMRSF', '8000-REIQB', '2189-WWOEW', '1241-EZFMJ', '1707-HABPF', '8241-JUIQO', '8265-HKSOW', '5777-KJIRB', '1498-DQNRX', '7079-QRCBC', '7508-DQAKK', '3847-BAERP', '2484-DGXPZ', '7134-MJPDY', '5811-IWXYM', '5626-MGTUK', '8060-HIWJJ', '5685-IIXLY', '9227-UAQFT', '3003-CMDUU', '1131-SUEKT', '8875-AKBYH', '8268-YDIXR', '8751-EDEKA', '9548-LERKT', '9971-ZWPBF', '4501-VCPFK', '8849-GYOKR', '7503-QQRVF', '7274-CGTOD', '2786-GCDPI', '4704-ERYFC', '8614-VGMMV', '6390-DSAZX', '1641-BYBTK', '6137-NICCO', '2748-MYRVK', '9820-RMCQV', '3627-FCRDW', '1548-ARAGG', '3173-WSSUE', '4059-IIEBK', '3148-BLQJT', '3441-CGZJH', '4833-QTJNO', '0595-ITUDF', '9076-AXYIK', '3186-AJIEK', '5751-USDBL', '9560-BBZXK', '3144-KMTWZ', '0963-ZBDRN', '1038-ZAGBI', '8590-YFFQO', '7089-IVVAZ', '7359-WWYJV', '7579-OOPEC', '9897-KXHCM', '6862-CQUMB', '4891-NLUBA', '9862-KJTYK', '5016-IBERQ', '8204-YJCLA', '0432-CAJZV', '7998-ZLXWN', '1299-AURJA', '6976-BWGLQ', '0621-HJWXJ', '3295-YVUSR', '7325-ENZFI', '2958-NHPPS', '1133-KXCGE', '5198-EFNBM', '4514-GFCFI', '4547-KQRTM', '1803-BGNBD', '1194-SPVSP', '1036-GUDCL', '5286-YHCVC', '7054-DMVAS', '6752-APNJL', '7061-OVMIM', '0017-DINOC', '2642-MAWLJ', '7030-NJVDP', '4500-HKANN', '1555-HAPSU', '1985-MBRYP', '3583-KRKMD', '6603-YRDCJ', '7321-ZNSLA', '8707-HOEDG', '8974-OVACP', '1323-OOEPC', '5562-BETPV', '1963-VAUKV', '1791-PQHBB', '2455-USLMV', '6769-DYBQN', '9494-BDNNC', '4114-QMKVN', '0282-NVSJS', '6097-EQISJ', '5067-DGXLL', '0909-SDHNU', '1135-LMECX', '0311-QYWSS', '2087-QAREY', '6892-BOGQE', '7311-MQJCH', '0699-NDKJM', '5312-IRCFR', '2882-DDZPG', '4013-TLDHQ', '3509-GWQGF', '9426-SXNHE', '5712-AHQNN', '3973-SKMLN', '7032-LMBHI', '5047-LHVLY', '3523-BRGUW', '2103-ZRXFN', '8325-QRPZR', '6538-POCHL', '6419-ZTTLE', '5447-WZAFP', '2019-HDCZY', '7740-BTPUX', '6322-HRPFA', '2157-MXBJS', '9480-BQJEI', '8398-TBIYD', '1320-REHCS', '7776-QWNFX', '3005-NFMTA', '7665-VIGUD', '8708-XPXHZ', '3049-SOLAY', '2013-SGDXK', '2516-XSJKX', '3389-YGYAI', '6851-WEFYX', '2607-FBDFF', '5073-WXOYN', '9725-SCPZG', '5481-NTDOH', '6284-AHOOQ', '6114-TCFID', '6345-FZOQH', '4892-VLANZ', '6175-IRFIT', '7801-CEDNV', '2296-DKZFP', '8152-VETUR', '1353-GHZOS', '0668-OGMHD', '3589-PPVKW', '7851-WZEKY', '0328-GRPMV', '4851-BQDNX', '6718-BDGHG', '1792-UXAFY', '6732-VAILE', '5242-UOWHD', '9822-OAOVB', '1698-XFZCI', '7544-ZVIKX', '4282-MSACW', '7850-VWJUU', '1725-IQNIY', '4832-VRBMR', '3629-ZNKXA', '0032-PGELS', '0743-HNPFG', '0877-SDMBN', '7905-TVXTA', '1839-FBNFR', '3566-CAAYU', '3096-WPXBT', '3050-RLLXC', '2187-LZGPL', '8561-NMTBD', '1754-GKYPY', '9214-EKVXR', '7480-QNVZJ', '7880-XSOJX', '4983-CLMLV', '1360-XFJMR', '7153-CHRBV', '4121-AGSIN', '7787-BNTZM', '1976-CFOCS', '9885-AIBVB', '9526-BIHHD', '0394-YONDK', '6661-HBGWL', '3694-DELSO', '7016-BPGEU', '7746-QYVCO', '4767-HZZHQ', '7853-GVUDZ', '9229-RQABD', '8010-EZLOU', '1895-QTKDO', '0295-PPHDO', '1575-KRZZE', '0750-EKNGL', '4160-AMJTL', '4587-NUKOX', '7644-OMVMY', '4531-AUZNK', '1173-XZPYF', '1918-ZBFQJ', '3077-RSNTJ', '5651-CPDND', '5149-TGWDZ', '3351-NQLDI', '3689-MOZGR', '2674-MIAHT', '5854-KSRBJ', '2858-MOFSQ', '4803-LBYPN', '9036-CSKBW', '2573-GYRUU', '5875-YPQFJ', '8029-XYPWT', '5960-WPXQM', '5327-XOKKY', '5766-FTRTS', '7820-ZYGNY', '8970-ANWXO', '9436-ZBZCT', '3565-UNOCC', '6439-LAJXL', '5197-LQXXH', '2884-GBPFB', '1024-KPRBB', '0516-OOHAR', '0979-PHULV', '0302-JOIVN', '2609-IAICY', '5236-PERKL', '0365-GXEZS', '8659-HDIYE', '3170-NMYVV', '8659-IOOPU', '3427-GGZZI', '1834-WULEG', '7005-CYUIL', '7404-JLKQG', '0617-FHSGK', '0485-ZBSLN', '2498-XLDZR', '2037-SGXHH', '3181-VTHOE', '8584-KMVXD', '1167-OYZJF', '7569-NMZYQ', '0575-CUQOV', '9469-WEJBT', '4830-FAXFM', '6166-YIPFO', '3644-QXEHN', '4137-JOPHL', '8040-MNRTF', '3721-WKIIL', '2193-SFWQW', '9522-BNTHX', '3407-QGWLG', '2840-XANRC', '6614-YOLAC', '5442-BXVND', '2626-URJFX', '8272-ONJLV', '9793-WECQC', '9842-EFSYY', '6308-CQRBU', '4701-LKOZD', '7783-YKGDV', '5129-JLPIS', '6196-HBOBZ', '7365-BVCJH', '1178-PZGAB', '0587-DMGBH', '4936-YPJNK', '9142-KZXOP', '8603-IJWDN', '1101-SSWAG', '0529-ONKER', '4018-KJYUY', '6317-YPKDH', '1338-CECEE', '4827-DPADN', '9796-MVYXX', '3312-ZWLGF', '2229-VWQJH', '3021-VLNRJ', '3717-FDJFU', '1984-FCOWB', '0481-SUMCB', '5872-OEQNH', '5443-SCMKX', '6892-EZDTG', '4083-EUGRJ', '3635-QQRQD', '6595-COKXZ', '9710-NJERN', '3398-ZOUAA', '1084-MNSMJ', '7853-OETYL', '2452-MRMZF', '7927-AUXBZ', '5429-LWCMV', '7130-VTEWQ', '0002-ORFBO', '8565-WUXZU', '7375-WMVMT', '4774-HHGGS', '2034-CGRHZ', '6786-OBWQR', '8207-VVMYB', '8908-NMQTX', '5143-WMWOG', '8065-YKXKD', '8043-PNYSD', '4433-JCGCG', '7356-AYNJP', '6543-XRMYR', '5940-AHUHD', '7996-BPXHY', '8944-AILEF', '5993-BQHEA', '3850-OKINF', '6927-WTFIV', '4191-XOVOM', '5494-HECPR', '3570-YUEKJ', '0415-MOSGF', '9932-WBWIK', '4003-OCTMP', '5697-GOMBF', '3470-BTGQO', '5044-LRQAQ', '5108-ADXWO', '1439-LCGVL', '2504-DSHIH', '9309-BZGNT', '6719-OXYBR', '2516-VQRRV', '0396-HUJBP', '5849-ASHZJ', '4763-PGDPO', '0254-FNMCI', '5392-AKEMH', '1170-SASML', '8619-IJNDK', '7030-FZTFM', '7488-MXJIV', '4565-EVZMJ', '9257-AZMTZ', '2722-JMONI', '7754-IXRMC', '4355-HBJHH', '5208-HFSBT', '2856-HYAPG', '0780-XNZFN', '6060-QBMGV', '9837-FWLCH', '9589-ABEPT', '4323-OHFOW', '9367-OIUXP', '2996-XAUVF', '2696-NARTR', '8091-TTVAX', '1285-OKIPP', '8097-OMULG', '4700-UBQMV', '7633-MVPUY', '9057-MSWCO', '9708-KFDBY', '4778-IZARL', '0556-FJEGU', '0396-YCHWO', '8824-RWFXJ', '9717-IOAAF', '2789-HQBOU', '1685-BQULA', '8219-VYBVI', '3707-GNWHM', '1394-SUIUH', '1345-GKDZZ', '5889-LFOLL', '4183-WCSEP', '0810-BDHAW', '7786-WBJYI', '3669-WHAFY', '0655-YDGFJ', '9031-ZVQPT', '0141-YEAYS', '3470-OBUET', '5193-QLVZB', '9220-CXRSC', '6265-FRMTQ', '4622-YNKIJ', '2212-LYASK', '5057-RKGLH', '7571-YXDAD', '3524-WQDSG', '3055-VTCGS', '5510-BOIUJ', '1534-OULXE', '4135-FRWKJ', '0404-SWRVG', '9866-QEVEE', '0410-IPFTY', '3841-NFECX', '3282-ZISZV', '9926-PJHDQ', '0811-GSDTP', '3733-ZEECP', '5442-XSDCW', '8313-AFGBW', '8430-TWCBX', '5318-IXUZF', '3978-YNKDD', '6952-OMNWB', '9251-AWQGT', '5614-DNZCE', '0916-QOFDP', '4981-FLTMF', '0366-NQSHS', '0565-IYCGT', '7868-TMWMZ', '9691-HKOVS', '6479-OAUSD', '3521-MNKLV', '7140-ADSMJ', '8456-QDAVC', '9851-QXEEQ', '9019-QVLZD', '2778-OCLGR', '7542-CYDDM', '3244-DCJWY', '3926-YZVVX', '2239-CFOUJ', '7750-EYXWZ', '6906-MPARY', '6202-DYYFX', '3022-BEXHZ', '8884-ADFVN', '8587-XYZSF', '1785-BPHTP', '5671-UUNXD', '4565-NLZBV', '2308-STERM', '7473-ZBDSN', '0670-KDOMA', '9378-FXTIZ', '1626-ERCMM', '4301-VVZKA', '5701-GUXDC', '2219-MVUSO', '2892-GESUL', '3716-UVSPD', '0219-QAERP', '4226-KKDON', '4080-IIARD', '9411-TPQQV', '7205-BAIAD', '4441-NIHPT', '7691-XVTZH', '2040-VZIKE', '0263-FJTQO', '2082-CEFLT', '1092-GANHU', '8100-PNJMH', '2925-MXLSX', '5296-BFCYD', '9003-CPATH', '7239-HZZCX', '6728-DKUCO', '9831-BPFRI', '8495-LJDFO', '4933-IKULF', '3855-ONCAR', '4237-CLSMM', '9424-CMPOG', '7658-UYUQS', '3043-TYBNO', '7233-DRTRF', '1469-LBJQJ', '2373-NTKOD', '8205-OTCHB', '7036-ZZKBD', '9617-INGJY', '0841-NULXI', '1215-FIGMP', '9812-GHVRI', '2192-OZITF', '4893-GYUJU', '7593-XFKDI', '5380-XPJNZ', '0927-LCSMG', '0206-TBWLC', '5696-QURRL', '7515-LODFU', '0623-GDISB', '2439-QKJUL', '6766-HFKLA', '0347-UBKUZ', '3612-YVGSJ', '4682-BLBUC', '5312-TSZVC', '2889-FPWRM', '8495-PRWFH', '4349-GFQHK', '5668-MEISB', '1436-ZMJAN', '3132-TVFDZ', '6682-QJDGB', '6217-TOWGS', '1657-DYMBM', '7551-DACSP', '9483-GCPWE', '6710-HSJRD', '5555-RNPGT', '2558-BUOZZ', '3487-EARAT', '2519-LBNQL', '4701-MLJPN', '4419-UJMUS', '9249-FXSCK', '8915-NNTRC', '8082-GHXOP', '0691-IFBQW', '8672-OAUPW', '4795-WRNVT', '6599-RCLCJ', '6502-KUGLL', '0258-NOKBL', '1663-MHLHE', '4581-SSPWD', '5386-THSLQ', '8259-DZLIZ', '1794-SWWKL', '7064-FRRSW', '7693-LCKZL', '8184-WMOFI', '6297-NOOPG', '6108-OQZDQ', '9732-EQMWY', '9705-IOVQQ', '6103-LIANB', '9392-XBGTD', '3034-ZBEQN', '1557-EMYVT', '0899-WZRSD', '8735-NBLWT', '7672-VFMXZ', '0637-YLETY', '6473-ULUHT', '9878-TNQGW', '5630-IXDXV', '2279-AXJJK', '2139-FQHLM', '3162-ZJZFU', '4789-KWMXN', '4718-DHSMV', '5360-XGYAZ', '7531-GQHME', '8067-NIOYM', '2293-IJWPS', '4307-KTUMW', '4911-BANWH', '9237-HQITU', '2495-KZNFB', '5127-BZENZ', '7771-CFQRQ', '7564-GHCVB', '8404-FYDIB', '8100-HZZLJ', '3174-AKMAS', '0471-ARVMX', '1965-DDBWU', '3161-ONRWK', '1194-BHJYC', '5899-OUVKV', '7010-ZMVBF', '8318-LCNBW', '2187-PKZAY', '5850-BDWCY', '3500-NSDOA', '8739-QOTTN', '3148-AOIQT', '7103-ZGVNT', '5192-EBGOV', '9110-HSGTV', '0218-QNVAS', '4159-NAAIX', '0455-ENTCR', '4567-AKPIA', '6323-AYBRX', '0868-VJRDR', '3092-IGHWF', '3096-GKWEB', '1907-UBQFC', '2189-UXTKY', '8792-AOROI', '0106-GHRQR', '2931-VUVJN', '4374-YMUSQ', '3404-JNXAX', '6103-QCKFX', '4589-IUAJB', '1565-RHDJD', '7690-KPNCU', '4884-ZTHVF', '4343-EJVQB', '9747-DDZOS', '4489-SNOJF', '3703-KBKZP', '3137-LUPIX', '7619-ODSGN', '0946-CLJTI', '5207-PLSTK', '6345-ULYRW', '7634-WSWDB', '9903-LYSAB', '7225-IILWY', '9972-NKTFD', '7326-RIGQZ', '0380-NEAVX', '3865-ZYKAD', '6339-YPSAH', '8822-KNBHV', '6457-USBER', '0739-UUAJR', '5027-XWQHA', '6849-OYAMU', '9442-JTWDL', '0550-DCXLH', '0675-NCDYU', '2703-AMTUL', '6100-FJZDG', '7826-VVKWT', '4915-BFSXL', '3237-AJGEH', '1731-TVIUK', '6519-ZHPXP', '7306-YDSOI', '2969-VAPYH', '3955-JBZZM', '1682-VCOIO', '4365-MSDYN', '4929-ROART', '7157-SMCFK', '8089-UZWLX', '3071-MVJCD', '5229-DTFYB', '6051-PTVNS', '3108-PCCGG', '2675-OTVVJ', '1763-KUAAW', '8617-ENBDS', '6719-FGEDO', '7636-PEPNS', '1755-RMCXH', '5146-YYFRZ', '6692-YQHXC', '0515-YPMCW', '8331-ZXFOE', '3811-VBYBZ', '9638-JIQYA', '8903-XEBGX', '7181-OQCUT', '5956-YHHRX', '1406-PUQVY', '6331-EWIEB', '5859-HZYLF', '9631-RXVJM', '9518-RWHZL', '5028-GZLDO', '9819-FBNSV', '9102-IAYHT', '1346-UFHAX', '8887-IPQNC', '1373-ORVIZ', '0744-BIKKF', '5419-JPRRN', '1282-IHQAC', '5495-GPSRW', '3352-RICWQ', '2245-ADZFJ', '1384-RCUXW', '9804-ICWBG', '3027-YNWZU', '5124-EOGYE', '9675-ICXCT', '8687-BAFGU', '7816-VGHTO', '6840-RESVB', '4817-QRJSX', '4000-VGMQP', '3913-FCUUW', '9282-IZGQK', '1459-QNFQT', '2393-DIVAI', '3766-EJLFL', '5067-XJQFU', '2819-GWENI', '9391-LMANN', '7762-ONLJY', '1544-JJMYL', '6701-YVNQG', '4495-LHSSK', '6064-ZATLR', '7363-QTBIW', '6339-RZCBJ', '3090-QFUVD', '6827-IEAUQ', '9058-MJLZC', '7330-WZLNC', '0303-UNCIP', '2586-CWXVV', '8735-IJJEG', '7322-OCWHC', '7472-EQOAV', '3519-ZKXGG', '7131-ZQZNK', '9233-PSYHO', '2692-BUCFV', '2075-PUEPR', '1848-LBZHY', '2408-TZMJL', '8023-QHAIO', '8087-LGYHQ', '2962-XPMCQ', '0106-UGRDO', '9578-VRMNM', '4631-OACRM', '3982-JGSFD', '7823-JSOAG', '4111-BNXIF', '7130-CTCUS', '8757-TFHHJ', '4822-YCXMX', '4086-YQSNZ', '3763-GCZHZ', '1926-QUZNN', '2038-YSEZE', '0689-NKYLF', '7120-RFMVS', '1866-RZZQS', '2129-ALKBS', '0224-NIJLP', '8205-MQUGY', '1215-VFYVK', '8818-DOPVL', '1442-OKRJE', '9124-LHCJQ', '2904-GGUAZ', '0471-LVHGK', '1325-USMEC', '5337-IIWKZ', '0229-LFJAF', '4476-OSWTN', '6624-JDRDS', '6377-KSLXC', '3070-FNFZQ', '8910-ICHIU', '5329-KRDTM', '1074-AMIOH', '0639-TSIQW', '3985-HOYPM', '1087-GRUYI', '4896-CPRPF', '4588-YBNIB', '8644-XLFBW', '0305-SQECB', '5236-XMZJY', '2982-VPSGI', '1386-ZIKUV', '1845-ZLLIG', '1830-GGFNM', '0836-SEYLU', '5501-TVMGM', '6967-PEJLL', '1550-EENBN', '4291-HYEBC', '4801-JZAZL', '1116-DXXDF', '6815-ABQFQ', '2481-SBOYW', '3084-DOWLE', '6543-CPZMK', '6813-GZQCG', '3842-IYKUE', '8755-OGKNA', '7110-BDTWG', '6022-UGGSO', '1360-JYXKQ', '6372-RFVNS', '5077-DXTCG', '2947-DOMLJ', '4190-MFLUW', '9297-FVVDH', '9975-SKRNR', '2040-XBAVJ', '2276-YDAVZ', '0257-ZESQC', '2925-VDZHY', '4424-TKOPW', '9330-DHBFL', '9659-ZTWSM', '1536-HBSWP', '3365-SAIGS', '4063-EIKNQ', '3638-WEABW', '4280-DLSHD', '1455-HFBXA', '2983-ZANRP', '9588-OZDMQ', '6551-ZCOTS', '6188-UXBBR', '1428-IEDPR', '4942-VZZOM', '6746-WAUWT', '1125-SNVCK', '5793-YOLJN', '9570-KYEUA', '4431-EDMIQ', '4432-ADRLB', '1122-JWTJW', '9526-JAWYF', '2668-TZSPS', '0637-KVDLV', '9555-SAHUZ', '1309-BXVOQ', '1196-AMORA', '5848-FHRFC', '9848-JQJTX', '4163-HFTUK', '3090-LETTY', '5655-JSMZM', '0422-UXFAP', '5575-GNVDE', '5197-PYEPU', '6726-NNFWD', '8042-RNLKO', '9430-FRQOC', '9837-BMCLM', '1460-UZPRJ', '8099-MZPUJ', '4807-IZYOZ', '4518-FZBSX', '6478-HRRCZ', '1689-YQBYY', '7501-IWUNG', '6513-EECDB', '3422-WJOYD', '1293-BSEUN', '9643-AVVWI', '8563-IIOXK', '1183-CANVH', '8123-QBNAZ', '1689-MRZQR', '9824-QCJPK', '7617-EYGLW', '8947-YRTDV', '7504-UWHNB', '2690-DVRVK', '6397-JNZZG', '2959-FENLU', '2587-YNLES', '6416-YJTTB', '3580-GICBM', '7312-XSBAT', '0531-XBKMM', '4023-RTIQM', '6688-UZPWD', '9541-PWTWO', '9289-LBQVU', '0723-VSOBE', '0112-QWPNC', '0820-FNRNX', '6447-EGDIV', '0504-HHAPI', '9714-EDSUC', '3999-WRNGR', '9518-IMLHK', '5119-KEPFY', '9286-DOJGF', '7901-TBKJX', '7147-AYBAA', '6221-AVQYL', '1334-PDUKM', '7196-LIWRH', '8161-QYMTT', '6223-DHJGV', '5598-IKHQQ', '6435-VWCCY', '5609-IMCGG', '1400-WIVLL', '1395-OFUWC', '0567-XRHCU', '5627-TVBPP', '6115-ZTBFQ', '2045-BMBTJ', '1025-FALIX', '9090-SGQXL', '3812-LRZIR', '0409-WTMPL', '9150-KPBJQ', '2195-VVRJF', '2898-MRKPI', '0356-ERHVT', '7932-WPTDS', '2369-UAPKZ', '2737-WFVYW', '5844-QVTAT', '7530-HDYDS', '3217-FZDMN', '8232-UTFOZ', '2209-XADXF', '0576-WNXXC', '0869-PAPRP', '6576-FBXOJ', '6048-QBXKL', '9863-JZAIC', '0377-JBKKT', '5119-NZPTV', '6963-EZQEE', '0506-YLVKJ', '4692-NNQRU', '3571-DPYUH', '9508-ILZDG', '3420-YJLQT', '5572-ZDXHY', '1642-HMARX', '4001-TSBTV', '6821-BUXUX', '2673-CXQEU', '2325-WINES', '9639-BUJXT', '3162-KKZXO', '1073-XXCZD', '0016-QLJIS', '5727-MYATE', '0278-YXOOG', '0230-UBYPQ', '7011-CVEUC', '1699-TLDLZ', '3027-ZTDHO', '3594-BDSOA', '8677-HDZEE', '4547-FZJWE', '0254-WWRKD', '1928-BXYIV', '0867-LDTTC', '3190-ITQXP', '9389-ACWBI', '1157-BQCUW', '7526-IVLYU', '0812-WUPTB', '2937-FTHUR', '7968-QUXNS', '1094-BKOSX', '6158-HDPXZ', '7673-LPRNY', '4625-XMOYM', '4192-GORJT', '3908-MKIMJ', '1353-LJWEM', '0784-ZQJZX', '4652-NNHNY', '7359-SSBJK', '1618-CFHME', '5141-ZUVBH', '4163-NCJAK', '7670-ZBPOQ', '9103-TCIHJ', '6804-GDMOI', '8336-TAVKX', '9058-HRZSV', '4391-LNRXK', '8079-XRJRS', '6283-GITPX', '0883-EIBTI', '1060-ENTOF', '4685-TFLLS', '9501-UKKNL', '5600-KTXFM', '2027-FECZV', '0021-IKXGC', '4134-BSXLX', '9101-NTIXF', '2403-BCASL', '9626-VFRGG', '6258-NGCNG', '5091-HFAZW', '1455-UGQVH', '3675-EQOZA', '1866-ZSLJM', '1208-NBVFH', '4797-MIWUM', '2535-PBCGC', '4012-YCFAI', '8564-LDKFL', '3550-SAHFP', '1625-JAIIY', '5791-KAJFD', '6683-VLCTZ', '8646-JCOMS', '5206-HPJKM', '9530-GRMJG', '8859-YSTWS', '1017-FBQMM', '4623-ZKHLY', '9084-OAYKL', '2180-DXNEG', '4195-SMMNX', '8454-AATJP', '3572-UUHRS', '5183-KLYEM', '8108-UXRQN', '5855-EIBDE', '9830-ECLEN', '7426-RHZGU', '3635-JBPSG', '4248-HCETZ', '9305-CDSKC', '8201-AAXCB', '6821-JPCDC', '8707-RMEZH', '5214-NLTIT', '5038-ETMLM', '2252-JHJGE', '2582-FFFZR', '9692-TUSXH', '8212-CRQXP', '5590-YRFJT', '0237-YFUTL', '7243-LCGGZ', '8104-OSKWT', '8217-QYOHV', '8224-DWCKX', '9782-LGXMC', '7446-SFAOA', '9087-EYCPR', '0042-JVWOJ', '5884-FBCTL', '3748-FVMZZ', '8350-NYMVI', '9058-CBREO', '8498-XXGWA', '1563-IWQEX', '1447-PJGGA', '2911-UREFD', '3212-KXOCR', '7971-HLVXI', '6173-GOLSU', '7833-PKIHD', '9313-CDOGY', '8640-SDGKB', '0384-LPITE', '3957-HHLMR', '4779-ZGICK', '5639-NTUPK', '7878-RTCZG', '7752-XUSCI', '7296-PIXQY', '2545-EBUPK', '6837-HAEVO', '4776-XSKYQ', '3941-XTSKM', '8601-QACRS', '5167-ZFFMM', '5056-FIMPT', '3655-SNQYZ', '9347-AERRL', '9537-VHDTA', '0887-HJGAR', '9513-DXHDA', '1845-CSBRZ', '5146-CBVOE', '3211-AAPKX', '0687-ZVTHB', '6754-WKSHP', '0420-BWTPW', '1074-WVEVG', '2639-UGMAZ', '4729-XKASR', '5131-PONJI', '3714-JTVOV', '4955-VCWBI', '6620-HVDUJ', '3890-RTCMS', '1527-SXDPN', '3943-KDREE', '9643-YBLUR', '4534-WGCIR', '3259-FDWOY', '3363-EWLGO', '6633-SYEUS', '6424-ELEYH', '7975-JMZNT', '7037-MTYVW', '6166-ILMNY', '2700-LUEVA', '1761-AEZZR', '2576-HXMPA', '6923-EFPNL', '2649-HWLYB', '7310-EGVHZ', '2851-MMUTZ', '4075-WKNIU', '0533-UCAAU', '9086-YJYXS', '8404-VLQFB', '0233-FTHAV', '9357-UJRUN', '9402-ROUMJ', '5315-CKEQK', '7663-ZTEGJ', '3896-ZVNET', '1518-OMDIK', '5226-NOZFC', '1843-TLSGD', '9489-DEDVP', '4065-JJAVA', '9600-UDOPK', '5276-KQWHG', '5248-RPYWW', '5469-NUJUR', '2323-ARSVR', '8816-VXNZD', '9470-YFUYI', '9227-YBAXE', '0872-JCPIB', '9661-ACXBS', '4800-CZMPC', '4742-TXUEX', '8414-OOEEL', '9931-DCEZH', '7251-LJBQN', '4718-WXBGI', '5233-AOZUF', '2316-ESMLS', '5175-AOBHI', '8873-TMKGR', '7576-ASEJU', '7253-UVNDW', '8450-UYIBU', '0480-BIXDE', '2001-MCUUW', '9081-WWXKP', '7643-RCHXS', '8234-GSZYK', '6331-LWDTQ', '2387-KDZQY', '6360-SVNWV', '3750-RNQKR', '3584-WKTTW', '7054-LGEQW', '0064-YIJGF', '1492-KGETH', '8311-UEUAB', '5868-YTYKS', '7858-GTZSP', '7855-DIWPO', '3429-IFLEM', '2920-RNCEZ', '0080-EMYVY', '6278-FEPBZ', '0298-XACET', '3709-OIJEA', '6128-CZOMY', '5385-SUIRI', '6647-ZEDXT', '9046-DQMTP', '0297-RBCSG', '7547-EKNFS', '5313-FPXWG', '9063-ZGTUY', '2568-OIADY', '5278-PNYOX', '1480-BKXGA', '0969-RGKCU', '2141-RRYGO', '4302-ZYFEL', '6772-WFQRD', '8337-MSSXB', '4962-CHQPW', '5519-TEEUH', '1264-FUHCX', '1047-NNCBF', '5868-CZJDR', '6923-AQONU', '6861-OKBCE', '8624-GIOUT', '0723-DRCLG', '8779-YIQQA', '3422-GALYP', '6234-RAAPL', '0397-ZXWQF', '7175-NTIXE', '5261-QSHQM', '1937-OTUKY', '7176-WRTNX', '3284-SVCRO', '5136-GFPMB', '2908-ZTPNF', '8111-BKVDS', '8402-OOOHJ', '3733-UOCWF', '7811-JIVPF', '2270-CHBFN', '0447-RXSGD', '3396-DKDEL', '8784-CGILN', '6670-MFRPK', '7594-LZNWR', '1635-HDGFT', '5975-BAICR', '4132-POCZS', '7563-BIUPC', '4510-PYUSH', '8651-ENBZX', '3214-IYUUQ', '2253-KPMNB', '2951-QOQTK', '2265-CYWIV', '4980-URKXC', '1766-GKNMI', '7293-LSCDV', '8715-KKTFG', '0197-PNKNK', '0201-OAMXR', '9158-VCTQB', '1596-BBVTG', '2108-GLPQB', '9847-HNVGP', '0431-APWVY', '4334-HOWRP', '7609-NRNCA', '3717-OEAUQ', '0454-OKRCT', '8705-DWKTI', '0997-YTLNY', '7520-HQWJU', '0516-UXRMT', '9207-ZPANB', '5622-UEJFI', '6029-CSMJE', '3269-ATYWD', '8329-IBCTI', '4385-ZKVNW', '8361-LTMKD', '5781-BKHOP', '8174-LNWMW', '7065-YUNRY', '7733-UDMTP', '6603-QWSPR', '9029-FEGVJ', '2522-WLNSF', '7639-SUPCW', '5440-FLBQG', '5989-OMNJE', '1597-FZREH', '8580-AECUZ', '2277-VWCNI', '4706-AXVKM', '1757-TCATG', '8580-QVLOC', '6736-DHUQI', '3923-CSIHK', '9752-ZNQUT', '4445-ZJNMU', '7876-DNYAP', '0581-BXBUB', '9631-XEYKE', '4658-HCOHW', '3280-NMUVX', '9839-ETQOE', '7873-CVMAW', '2359-KLTEK', '2229-DPMBI', '5055-BRMNE', '6178-KFNHS', '5035-BVCXS', '5832-XKAES', '4558-FANTW', '7606-BPHHN'}\n",
            "\n",
            "******************************************************* gender ***********************************************************\n",
            "\n",
            "{'Female', 'Male'}\n",
            "\n",
            "******************************************************* SeniorCitizen ***********************************************************\n",
            "\n",
            "{0, 1}\n",
            "\n",
            "******************************************************* Partner ***********************************************************\n",
            "\n",
            "{'No', 'Yes'}\n",
            "\n",
            "******************************************************* Dependents ***********************************************************\n",
            "\n",
            "{'No', 'Yes'}\n",
            "\n",
            "******************************************************* tenure ***********************************************************\n",
            "\n",
            "{0, 1, 2, 3, 4, 5, 6, 7, 8, 9, 10, 11, 12, 13, 14, 15, 16, 17, 18, 19, 20, 21, 22, 23, 24, 25, 26, 27, 28, 29, 30, 31, 32, 33, 34, 35, 36, 37, 38, 39, 40, 41, 42, 43, 44, 45, 46, 47, 48, 49, 50, 51, 52, 53, 54, 55, 56, 57, 58, 59, 60, 61, 62, 63, 64, 65, 66, 67, 68, 69, 70, 71, 72}\n",
            "\n",
            "******************************************************* PhoneService ***********************************************************\n",
            "\n",
            "{'No', 'Yes'}\n",
            "\n",
            "******************************************************* MultipleLines ***********************************************************\n",
            "\n",
            "{'No phone service', 'No', 'Yes'}\n",
            "\n",
            "******************************************************* InternetService ***********************************************************\n",
            "\n",
            "{'Fiber optic', 'No', 'DSL'}\n",
            "\n",
            "******************************************************* OnlineSecurity ***********************************************************\n",
            "\n",
            "{'No', 'No internet service', 'Yes'}\n",
            "\n",
            "******************************************************* OnlineBackup ***********************************************************\n",
            "\n",
            "{'No', 'No internet service', 'Yes'}\n",
            "\n",
            "******************************************************* DeviceProtection ***********************************************************\n",
            "\n",
            "{'No', 'No internet service', 'Yes'}\n",
            "\n",
            "******************************************************* TechSupport ***********************************************************\n",
            "\n",
            "{'No', 'No internet service', 'Yes'}\n",
            "\n",
            "******************************************************* StreamingTV ***********************************************************\n",
            "\n",
            "{'No', 'No internet service', 'Yes'}\n",
            "\n",
            "******************************************************* StreamingMovies ***********************************************************\n",
            "\n",
            "{'No', 'No internet service', 'Yes'}\n",
            "\n",
            "******************************************************* Contract ***********************************************************\n",
            "\n",
            "{'Month-to-month', 'One year', 'Two year'}\n",
            "\n",
            "******************************************************* PaperlessBilling ***********************************************************\n",
            "\n",
            "{'No', 'Yes'}\n",
            "\n",
            "******************************************************* PaymentMethod ***********************************************************\n",
            "\n",
            "{'Bank transfer (automatic)', 'Credit card (automatic)', 'Electronic check', 'Mailed check'}\n",
            "\n",
            "******************************************************* MonthlyCharges ***********************************************************\n",
            "\n",
            "{18.95, 19.8, 20.65, 20.15, 20.2, 20.75, 24.95, 20.4, 24.25, 25.9, 19.95, 29.75, 29.85, 30.2, 24.3, 33.75, 30.15, 31.05, 35.45, 29.95, 30.4, 39.65, 35.9, 40.2, 42.3, 42.1, 44.35, 45.25, 45.55, 45.65, 45.3, 49.95, 49.55, 49.25, 49.05, 53.85, 54.4, 55.2, 56.95, 56.15, 55.3, 59.9, 59.6, 55.65, 54.65, 62.15, 64.7, 64.15, 66.15, 64.5, 66.85, 69.7, 70.7, 69.2, 69.5, 70.45, 74.8, 74.85, 76.2, 75.3, 78.9, 79.85, 80.65, 79.75, 79.2, 74.75, 84.5, 79.35, 82.05, 84.0, 85.2, 89.1, 90.05, 90.25, 89.9, 91.65, 94.4, 95.5, 96.35, 97.85, 95.45, 99.65, 100.35, 99.35, 102.45, 102.7, 103.8, 103.4, 104.15, 104.4, 104.6, 105.35, 108.0, 109.2, 103.7, 104.8, 105.5, 106.7, 108.45, 111.6, 110.5, 113.25, 111.05, 112.25, 24.75, 115.1, 115.05, 116.05, 25.25, 24.5, 25.75, 25.0, 25.5, 26.25, 26.0, 26.5, 28.5, 29.5, 29.25, 30.75, 30.5, 30.25, 31.0, 33.5, 34.25, 34.5, 34.0, 35.75, 35.5, 35.0, 35.25, 36.0, 36.25, 36.5, 38.5, 38.25, 39.0, 39.5, 40.25, 40.0, 40.75, 43.75, 43.25, 44.0, 44.75, 44.25, 44.5, 45.0, 45.75, 45.5, 46.0, 46.25, 48.75, 48.25, 49.5, 49.0, 49.75, 50.25, 50.0, 50.5, 50.75, 51.25, 51.0, 51.75, 51.5, 52.5, 52.0, 53.75, 53.5, 53.0, 54.75, 54.25, 54.0, 54.5, 55.0, 55.5, 55.25, 55.75, 56.0, 56.75, 56.25, 56.5, 57.75, 57.5, 58.75, 58.25, 58.5, 58.0, 59.75, 59.0, 59.5, 59.25, 60.0, 60.25, 60.5, 60.75, 61.5, 61.25, 61.75, 61.0, 62.25, 62.5, 63.25, 63.75, 64.25, 64.75, 64.0, 65.0, 65.5, 65.75, 65.25, 66.5, 66.25, 66.0, 66.75, 67.25, 67.5, 67.75, 68.75, 68.5, 68.25, 69.75, 69.0, 69.25, 70.0, 70.5, 70.75, 70.25, 71.5, 71.0, 71.25, 71.75, 72.75, 72.25, 72.0, 73.25, 73.5, 73.0, 73.75, 74.5, 74.25, 74.0, 75.0, 75.25, 75.5, 75.75, 76.5, 76.0, 76.75, 76.25, 77.75, 77.0, 77.5, 78.75, 78.0, 78.5, 78.25, 79.25, 79.5, 79.0, 80.0, 80.25, 80.5, 80.75, 81.0, 81.25, 81.5, 81.75, 82.5, 82.75, 82.0, 83.25, 83.75, 83.5, 83.0, 84.25, 84.75, 85.75, 85.5, 85.0, 85.25, 86.75, 86.0, 86.5, 86.25, 87.0, 87.25, 87.75, 88.0, 88.5, 88.75, 88.25, 89.25, 89.0, 89.75, 89.5, 90.0, 90.5, 90.75, 18.25, 18.75, 91.0, 91.5, 91.25, 91.75, 92.0, 92.5, 93.0, 93.5, 93.25, 93.75, 94.5, 94.25, 94.75, 94.0, 95.25, 95.0, 95.75, 19.5, 19.75, 19.25, 96.75, 96.5, 19.0, 96.0, 96.25, 97.0, 97.75, 97.25, 98.75, 98.25, 98.5, 98.0, 99.25, 99.0, 99.75, 99.5, 100.0, 100.75, 100.25, 20.25, 20.5, 101.75, 100.5, 20.0, 101.0, 101.5, 102.5, 102.0, 101.25, 102.25, 103.75, 103.25, 103.0, 103.5, 104.0, 104.5, 104.75, 104.25, 105.0, 105.25, 21.0, 21.25, 105.75, 106.0, 106.75, 106.5, 106.25, 107.5, 107.25, 107.0, 107.75, 108.5, 108.25, 108.75, 109.25, 109.5, 109.75, 109.0, 110.0, 110.75, 110.25, 111.25, 111.5, 111.75, 112.75, 113.0, 113.75, 114.5, 114.0, 114.75, 115.75, 115.0, 23.75, 115.5, 115.25, 116.25, 116.75, 116.0, 116.5, 23.5, 117.5, 118.75, 24.0, 18.4, 18.9, 19.4, 19.9, 19.65, 19.15, 20.9, 21.15, 23.65, 23.4, 23.9, 23.15, 24.9, 24.4, 24.15, 24.65, 25.15, 25.4, 25.65, 26.4, 26.9, 29.65, 29.9, 29.15, 29.4, 30.9, 31.65, 33.15, 33.65, 33.9, 34.65, 34.4, 35.4, 35.65, 35.15, 36.65, 36.15, 38.9, 39.9, 39.4, 39.15, 40.4, 40.65, 40.15, 40.9, 41.15, 41.9, 42.9, 42.4, 43.65, 43.9, 44.4, 44.65, 44.9, 44.15, 45.4, 45.15, 45.9, 46.4, 47.15, 47.4, 48.15, 48.9, 48.65, 48.4, 49.15, 49.9, 49.4, 49.65, 50.65, 50.15, 50.9, 50.4, 51.65, 51.4, 51.15, 52.15, 53.65, 53.9, 53.4, 53.15, 54.9, 54.15, 55.15, 55.9, 55.4, 56.4, 56.9, 56.65, 57.15, 57.65, 58.65, 58.9, 58.4, 59.4, 59.65, 59.15, 60.9, 60.15, 60.65, 60.4, 61.65, 61.9, 61.4, 61.15, 62.65, 63.15, 63.4, 63.9, 18.55, 64.9, 64.4, 64.65, 65.15, 65.65, 19.05, 65.4, 65.9, 66.4, 66.9, 66.65, 67.65, 67.4, 68.65, 68.4, 68.9, 68.15, 69.65, 69.9, 69.15, 69.4, 70.9, 70.15, 70.4, 70.65, 71.15, 71.9, 71.4, 71.65, 72.65, 72.9, 72.15, 73.9, 73.15, 73.65, 74.9, 74.4, 74.65, 74.15, 75.9, 75.15, 75.65, 75.4, 21.3, 76.9, 76.65, 76.4, 76.15, 77.4, 77.15, 77.9, 77.65, 78.4, 78.65, 78.15, 79.9, 79.15, 79.4, 79.65, 80.9, 80.4, 80.15, 81.15, 81.4, 81.65, 81.9, 82.4, 82.9, 82.65, 82.15, 83.4, 83.15, 83.9, 83.65, 84.15, 84.9, 84.4, 84.65, 85.4, 85.65, 85.15, 85.9, 23.05, 86.65, 86.15, 86.4, 86.9, 87.65, 87.9, 87.4, 87.15, 88.15, 88.9, 88.65, 88.4, 89.15, 89.65, 89.4, 75.05, 90.4, 90.15, 90.65, 90.9, 91.4, 91.15, 92.9, 92.65, 92.15, 92.4, 93.15, 93.4, 93.9, 93.65, 94.9, 94.65, 94.15, 76.55, 95.15, 95.4, 95.65, 95.9, 96.65, 96.15, 96.9, 96.4, 97.65, 97.9, 98.65, 98.9, 98.15, 98.4, 99.9, 99.4, 99.15, 77.8, 77.55, 100.9, 100.15, 100.65, 100.4, 101.9, 101.15, 101.4, 102.15, 102.65, 102.9, 102.4, 103.9, 103.15, 103.65, 104.65, 104.9, 105.65, 105.15, 105.9, 105.4, 106.9, 106.4, 106.65, 106.15, 107.15, 107.65, 107.9, 107.4, 108.15, 108.65, 108.4, 108.9, 109.9, 109.4, 109.15, 109.65, 110.65, 110.15, 110.9, 111.9, 111.65, 111.15, 111.4, 112.4, 112.9, 113.65, 113.4, 113.15, 114.65, 114.9, 115.65, 115.15, 29.3, 116.15, 116.4, 117.15, 118.65, 33.55, 34.55, 34.8, 34.05, 34.3, 35.8, 35.55, 35.05, 35.3, 36.05, 38.55, 38.8, 39.3, 39.55, 39.05, 40.05, 40.3, 40.55, 41.05, 43.8, 43.55, 43.3, 43.05, 44.8, 44.3, 44.05, 44.55, 45.05, 45.8, 46.3, 46.05, 47.8, 47.05, 48.55, 48.8, 49.3, 49.8, 50.55, 50.05, 50.3, 50.8, 51.8, 51.05, 51.55, 51.3, 52.55, 52.3, 53.8, 53.3, 53.55, 54.8, 54.3, 54.55, 54.05, 55.05, 55.8, 55.55, 56.8, 56.05, 56.3, 56.55, 57.8, 57.55, 58.55, 59.8, 59.3, 59.55, 59.05, 60.3, 60.05, 60.8, 60.55, 61.05, 61.8, 61.55, 61.3, 62.8, 62.05, 62.55, 62.3, 63.3, 63.55, 63.8, 63.05, 64.8, 64.05, 64.3, 64.55, 65.55, 65.8, 65.05, 65.3, 66.8, 66.05, 66.3, 67.8, 67.05, 68.55, 68.8, 68.05, 68.3, 18.8, 69.3, 69.55, 69.05, 69.8, 19.3, 70.8, 70.05, 19.55, 70.3, 20.3, 71.55, 20.55, 20.05, 20.8, 70.55, 72.8, 21.05, 71.05, 71.3, 71.8, 73.8, 73.55, 73.05, 73.3, 23.8, 74.3, 74.05, 23.3, 23.55, 24.55, 24.05, 74.55, 24.8, 75.55, 25.3, 75.8, 25.05, 76.05, 25.55, 26.8, 26.05, 26.3, 76.8, 25.8, 76.3, 78.05, 78.3, 78.55, 78.8, 77.3, 79.3, 79.05, 79.55, 79.8, 29.05, 80.55, 29.8, 80.05, 80.3, 30.3, 81.8, 81.3, 80.8, 81.05, 81.55, 82.3, 30.55, 30.05, 82.55, 83.3, 83.55, 83.8, 83.05, 84.55, 84.8, 84.3, 84.05, 85.8, 85.3, 85.05, 85.55, 86.8, 86.05, 86.3, 86.55, 87.05, 87.55, 87.8, 87.3, 88.55, 88.05, 88.8, 88.3, 89.05, 89.55, 89.8, 89.3, 90.3, 90.55, 90.8, 91.3, 91.55, 91.05, 91.8, 92.05, 92.55, 92.3, 93.05, 93.8, 93.55, 93.3, 94.05, 94.8, 94.3, 94.55, 95.05, 95.8, 95.3, 95.55, 96.05, 96.8, 96.55, 96.3, 97.55, 97.8, 97.05, 98.3, 98.8, 98.05, 98.55, 99.3, 99.8, 99.05, 99.55, 100.8, 100.55, 100.05, 100.3, 101.05, 101.55, 101.3, 101.8, 102.05, 102.55, 102.8, 103.05, 103.3, 104.3, 104.55, 104.05, 105.3, 105.55, 105.05, 105.8, 106.05, 106.8, 106.55, 106.3, 107.05, 107.55, 108.55, 108.05, 108.3, 108.8, 109.55, 109.8, 109.05, 109.3, 110.05, 110.3, 110.8, 110.55, 111.55, 111.8, 111.3, 112.55, 113.3, 113.05, 113.8, 114.05, 114.55, 114.3, 115.8, 115.55, 116.8, 116.3, 116.55, 117.8, 18.7, 19.2, 19.45, 19.7, 20.7, 20.45, 20.95, 21.2, 21.45, 22.95, 23.95, 23.45, 24.7, 24.45, 24.2, 25.7, 25.2, 25.45, 25.95, 26.2, 26.45, 28.45, 29.45, 29.2, 29.7, 30.45, 31.2, 33.45, 33.7, 34.7, 34.2, 34.95, 35.7, 35.2, 36.45, 37.7, 39.7, 39.2, 39.95, 39.45, 40.7, 40.45, 41.95, 43.95, 43.7, 43.45, 44.95, 44.45, 44.7, 44.2, 45.7, 45.95, 45.2, 45.45, 46.2, 47.95, 48.95, 48.7, 48.2, 48.45, 49.2, 49.45, 49.7, 50.2, 50.45, 50.95, 50.7, 51.2, 51.7, 51.45, 52.2, 52.7, 53.95, 53.45, 53.7, 54.7, 54.2, 54.45, 54.95, 55.45, 55.95, 55.7, 56.45, 56.7, 56.2, 57.95, 57.45, 57.2, 58.45, 58.95, 58.7, 58.2, 59.95, 59.45, 59.2, 59.7, 60.45, 60.2, 60.7, 60.95, 61.2, 61.95, 61.45, 62.7, 62.45, 63.95, 63.7, 64.95, 64.2, 64.45, 65.2, 65.7, 65.45, 66.7, 66.2, 67.45, 67.95, 67.2, 67.7, 68.95, 68.7, 68.45, 69.45, 69.95, 70.2, 70.95, 71.7, 71.45, 71.95, 72.95, 72.45, 72.2, 73.2, 73.45, 73.95, 73.7, 74.2, 74.7, 74.45, 74.95, 75.95, 75.45, 75.7, 75.2, 76.45, 76.95, 77.95, 77.2, 78.45, 78.95, 78.2, 78.7, 79.95, 79.45, 79.7, 80.95, 80.7, 80.45, 80.2, 81.95, 81.45, 81.7, 81.2, 82.95, 82.45, 82.7, 83.7, 83.2, 83.45, 83.95, 84.2, 84.95, 84.7, 84.45, 85.95, 85.45, 85.7, 86.2, 86.45, 86.95, 86.7, 87.95, 87.2, 87.45, 87.7, 88.95, 88.2, 88.45, 88.7, 89.7, 89.2, 89.45, 89.95, 90.95, 90.45, 90.7, 90.2, 91.7, 91.2, 91.45, 91.95, 92.2, 92.95, 92.45, 92.7, 93.95, 93.45, 93.2, 93.7, 94.45, 94.2, 94.7, 94.95, 95.2, 95.95, 95.7, 96.7, 96.2, 96.95, 97.45, 97.95, 97.2, 97.7, 98.7, 98.2, 98.45, 99.45, 99.7, 99.95, 99.2, 100.45, 100.7, 100.95, 100.2, 101.45, 101.95, 101.7, 102.95, 103.2, 103.45, 103.95, 104.95, 104.7, 104.45, 104.2, 105.45, 105.2, 105.95, 105.7, 106.45, 106.95, 106.2, 107.95, 107.45, 107.2, 107.7, 108.95, 108.2, 109.7, 109.95, 109.45, 110.45, 110.2, 110.7, 111.95, 111.2, 111.45, 112.95, 112.2, 113.2, 113.45, 113.95, 114.95, 114.7, 114.45, 114.2, 116.45, 116.95, 116.2, 117.2, 117.45, 118.2, 64.35, 64.85, 64.6, 64.1, 65.35, 65.85, 65.1, 65.6, 66.35, 66.1, 66.6, 67.85, 67.6, 68.85, 68.6, 68.35, 68.1, 69.35, 69.85, 69.1, 69.6, 70.35, 70.6, 70.85, 70.1, 71.1, 71.35, 71.6, 71.85, 72.1, 72.85, 72.35, 72.6, 73.6, 73.85, 73.35, 73.1, 74.35, 74.6, 74.1, 75.35, 75.6, 75.1, 75.85, 76.1, 76.85, 76.35, 76.6, 77.35, 77.85, 78.85, 78.1, 78.6, 78.35, 79.1, 79.6, 80.6, 80.35, 80.1, 80.85, 81.85, 81.35, 81.1, 81.6, 82.85, 82.1, 82.35, 83.35, 83.85, 83.6, 84.6, 84.85, 84.35, 84.1, 85.1, 85.35, 85.6, 85.85, 86.1, 86.6, 86.85, 86.35, 87.35, 87.1, 87.6, 88.1, 88.6, 88.85, 88.35, 89.85, 89.35, 89.6, 90.85, 90.35, 90.1, 90.6, 91.35, 91.1, 91.85, 91.6, 92.1, 92.35, 92.85, 92.6, 93.35, 93.85, 93.6, 94.35, 94.85, 94.1, 94.6, 95.6, 95.1, 95.35, 95.85, 96.1, 96.85, 96.6, 97.1, 97.35, 98.85, 98.6, 98.35, 98.1, 99.1, 99.85, 99.6, 100.6, 100.85, 100.1, 101.35, 101.1, 101.6, 101.85, 102.1, 102.85, 102.6, 102.35, 103.1, 103.85, 103.35, 103.6, 104.1, 104.85, 104.35, 105.1, 105.6, 105.85, 106.35, 106.6, 106.1, 106.85, 107.35, 107.6, 108.1, 108.85, 108.6, 108.35, 109.85, 109.6, 109.1, 110.85, 110.35, 110.1, 110.6, 111.35, 111.1, 112.6, 112.1, 112.35, 113.1, 113.6, 113.35, 114.35, 114.85, 114.1, 114.6, 115.6, 115.85, 116.1, 116.85, 116.6, 117.6, 117.35, 118.6, 118.35, 18.85, 19.6, 19.35, 19.85, 19.1, 20.85, 20.6, 20.1, 20.35, 21.1, 23.6, 23.85, 24.1, 24.85, 24.6, 24.35, 25.35, 25.6, 25.1, 25.85, 26.1, 26.35, 28.6, 29.6, 29.35, 29.1, 30.1, 30.85, 30.35, 30.6, 31.35, 31.1, 33.6, 34.6, 34.85, 35.6, 35.1, 35.35, 36.1, 36.85, 38.6, 38.1, 38.85, 39.6, 39.1, 39.85, 39.35, 40.6, 40.35, 40.1, 41.35, 41.1, 41.6, 42.6, 42.35, 43.85, 43.35, 43.6, 44.6, 44.85, 44.1, 45.6, 45.35, 45.85, 45.1, 46.35, 46.1, 46.6, 47.85, 47.6, 48.6, 48.85, 48.35, 49.85, 49.35, 49.1, 49.6, 50.6, 50.35, 50.1, 50.85, 51.6, 51.35, 51.1, 52.1, 52.85, 53.6, 53.1, 53.35, 54.1, 54.6, 54.85, 54.35, 55.1, 55.35, 55.85, 55.6, 56.6, 56.35, 56.1, 56.85, 57.6, 58.6, 58.35, 58.85, 59.85, 59.1, 60.85, 60.35, 60.6, 60.1, 61.6, 61.35, 61.1, 62.1, 62.85, 63.85, 63.35, 63.6, 63.1}\n",
            "\n",
            "******************************************************* TotalCharges ***********************************************************\n",
            "\n",
            "{nan, '4616.05', '3047.15', '1539.75', '609.65', '109.6', '55.8', '4805.3', '706.6', '836.35', '2351.8', '6405', '5396.25', '942.95', '5012.1', '295.55', '7262', '21', '7383.7', '5215.25', '1728.2', '35.75', '961.4', '5174.35', '8152.3', '3351.55', '218.5', '670.35', '3541.4', '2857.6', '829.3', '6975.25', '5435.6', '5913.95', '159.15', '6017.65', '99.6', '1443.65', '6688.1', '586.05', '527.35', '3949.15', '4698.05', '6632.75', '7853.7', '5064.85', '142.35', '3845.45', '20.25', '5673.7', '2907.55', '1389.85', '973.95', '398.55', '112.3', '1445.95', '805.2', '1564.05', '1545.4', '7040.85', '451.55', '246.3', '669', '945.7', '2347.9', '1414.8', '19.45', '3708.4', '450.9', '2405.05', '810.45', '45.85', '426.65', '5979.7', '75.1', '25.1', '697.7', '1266.1', '3008.15', '460.2', '883.35', '1423.65', '102.75', '1520.1', '516.3', '1451.9', '3865.45', '1296.15', '1588.7', '4039', '1374.9', '378.4', '2697.4', '3725.5', '1594.75', '1630.4', '1685.9', '2566.3', '930.9', '4179.2', '5360.75', '914.3', '74', '5305.05', '4354.45', '39.25', '3509.4', '8093.15', '3251.85', '2065.15', '309.35', '4871.45', '3804.4', '71.25', '8543.25', '1738.9', '574.35', '893', '251.25', '80.85', '1258.35', '493.4', '2455.05', '5718.2', '89.05', '7576.7', '5219.65', '1718.95', '20.05', '3674.95', '38.15', '1298.7', '5125.5', '5082.8', '6137', '178.7', '1884.65', '720.45', '375.25', '5154.5', '195.3', '281', '4136.4', '474.8', '4594.65', '755.6', '399.6', '471.55', '5969.85', '2692.75', '259.8', '5308.7', '804.85', '170.5', '917.45', '659.65', '2483.05', '4131.95', '50.15', '917.15', '8166.8', '5817.7', '5568.35', '115.1', '1745.2', '1375.15', '1164.3', '419.9', '1377.7', '467.7', '4693.2', '1502.25', '3303.05', '392.65', '362.2', '679.8', '8078.1', '1212.1', '5196.1', '1815', '100.25', '947.4', '3141.7', '2209.15', '1132.75', '90.6', '4442.75', '7882.25', '2636.05', '6751.35', '1801.9', '5468.95', '3092.65', '1134.25', '3715.65', '80.8', '1165.9', '487.75', '1615.1', '3765.05', '6925.9', '6744.25', '3478.15', '6413.65', '454.15', '3457.45', '6588.95', '225.75', '4135', '6766.95', '733.35', '2210.2', '2550.9', '68.45', '2443.3', '6281.45', '2727.3', '4350.1', '2184.35', '7459.05', '743.5', '781.4', '1654.75', '8289.2', '69.1', '545.2', '166.3', '5551.15', '2248.05', '1240.15', '3549.25', '50.65', '272.95', '38.45', '3834.4', '1424.9', '6589.6', '4282.4', '1637.4', '1458.1', '529.5', '1476.25', '345.5', '72.1', '6480.9', '330.8', '1275.6', '1715.15', '428.45', '853.1', '5431.4', '4451.85', '5424.25', '4669.2', '4941.8', '678.8', '1119.35', '3011.65', '1842.7', '57.5', '394.85', '105.6', '2587.7', '608.5', '1081.45', '469.65', '759.35', '764.95', '527.9', '196.95', '1201.15', '3116.15', '2200.7', '1252', '1462.05', '93.4', '573.75', '743.3', '3754.6', '45.55', '3340.55', '406.95', '4917.9', '505.9', '355.1', '1022.6', '644.5', '2660.2', '452.35', '809.25', '5509.3', '606.25', '2381.55', '2187.15', '81.25', '4692.55', '73.55', '1558.65', '2395.7', '4191.45', '94.4', '1113.95', '1785.65', '1143.8', '1145.7', '1208.15', '1734.5', '385.9', '154.85', '2867.75', '31.35', '3219.75', '947.75', '2391.8', '1761.45', '2193.65', '1086.75', '1633', '1474.9', '155.65', '3023.55', '3171.6', '7382.85', '1374.35', '8100.25', '1885.15', '6581.9', '76.35', '59.25', '6496.15', '616.9', '6325.25', '89.1', '84.4', '49.85', '4991.5', '1275.85', '3491.55', '6705.7', '572.45', '3810.8', '702.05', '465.7', '2196.15', '1422.05', '5060.9', '1958.95', '144.95', '560.85', '6109.65', '778.1', '223.9', '1416.75', '5233.25', '3199', '119.75', '2312.55', '1493.1', '242.8', '2514.5', '242.05', '2139.2', '3343.15', '173.15', '6205.5', '723.3', '1653.45', '3244.4', '4713.4', '1857.25', '4447.75', '6669.45', '696.8', '5918.8', '1990.5', '4613.95', '697.25', '5481.25', '3673.15', '2308.6', '4188.4', '420.45', '1779.95', '7240.65', '1793.25', '1994.3', '408.5', '828.2', '1233.15', '4805.65', '24.9', '543', '2688.45', '1332.4', '125.5', '903.7', '1640', '62.25', '2201.75', '7919.8', '754.5', '1092.35', '48.35', '20.55', '2023.55', '4786.1', '420.2', '1389.35', '3419.5', '260.8', '260.9', '827.05', '302.45', '295.95', '1252.85', '654.5', '194.2', '1917.1', '7322.5', '1070.7', '2276.1', '186.15', '3471.1', '6339.3', '1842.8', '20.6', '180.3', '2364', '948.9', '857.8', '2110.15', '2552.9', '1810.85', '5743.3', '105.5', '452.7', '741.4', '289.3', '149.05', '2627.2', '587.1', '1498.35', '2763.35', '279.5', '2033.85', '1676.95', '1742.5', '1007.8', '4275.75', '5611.7', '827.45', '5212.65', '641.25', '6563.4', '473.9', '4759.55', '3807.35', '6241.35', '5071.9', '208.45', '144', '3030.6', '5409.75', '4554.85', '7559.55', '2224.5', '8016.6', '741.5', '153.05', '834.7', '3121.4', '5809.75', '8297.5', '4818.8', '1742.45', '42.7', '436.6', '4555.2', '6096.45', '1372.9', '1516.6', '3058.65', '5194.05', '199.85', '4069.9', '5986.55', '675.6', '2104.55', '1194.3', '7002.95', '469.8', '5189.75', '4965', '434.8', '3440.25', '1336.15', '1725', '1270.2', '4042.3', '2282.55', '546.85', '763.1', '1125.6', '762.5', '255.35', '795.65', '3420.5', '3591.25', '4025.6', '3751.15', '3035.35', '483.3', '2603.1', '555.4', '1181.75', '7246.15', '220.1', '114.7', '6293.45', '1985.15', '4378.9', '7101.5', '202.25', '5936.55', '7530.8', '184.95', '1187.05', '3297', '880.05', '5528.9', '443.9', '371.65', '102.5', '5329', '1555.65', '5567.55', '6520.8', '301.55', '75.7', '2092.9', '154.55', '216.45', '5950.2', '4335.2', '4634.35', '147.15', '629.35', '74.7', '3521.7', '3902.6', '1444.05', '486.05', '1423.85', '2524.45', '265.75', '1686.85', '593.3', '4914.8', '674.55', '425.1', '3808.2', '648.65', '825.4', '3950.85', '3958.2', '1171.5', '4052.4', '1952.8', '2948.6', '4408.45', '2215.45', '1093', '3729.6', '7346.2', '6236.75', '4627.85', '4039.5', '1175.6', '374.8', '1250.1', '1553.9', '2835.9', '3870', '6688.95', '1540.05', '7939.25', '6368.2', '69.65', '7689.8', '2181.55', '7007.6', '5278.15', '346.2', '7031.3', '287.85', '134.5', '541.9', '260.7', '525.55', '8124.2', '4869.5', '5731.45', '2635', '1211.65', '3861.45', '2674.15', '5703.25', '695.75', '1680.25', '506.9', '1023.95', '7348.8', '7049.5', '6287.3', '244.45', '574.5', '1359.5', '2264.5', '3653.35', '5458.8', '346.45', '232.35', '256.75', '48.95', '324.15', '1835.3', '4317.35', '1492.1', '242', '3161.2', '1315', '369.05', '571.45', '2245.4', '5445.95', '52', '1617.5', '759.55', '830.8', '3627.3', '137.1', '50.1', '818.45', '6779.05', '5042.75', '730.1', '6029', '27.55', '2633.3', '332.45', '6145.2', '678.45', '3794.5', '180.25', '1291.3', '167.5', '4566.5', '761.85', '3835.55', '4874.7', '3545.05', '407.05', '7386.05', '4779.45', '101.65', '4186.3', '4059.35', '3418.2', '5948.7', '6254.45', '7875', '344.5', '1396', '3605.2', '7719.5', '80.5', '554.45', '1036.75', '4018.05', '2459.8', '321.4', '2193.2', '2901.8', '501', '6096.9', '184.4', '7365.3', '4861.45', '138.85', '457.3', '1559.15', '8175.9', '1530.6', '7069.3', '5598', '839.4', '1129.75', '4759.75', '4869.35', '350.1', '268.45', '382.8', '5688.45', '929.45', '2157.95', '2835.5', '3273.8', '79.9', '181.1', '8405', '181.6', '580.1', '7932.5', '3205.6', '5580.8', '635.6', '1414.45', '2070.05', '8333.95', '1743.9', '2172.05', '2878.55', '1531.4', '950.75', '7227.45', '896.9', '1080.55', '6332.75', '117.95', '329.8', '669.85', '294.5', '1014.25', '888.65', '909.25', '415.1', '6352.4', '92.25', '2618.3', '7244.7', '5784.3', '239.45', '174.7', '1222.25', '676.7', '685.55', '70', '1195.75', '67.55', '874.2', '3886.45', '2575.45', '821.6', '3043.7', '4895.1', '3632', '1494.5', '7467.55', '4738.85', '7555', '6981.35', '1416.2', '5510.65', '4348.1', '936.85', '467.55', '1857.3', '2076.2', '1940.8', '3707.6', '85.5', '2896.6', '1027.25', '1424.5', '253.8', '7251.7', '169.45', '982.95', '1573.7', '5043.2', '3838.75', '3082.1', '4200.25', '117.8', '754.65', '8309.55', '1190.5', '4040.65', '5763.15', '7405.5', '2747.2', '74.25', '82.7', '3782.4', '2847.4', '552.7', '6479.4', '264.55', '229.55', '2345.55', '786.3', '1174.35', '425.9', '1759.55', '1427.55', '2351.45', '3574.5', '1319.85', '178.85', '100.8', '1215.65', '4905.75', '499.4', '1105.4', '1094.35', '4284.2', '2431.95', '593.75', '929.3', '3014.65', '68.35', '1267.05', '5753.25', '4284.8', '161.5', '3069.45', '113.1', '653.25', '5685.8', '1389.6', '1715.65', '521.1', '5832.65', '454.65', '401.95', '543.8', '321.75', '514', '4801.1', '118.3', '5706.2', '1302.65', '1111.65', '2384.15', '400', '2603.3', '5656.75', '6822.15', '2415.95', '1664.3', '854.45', '1206.05', '4368.95', '6721.6', '4310.35', '393.45', '2453.3', '3145.9', '1620.2', '413', '1152.7', '1992.2', '70.65', '4014.6', '359.4', '4931.8', '205.05', '1498.65', '985.05', '399.45', '2375.4', '800.3', '871.4', '183.75', '3505.1', '334.8', '47.5', '4116.8', '688.5', '7840.6', '3778', '5589.45', '864.2', '3876.2', '5817', '3027.25', '1574.5', '779.25', '3019.25', '1216.35', '161.95', '524.5', '504.2', '1140.05', '1402.25', '4400.75', '4917.75', '259.4', '5330.2', '1709.15', '2447.95', '1339.8', '1261.45', '73.5', '238.1', '1866.45', '261.65', '2723.4', '184.1', '5224.95', '139.05', '1287.85', '187.35', '747.2', '3759.05', '1277.5', '3625.2', '1378.75', '95.55', '5295.7', '1715.1', '1421.9', '4834', '2614.1', '6448.85', '1388.45', '190.25', '1035.5', '6886.25', '4508.65', '1344.5', '690.25', '760.05', '1941.5', '2070.75', '815.55', '1165.6', '845.25', '173', '331.6', '1511.2', '630.6', '551.35', '5163', '4428.45', '1752.55', '6302.8', '837.5', '2015.35', '815.5', '6441.85', '564.4', '4385.05', '1020.75', '1747.85', '224.5', '8071.05', '2958.95', '1023.9', '299.05', '4754.3', '775.6', '24.75', '632.2', '4968', '313.4', '108.7', '3382.3', '817.95', '2624.25', '94.55', '939.7', '3952.45', '1872.2', '5976.9', '1303.5', '4014.2', '8468.2', '1460.85', '1907.85', '3777.15', '1083.7', '679.3', '261.25', '6126.1', '1378.25', '888.75', '2727.8', '6510.45', '1879.25', '1978.65', '5411.4', '812.5', '217.1', '7320.9', '196.15', '4039.3', '279.25', '4657.95', '1093.4', '3460.3', '4687.9', '8250', '2424.05', '645.8', '5224.5', '1057', '6891.45', '2317.1', '319.15', '6418.9', '438.25', '5566.4', '902.25', '2499.3', '24.8', '5785.5', '1004.35', '7887.25', '2196.3', '2813.05', '5848.6', '211.95', '5960.5', '1587.55', '541.15', '1847.55', '3656.25', '98.35', '1758.6', '6253', '1250.85', '4863.85', '5234.95', '1778.7', '7804.15', '264.85', '547.65', '1013.2', '5347.95', '1862.9', '86.6', '4720', '1830.05', '19.1', '2961.4', '716.1', '4749.15', '2698.35', '2492.25', '5129.45', '44.6', '2434.45', '2852.4', '4911.05', '999.9', '1322.55', '5206.55', '7334.05', '805.1', '2531.4', '599.25', '25.15', '132.4', '4473.45', '7061.65', '655.85', '2723.15', '343.6', '2409.9', '4549.45', '1286.05', '1783.6', '146.65', '3023.85', '475.1', '4018.55', '4594.95', '57.2', '494.9', '493.95', '478.1', '773.2', '2238.5', '1522.65', '520', '602.55', '2745.2', '4590.35', '5515.8', '2249.95', '1336.1', '334.65', '309.4', '824.85', '1745.5', '1322.85', '6603', '1612.75', '2348.45', '2673.45', '6993.65', '432.5', '4193.4', '6703.5', '6075.9', '68.75', '4048.95', '5614.45', '6431.05', '4859.95', '4919.7', '834.2', '1902', '566.5', '1387.45', '831.75', '1794.65', '1055.9', '411.6', '4681.75', '890.35', '731.3', '5483.9', '3862.55', '5629.55', '1401.4', '5720.35', '901.25', '7789.6', '723.35', '3266', '1295.4', '566.1', '526.7', '3994.45', '2301.15', '4062.2', '103.7', '3379.25', '53.05', '6501.35', '1124.2', '2763', '79.55', '4254.85', '7984.15', '1532.45', '3483.45', '595.5', '252', '1146.65', '1498.85', '8331.95', '1821.95', '611.45', '1908.35', '3005.8', '1272.05', '6549.45', '828.05', '926', '19', '68.5', '5135.35', '6895.5', '3478.75', '1495.1', '8317.95', '3906.7', '2496.7', '899.8', '331.35', '24.05', '1756.2', '387.7', '488.25', '664.4', '1016.7', '94.6', '3871.85', '7843.55', '3771.5', '999.45', '5882.75', '368.85', '672.55', '2933.95', '4729.3', '2425.4', '1156.35', '384.25', '123.65', '2510.7', '55.45', '2435.15', '7895.15', '2416.1', '1151.55', '1559.25', '1058.6', '7332.4', '75.8', '2326.05', '4213.35', '5029.05', '4811.6', '5153.5', '6844.5', '4576.3', '3274.35', '19.9', '5068.05', '1010', '88.8', '1911.5', '5774.55', '82.15', '358.5', '5275.8', '3207.55', '666.75', '7550.3', '266.95', '5253.95', '7372.65', '802.35', '4984.85', '1756.6', '73.45', '1311.3', '1510.5', '1993.8', '1029.75', '7854.15', '1049.05', '3171.15', '5574.35', '851.8', '262.3', '1813.35', '1147.45', '1334', '336.15', '84.3', '235.8', '971.3', '3128.8', '505.95', '1802.55', '1259', '522.35', '414.95', '5471.75', '78.25', '1173.35', '7133.45', '2549.1', '50.45', '6792.45', '772.4', '545.15', '98.5', '139.4', '1266.35', '2998', '7325.1', '1403.1', '357.6', '122.7', '2467.1', '1023.85', '3457.9', '4304.5', '872.65', '6237.05', '267.4', '2404.1', '106.2', '5914.4', '5231.2', '267.6', '327.45', '5222.35', '170.85', '658.1', '980.35', '460.25', '1036', '1570.7', '2462.6', '73.1', '85.55', '8100.55', '738.2', '4976.15', '4557.5', '907.05', '3472.05', '1863.8', '4194.85', '396.1', '4478.85', '1529.45', '3442.8', '7565.35', '2653.65', '7578.05', '1867.7', '401.85', '40.1', '25.85', '5617.75', '2180.55', '4982.5', '47.95', '3183.4', '165', '436.9', '323.45', '6194.1', '59.75', '7159.7', '70.5', '928.4', '76.45', '1951', '867.1', '80.25', '7362.9', '146.3', '1956.4', '3822.45', '1039.45', '4107.25', '3473.4', '3077', '451.1', '1992.55', '8182.85', '2936.25', '237.3', '403.15', '1893.95', '1012.4', '4433.3', '390.4', '404.2', '2168.9', '109.2', '4176.7', '49.7', '1263.9', '79.35', '2555.9', '609.9', '1506.4', '4915.15', '2019.8', '165.4', '1787.35', '1482.3', '7881.2', '84.8', '311.6', '419.7', '934.15', '1266.4', '446.05', '1778.5', '3126.85', '232.4', '638.95', '7898.45', '6890', '6067.4', '4068', '367.55', '870.25', '3068.6', '193.05', '332.5', '109.8', '2997.45', '639.45', '2423.4', '6697.35', '1070.5', '6903.1', '533.9', '967.85', '5826.65', '5746.75', '493.65', '6876.05', '226.8', '5686.4', '820.5', '1031.4', '465.05', '1115.2', '837.95', '1230.9', '3346.8', '321.7', '3089.6', '99.45', '90.75', '261.3', '958.1', '5435', '2766.4', '1929', '851.75', '5290.45', '3366.05', '2773.9', '389.6', '19.85', '8192.6', '5376.4', '571.15', '7028.5', '1387', '6223.3', '1857.85', '189.1', '1327.85', '82.9', '418.8', '561.15', '6891.4', '6859.05', '3624.35', '590.35', '5231.3', '1900.25', '355.9', '6083.1', '113.5', '1293.8', '3756.4', '309.1', '107.05', '1914.9', '212.4', '75.6', '4464.8', '7714.65', '20.3', '937.5', '231.8', '1470.05', '770.6', '1614.7', '799', '453.4', '302.35', '301.9', '500.1', '3273.55', '1451.6', '25', '1777.9', '79.5', '665.45', '726.1', '411.45', '1423.05', '3066.45', '52.2', '4972.1', '2884.9', '150.75', '5639.05', '1404.65', '4322.85', '318.9', '1867.6', '953.65', '6565.85', '869.9', '220.6', '71.15', '1396.25', '1834.95', '914.4', '562.6', '1940.85', '108.05', '4055.5', '3691.2', '5438.9', '662.65', '2324.7', '79.1', '3275.15', '357.75', '567.45', '92.5', '631.85', '272.35', '6557.75', '6538.45', '2939.8', '1056.95', '4786.15', '1620.25', '95.45', '7862.25', '2839.95', '768.05', '3038.55', '1836.25', '323.15', '3527.3', '4543.95', '369.15', '964.9', '100.9', '622.9', '3246.45', '666', '2754.45', '482.8', '2548.65', '713', '8477.7', '947.3', '3121.1', '2823', '1766.75', '191.35', '931.55', '417.65', '2537', '3801.3', '355.2', '8306.05', '1103.25', '4421.95', '411.25', '2083.1', '4459.8', '765.5', '447.9', '746.5', '1253.65', '468.35', '2907.35', '5731.4', '108.65', '50.55', '107.25', '6440.25', '7129.45', '209.9', '2239.65', '397', '402.5', '1269.55', '4469.1', '1253.5', '5175.3', '7396.15', '1789.25', '69.35', '333.55', '3375.9', '1871.15', '392.5', '3882.3', '120.25', '1229.1', '3952.65', '119.5', '35.25', '4459.15', '6823.4', '1148.1', '5676.65', '7251.9', '1415.85', '401.5', '2656.5', '1222.05', '5236.4', '1461.15', '324.3', '810.2', '1859.2', '2254.2', '5925.75', '1845.9', '2638.1', '1734.65', '248.4', '7711.45', '273.25', '5031', '79.65', '435', '4318.35', '629.55', '3944.5', '3247.55', '438.4', '835.5', '866.45', '476.8', '7882.5', '4089.45', '2651.2', '3874.1', '3510.3', '762.1', '1826.7', '735.5', '2597.6', '215.25', '3450.15', '3975.7', '471.85', '177.4', '150.6', '152.45', '63', '536.4', '7965.95', '7806.5', '280.4', '2877.05', '1547.35', '226.45', '1237.65', '7238.6', '6471.85', '5011.15', '5069.65', '385.55', '1813.1', '3847.6', '3474.2', '19.15', '381.3', '1463.7', '1214.05', '220.75', '1244.5', '3571.6', '53.5', '4532.3', '6851.65', '998.1', '2553.35', '73.05', '45.2', '6747.35', '498.25', '6130.95', '742.95', '767.9', '201.95', '5692.65', '146.4', '6404', '1838.15', '2911.8', '865', '4029.95', '252.75', '52.05', '692.55', '6141.65', '3419.3', '1803.7', '465.45', '1665.2', '936.7', '579.4', '268.35', '1067.15', '254.5', '156.4', '5860.7', '95', '51.25', '528.45', '2979.5', '3281.65', '189.2', '482.25', '6252.7', '417.7', '2971.7', '2085.45', '6518.35', '1082.8', '7156.2', '727.85', '7511.9', '178.5', '916.15', '351.5', '1971.15', '3413.25', '2333.85', '5744.35', '137.95', '1910.6', '231.45', '916.9', '2931', '298.35', '4816.7', '6369.45', '174.65', '247.25', '3734.25', '2607.6', '2893.4', '5714.25', '1126.75', '324.25', '4920.55', '1024', '275.4', '4438.2', '7848.5', '2309.55', '1551.6', '3161.6', '350.35', '4512.7', '5903.15', '1683.7', '7222.75', '2361.8', '963.95', '1301.9', '1285.05', '266.6', '185.2', '2894.55', '60', '1546.3', '374', '5893.95', '273.75', '4156.8', '29.85', '1411.2', '939.8', '1291.35', '4158.25', '1306.3', '45.6', '1462.6', '347.4', '168.65', '1747.2', '2272.8', '130.75', '919.4', '4677.1', '3436.1', '118.25', '4145.9', '44.9', '930.95', '3046.15', '6010.05', '1662.05', '5817.45', '2093.9', '2585.95', '3204.4', '53.15', '3344.1', '1414.65', '2419', '1077.05', '955.15', '4824.45', '7689.95', '1235.55', '7039.45', '1309.15', '5432.2', '2847.2', '466.6', '24.25', '3597.5', '2815.25', '6312.9', '1342.15', '4119.4', '713.6', '3160.55', '5364.8', '957.1', '89.25', '1739.6', '5243.05', '385', '475.7', '537.35', '5588.8', '1285.8', '607.7', '684.4', '7279.35', '58.3', '1358.6', '33.2', '3204.65', '65.95', '1426.4', '6316.2', '6068.65', '5401.9', '3423.5', '46.3', '33.7', '144.35', '49.05', '3326.2', '7082.5', '5121.3', '2554', '50.35', '2862.75', '6614.9', '2838.7', '2293.6', '5293.4', '2068.55', '2231.05', '3410', '418.25', '329.95', '233.9', '2320.8', '234.85', '152.6', '69.7', '970.55', '5764.7', '717.5', '48.75', '171.15', '79.6', '223.45', '1782', '1573.05', '3801.7', '3301.05', '5873.75', '1043.35', '661.55', '2230.85', '82.85', '1267.95', '2196.45', '3713.95', '1379.6', '680.05', '4783.5', '249.55', '542.4', '689.75', '308.05', '4690.65', '4707.1', '268.4', '5165.7', '2188.5', '2149.05', '264.8', '4747.5', '4563', '2762.75', '4209.95', '560.6', '4896.35', '6638.35', '601.55', '298.45', '1178.25', '2789.7', '4443.45', '7107', '6572.85', '1848.8', '6700.05', '729.95', '516.15', '2908.2', '373', '224.05', '1249.25', '433.5', '1263.05', '1421.75', '326.65', '2244.95', '235.05', '345.9', '76.2', '3237.05', '1219.85', '514.75', '940.35', '6794.75', '125.95', '4386.2', '162.45', '1180.95', '944.65', '2448.75', '5564.85', '78.05', '3895.35', '4900.65', '1505.45', '341.6', '4746.05', '3442.15', '930.4', '5846.65', '487.05', '7323.15', '4308.25', '357.7', '2227.8', '521', '1317.95', '194.55', '1164.05', '2888.7', '58.9', '6652.45', '45.65', '57.4', '7987.6', '1348.9', '8127.6', '1501.75', '7657.4', '71.65', '534.7', '4192.15', '1439.35', '4549.05', '2854.55', '847.8', '1013.6', '93.55', '3019.1', '2191.7', '2921.75', '1374.2', '633.85', '1169.35', '2407.3', '4331.4', '4122.9', '2119.5', '5044.8', '5897.4', '2169.8', '583.3', '2877.95', '547.8', '3770', '35.55', '533.5', '1730.65', '156.35', '1447.9', '784.25', '5798.3', '265.45', '3886.85', '1565.7', '267', '5965.95', '2010.95', '1505.15', '1112.3', '386.5', '6239.05', '7379.8', '7482.1', '3729.75', '1111.2', '8240.85', '595.05', '7472.15', '2011.4', '2655.25', '3186.7', '703.55', '113.55', '292.85', '7707.7', '1993.25', '572.2', '592.65', '1764.75', '2333.05', '3021.6', '724.65', '898.35', '2564.95', '2203.65', '4653.85', '5264.5', '3634.8', '365.4', '329.75', '3233.85', '2979.3', '1222.8', '314.6', '8109.8', '305.1', '3512.5', '1583.5', '4122.65', '3369.05', '229.5', '1423.15', '42.45', '7321.05', '92.05', '651.4', '1563.9', '712.75', '270.95', '1689.45', '70.05', '5812', '2234.95', '7985.9', '2484', '119.3', '310.6', '291.9', '4839.15', '2684.85', '637.4', '4159.45', '2896.55', '270.2', '780.25', '2199.05', '3974.7', '1011.8', '813.3', '2433.5', '1816.2', '1205.5', '80.2', '2181.75', '2576.2', '4520.15', '33.6', '1245.6', '317.75', '2710.25', '5430.35', '2217.15', '2841.55', '734.35', '70.7', '6668', '1375.6', '1401.15', '134.05', '860.85', '24.45', '857.2', '799.65', '1821.8', '5459.2', '4858.7', '6056.15', '1713.1', '29.95', '6465', '4242.35', '217.5', '62.9', '1233.65', '246.25', '865.55', '3263.9', '6717.9', '679.85', '150.35', '3857.1', '153.3', '1706.45', '75.35', '1442.2', '1045.25', '4748.7', '5515.45', '136.75', '1672.35', '605.45', '1167.8', '202.3', '6578.55', '335.4', '136.05', '20.7', '365.65', '8065.65', '3097', '810.3', '4144.8', '2659.4', '4481', '5598.3', '2162.6', '424.45', '1556.85', '2688.85', '743.05', '3624.3', '2959.8', '1755.35', '1334.45', '1108.6', '548.8', '3342.45', '1982.1', '1874.45', '1821.2', '69.15', '308.1', '6991.9', '7679.65', '4116.9', '1573.95', '331.85', '2479.25', '84.2', '5232.9', '75.5', '4867.95', '2757.85', '4517.25', '123.05', '7726.35', '3444.85', '2626.15', '2386.85', '7795.95', '3954.1', '2966.95', '2178.6', '515.45', '1955.4', '2012.7', '5138.1', '4872.35', '3437.45', '349.8', '8220.4', '5017.9', '3157', '198.25', '1899.65', '3846.35', '6555.2', '1054.75', '5550.1', '347.25', '2753.8', '1837.9', '5883.85', '4238.45', '959.9', '8022.85', '2044.75', '6382.55', '4287.2', '1448.6', '1255.1', '146.9', '571.05', '8164.1', '3515.25', '865.8', '1424.6', '874.8', '3231.05', '3270.25', '923.1', '2737.05', '604.7', '996.95', '4732.35', '313', '219.65', '4741.45', '5917.55', '2383.6', '3603.45', '151.8', '2649.15', '5032.25', '5841.35', '3778.85', '219.5', '3255.35', '1660', '6322.1', '408.25', '129.6', '627.4', '1108.2', '209.1', '2227.1', '4902.8', '3046.4', '195.65', '449.75', '7053.35', '335.95', '68.2', '4092.85', '2025.1', '4456.35', '108.15', '1057.85', '24.2', '2799.75', '3162.65', '167.3', '4154.55', '979.5', '157.65', '2257.75', '4674.55', '3645.6', '816.8', '80.05', '1189.9', '176.3', '201', '5502.55', '5294.6', '450.65', '2048.8', '593.85', '1253.9', '987.95', '1424.2', '714.15', '5036.9', '1971.5', '3975.9', '1078.9', '3838.2', '979.05', '178.1', '5437.75', '2780.6', '2319.8', '1354.4', '6463.15', '68.65', '2548.55', '1775.8', '973.45', '2970.3', '455.3', '2263.45', '1734.2', '56.25', '520.55', '1797.75', '85.8', '41.2', '50.6', '69.95', '419.35', '3119.9', '4422.95', '223.6', '806.95', '91.7', '6029.9', '3590.2', '1178.75', '5629.15', '6725.3', '2215.4', '4300.45', '1861.1', '1078.75', '923.5', '370.65', '1282.85', '606.55', '434.1', '2413.05', '1725.4', '439.75', '2683.2', '2427.35', '3522.65', '5013', '440.2', '1651.95', '140.1', '141.7', '1062.1', '550.1', '19.6', '165.5', '1253.15', '3243.45', '1046.1', '786.5', '435.45', '4133.95', '829.55', '7132.15', '198.1', '1797.1', '1554', '4600.7', '1133.7', '422.7', '2754', '4265', '1308.1', '673.25', '4871.05', '5585.4', '390.85', '75.75', '357', '160.8', '143.35', '2874.15', '4747.85', '130.15', '5763.3', '4952.95', '2879.2', '3425.35', '1130', '7049.75', '780.15', '4513.65', '165.35', '330.05', '615.35', '69.6', '3735.45', '921.55', '2952.85', '144.15', '204.7', '149.55', '1493.75', '183.15', '118.4', '1622.45', '4054.2', '239.55', '6929.4', '1696.2', '79.05', '3888.65', '21.1', '1165.55', '6590.8', '2479.05', '75.05', '4822.85', '79.8', '1161.75', '813.45', '44.55', '2414.55', '1521.2', '2271.85', '72.4', '6430.9', '2379.1', '2404.15', '74.95', '7076.35', '71.2', '4016.2', '6139.5', '624.6', '931.9', '422.3', '6871.9', '294.9', '6825.65', '2368.4', '2007.25', '6388.65', '2790.65', '1442.6', '7365.7', '44.65', '3662.25', '132.25', '708.8', '38.8', '8436.25', '3094.05', '469.25', '2696.55', '780.5', '6989.7', '2964', '3103.25', '101.9', '5647.95', '458.1', '2007.85', '4519.5', '1798.65', '638', '943.1', '63.6', '1794.8', '1646.45', '1312.15', '1074.65', '45.4', '1171.3', '1380.1', '3959.15', '342.3', '4692.95', '886.4', '2689.35', '3169.55', '3217.55', '371.4', '2718.3', '63.15', '71', '110.15', '638.55', '2510.2', '24', '1712.7', '1709.1', '3021.3', '3517.9', '3615.6', '396.3', '145.4', '6840.95', '228', '5264.25', '2838.55', '126.05', '5166.2', '1158.85', '272.2', '411.15', '7422.1', '2142.8', '348.8', '193.8', '107.1', '2619.15', '5468.45', '1388.75', '1888.65', '923.85', '222.65', '1323.7', '2497.2', '248.95', '6856.45', '4903.2', '1931.75', '1122.4', '179.35', '168.9', '3439', '521.9', '4362.05', '3250.45', '4312.5', '2249.1', '2145', '4615.25', '641.35', '431', '2848.45', '1025.95', '147.55', '4327.5', '1818.9', '1886.4', '5785.65', '3587.25', '2335.3', '792.15', '1652.95', '918.6', '512.25', '5974.3', '1928.7', '6230.1', '1500.25', '2962', '1559.45', '20.1', '492.1', '5956.85', '3109.9', '394.1', '6411.25', '1425.45', '2743.45', '2659.45', '3190.25', '1128.1', '5215.1', '4378.35', '1454.25', '289.1', '717.3', '3369.25', '81.7', '2830.45', '5475.9', '739.9', '4889.3', '552.9', '8248.5', '4017.45', '4812.75', '4664.15', '114.15', '1868.4', '955.6', '1861.5', '34.75', '330.15', '521.35', '4885.85', '6215.35', '6719.9', '2799', '1364.3', '918.7', '1355.1', '789.2', '3769.7', '1369.8', '2661.1', '2302.35', '417.75', '6227.5', '6125.4', '280.85', '1504.05', '242.4', '227.35', '6780.1', '470', '3264.45', '172.35', '2203.1', '2722.2', '673.1', '970.85', '45.75', '6567.9', '7554.05', '1629.2', '44.1', '1237.85', '113.95', '2471.6', '4164.4', '4264.6', '5440.9', '844.45', '4853.75', '91.4', '658.95', '3096.9', '294.95', '990.9', '1533.8', '2748.7', '3260.1', '2018.1', '683.75', '882.55', '378.6', '1129.1', '1068.85', '3772.65', '661.25', '515.75', '3503.5', '5676', '5163.3', '688.65', '3399.85', '438.05', '3865.6', '237.95', '371.6', '331.9', '353.65', '467.5', '2211.8', '5730.15', '4079.55', '1230.25', '683.25', '1893.5', '6127.6', '973.35', '507.9', '6912.7', '439.2', '69.55', '217.45', '5894.5', '3623.95', '2066', '159.2', '92.75', '865.85', '1859.5', '6424.7', '81.1', '4367.35', '1391.15', '369.3', '210.3', '1776.55', '4533.9', '526.95', '6669.05', '1376.5', '1934.45', '1193.05', '718.55', '273.2', '5289.05', '4234.15', '7266.95', '2494.65', '4784.45', '1152.8', '146.6', '712.85', '435.4', '3321.35', '2541.25', '8012.75', '2169.75', '775.3', '246.6', '7839.85', '312.7', '50.7', '1345.65', '3532.85', '845.6', '5037.55', '44', '2168.15', '2221.55', '608.15', '19.2', '1834.15', '1218.45', '1050.5', '5038.15', '3410.6', '89.15', '1218.25', '4178.65', '1388', '1234.8', '279.3', '651.55', '132.2', '372.45', '7661.8', '1195.25', '1612.2', '7774.05', '1048.45', '360.1', '6605.55', '892.7', '3480.35', '475', '1687.95', '4747.2', '3090.05', '3775.85', '239', '798.2', '2871.5', '322.9', '3252', '498.1', '1412.4', '319.85', '2807.1', '3233.6', '771.95', '1688.9', '4494.65', '6511.25', '3210.35', '657.5', '1936.85', '1185', '2130.55', '273.4', '3887.25', '6130.85', '851.2', '704.3', '6754.35', '4862.5', '5779.6', '46', '20.45', '1534.05', '1993.2', '7470.1', '4166.35', '5150.55', '7511.65', '5029.2', '3580.95', '880.2', '830.85', '1309', '169.8', '3465.05', '335.65', '788.35', '5293.95', '2924.05', '3265.95', '992.7', '93.3', '4535.85', '791.15', '5776.45', '1783.75', '84.85', '676.35', '6668.35', '49.55', '3848', '413.65', '7920.7', '2723.75', '6034.85', '5762.95', '1932.75', '818.05', '406.05', '2444.25', '299.75', '244.1', '4226.7', '1054.6', '169.65', '4663.4', '2316.85', '5299.65', '45.05', '6201.95', '1041.8', '1930.9', '4808.7', '1118.8', '1434.6', '61.45', '978.6', '1329.2', '19.7', '116.65', '527.5', '877.35', '297.35', '1175.85', '4953.25', '34.8', '6474.45', '4820.55', '365.55', '1886.25', '144.55', '1460.65', '1691.9', '416.4', '6586.85', '777.35', '573.05', '1957.1', '358.15', '3512.15', '7159.05', '80.35', '1133.9', '8443.7', '5375.15', '1248.9', '2278.75', '6110.75', '701.3', '69.8', '6603.8', '314.45', '1889.5', '1087.45', '2208.75', '80.3', '7250.15', '1337.5', '356.65', '993.15', '1394.55', '48.45', '201.7', '4977.2', '1355.45', '1742.75', '365.35', '452.2', '5264.3', '134.7', '530.05', '3563.8', '4764', '1205.05', '1226.45', '3959.35', '3283.05', '4138.7', '1600.25', '7108.2', '1373.05', '1743.05', '49.3', '4793.8', '187.75', '4860.35', '682.1', '1620.8', '2042.05', '3168.75', '875.35', '4144.9', '1943.9', '1244.8', '55.05', '1760.25', '8375.05', '5839.3', '1215.8', '1052.4', '2080.1', '485.9', '6953.4', '4458.15', '249.4', '3870.3', '1054.8', '4510.8', '2058.5', '400.3', '3626.1', '55.2', '3090.65', '5480.25', '1679.65', '495.15', '6547.7', '492.55', '7303.05', '1156.55', '897.75', '4155.95', '2658.8', '2369.7', '597', '2917.65', '3548.3', '49.95', '89.9', '1433.8', '751.65', '145.15', '4671.7', '7856', '4236.6', '4541.9', '1043.8', '6449.15', '1584.8', '1129.35', '4307.1', '5594', '97', '670.65', '8058.85', '1079.65', '6306.5', '3122.4', '637.55', '990.45', '3670.5', '1348.5', '1261', '4217.8', '5405.8', '50.9', '6640.7', '5442.05', '6849.4', '75.9', '3384', '250.05', '164.5', '6045.9', '1004.75', '865.75', '678.2', '695.85', '20.35', '7842.3', '4237.5', '620.35', '2054.4', '1087.25', '40.2', '7548.6', '2209.75', '1509.8', '730.4', '1005.7', '930.05', '242.95', '69.9', '1379.8', '4483.95', '7966.9', '1072', '3029.1', '1914.5', '1367.75', '35.05', '3008.55', '4398.15', '3088.25', '155.8', '1013.05', '2136.9', '889.9', '7288.4', '4134.85', '221.7', '1416.5', '454.05', '6155.4', '2708.2', '5377.8', '4042.2', '2088.75', '7009.5', '81.95', '1022.95', '125', '238.15', '5971.25', '220.4', '463.6', '156.25', '163.2', '3264.5', '7517.7', '779.2', '2602.9', '717.95', '875.55', '3357.9', '3645.05', '96.8', '135.75', '219', '1846.65', '75.3', '617.35', '2475.35', '750.1', '300.8', '4230.25', '446.8', '45.1', '1017.35', '740', '1905.7', '2657.55', '1172.95', '4903.15', '5083.55', '1790.6', '6028.95', '3474.05', '4126.35', '4515.85', '300.4', '1029.35', '4016.85', '5040.2', '302.75', '8496.7', '540.05', '1247.75', '1417.9', '7344.45', '288.35', '765.45', '270.15', '1209.25', '1025.15', '2067', '6998.95', '5542.55', '4138.9', '5324.5', '1682.4', '568.2', '7674.55', '85.05', '1108', '1070.15', '58.15', '2341.55', '797.25', '677.05', '225.65', '84.65', '1776.45', '3784', '2157.5', '580.8', '1850.65', '1540.35', '5289.8', '2111.3', '91.1', '6172', '4424.2', '706.85', '4070.95', '100.35', '4060.55', '2937.65', '4480.7', '3692.85', '318.1', '4449.75', '832.35', '5484.4', '4388.4', '3635.15', '56', '320.4', '612.95', '1301.7', '18.8', '611.65', '1043.3', '535.55', '1101.85', '5600.15', '2006.1', '4146.05', '25.05', '185.55', '2793.55', '672.7', '1329.15', '1810.55', '1789.65', '344.2', '3883.3', '6283.3', '76.95', '1079.45', '3948.45', '235.65', '320.45', '2198.9', '1667.25', '1887', '1500.5', '1208.35', '1765.95', '3836.3', '6991.6', '4730.6', '3015.75', '6185.15', '1259.35', '36.45', '7051.95', '892.65', '2421.6', '3416.85', '452.8', '59.2', '121.25', '198.6', '469.85', '518.3', '1337.45', '6300.15', '914.6', '655.9', '4985.9', '79.95', '1048.85', '4264.25', '365.8', '7261.25', '449.3', '317.25', '1347.15', '769.1', '856.35', '847.25', '2625.55', '780.1', '303.15', '767.55', '197.7', '2782.4', '3371', '1916', '770.4', '879.8', '3143.65', '4997.5', '307.4', '61.7', '761.95', '1057.55', '1021.55', '328.95', '507.4', '113.85', '255.25', '90.85', '745.3', '7308.95', '1718.35', '5661.7', '1567', '4904.2', '2483.65', '497.55', '45', '1539.45', '4929.55', '6994.8', '1683.6', '2627.35', '2483.5', '4539.6', '755.4', '3946.9', '7220.35', '5602.25', '1524.85', '3887.85', '4096.9', '4348.65', '1397.3', '7047.5', '273', '40.9', '7133.25', '910.45', '1901', '1626.05', '2365.15', '861.85', '1095.65', '5733.4', '2878.75', '1471.75', '94.45', '34.7', '82.3', '3566.7', '6000.1', '3969.35', '415.9', '2135.5', '842.9', '690.5', '1381.8', '7085.5', '2021.35', '641.15', '4539.35', '1115.15', '1790.65', '3902.45', '403.35', '1024.65', '1107.25', '6004.85', '3480', '55.4', '2212.55', '4111.35', '43.15', '1815.3', '1319.95', '1454.15', '550.35', '5637.85', '67.1', '7188.5', '19.55', '1166.7', '30.2', '4297.95', '6631.85', '790.15', '1654.6', '68.95', '2200.25', '70.2', '4254.1', '4299.95', '2106.05', '2879.9', '702', '6300.85', '3273.95', '6770.5', '1210.3', '472.25', '7030.65', '3921.3', '1198.05', '2751', '2606.35', '4577.75', '610.2', '1686.15', '1178.4', '2034.25', '4729.75', '4370.25', '199.45', '96.05', '720.05', '35.1', '3581.6', '2343.85', '95.85', '100.2', '2088.45', '1297.8', '1028.75', '5750', '5426.85', '6224.8', '953.45', '141.6', '552.65', '6503.2', '3000.25', '989.05', '163.7', '999.8', '7430.75', '3688.6', '2964.8', '6838.6', '4765', '1441.95', '5835.5', '1145.35', '255.5', '5669.5', '4013.8', '1718.2', '1222.65', '108.95', '4263.4', '1110.05', '5610.7', '1430.05', '219.35', '5357.75', '5714.2', '2030.75', '1497.05', '3282.75', '2538.2', '1001.2', '1796.55', '100.4', '4589.85', '7930.55', '572.85', '839.65', '1387.35', '6954.15', '878.35', '1825.5', '4361.55', '308.7', '5552.05', '1090.65', '3579.15', '5016.65', '3371.75', '1973.75', '49.75', '3166.9', '137.6', '4461.85', '122', '4107.3', '1359', '1522.7', '795.15', '811.8', '1261.7', '5129.3', '232.5', '1183.8', '864.85', '20.8', '1457.25', '54.5', '349.65', '45.25', '6350.5', '3198.6', '6301.7', '1097.15', '4959.15', '5500.6', '3983.6', '6273.4', '4245.55', '70.35', '6941.2', '333.6', '1359.45', '1489.3', '7015.9', '3694.7', '55.55', '1212.85', '1123.65', '5953', '6585.2', '1305.95', '739.35', '4374.55', '144.8', '412.55', '1882.55', '457.1', '5508.35', '1548.65', '1373', '502.6', '191.1', '7210.85', '46.2', '233.65', '1032.05', '2545.7', '216.75', '1959.5', '246.7', '258.35', '1009.25', '1580.1', '1392.25', '7567.2', '791.7', '428.7', '5386.5', '7213.75', '74.5', '5461.45', '6157.6', '1023.75', '1088.25', '6383.35', '5895.45', '49.25', '1566.9', '592.75', '4414.3', '544.55', '1830.1', '1423.35', '87.3', '2288.7', '996.45', '1424.4', '701.05', '711.95', '6333.8', '708.2', '1047.7', '415.05', '1074.3', '3254.35', '4904.25', '5646.6', '1740.8', '94.5', '2038.7', '2522.4', '955.75', '86.35', '471.7', '4689.5', '2250.65', '4925.35', '668.85', '4222.95', '587.7', '4263.45', '1270.55', '1677.85', '1937.4', '522.95', '1641.3', '73.6', '497.3', '1346.9', '524.35', '51.15', '2807.65', '3452.55', '5769.6', '6468.6', '7209', '1364.75', '3190.65', '51.2', '2917.5', '1440.75', '2215.25', '325.45', '2339.3', '2117.25', '3184.25', '377.85', '4220.35', '3937.45', '649.65', '445.85', '323.25', '624.15', '251.6', '6033.3', '3078.1', '757.95', '2845.15', '2208.05', '3766.2', '1949.4', '3958.85', '854.8', '625.05', '2686.05', '789.55', '521.8', '6333.4', '5595.3', '2897.95', '4913.3', '237.2', '7171.7', '6936.85', '535.35', '2985.25', '1297.35', '3973.2', '6342.7', '1274.45', '597.9', '1253.8', '1478.85', '644.35', '601.6', '5861.75', '444.75', '7711.25', '1529.2', '284.3', '265.8', '89.55', '122.9', '6910.3', '6065.3', '3454.6', '295.65', '1939.35', '114.1', '447.75', '5581.05', '3557.7', '1215.6', '814.75', '276.5', '3126.45', '241.3', '2078.95', '2598.95', '921.4', '111.05', '2283.3', '191.05', '3460.95', '1581.2', '7982.5', '6375.2', '2130.45', '1033.95', '147.8', '3084.9', '6725.5', '1525.35', '7658.3', '1033.9', '1397.65', '929.2', '1474.35', '7195.35', '697.65', '4798.4', '129.2', '1359.7', '4630.2', '857.25', '6423', '5012.35', '81.05', '1240.25', '678.75', '6460.55', '639.65', '3249.4', '208', '1363.45', '1382.9', '453.75', '6441.4', '433.75', '1207', '5822.3', '39.65', '1710.9', '43.8', '356.15', '3956.7', '293.65', '605.25', '4946.05', '5118.95', '3431.75', '1537.9', '1073.3', '7953.25', '1652.4', '36.8', '477.55', '6914.95', '154.3', '76.4', '2277.65', '226.55', '1325.85', '7748.75', '1445.2', '4299.2', '104.2', '5717.85', '918.75', '7508.55', '286.8', '3208.65', '151.75', '842.25', '1748.55', '6056.9', '528.35', '1510.3', '150.85', '1743.5', '1901.05', '181.7', '1345.85', '3363.8', '667.7', '1177.95', '633.45', '1601.5', '8399.15', '625.65', '5681.1', '1326.25', '1188.25', '1215.45', '1083', '1663.75', '272.15', '4995.35', '5727.15', '711.15', '2535.55', '1901.65', '19.65', '2874.45', '3004.15', '5186', '2016.45', '4026.4', '1412.65', '224.85', '5824.75', '755.5', '1852.85', '6689', '819.4', '7299.65', '287.4', '686.95', '5924.4', '2151.6', '827.3', '19.4', '2398.4', '3551.65', '829.1', '255.6', '3147.15', '949.85', '6860.6', '2203.7', '514.6', '809.75', '4063', '480.75', '25.35', '4040.2', '1767.35', '4542.35', '6744.2', '6875.35', '4916.95', '713.75', '6393.65', '2375.2', '613.95', '6129.2', '1221.65', '617.85', '6707.15', '5200.8', '1120.95', '6392.85', '1139.2', '5535.8', '25.25', '109.5', '288.05', '3334.95', '4859.25', '855.3', '568.85', '44.8', '97.1', '31.2', '1071.4', '3996.8', '1303.25', '521.3', '1191.2', '60.65', '857.75', '2006.95', '5916.95', '7962.2', '887.35', '1400.3', '4525.8', '2647.2', '6474.4', '2000.2', '2134.3', '512.45', '1021.75', '388.6', '780.2', '279.55', '489.45', '7382.25', '25.4', '1614.05', '1327.4', '1356.7', '2139.1', '50.5', '1218.55', '31.55', '735.9', '80.55', '3088.75', '213.35', '1011.05', '161.15', '422.4', '4036.85', '477.7', '1242.2', '39.3', '160.75', '5643.4', '3726.15', '5890', '504.05', '8425.3', '6997.3', '4297.6', '86.05', '180.7', '541.5', '78.8', '1673.8', '4368.85', '7732.65', '164.3', '2424.45', '6365.35', '1436.95', '70.1', '84.6', '2028.8', '4131.2', '2220.1', '1441.65', '174.2', '5969.3', '4760.3', '147.75', '141.5', '3795.45', '4507.15', '3035.8', '1716.45', '7245.9', '46.4', '5940.85', '417.5', '1837.7', '4116.15', '740.8', '2274.9', '371.9', '5916.45', '1269.6', '341.45', '830.25', '60.1', '2287.25', '141.65', '5193.2', '1608.15', '1595.5', '1641.8', '3165.6', '70.4', '1672.1', '3532.25', '5135.15', '1334.5', '2078.55', '535.05', '4891.5', '7138.65', '6989.45', '4564.9', '3348.1', '1625', '19.8', '5038.45', '2369.3', '646.05', '5586.45', '5815.15', '3211.9', '583.45', '6328.7', '5023', '210.75', '158.95', '4295.35', '1429.65', '78.95', '2024.1', '4228.55', '433.95', '225.85', '2096.1', '6310.9', '185.6', '970.4', '4364.1', '7069.25', '931.75', '4211.55', '347.65', '294.45', '1264.2', '1348.95', '1980.3', '4326.25', '296.1', '8312.4', '916', '2656.3', '538.2', '1188.2', '7553.6', '6218.45', '89.3', '370.5', '4504.9', '8672.45', '270.7', '338.1', '331.3', '179.25', '531.55', '1972.35', '849.9', '4189.7', '981.45', '1855.65', '1184', '249.95', '55.25', '74.4', '2169.4', '6058.95', '442.45', '8312.75', '718.1', '723.4', '1060.6', '37.2', '3320.75', '2344.5', '73', '2215', '4009.2', '79.25', '3152.5', '6219.6', '7176.55', '35.9', '6448.05', '705.45', '2623.65', '1315.35', '25.8', '8061.5', '3134.7', '1273.3', '2625.25', '8349.7', '2440.15', '1724.15', '7521.95', '1114.85', '2258.25', '5610.25', '1090.1', '62.05', '7493.05', '1537.85', '332.65', '1087.7', '3306.85', '5388.15', '1527.35', '267.35', '4847.05', '1781.35', '6339.45', '5237.4', '416.3', '873.4', '94.15', '1559.3', '3665.55', '1451.1', '876.15', '8425.15', '485.25', '695.05', '1924.1', '4065', '790', '4684.3', '321.05', '3112.05', '70.45', '8041.65', '1593.1', '4631.7', '2596.15', '1776.95', '93.45', '424.5', '4179.1', '1077.95', '8684.8', '215.8', '6424.25', '32.7', '2890.65', '7782.85', '1033', '1131.5', '80.15', '3965.05', '2265', '190.05', '973.65', '490.55', '2184.85', '4415.75', '4620.4', '7610.1', '6976.75', '6287.25', '6143.15', '3958.25', '5511.65', '7968.85', '1336.65', '2424.5', '1961.6', '202.15', '583', '7413.55', '4187.75', '4753.85', '2265.25', '1131.2', '5968.4', '1058.1', '5999.85', '6590.5', '4747.65', '6856.95', '387.9', '4939.25', '4688.65', '107.6', '927.35', '862.4', '1192.7', '363.15', '24.7', '5552.5', '633.3', '7031.45', '2839.45', '1003.05', '3147.5', '6132.7', '1515.1', '933.3', '45.95', '184.65', '4847.35', '1626.4', '868.5', '926.25', '1292.6', '123.8', '4577.9', '6014.85', '856.65', '2684.35', '283.95', '266.9', '1385.85', '3437.5', '6055.55', '1497.9', '221.1', '1149.65', '1299.1', '39.85', '1923.85', '1114.55', '55', '2337.45', '5832', '3358.65', '5791.85', '3496.3', '229.4', '2656.7', '709.5', '2296.25', '8244.3', '4447.55', '3121.45', '7534.65', '8086.4', '1784.9', '660.05', '4174.35', '605.9', '788.6', '4492.9', '364.55', '1948.35', '1737.45', '2020.9', '1607.2', '170.9', '148.05', '130.55', '2331.3', '6311.2', '3211.2', '6161.9', '1636.95', '18.85', '765.15', '3721.9', '70.3', '237.75', '237.25', '7114.25', '2911.3', '1064.65', '1597.4', '7942.15', '1130.85', '1338.15', '163.55', '2568.55', '204.55', '76.65', '2093.4', '198', '1832.4', '1304.8', '1463.5', '1880.85', '1952.25', '2806.9', '3435.6', '220.35', '1415', '94', '8196.4', '994.55', '97.5', '1759.4', '49', '1483.25', '1843.05', '4300.8', '60.15', '196.75', '1782.05', '1604.5', '1059.55', '486.2', '1195.95', '3913.3', '178.8', '1261.35', '324.2', '2313.8', '436.2', '6770.85', '340.4', '1094.5', '210.65', '59.55', '244.85', '577.15', '5959.3', '4285.8', '2072.75', '4475.9', '1292.2', '556.35', '8476.5', '6841.05', '1727.5', '1061.6', '600.25', '3541.1', '679', '1258.3', '3023.65', '6585.35', '1350.15', '6042.7', '19.3', '1020.2', '314.95', '1356.3', '692.1', '1496.9', '1155.6', '1882.8', '1732.6', '7904.25', '8013.55', '3682.45', '4616.1', '92.45', '1539.8', '6562.9', '1411.35', '278.85', '501.2', '4509.5', '155.35', '7880.25', '2970.8', '905.55', '5016.25', '2094.65', '3545.35', '6363.45', '900.9', '43.3', '4830.25', '337.9', '6038.55', '1411.9', '91.45', '692.35', '5514.95', '2076.05', '599.3', '1270.25', '868.1', '3778.1', '3058.15', '1596.6', '2177.45', '85.15', '477.6', '8564.75', '5327.25', '1419.4', '89.5', '5746.15', '1752.65', '5036.3', '4627.65', '5812.6', '442.2', '4740', '8547.15', '593.05', '7168.25', '1597.05', '4819.75', '5315.1', '2345.2', '416.45', '1406.65', '3313.4', '6506.15', '3533.6', '124.4', '158.4', '967.9', '20.5', '1561.5', '2188.45', '4016.3', '155.9', '1802.15', '1400.85', '813.85', '6145.85', '292.8', '44.2', '546.45', '781.25', '1544.05', '1864.2', '36.55', '2447.45', '3062.45', '2779.5', '1238.45', '5935.1', '41.85', '25.75', '474.9', '227.45', '577.6', '445.3', '5825.5', '1647', '523.15', '196.4', '263.65', '2862.55', '1563.95', '867.3', '2070.6', '313.45', '284.35', '2029.05', '4528', '5549.4', '118.5', '5124.55', '5034.05', '5438.95', '1232.9', '4338.6', '4820.15', '2053.05', '2583.75', '4860.85', '179.85', '3373.4', '1422.1', '4990.25', '7548.1', '4126.2', '1067.05', '1093.2', '291.4', '2094.9', '2758.15', '3600.65', '246.5', '2467.75', '5154.6', '1424.95', '159.35', '83.75', '3744.05', '1505.85', '7854.9', '1719.15', '2536.55', '1601.2', '137.25', '1362.85', '2088.05', '1442', '740.3', '1465.75', '7173.15', '1611', '20.15', '381.2', '1156.1', '3617.1', '1621.35', '1151.05', '6767.1', '1093.1', '6683.4', '162.3', '681.4', '342.4', '391.7', '2419.55', '1564.4', '5621.85', '654.55', '1748.9', '279.2', '151.3', '1411.65', '1905.4', '48.55', '47.7', '6841.3', '135', '746.05', '7609.75', '1958.45', '3327.05', '4627.8', '1311.6', '6859.5', '2511.3', '808.95', '3565.65', '6049.5', '5067.45', '1943.2', '776.25', '250.1', '225.55', '743.75', '790.7', '83.3', '44.05', '2236.2', '2471.25', '222.3', '4908.25', '50.75', '477.05', '316.2', '415.55', '208.25', '188.7', '564.35', '2545.75', '6081.4', '8337.45', '565.35', '5276.1', '4921.2', '1024.7', '3877.65', '3168', '5309.5', '6376.55', '4473', '2804.45', '2347.85', '207.4', '785.75', '1874.3', '5730.7', '1453.1', '5321.25', '5025.8', '2633.95', '2243.9', '70.75', '4487.3', '6126.15', '4273.45', '2553.7', '2338.35', '2530.4', '3085.35', '1281.25', '39.8', '1336.9', '5737.6', '2928.5', '90.05', '319.6', '5553.25', '620.75', '4920.8', '2237.55', '5139.65', '446.1', '946.95', '6078.75', '1448.8', '7634.25', '1769.6', '758.6', '235', '6786.4', '951.55', '631.4', '2062.15', '4523.25', '1082.75', '653.9', '713.1', '5969.95', '42.9', '4551.5', '6716.45', '157.75', '2001.5', '1513.6', '197.4', '1864.65', '336.7', '4667', '20.65', '1381.2', '5597.65', '95.1', '2919.85', '7446.9', '266.8', '59.85', '3629.2', '7475.1', '19.95', '2730.85', '853', '2075.1', '6613.65', '274.7', '414.1', '335.75', '576.7', '3395.8', '340.85', '5398.6', '2896.4', '511.25', '797.1', '4872.45', '369.6', '351.55', '7634.8', '190.5', '1441.8', '49.9', '3645.5', '214.75', '435.25', '5941.05', '865.05', '262.05', '212.3', '5025.85', '2030.3', '793.55', '4533.7', '1021.8', '578.5', '216.2', '1772.25', '2619.25', '1046.5', '2570.2', '220.45', '38.25', '847.3', '4653.25', '2933.2', '749.35', '481.1', '220.8', '389.25', '4547.25', '1714.95', '5624.85', '284.9', '3767.4', '5980.55', '4959.6', '330.25', '1700.9', '1121.05', '4546', '106.55', '3474.45', '5980.75', '1327.15', '6110.2', '523.5', '7475.85', '2109.35', '486.85', '858.6', '1431.65', '2433.9', '2274.35', '663.55', '962.9', '5431.9', '169.75', '1242.25', '8129.3', '639.7', '2146.5', '1290', '4086.3', '1740.7', '3007.25', '6079', '5121.75', '8277.05', '45.8', '564.65', '153.95', '4735.2', '3242.5', '2511.55', '19.25', '4758.8', '1052.35', '1509.9', '581.7', '2438.6', '5638.3', '1115.6', '5727.45', '3349.1', '402.6', '7008.15', '3930.55', '7349.35', '6375.8', '3593.8', '3756.45', '5125.75', '5238.9', '4134.7', '7112.15', '3013.05', '6397.6', '863.1', '3953.15', '1614.2', '225.6', '313.6', '90.35', '6654.1', '890.5', '1938.9', '1505.9', '96.85', '1218.65', '217.55', '1225.65', '1358.85', '2715.3', '4504.55', '6579.05', '228.75', '2276.95', '990.85', '88.35', '2031.95', '5610.15', '668.4', '1025.05', '7397', '4707.85', '1260.7', '746.75', '550.6', '7532.15', '1246.4', '99.95', '2983.8', '409.9', '3221.25', '152.7', '3529.95', '55.7', '6843.15', '749.25', '827.7', '2322.85', '3409.6', '1326.35', '54.7', '164.6', '886.7', '1208.6', '1459.35', '4284.65', '5070.4', '307', '4664.2', '7845.8', '45.15', '994.8', '3019.5', '117.05', '196.9', '70.55', '2976.95', '293.3', '6179.35', '3353.4', '4807.45', '70.8', '434.5', '5957.9', '4045.65', '2431.35', '3942.45', '1840.75', '1110.35', '2909.95', '4124.65', '1032', '3314.15', '321.9', '294.2', '3539.25', '4261.2', '1157.05', '5265.2', '1307.8', '405.7', '1215.1', '49.8', '1444.65', '1678.05', '4888.7', '167.2', '6873.75', '830.7', '1331.05', '7432.05', '1505.35', '5567.45', '2511.95', '6674.65', '1286', '5025', '1648.45', '893.55', '777.3', '711.9', '374.5', '531.6', '768.45', '4140.1', '997.75', '20', '2570', '490.65', '3175.85', '1679.25', '3365.85', '333.65', '208.85', '4981.15', '8165.1', '7133.1', '518.75', '106.9', '2965.75', '1108.8', '275.9', '3145.15', '1277.75', '38.7', '2406.1', '2989.6', '5443.65', '181.5', '1146.05', '646.85', '5168.1', '4378.8', '2473.95', '6819.45', '3094.65', '1466.1', '1037.75', '1875.55', '501.35', '1540.2', '1704.95', '649.4', '1098.85', '1618.2', '2555.05', '44.35', '4888.2', '1183.05', '5522.7', '244.75', '68.8', '754', '1752.45', '2654.05', '1438.05', '1782.4', '304.6', '5703', '964.35', '299.2', '4299.75', '1144.6', '18.9', '2264.05', '4922.4', '510.8', '2460.15', '1066.9', '4024.2', '226.2', '412.5', '4534.45', '1426.45', '496.9', '223.15', '6758.45', '35', '6511.8', '93.85', '1938.05', '1800.05', '3067.2', '6526.65', '2651.1', '314.55', '424.75', '1316.9', '764.55', '4890.5', '6697.2', '1400.55', '819.55', '5453.4', '973.55', '969.85', '921.3', '143.9', '1592.35', '1733.15', '1534.75', '8126.65', '89.35', '5985.75', '1654.45', '3055.5', '2774.55', '130.25', '8310.55', '4392.5', '893.2', '1046.2', '3470.8', '2440.25', '733.95', '1060.2', '2572.95', '1096.6', '2911.5', '6985.65', '958.25', '866.4', '488.65', '2531.8', '61.15', '1127.2', '784.45', '4370.75', '2077.95', '2642.05', '3626.35', '4375.8', '3741.85', '74.9', '3092', '2204.35', '4016.75', '401.3', '5708.2', '5608.4', '673.2', '5919.35', '6309.65', '4807.35', '20.85', '565.75', '44.45', '1119.9', '3723.65', '1712.9', '69.5', '1406.9', '3875.4', '402.85', '2640.55', '635.9', '4676.7', '3915.4', '4264', '6849.75', '168.15', '3105.55', '1642.75', '6979.8', '292.4', '300.7', '150', '2441.7', '3856.75', '1849.95', '475.25', '306.6', '3342', '53.55', '187.45', '1964.6', '6118.95', '5683.6', '298.7', '7737.55', '930.45', '3566.6', '1777.6', '1790.15', '5464.65', '3414.65', '206.15', '5731.85', '153.8', '2193', '2628.6', '2033.05', '605.75', '253', '5536.5', '270.8', '368.1', '3139.8', '3827.9', '2791.5', '5680.9', '25.7', '1611.65', '788.05', '3930.6', '5084.65', '79.2', '539.85', '5645.8', '585.95', '5810.9', '7537.5', '101.45', '70.25', '369.25', '3043.6', '519.15', '941', '736.8', '3050.15', '2310.2', '1026.35', '6046.1', '3520.75', '7752.3', '2610.65', '6382', '589.25', '1493.2', '6782.15', '1588.75', '1221.55', '3532', '2515.3', '2016.3', '689.35', '265.3', '2032.3', '77.15', '720.1', '600.15', '257.05', '112.75', '2866.45', '4213.9', '840.1', '129.55', '958.45', '707.5', '3608', '7581.5', '5301.1', '503.6', '3482.85', '5251.75', '256.6', '86', '587.45', '5958.85', '389.8', '1673.4', '5688.05', '1625.65', '5017.7', '91.3', '84.5', '2391.15', '370.25', '7758.9', '1405.3', '3027.65', '1095.3', '2187.55', '4889.2', '3173.35', '6668.05', '559.2', '1035.7', '551.3', '833.55', '245.15', '171', '1147', '494.05', '415.95', '5794.45', '174.3', '442.6', '1269.1', '995.35', '1413', '1265.65', '5794.65', '2768.35', '1386.9', '6017.9', '4018.35', '538.5', '21.05', '186.3', '6416.7', '2281.6', '1031.1', '3824.2', '7990.05', '109.3', '2768.65', '2724.25', '70.9', '1916.2', '601.25', '4323.35', '7285.7', '5632.55', '1912.85', '54.3', '5728.55', '5031.85', '532.1', '6001.45', '4003.85', '5780.7', '5655.45', '8058.55', '1901.25', '221.9', '4599.15', '130.1', '3641.5', '756.4', '49.65', '1284.2', '812.4', '1442.65', '290.55', '4854.3', '926.2', '1384.75', '1682.05', '315.3', '5102.35', '6444.05', '3772.5', '64.55', '6292.7', '5000.05', '6396.45', '609.05', '339.9', '23.45', '700.45', '742.9', '2595.85', '791.75', '6643.5', '1988.05', '383.55', '1553.95', '1380.4', '934.8', '1292.65', '8003.8', '438', '2298.55', '106.8', '1007.9', '3848.8', '6692.65', '6263.8', '20.75', '8075.35', '852.7', '6140.85', '6039.9', '2198.3', '214.4', '1493.55', '2546.85', '536.35', '4113.15', '2044.95', '4534.9', '1639.3', '3846.75', '115.95', '4872.2', '161.45', '77.6', '2576.8', '927.1', '952.3', '1434.1', '207.35', '3316.1', '291.45', '3292.3', '3829.75', '152.3', '5991.05', '3053', '401.1', '4304', '3825.85', '3487.95', '1679.4', '5625.55', '4828.05', '908.55', '174.45', '159.4', '462.8', '200.2', '3488.15', '7922.75', '943.85', '1701.65', '1929.95', '693.45', '71.35', '838.5', '1245.05', '5333.35', '1301.1', '2781.85', '688', '5059.75', '6637.9', '159.45', '358.05', '5199.8', '7723.9', '223.75', '70.85', '4154.8', '1077.5', '5229.45', '3475.55', '2259.35', '2354.8', '160.85', '1912.15', '7459', '69.2', '1702.9', '280', '6869.7', '1189.4', '3019.7', '2107.15', '804.25', '5867', '6373.1', '1096.25', '3640.45', '1446.8', '2362.1', '1183.2', '69.4', '343.45', '5921.35', '533.05', '4837.6', '5696.6', '1343.4', '3618.7', '6816.95', '2427.1', '235.1', '2802.3', '7234.8', '1841.9', '6401.25', '6994.6', '3778.2', '810.7', '1275.7', '4671.65', '810.85', '5607.75', '4454.25', '846.8', '233.7', '546.95', '7623.2', '4904.85', '1191.4', '1216.6', '7849.85', '1231.85', '44.3', '5538.35', '237.65', '1527.5', '2809.05', '1725.95', '3684.95', '2291.2', '825.7', '554.05', '970.45', '1162.85', '418.3', '208.7', '383.65', '5930.05', '257.6', '3196', '147.5', '25.2', '647.5', '2462.55', '4674.4', '243.65', '497.6', '1697.7', '7544.3', '6671.7', '567.8', '1519', '2724.6', '483.7', '399.25', '6733', '2964.05', '956.65', '4137.2', '75.55', '1393.6', '7099', '48.6', '651.5', '3389.25', '523.1', '1341.5', '395.6', '892.15', '1975.85', '4309.55', '4946.7', '3432.9', '593.2', '3562.5', '3177.25', '2342.2', '1875.25', '7629.85', '8046.85', '2983.65', '7447.7', '3580.3', '3124.5', '741.7', '4750.95', '190.1', '949.8', '4804.65', '3263.6', '3808', '6841.4', '20.9', '5931', '1236.15', '2349.8', '1070.25', '3527', '1313.55', '7149.35', '3893.6', '7544', '600', '221.35', '5411.65', '238.5', '169.05', '1131.3', '2036.55', '5420.65', '734.6', '19.05', '76', '3024.15', '552.1', '432.25', '5116.6', '360.35', '162.55', '348.15', '352.65', '5589.3', '6018.65', '715', '700.85', '531', '832.3', '330.6', '3851.45', '340.25', '4479.2', '576.95', '4445.3', '1363.25', '4149.45', '70.6', '3941.7', '1043.4', '90.1', '20.2', '8182.75', '1268.85', '5742.9', '1750.7', '1657.4', '3132.75', '2497.35', '3649.6', '218.55', '5755.8', '195.05', '367.95', '7806.6', '1898.1', '296.15', '6185.8', '4993.4', '5498.8', '59.05', '773.65', '1871.85', '505.45', '4326.8', '4345', '1313.25', '181.8', '1505.05', '6885.75', '417', '452.55', '2621.75', '61.05', '1490.95', '1588.25', '459.95', '788.8', '8424.9', '389.1', '2186.4', '1372.45', '740.55', '2001', '1200.15', '2540.1', '215.2', '3985.35', '903.8', '6109.75', '263.05', '558.8', '1414.2', '7337.55', '102.45', '1992.85', '4103.9', '1806.35', '306.05', '828.85', '164.85', '84.75', '2045.55', '2934.3', '5560', '762.25', '2283.15', '442.85', '1135.7', '6470.1', '7082.85', '483.15', '43.85', '270.6', '1801.1', '3415.25', '2369.05', '244.8', '4738.3', '318.6', '44.75', '85.7', '1574.45', '3370.2', '5617.95', '1346.2', '6858.9', '655.3', '1153.25', '6152.4', '1567.55', '7181.95', '553', '826.1', '2490.15', '7283.25', '655.5', '3678.3', '1714.55', '1107.2', '184.15', '140.4', '7388.45', '3251.3', '2978.3', '1849.2', '174.8', '3914.05', '3815.4', '1301', '5576.3', '1111.85', '6297.65', '7542.25', '5356.45', '116.95', '429.55', '563.05', '1663.5', '404.35', '6561.25', '128.6', '54.75', '5886.85', '3894.4', '4735.35', '3403.4', '154.8', '1126.35', '302.6', '66.95', '240.45', '340.35', '131.05', '3334.9', '4085.75', '3364.55', '575.45', '81', '2043.45', '6148.45', '1614.9', '7118.9', '272', '1927.3', '2586', '653.95', '2568.15', '220.65', '5060.85', '5497.05', '5618.3', '1051.05', '4390.25', '424.15', '4323.45', '184.05', '6435.25', '1742.95', '54.9', '269.65', '954.9', '978', '1929.35', '193.6', '811.65', '140.7', '20.95', '265.35', '1496.45', '2117.2', '1406', '1147.85', '5811.8', '6428.4', '6398.05', '1258.6', '69.85', '156.85', '6314.35', '3966.3', '1653.85', '1125.2', '1671.6', '4804.75', '74.3', '1970.5', '6254.2', '151.65', '6529.25', '74.1', '3541.35', '8308.9', '3673.6', '29.9', '3588.4', '4543.15', '602.9', '2974.5', '2882.25', '7746.7', '2303.35', '7297.75', '1643.55', '6962.85', '5711.05', '4108.15', '131.65', '74.2', '3988.5', '1375.4', '1345.55', '373.5', '911.6', '461.7', '7110.75', '8349.45', '3181.8', '2509.95', '1523.4', '1923.5', '5317.8', '1582.75', '894.3', '1554.9', '663.05', '1378.45', '7455.45', '613.4', '5341.8', '44.15', '1500.95', '4267.15', '5498.2', '3762', '3990.6', '470.6', '2275.1', '382.2', '2292.75', '316.9', '1536.75', '2745.7', '199.75', '1968.1', '2452.7', '1386.8', '1579.7', '4162.05', '3309.25', '7616', '3616.25', '85.1', '293.15', '1729.35', '1068.15', '1360.25', '139.75', '3486.65', '69.75', '8035.95', '1288.75', '1304.85', '794.25', '2184.6', '299.4', '106.85', '1992.95', '4964.7', '551.95', '1233.25', '943', '6302.85', '53.95', '6144.55', '3650.35', '3187.65', '1177.05', '2716.3', '369.1', '6487.2', '1004.5', '2542.45', '1102.4', '4456.65', '6066.55', '346.4', '1345.75', '297.3', '485.2', '171.45', '7142.5', '412.1', '201.1', '916.75', '2498.4', '608', '659.45', '5555.3', '1638.7', '1692.6', '2516.2', '299.3', '950.2', '44.95', '5601.4', '1730.35', '6077.75', '5899.85', '31.9', '582.5', '4911.35', '30.5', '370.4', '1851.45', '5943.65', '158.35', '1859.1', '124.45', '494.95', '415.4', '4484.05', '6094.25', '2289.9', '1463.45', '226.95', '1581.95', '78.3', '5791.1', '6252.9', '422.6', '838.7', '1258.15', '2401.05', '1983.15', '732.5', '357.15', '573.15', '50.8', '7291.75', '6951.15', '6880.85', '49.5', '1008.55', '1399.35', '1238.65', '1836.9', '1274.05', '8670.1', '6152.3', '5427.05', '2595.25', '1910.75', '996.85', '4849.1', '2192.9', '54.65', '239.75', '4097.05', '3161.4', '1808.7', '3969.4', '181.65', '6176.6', '5743.05', '834.15', '168.5', '1294.6', '283.75', '6690.75', '518.9', '712.25', '1558.7', '470.95', '152.95', '7035.6', '1669.4', '8033.1', '4689.15', '3462.1', '6521.9', '1311.75', '278.4', '990.3', '6921.7', '2157.3', '5265.1', '2356.75', '4428.6', '1672.15', '2854.95', '176.2', '1198.8', '1815.65', '6741.15', '7690.9', '2669.45', '2088.8', '3953.7', '1308.4', '4575.35', '962.25', '1799.3', '3238.4', '1396.9', '4113.7', '4233.95', '2861.45', '75.45', '1138.8', '4845.4', '654.85', '7491.75', '45.35', '3021.45', '79.15', '3339.05', '5124.6', '824.75', '1237.3', '7852.4', '160.05', '186.05', '4614.55', '4495.65', '865.1', '6069.25', '77.75', '165.45', '2666.75', '1090.6', '6093.3', '343.95', '2681.15', '308.25', '232.1', '4113.1', '24.6', '73.65', '384.5', '1066.15', '593.45', '4868.4', '2816.65', '79.7', '4983.05', '4730.9', '1217.25', '1022.5', '3720.35', '864.55', '28.3', '405.6', '228.4', '2122.45', '233.55', '2111.45', '1445.3', '3581.4', '4250.1', '1616.15', '4932.5', '214.55', '906.85', '2647.1', '1170.55', '2021.2', '1228.65', '2357.75', '4391.45', '2812.2', '6330.4', '305.55', '484.05', '2868.15', '165.2', '788.55', '617.65', '1193.55', '1395.05', '3182.95', '4259.3', '2065.4', '4448.8', '1328.15', '973.1', '1856.4', '6341.45', '1441.1', '3355.65', '113.35', '958.15', '2731', '633.4', '172.85', '3687.85', '1201.65', '418.4', '1210.4', '938.65', '1281', '145', '235.2', '563.65', '3638.25', '3046.05', '5265.55', '1267.2', '341.35', '4399.5', '1398.25', '1750.85', '696.35', '3739.8', '3919.15', '1072.6', '2395.05', '1415.55', '1699.15', '3970.4', '2495.2', '832.05', '834.1', '1263.85', '4060.9', '46.35', '632.95', '1422.65', '467.85', '2665', '3330.1', '1841.2', '19.5', '445.95', '762.45', '8404.9', '51.6', '503.25', '8332.15', '30.55', '4973.4', '4680.05', '5526.75', '480.6', '620.55', '2898.95', '896.75', '228.65', '2015.8', '338.9', '1758.9', '1517.5', '71.1', '1597.25', '1426.75', '4084.35', '6713.2', '413.25', '4346.4', '509.3', '72', '1031.7', '3899.05', '1723.95', '3201.55', '1335.2', '1389.2', '96.1', '4526.85', '251.65', '387.2', '5986.45', '1192.3', '8456.75', '7998.8', '2416.55', '1553.2', '1637.3', '492', '1170.5', '256.25', '1888.25', '4138.05', '2755.35', '5844.65', '1655.35', '3097.2', '134.6', '3972.25', '2156.25', '5149.5', '5893.9', '989.45', '6733.15', '5931.75', '5885.4', '1067.65', '3512.9', '4884.85', '4914.9', '412.6', '456.85', '450.8', '220.95', '188.1', '1490.4', '104.3', '2869.85', '3217.65', '168.6', '1931.3', '285.2', '855.1', '1710.15', '487.95', '3009.5', '8477.6', '70.15', '6687.85', '1133.65', '1271.8', '96.45', '1430.25', '1732.95', '609.1', '1288', '6033.1', '3655.45', '1620.45', '4586.15', '6944.5', '3091.75', '3645.75', '5460.2', '3694.45', '1816.75', '6871.7', '4453.3', '856.5', '309.25', '4641.1', '608.8', '467.15', '6223.8', '3110.1', '4303.65', '235.5', '5757.2', '305.95', '162.15', '6743.55', '99.75', '5878.9', '301.4', '471.35', '525', '937.6', '455.5', '937.1', '1013.35', '614.45', '571.75', '134.75', '3042.25', '6129.65', '5336.35', '7039.05', '7767.25', '3268.05', '5348.65', '5985', '196.35', '1275.65', '7589.8', '5000.2', '5611.75', '4298.45', '6615.15', '4266.4', '5961.1', '3923.8', '140.95', '454', '356.1', '1507', '2282.95', '2239.4', '1117.55', '4719.75', '143.65', '2564.3', '5329.55', '25.3', '4615.9', '5437.1', '7752.05', '109.25', '2719.2', '520.1', '533.6', '78.65', '2495.15', '303.7', '3036.75', '1784.5', '137.85', '5430.65', '387.4', '772.85', '688.2', '5222.3', '6710.5', '2263.4', '1538.6', '563.5', '562.7', '2010.55', '4619.55', '29.15', '757.1', '2165.05', '6164.7', '2421.75', '1820.45', '198.5', '1857.75', '2095', '2513.5', '603', '6225.4', '3886.05', '2728.6', '7611.85', '141.1', '324.6', '250.8', '1049.6', '1008.7', '677.9', '573.3', '7318.2', '1654.7', '1761.05', '6735.05', '189.95', '4855.35', '185.4', '450.4', '733.55', '4859.1', '1470.95', '55.3', '2796.35', '825.1', '3912.9', '4025.5', '89.75', '20.4', '56.35', '529.8', '554.25', '1611.15', '77.5', '6296.75', '4391.25', '229.7', '5293.2', '127.1', '93.7', '2588.95', '6595', '684.05', '3527.6', '299.7', '461.3', '553.4', '900.5', '4600.95', '438.9', '362.6', '174.75', '889', '393.15', '411.75', '463.05', '1328.35', '966.55', '3928.3', '1888.45', '1820.9', '232.55', '135.2', '1798.9', '239.05', '5869.4', '1203.9', '7665.8', '1079.05', '110.05', '1982.6', '4664.5', '1051.9', '360.55', '2090.25', '85.45', '90.55', '3921.1', '531.15', '1042.65', '1370.35', '1099.6', '3653', '62', '1410.25', '997.65', '908.75', '5311.85', '899.45', '2633.4', '1652.1', '216.9', '1643.25', '6362.35', '1028.9', '74.45', '5099.15', '6052.25', '1123.15', '4541.2', '139.35', '1390.6', '4718.25', '2108.35', '689', '255.55', '2832.75', '244.65', '913.3', '617.15', '163.6', '912', '2560.1', '3236.35', '1234.6', '324.8', '5893.15', '6812.95', '3213.75', '2995.45', '3974.15', '1474.75', '1127.35', '44.4', '78.45', '3058.3', '1623.15', '1623.4', '1240.8', '157.55', '1006.9', '7317.1', '3320.6', '1566.75', '5265.5', '2538.05', '3687.75', '116.85', '3398.9', '3605.6', '1818.3', '676.15', '307.6', '2868.05', '6151.9', '4882.8', '7611.55', '2509.25', '4056.75', '1477.65', '938.95', '2680.15', '4059.85', '3646.8', '1203.95', '3180.5', '2979.2', '659.35', '8594.4', '5485.5', '5563.65', '684.85', '5706.3', '927.15', '2460.35', '5963.95', '727.8', '3706.95', '1498.55', '78.9', '1132.35', '7082.45', '293.85', '1346.3', '1173.55', '2820.65', '1790.35', '1233.4', '7181.25', '4744.35', '2796.45', '129.15', '134.35', '6171.2', '1390.85', '552.95', '6425.65', '44.7', '1001.5', '2003.6', '3131.8', '1600.95', '40.25', '540.95', '1029.8', '92.65', '54.35', '3582.4', '470.2', '1974.8', '189.45', '502.85', '890.6', '576.65', '206.6', '426.35', '1160.45', '5229.8', '83.4', '3880.05', '7511.3', '168.2', '139.25', '5997.1', '35.85', '7677.4', '38', '7111.3', '350.3', '2967.35', '154.65', '80.95', '45.7', '6383.9', '321.65', '5270.6', '5769.75', '475.2', '5373.1', '6889.8', '5073.1', '472.65', '3990.75', '3686.05', '6548.65', '1110.5', '2018.4', '935.9', '2171.15', '35.45', '876.75', '4036', '973.25', '318.5', '2470.1', '257', '6937.95', '4733.1', '672.2', '45.3', '2274.1', '74.35', '7878.3', '5224.35', '1174.8', '280.35', '2954.5', '5720.95', '3229.65', '79.45', '5831.2', '275.7', '3842.6', '3877.95', '3704.15', '5574.75', '3561.15', '95.65', '61.35', '1430.95', '5315.8', '6385.95', '6256.2', '5749.8', '653.15', '4639.45', '2448.5', '1312.45', '5662.25', '7723.7', '7943.45', '19.75', '1514.85', '6457.15', '660.9', '245.2', '3901.25', '5705.05', '1071.6', '1468.9', '5623.7', '389.95', '548.9', '422.5', '3001.2', '780.85', '7074.4', '682.15', '465.85', '4524.05', '914', '6841.45', '1224.05', '1242.45', '710.05', '3479.05', '2390.45', '1167.6', '3027.4', '3377.8', '2341.5', '3365.4', '1081.25', '156.1', '7624.2', '1809.35', '607.3', '5450.7', '3810.55', '1498.2', '927.65', '3003.55', '6536.5', '5436.45', '377.55', '2122.05', '4224.7', '1096.65', '6602.9', '6347.55', '1398.6', '1299.8', '2839.65', '702.9', '934.1', '1058.25', '1789.9', '130.5', '1873.7', '1776', '29.7', '5981.65', '101.1', '2929.75', '5760.65', '3361.05', '419.4', '4916.4', '1698.55', '161.65', '1502.65', '4145.25', '4527.45', '741', '5127.95', '198.7', '5487', '4109', '3045.75', '1064.95', '1520.9', '1321.3', '520.95', '58.85', '1182.55', '322.5', '579', '2298.9', '116.6', '5682.25', '1254.7', '1383.6', '1278.8', '1710.45', '354.05', '1340.1', '610.75', '854.9', '87.9', '835.15', '459.6', '3554.6', '4874.8', '3186.65', '7751.7', '50.05', '3017.65', '2191.15', '581.85', '6293.2', '1160.75', '4949.1', '259.65', '237.7', '1120.3', '7113.75', '69.25', '1336.8', '141.45', '716.4', '5088.4', '7869.05', '4214.25', '1288.3', '274.35', '5448.6', '62.8', '1681.6', '5898.6', '801.3', '1753', '202.9', '849.1', '6597.25', '908.15', '1357.1', '1296.8', '2658.4', '1199.4', '903.6', '2603.95', '803.3', '693.3', '3545.1', '4965.1', '2566.5', '8529.5', '7104.2', '5283.95', '628.65', '2429.1', '111.65', '1137.05', '253.9', '7261.75', '3229.4', '58', '6786.1', '1185.95', '4003', '1212.25', '146.05', '2679.7', '1391.65', '80', '662.95', '2387.75', '4652.4', '4947.55', '2613.4', '85', '1279', '2404.85', '587.4', '2960.1', '5538.8', '5071.05', '74.6', '612.1', '7412.25', '2082.95', '669.45', '478.75', '902', '95.05', '6982.5', '4014', '3994.05', '203.95', '326.8', '111.4', '1011.5', '1468.75', '3131.55', '1790.8', '826', '3791.6', '5244.45', '1549.75', '2234.55', '679.55', '5496.9', '3858.05', '2460.55', '2664.3', '6595.9', '7993.3', '43.95', '6367.2', '6293.75', '3107.3', '1529.65', '2599.95', '2106.3', '63.75', '966.25', '247', '4685.55', '3789.2', '95.6', '1144.5', '819.95', '229.6', '251.75', '7281.6', '1654.85', '3467', '6519.75', '1461.45', '7556.9', '6827.5', '3833.95', '1336.35', '6019.35', '7713.55', '3465.7', '7467.5', '846', '4759.85', '71.55', '24.4', '3409.1', '3540.65', '770.5', '6153.85', '3753.2', '1763.55', '2049.05', '3089.1', '920.5', '5064.45', '1432.55', '1267'}\n",
            "\n",
            "******************************************************* Churn ***********************************************************\n",
            "\n",
            "{0, 1}\n",
            "\n"
          ]
        }
      ],
      "source": [
        "for i in customer_churn.columns:\n",
        "    print(\"*******************************************************\", i,\n",
        "         \"***********************************************************\")\n",
        "    print()\n",
        "    print(set(customer_churn[i].tolist()))\n",
        "    print()"
      ]
    },
    {
      "cell_type": "code",
      "execution_count": null,
      "id": "64f0143b",
      "metadata": {
        "id": "64f0143b"
      },
      "outputs": [],
      "source": [
        "customer_churn['TotalCharges'] = customer_churn['TotalCharges'].replace(\" \", np.nan)\n"
      ]
    },
    {
      "cell_type": "code",
      "execution_count": null,
      "id": "aa54bf3c",
      "metadata": {
        "id": "aa54bf3c",
        "outputId": "f1c9e555-7fd5-4f23-aa43-d500d2326b8e"
      },
      "outputs": [
        {
          "data": {
            "text/plain": [
              "(7043, 21)"
            ]
          },
          "execution_count": 38,
          "metadata": {},
          "output_type": "execute_result"
        }
      ],
      "source": [
        "customer_churn.shape"
      ]
    },
    {
      "cell_type": "code",
      "execution_count": null,
      "id": "b1c1c8e6",
      "metadata": {
        "id": "b1c1c8e6"
      },
      "outputs": [],
      "source": [
        "customer_churn = customer_churn[customer_churn['TotalCharges'].notnull()]"
      ]
    },
    {
      "cell_type": "code",
      "execution_count": null,
      "id": "9e5e6712",
      "metadata": {
        "id": "9e5e6712"
      },
      "outputs": [],
      "source": [
        "customer_churn = customer_churn.reset_index()[customer_churn.columns]\n",
        "customer_churn['TotalCharges'] = customer_churn['TotalCharges'].astype(float)"
      ]
    },
    {
      "cell_type": "code",
      "execution_count": null,
      "id": "9c07b556",
      "metadata": {
        "id": "9c07b556",
        "outputId": "fcb6a5f6-ac65-4be0-f135-b89f6b4f1602"
      },
      "outputs": [
        {
          "data": {
            "text/plain": [
              "(7032, 21)"
            ]
          },
          "execution_count": 42,
          "metadata": {},
          "output_type": "execute_result"
        }
      ],
      "source": [
        "customer_churn.shape"
      ]
    },
    {
      "cell_type": "code",
      "execution_count": null,
      "id": "a7ad8fd2",
      "metadata": {
        "id": "a7ad8fd2"
      },
      "outputs": [],
      "source": [
        "# customer_churn['TotalCharges'].mode()\n",
        "# customer_churn['TotalCharges'] = customer_churn['TotalCharges'].fillna(customer_churn['TotalCharges'].mode())"
      ]
    },
    {
      "cell_type": "code",
      "execution_count": null,
      "id": "d03ccaa0",
      "metadata": {
        "id": "d03ccaa0",
        "outputId": "c2fa2d34-6ca4-4036-84f4-7f8f55986778"
      },
      "outputs": [
        {
          "name": "stdout",
          "output_type": "stream",
          "text": [
            "<class 'pandas.core.frame.DataFrame'>\n",
            "RangeIndex: 7032 entries, 0 to 7031\n",
            "Data columns (total 32 columns):\n",
            " #   Column                                 Non-Null Count  Dtype  \n",
            "---  ------                                 --------------  -----  \n",
            " 0   customerID                             7032 non-null   object \n",
            " 1   SeniorCitizen                          7032 non-null   int64  \n",
            " 2   tenure                                 7032 non-null   int64  \n",
            " 3   MonthlyCharges                         7032 non-null   float64\n",
            " 4   TotalCharges                           7032 non-null   float64\n",
            " 5   Churn                                  7032 non-null   int64  \n",
            " 6   gender_Male                            7032 non-null   uint8  \n",
            " 7   Partner_Yes                            7032 non-null   uint8  \n",
            " 8   Dependents_Yes                         7032 non-null   uint8  \n",
            " 9   PhoneService_Yes                       7032 non-null   uint8  \n",
            " 10  MultipleLines_No phone service         7032 non-null   uint8  \n",
            " 11  MultipleLines_Yes                      7032 non-null   uint8  \n",
            " 12  InternetService_Fiber optic            7032 non-null   uint8  \n",
            " 13  InternetService_No                     7032 non-null   uint8  \n",
            " 14  OnlineSecurity_No internet service     7032 non-null   uint8  \n",
            " 15  OnlineSecurity_Yes                     7032 non-null   uint8  \n",
            " 16  OnlineBackup_No internet service       7032 non-null   uint8  \n",
            " 17  OnlineBackup_Yes                       7032 non-null   uint8  \n",
            " 18  DeviceProtection_No internet service   7032 non-null   uint8  \n",
            " 19  DeviceProtection_Yes                   7032 non-null   uint8  \n",
            " 20  TechSupport_No internet service        7032 non-null   uint8  \n",
            " 21  TechSupport_Yes                        7032 non-null   uint8  \n",
            " 22  StreamingTV_No internet service        7032 non-null   uint8  \n",
            " 23  StreamingTV_Yes                        7032 non-null   uint8  \n",
            " 24  StreamingMovies_No internet service    7032 non-null   uint8  \n",
            " 25  StreamingMovies_Yes                    7032 non-null   uint8  \n",
            " 26  Contract_One year                      7032 non-null   uint8  \n",
            " 27  Contract_Two year                      7032 non-null   uint8  \n",
            " 28  PaperlessBilling_Yes                   7032 non-null   uint8  \n",
            " 29  PaymentMethod_Credit card (automatic)  7032 non-null   uint8  \n",
            " 30  PaymentMethod_Electronic check         7032 non-null   uint8  \n",
            " 31  PaymentMethod_Mailed check             7032 non-null   uint8  \n",
            "dtypes: float64(2), int64(3), object(1), uint8(26)\n",
            "memory usage: 508.3+ KB\n"
          ]
        }
      ],
      "source": [
        "customer_churn.info()"
      ]
    },
    {
      "cell_type": "code",
      "execution_count": null,
      "id": "811f6119",
      "metadata": {
        "id": "811f6119",
        "outputId": "624a6737-6c25-4fe2-a5bc-91367772f1e1"
      },
      "outputs": [
        {
          "data": {
            "text/plain": [
              "Index(['customerID', 'gender', 'SeniorCitizen', 'Partner', 'Dependents',\n",
              "       'tenure', 'PhoneService', 'MultipleLines', 'InternetService',\n",
              "       'OnlineSecurity', 'OnlineBackup', 'DeviceProtection', 'TechSupport',\n",
              "       'StreamingTV', 'StreamingMovies', 'Contract', 'PaperlessBilling',\n",
              "       'PaymentMethod', 'MonthlyCharges', 'TotalCharges', 'Churn'],\n",
              "      dtype='object')"
            ]
          },
          "execution_count": 44,
          "metadata": {},
          "output_type": "execute_result"
        }
      ],
      "source": [
        "customer_churn.columns"
      ]
    },
    {
      "cell_type": "code",
      "execution_count": null,
      "id": "be1410e2",
      "metadata": {
        "id": "be1410e2"
      },
      "outputs": [],
      "source": [
        "customer_churn = pd.get_dummies(customer_churn, columns=['gender','Partner','Dependents',\n",
        "       'PhoneService', 'MultipleLines', 'InternetService',\n",
        "       'OnlineSecurity', 'OnlineBackup', 'DeviceProtection', 'TechSupport',\n",
        "       'StreamingTV', 'StreamingMovies', 'Contract', 'PaperlessBilling',\n",
        "       'PaymentMethod'], drop_first=True )"
      ]
    },
    {
      "cell_type": "code",
      "execution_count": null,
      "id": "94ed844d",
      "metadata": {
        "id": "94ed844d",
        "outputId": "829015e6-bda9-4ed9-aec4-1e32667d98bb"
      },
      "outputs": [
        {
          "data": {
            "text/plain": [
              "(7032, 32)"
            ]
          },
          "execution_count": 46,
          "metadata": {},
          "output_type": "execute_result"
        }
      ],
      "source": [
        "customer_churn.shape"
      ]
    },
    {
      "cell_type": "code",
      "execution_count": null,
      "id": "0cc0a2a4",
      "metadata": {
        "id": "0cc0a2a4",
        "outputId": "2df5e3e9-5052-4a7d-b930-02f80bde7e59"
      },
      "outputs": [
        {
          "data": {
            "text/html": [
              "<div>\n",
              "<style scoped>\n",
              "    .dataframe tbody tr th:only-of-type {\n",
              "        vertical-align: middle;\n",
              "    }\n",
              "\n",
              "    .dataframe tbody tr th {\n",
              "        vertical-align: top;\n",
              "    }\n",
              "\n",
              "    .dataframe thead th {\n",
              "        text-align: right;\n",
              "    }\n",
              "</style>\n",
              "<table border=\"1\" class=\"dataframe\">\n",
              "  <thead>\n",
              "    <tr style=\"text-align: right;\">\n",
              "      <th></th>\n",
              "      <th>customerID</th>\n",
              "      <th>SeniorCitizen</th>\n",
              "      <th>tenure</th>\n",
              "      <th>MonthlyCharges</th>\n",
              "      <th>TotalCharges</th>\n",
              "      <th>Churn</th>\n",
              "      <th>gender_Male</th>\n",
              "      <th>Partner_Yes</th>\n",
              "      <th>Dependents_Yes</th>\n",
              "      <th>PhoneService_Yes</th>\n",
              "      <th>...</th>\n",
              "      <th>StreamingTV_No internet service</th>\n",
              "      <th>StreamingTV_Yes</th>\n",
              "      <th>StreamingMovies_No internet service</th>\n",
              "      <th>StreamingMovies_Yes</th>\n",
              "      <th>Contract_One year</th>\n",
              "      <th>Contract_Two year</th>\n",
              "      <th>PaperlessBilling_Yes</th>\n",
              "      <th>PaymentMethod_Credit card (automatic)</th>\n",
              "      <th>PaymentMethod_Electronic check</th>\n",
              "      <th>PaymentMethod_Mailed check</th>\n",
              "    </tr>\n",
              "  </thead>\n",
              "  <tbody>\n",
              "    <tr>\n",
              "      <th>0</th>\n",
              "      <td>7590-VHVEG</td>\n",
              "      <td>0</td>\n",
              "      <td>1</td>\n",
              "      <td>29.85</td>\n",
              "      <td>29.85</td>\n",
              "      <td>0</td>\n",
              "      <td>0</td>\n",
              "      <td>1</td>\n",
              "      <td>0</td>\n",
              "      <td>0</td>\n",
              "      <td>...</td>\n",
              "      <td>0</td>\n",
              "      <td>0</td>\n",
              "      <td>0</td>\n",
              "      <td>0</td>\n",
              "      <td>0</td>\n",
              "      <td>0</td>\n",
              "      <td>1</td>\n",
              "      <td>0</td>\n",
              "      <td>1</td>\n",
              "      <td>0</td>\n",
              "    </tr>\n",
              "    <tr>\n",
              "      <th>1</th>\n",
              "      <td>5575-GNVDE</td>\n",
              "      <td>0</td>\n",
              "      <td>34</td>\n",
              "      <td>56.95</td>\n",
              "      <td>1889.50</td>\n",
              "      <td>0</td>\n",
              "      <td>1</td>\n",
              "      <td>0</td>\n",
              "      <td>0</td>\n",
              "      <td>1</td>\n",
              "      <td>...</td>\n",
              "      <td>0</td>\n",
              "      <td>0</td>\n",
              "      <td>0</td>\n",
              "      <td>0</td>\n",
              "      <td>1</td>\n",
              "      <td>0</td>\n",
              "      <td>0</td>\n",
              "      <td>0</td>\n",
              "      <td>0</td>\n",
              "      <td>1</td>\n",
              "    </tr>\n",
              "    <tr>\n",
              "      <th>2</th>\n",
              "      <td>3668-QPYBK</td>\n",
              "      <td>0</td>\n",
              "      <td>2</td>\n",
              "      <td>53.85</td>\n",
              "      <td>108.15</td>\n",
              "      <td>1</td>\n",
              "      <td>1</td>\n",
              "      <td>0</td>\n",
              "      <td>0</td>\n",
              "      <td>1</td>\n",
              "      <td>...</td>\n",
              "      <td>0</td>\n",
              "      <td>0</td>\n",
              "      <td>0</td>\n",
              "      <td>0</td>\n",
              "      <td>0</td>\n",
              "      <td>0</td>\n",
              "      <td>1</td>\n",
              "      <td>0</td>\n",
              "      <td>0</td>\n",
              "      <td>1</td>\n",
              "    </tr>\n",
              "    <tr>\n",
              "      <th>3</th>\n",
              "      <td>7795-CFOCW</td>\n",
              "      <td>0</td>\n",
              "      <td>45</td>\n",
              "      <td>42.30</td>\n",
              "      <td>1840.75</td>\n",
              "      <td>0</td>\n",
              "      <td>1</td>\n",
              "      <td>0</td>\n",
              "      <td>0</td>\n",
              "      <td>0</td>\n",
              "      <td>...</td>\n",
              "      <td>0</td>\n",
              "      <td>0</td>\n",
              "      <td>0</td>\n",
              "      <td>0</td>\n",
              "      <td>1</td>\n",
              "      <td>0</td>\n",
              "      <td>0</td>\n",
              "      <td>0</td>\n",
              "      <td>0</td>\n",
              "      <td>0</td>\n",
              "    </tr>\n",
              "    <tr>\n",
              "      <th>4</th>\n",
              "      <td>9237-HQITU</td>\n",
              "      <td>0</td>\n",
              "      <td>2</td>\n",
              "      <td>70.70</td>\n",
              "      <td>151.65</td>\n",
              "      <td>1</td>\n",
              "      <td>0</td>\n",
              "      <td>0</td>\n",
              "      <td>0</td>\n",
              "      <td>1</td>\n",
              "      <td>...</td>\n",
              "      <td>0</td>\n",
              "      <td>0</td>\n",
              "      <td>0</td>\n",
              "      <td>0</td>\n",
              "      <td>0</td>\n",
              "      <td>0</td>\n",
              "      <td>1</td>\n",
              "      <td>0</td>\n",
              "      <td>1</td>\n",
              "      <td>0</td>\n",
              "    </tr>\n",
              "  </tbody>\n",
              "</table>\n",
              "<p>5 rows × 32 columns</p>\n",
              "</div>"
            ],
            "text/plain": [
              "   customerID  SeniorCitizen  tenure  MonthlyCharges  TotalCharges  Churn  \\\n",
              "0  7590-VHVEG              0       1           29.85         29.85      0   \n",
              "1  5575-GNVDE              0      34           56.95       1889.50      0   \n",
              "2  3668-QPYBK              0       2           53.85        108.15      1   \n",
              "3  7795-CFOCW              0      45           42.30       1840.75      0   \n",
              "4  9237-HQITU              0       2           70.70        151.65      1   \n",
              "\n",
              "   gender_Male  Partner_Yes  Dependents_Yes  PhoneService_Yes  ...  \\\n",
              "0            0            1               0                 0  ...   \n",
              "1            1            0               0                 1  ...   \n",
              "2            1            0               0                 1  ...   \n",
              "3            1            0               0                 0  ...   \n",
              "4            0            0               0                 1  ...   \n",
              "\n",
              "   StreamingTV_No internet service  StreamingTV_Yes  \\\n",
              "0                                0                0   \n",
              "1                                0                0   \n",
              "2                                0                0   \n",
              "3                                0                0   \n",
              "4                                0                0   \n",
              "\n",
              "   StreamingMovies_No internet service  StreamingMovies_Yes  \\\n",
              "0                                    0                    0   \n",
              "1                                    0                    0   \n",
              "2                                    0                    0   \n",
              "3                                    0                    0   \n",
              "4                                    0                    0   \n",
              "\n",
              "   Contract_One year  Contract_Two year  PaperlessBilling_Yes  \\\n",
              "0                  0                  0                     1   \n",
              "1                  1                  0                     0   \n",
              "2                  0                  0                     1   \n",
              "3                  1                  0                     0   \n",
              "4                  0                  0                     1   \n",
              "\n",
              "   PaymentMethod_Credit card (automatic)  PaymentMethod_Electronic check  \\\n",
              "0                                      0                               1   \n",
              "1                                      0                               0   \n",
              "2                                      0                               0   \n",
              "3                                      0                               0   \n",
              "4                                      0                               1   \n",
              "\n",
              "   PaymentMethod_Mailed check  \n",
              "0                           0  \n",
              "1                           1  \n",
              "2                           1  \n",
              "3                           0  \n",
              "4                           0  \n",
              "\n",
              "[5 rows x 32 columns]"
            ]
          },
          "execution_count": 48,
          "metadata": {},
          "output_type": "execute_result"
        }
      ],
      "source": [
        "customer_churn.head()"
      ]
    },
    {
      "cell_type": "markdown",
      "id": "dddf6275",
      "metadata": {
        "id": "dddf6275"
      },
      "source": [
        "# Feature Scaling required"
      ]
    },
    {
      "cell_type": "code",
      "execution_count": null,
      "id": "b2707e7f",
      "metadata": {
        "id": "b2707e7f"
      },
      "outputs": [],
      "source": [
        "from sklearn.preprocessing import StandardScaler\n",
        "scaler = StandardScaler()\n",
        "scaler_columns = ['tenure','MonthlyCharges', 'TotalCharges']\n",
        "customer_churn[scaler_columns] = scaler.fit_transform(customer_churn[scaler_columns])"
      ]
    },
    {
      "cell_type": "code",
      "execution_count": null,
      "id": "42f3a238",
      "metadata": {
        "id": "42f3a238",
        "outputId": "3f66f685-8249-4a68-e8ba-ca5ce25cb33d"
      },
      "outputs": [
        {
          "data": {
            "text/html": [
              "<div>\n",
              "<style scoped>\n",
              "    .dataframe tbody tr th:only-of-type {\n",
              "        vertical-align: middle;\n",
              "    }\n",
              "\n",
              "    .dataframe tbody tr th {\n",
              "        vertical-align: top;\n",
              "    }\n",
              "\n",
              "    .dataframe thead th {\n",
              "        text-align: right;\n",
              "    }\n",
              "</style>\n",
              "<table border=\"1\" class=\"dataframe\">\n",
              "  <thead>\n",
              "    <tr style=\"text-align: right;\">\n",
              "      <th></th>\n",
              "      <th>customerID</th>\n",
              "      <th>SeniorCitizen</th>\n",
              "      <th>tenure</th>\n",
              "      <th>MonthlyCharges</th>\n",
              "      <th>TotalCharges</th>\n",
              "      <th>Churn</th>\n",
              "      <th>gender_Male</th>\n",
              "      <th>Partner_Yes</th>\n",
              "      <th>Dependents_Yes</th>\n",
              "      <th>PhoneService_Yes</th>\n",
              "      <th>...</th>\n",
              "      <th>StreamingTV_No internet service</th>\n",
              "      <th>StreamingTV_Yes</th>\n",
              "      <th>StreamingMovies_No internet service</th>\n",
              "      <th>StreamingMovies_Yes</th>\n",
              "      <th>Contract_One year</th>\n",
              "      <th>Contract_Two year</th>\n",
              "      <th>PaperlessBilling_Yes</th>\n",
              "      <th>PaymentMethod_Credit card (automatic)</th>\n",
              "      <th>PaymentMethod_Electronic check</th>\n",
              "      <th>PaymentMethod_Mailed check</th>\n",
              "    </tr>\n",
              "  </thead>\n",
              "  <tbody>\n",
              "    <tr>\n",
              "      <th>0</th>\n",
              "      <td>7590-VHVEG</td>\n",
              "      <td>0</td>\n",
              "      <td>-1.280248</td>\n",
              "      <td>-1.161694</td>\n",
              "      <td>-0.994194</td>\n",
              "      <td>0</td>\n",
              "      <td>0</td>\n",
              "      <td>1</td>\n",
              "      <td>0</td>\n",
              "      <td>0</td>\n",
              "      <td>...</td>\n",
              "      <td>0</td>\n",
              "      <td>0</td>\n",
              "      <td>0</td>\n",
              "      <td>0</td>\n",
              "      <td>0</td>\n",
              "      <td>0</td>\n",
              "      <td>1</td>\n",
              "      <td>0</td>\n",
              "      <td>1</td>\n",
              "      <td>0</td>\n",
              "    </tr>\n",
              "    <tr>\n",
              "      <th>1</th>\n",
              "      <td>5575-GNVDE</td>\n",
              "      <td>0</td>\n",
              "      <td>0.064303</td>\n",
              "      <td>-0.260878</td>\n",
              "      <td>-0.173740</td>\n",
              "      <td>0</td>\n",
              "      <td>1</td>\n",
              "      <td>0</td>\n",
              "      <td>0</td>\n",
              "      <td>1</td>\n",
              "      <td>...</td>\n",
              "      <td>0</td>\n",
              "      <td>0</td>\n",
              "      <td>0</td>\n",
              "      <td>0</td>\n",
              "      <td>1</td>\n",
              "      <td>0</td>\n",
              "      <td>0</td>\n",
              "      <td>0</td>\n",
              "      <td>0</td>\n",
              "      <td>1</td>\n",
              "    </tr>\n",
              "    <tr>\n",
              "      <th>2</th>\n",
              "      <td>3668-QPYBK</td>\n",
              "      <td>0</td>\n",
              "      <td>-1.239504</td>\n",
              "      <td>-0.363923</td>\n",
              "      <td>-0.959649</td>\n",
              "      <td>1</td>\n",
              "      <td>1</td>\n",
              "      <td>0</td>\n",
              "      <td>0</td>\n",
              "      <td>1</td>\n",
              "      <td>...</td>\n",
              "      <td>0</td>\n",
              "      <td>0</td>\n",
              "      <td>0</td>\n",
              "      <td>0</td>\n",
              "      <td>0</td>\n",
              "      <td>0</td>\n",
              "      <td>1</td>\n",
              "      <td>0</td>\n",
              "      <td>0</td>\n",
              "      <td>1</td>\n",
              "    </tr>\n",
              "    <tr>\n",
              "      <th>3</th>\n",
              "      <td>7795-CFOCW</td>\n",
              "      <td>0</td>\n",
              "      <td>0.512486</td>\n",
              "      <td>-0.747850</td>\n",
              "      <td>-0.195248</td>\n",
              "      <td>0</td>\n",
              "      <td>1</td>\n",
              "      <td>0</td>\n",
              "      <td>0</td>\n",
              "      <td>0</td>\n",
              "      <td>...</td>\n",
              "      <td>0</td>\n",
              "      <td>0</td>\n",
              "      <td>0</td>\n",
              "      <td>0</td>\n",
              "      <td>1</td>\n",
              "      <td>0</td>\n",
              "      <td>0</td>\n",
              "      <td>0</td>\n",
              "      <td>0</td>\n",
              "      <td>0</td>\n",
              "    </tr>\n",
              "    <tr>\n",
              "      <th>4</th>\n",
              "      <td>9237-HQITU</td>\n",
              "      <td>0</td>\n",
              "      <td>-1.239504</td>\n",
              "      <td>0.196178</td>\n",
              "      <td>-0.940457</td>\n",
              "      <td>1</td>\n",
              "      <td>0</td>\n",
              "      <td>0</td>\n",
              "      <td>0</td>\n",
              "      <td>1</td>\n",
              "      <td>...</td>\n",
              "      <td>0</td>\n",
              "      <td>0</td>\n",
              "      <td>0</td>\n",
              "      <td>0</td>\n",
              "      <td>0</td>\n",
              "      <td>0</td>\n",
              "      <td>1</td>\n",
              "      <td>0</td>\n",
              "      <td>1</td>\n",
              "      <td>0</td>\n",
              "    </tr>\n",
              "  </tbody>\n",
              "</table>\n",
              "<p>5 rows × 32 columns</p>\n",
              "</div>"
            ],
            "text/plain": [
              "   customerID  SeniorCitizen    tenure  MonthlyCharges  TotalCharges  Churn  \\\n",
              "0  7590-VHVEG              0 -1.280248       -1.161694     -0.994194      0   \n",
              "1  5575-GNVDE              0  0.064303       -0.260878     -0.173740      0   \n",
              "2  3668-QPYBK              0 -1.239504       -0.363923     -0.959649      1   \n",
              "3  7795-CFOCW              0  0.512486       -0.747850     -0.195248      0   \n",
              "4  9237-HQITU              0 -1.239504        0.196178     -0.940457      1   \n",
              "\n",
              "   gender_Male  Partner_Yes  Dependents_Yes  PhoneService_Yes  ...  \\\n",
              "0            0            1               0                 0  ...   \n",
              "1            1            0               0                 1  ...   \n",
              "2            1            0               0                 1  ...   \n",
              "3            1            0               0                 0  ...   \n",
              "4            0            0               0                 1  ...   \n",
              "\n",
              "   StreamingTV_No internet service  StreamingTV_Yes  \\\n",
              "0                                0                0   \n",
              "1                                0                0   \n",
              "2                                0                0   \n",
              "3                                0                0   \n",
              "4                                0                0   \n",
              "\n",
              "   StreamingMovies_No internet service  StreamingMovies_Yes  \\\n",
              "0                                    0                    0   \n",
              "1                                    0                    0   \n",
              "2                                    0                    0   \n",
              "3                                    0                    0   \n",
              "4                                    0                    0   \n",
              "\n",
              "   Contract_One year  Contract_Two year  PaperlessBilling_Yes  \\\n",
              "0                  0                  0                     1   \n",
              "1                  1                  0                     0   \n",
              "2                  0                  0                     1   \n",
              "3                  1                  0                     0   \n",
              "4                  0                  0                     1   \n",
              "\n",
              "   PaymentMethod_Credit card (automatic)  PaymentMethod_Electronic check  \\\n",
              "0                                      0                               1   \n",
              "1                                      0                               0   \n",
              "2                                      0                               0   \n",
              "3                                      0                               0   \n",
              "4                                      0                               1   \n",
              "\n",
              "   PaymentMethod_Mailed check  \n",
              "0                           0  \n",
              "1                           1  \n",
              "2                           1  \n",
              "3                           0  \n",
              "4                           0  \n",
              "\n",
              "[5 rows x 32 columns]"
            ]
          },
          "execution_count": 50,
          "metadata": {},
          "output_type": "execute_result"
        }
      ],
      "source": [
        "customer_churn.head()"
      ]
    },
    {
      "cell_type": "code",
      "execution_count": null,
      "id": "a29194b4",
      "metadata": {
        "id": "a29194b4"
      },
      "outputs": [],
      "source": [
        "# split the data into independent variable and dependent variable\n",
        "x = customer_churn.drop(['customerID','Churn'], axis=1)\n",
        "y = customer_churn['Churn']"
      ]
    },
    {
      "cell_type": "code",
      "execution_count": null,
      "id": "45d6cd47",
      "metadata": {
        "id": "45d6cd47",
        "outputId": "b97739c8-78db-4d66-a111-eb12390ac455"
      },
      "outputs": [
        {
          "data": {
            "text/html": [
              "<div>\n",
              "<style scoped>\n",
              "    .dataframe tbody tr th:only-of-type {\n",
              "        vertical-align: middle;\n",
              "    }\n",
              "\n",
              "    .dataframe tbody tr th {\n",
              "        vertical-align: top;\n",
              "    }\n",
              "\n",
              "    .dataframe thead th {\n",
              "        text-align: right;\n",
              "    }\n",
              "</style>\n",
              "<table border=\"1\" class=\"dataframe\">\n",
              "  <thead>\n",
              "    <tr style=\"text-align: right;\">\n",
              "      <th></th>\n",
              "      <th>SeniorCitizen</th>\n",
              "      <th>tenure</th>\n",
              "      <th>MonthlyCharges</th>\n",
              "      <th>TotalCharges</th>\n",
              "      <th>gender_Male</th>\n",
              "      <th>Partner_Yes</th>\n",
              "      <th>Dependents_Yes</th>\n",
              "      <th>PhoneService_Yes</th>\n",
              "      <th>MultipleLines_No phone service</th>\n",
              "      <th>MultipleLines_Yes</th>\n",
              "      <th>...</th>\n",
              "      <th>StreamingTV_No internet service</th>\n",
              "      <th>StreamingTV_Yes</th>\n",
              "      <th>StreamingMovies_No internet service</th>\n",
              "      <th>StreamingMovies_Yes</th>\n",
              "      <th>Contract_One year</th>\n",
              "      <th>Contract_Two year</th>\n",
              "      <th>PaperlessBilling_Yes</th>\n",
              "      <th>PaymentMethod_Credit card (automatic)</th>\n",
              "      <th>PaymentMethod_Electronic check</th>\n",
              "      <th>PaymentMethod_Mailed check</th>\n",
              "    </tr>\n",
              "  </thead>\n",
              "  <tbody>\n",
              "    <tr>\n",
              "      <th>0</th>\n",
              "      <td>0</td>\n",
              "      <td>-1.280248</td>\n",
              "      <td>-1.161694</td>\n",
              "      <td>-0.994194</td>\n",
              "      <td>0</td>\n",
              "      <td>1</td>\n",
              "      <td>0</td>\n",
              "      <td>0</td>\n",
              "      <td>1</td>\n",
              "      <td>0</td>\n",
              "      <td>...</td>\n",
              "      <td>0</td>\n",
              "      <td>0</td>\n",
              "      <td>0</td>\n",
              "      <td>0</td>\n",
              "      <td>0</td>\n",
              "      <td>0</td>\n",
              "      <td>1</td>\n",
              "      <td>0</td>\n",
              "      <td>1</td>\n",
              "      <td>0</td>\n",
              "    </tr>\n",
              "  </tbody>\n",
              "</table>\n",
              "<p>1 rows × 30 columns</p>\n",
              "</div>"
            ],
            "text/plain": [
              "   SeniorCitizen    tenure  MonthlyCharges  TotalCharges  gender_Male  \\\n",
              "0              0 -1.280248       -1.161694     -0.994194            0   \n",
              "\n",
              "   Partner_Yes  Dependents_Yes  PhoneService_Yes  \\\n",
              "0            1               0                 0   \n",
              "\n",
              "   MultipleLines_No phone service  MultipleLines_Yes  ...  \\\n",
              "0                               1                  0  ...   \n",
              "\n",
              "   StreamingTV_No internet service  StreamingTV_Yes  \\\n",
              "0                                0                0   \n",
              "\n",
              "   StreamingMovies_No internet service  StreamingMovies_Yes  \\\n",
              "0                                    0                    0   \n",
              "\n",
              "   Contract_One year  Contract_Two year  PaperlessBilling_Yes  \\\n",
              "0                  0                  0                     1   \n",
              "\n",
              "   PaymentMethod_Credit card (automatic)  PaymentMethod_Electronic check  \\\n",
              "0                                      0                               1   \n",
              "\n",
              "   PaymentMethod_Mailed check  \n",
              "0                           0  \n",
              "\n",
              "[1 rows x 30 columns]"
            ]
          },
          "execution_count": 52,
          "metadata": {},
          "output_type": "execute_result"
        }
      ],
      "source": [
        "x.head(1)"
      ]
    },
    {
      "cell_type": "code",
      "execution_count": null,
      "id": "3749f519",
      "metadata": {
        "id": "3749f519",
        "outputId": "af5ffbca-08d7-45eb-c186-421453983169"
      },
      "outputs": [
        {
          "data": {
            "text/plain": [
              "0    0\n",
              "1    0\n",
              "2    1\n",
              "3    0\n",
              "4    1\n",
              "Name: Churn, dtype: int64"
            ]
          },
          "execution_count": 53,
          "metadata": {},
          "output_type": "execute_result"
        }
      ],
      "source": [
        "y.head()"
      ]
    },
    {
      "cell_type": "code",
      "execution_count": null,
      "id": "15612fc9",
      "metadata": {
        "id": "15612fc9",
        "outputId": "784ca43f-7fb2-41b3-caab-d30897374d30"
      },
      "outputs": [
        {
          "name": "stdout",
          "output_type": "stream",
          "text": [
            "0    5163\n",
            "1    1869\n",
            "Name: Churn, dtype: int64\n",
            "**************************************************************************************************************\n",
            "0    5163\n",
            "1    5163\n",
            "Name: Churn, dtype: int64\n"
          ]
        }
      ],
      "source": [
        "# Handling imbalance problem - Target is Minority Class - SMOTE\n",
        "import imblearn\n",
        "from imblearn.over_sampling import SMOTE\n",
        "smote = SMOTE()\n",
        "x_smote, y_smote = smote.fit_resample(x,y)\n",
        "print(y.value_counts())\n",
        "print(\"***********\"*10)\n",
        "print(y_smote.value_counts())"
      ]
    },
    {
      "cell_type": "code",
      "execution_count": null,
      "id": "0a144e43",
      "metadata": {
        "id": "0a144e43",
        "outputId": "1c2f245d-64d9-4e92-9853-5ba51d763892"
      },
      "outputs": [
        {
          "name": "stdout",
          "output_type": "stream",
          "text": [
            "(7032, 30)\n",
            "(10326, 30)\n"
          ]
        }
      ],
      "source": [
        "print(x.shape)\n",
        "print(x_smote.shape)"
      ]
    },
    {
      "cell_type": "code",
      "execution_count": null,
      "id": "48de4aaf",
      "metadata": {
        "id": "48de4aaf",
        "outputId": "e984f9c7-6262-48ea-f002-1c18e2cf1a89"
      },
      "outputs": [
        {
          "name": "stdout",
          "output_type": "stream",
          "text": [
            "(7032,)\n",
            "(10326,)\n"
          ]
        }
      ],
      "source": [
        "print(y.shape)\n",
        "print(y_smote.shape)"
      ]
    },
    {
      "cell_type": "code",
      "execution_count": null,
      "id": "9d41b1de",
      "metadata": {
        "id": "9d41b1de"
      },
      "outputs": [],
      "source": [
        "# split the data into training and test\n",
        "from sklearn.model_selection import train_test_split\n",
        "x_train, x_test, y_train, y_test = train_test_split(x_smote, y_smote, test_size=0.3, \n",
        "                                                    random_state=101)"
      ]
    },
    {
      "cell_type": "code",
      "execution_count": null,
      "id": "b7bc1ffd",
      "metadata": {
        "colab": {
          "referenced_widgets": [
            "6c0cfec5547c45b98d62c2c3fe2f283b",
            "75b8d2c3ce7642a688e4d7dee9118011",
            "14818a42f5a34b968cf7830fe47badaa",
            "182db132e2994d3eaf19d5c3679a20d9"
          ]
        },
        "id": "b7bc1ffd",
        "outputId": "c2d5067d-8e39-4b32-bc5a-ab52b6c6dc3c"
      },
      "outputs": [
        {
          "data": {
            "application/vnd.jupyter.widget-view+json": {
              "model_id": "6c0cfec5547c45b98d62c2c3fe2f283b",
              "version_major": 2,
              "version_minor": 0
            },
            "text/plain": [
              "Summarize dataset:   0%|          | 0/5 [00:00<?, ?it/s]"
            ]
          },
          "metadata": {},
          "output_type": "display_data"
        },
        {
          "data": {
            "application/vnd.jupyter.widget-view+json": {
              "model_id": "75b8d2c3ce7642a688e4d7dee9118011",
              "version_major": 2,
              "version_minor": 0
            },
            "text/plain": [
              "Generate report structure:   0%|          | 0/1 [00:00<?, ?it/s]"
            ]
          },
          "metadata": {},
          "output_type": "display_data"
        },
        {
          "data": {
            "application/vnd.jupyter.widget-view+json": {
              "model_id": "14818a42f5a34b968cf7830fe47badaa",
              "version_major": 2,
              "version_minor": 0
            },
            "text/plain": [
              "Render HTML:   0%|          | 0/1 [00:00<?, ?it/s]"
            ]
          },
          "metadata": {},
          "output_type": "display_data"
        },
        {
          "data": {
            "application/vnd.jupyter.widget-view+json": {
              "model_id": "182db132e2994d3eaf19d5c3679a20d9",
              "version_major": 2,
              "version_minor": 0
            },
            "text/plain": [
              "Export report to file:   0%|          | 0/1 [00:00<?, ?it/s]"
            ]
          },
          "metadata": {},
          "output_type": "display_data"
        }
      ],
      "source": [
        "# Pandas Profilling\n",
        "from pandas_profiling import ProfileReport\n",
        "reports = ProfileReport(customer_churn)\n",
        "reports.to_file(output_file='output.html')"
      ]
    },
    {
      "cell_type": "markdown",
      "id": "3e65ef0a",
      "metadata": {
        "id": "3e65ef0a"
      },
      "source": [
        "# Logistic Regression"
      ]
    },
    {
      "cell_type": "code",
      "execution_count": null,
      "id": "d5ca5d3f",
      "metadata": {
        "id": "d5ca5d3f"
      },
      "outputs": [],
      "source": [
        "from sklearn.linear_model import LogisticRegression"
      ]
    },
    {
      "cell_type": "code",
      "execution_count": null,
      "id": "785ea5c6",
      "metadata": {
        "id": "785ea5c6",
        "outputId": "177f422b-6b66-4ab3-e744-542c1e8ff7fb"
      },
      "outputs": [
        {
          "data": {
            "text/plain": [
              "LogisticRegression()"
            ]
          },
          "execution_count": 61,
          "metadata": {},
          "output_type": "execute_result"
        }
      ],
      "source": [
        "logit = LogisticRegression()\n",
        "logit.fit(x_train, y_train)"
      ]
    },
    {
      "cell_type": "code",
      "execution_count": null,
      "id": "a6a9852c",
      "metadata": {
        "id": "a6a9852c"
      },
      "outputs": [],
      "source": [
        "y_pred_logit_train = logit.predict(x_train)\n",
        "y_pred_logit_test = logit.predict(x_test)"
      ]
    },
    {
      "cell_type": "code",
      "execution_count": null,
      "id": "733b9ef4",
      "metadata": {
        "id": "733b9ef4"
      },
      "outputs": [],
      "source": []
    },
    {
      "cell_type": "code",
      "execution_count": null,
      "id": "b74e7fd4",
      "metadata": {
        "id": "b74e7fd4"
      },
      "outputs": [],
      "source": [
        "from sklearn.metrics import confusion_matrix, classification_report, accuracy_score"
      ]
    },
    {
      "cell_type": "code",
      "execution_count": null,
      "id": "1bc740b0",
      "metadata": {
        "id": "1bc740b0",
        "outputId": "fa811c07-581e-4291-d60c-d7a5209887c2"
      },
      "outputs": [
        {
          "name": "stdout",
          "output_type": "stream",
          "text": [
            "              precision    recall  f1-score   support\n",
            "\n",
            "           0       0.83      0.77      0.80      3611\n",
            "           1       0.78      0.84      0.81      3617\n",
            "\n",
            "    accuracy                           0.80      7228\n",
            "   macro avg       0.81      0.80      0.80      7228\n",
            "weighted avg       0.81      0.80      0.80      7228\n",
            "\n",
            "********************************************************************************************************************************************************************************************************\n",
            "              precision    recall  f1-score   support\n",
            "\n",
            "           0       0.83      0.76      0.80      1552\n",
            "           1       0.78      0.85      0.81      1546\n",
            "\n",
            "    accuracy                           0.80      3098\n",
            "   macro avg       0.81      0.80      0.80      3098\n",
            "weighted avg       0.81      0.80      0.80      3098\n",
            "\n"
          ]
        }
      ],
      "source": [
        "print(classification_report(y_train, y_pred_logit_train))\n",
        "print(\"********************\"*10)\n",
        "print(classification_report(y_test, y_pred_logit_test))"
      ]
    },
    {
      "cell_type": "code",
      "execution_count": null,
      "id": "bab29e2a",
      "metadata": {
        "id": "bab29e2a",
        "outputId": "a77285ba-3e0c-4bb9-c984-a233131b7db3"
      },
      "outputs": [
        {
          "name": "stdout",
          "output_type": "stream",
          "text": [
            "0.8042335362479247\n",
            "********************************************************************************************************************************************************************************************************\n",
            "0.8040671400903809\n"
          ]
        }
      ],
      "source": [
        "print(accuracy_score(y_train, y_pred_logit_train))\n",
        "print(\"********************\"*10)\n",
        "print(accuracy_score(y_test, y_pred_logit_test))"
      ]
    },
    {
      "cell_type": "code",
      "execution_count": null,
      "id": "c58496ae",
      "metadata": {
        "id": "c58496ae",
        "outputId": "57c3eff0-e208-4a12-fae8-15a611c38dc5"
      },
      "outputs": [
        {
          "data": {
            "text/plain": [
              "Index(['customerID', 'SeniorCitizen', 'tenure', 'MonthlyCharges',\n",
              "       'TotalCharges', 'Churn', 'gender_Male', 'Partner_Yes', 'Dependents_Yes',\n",
              "       'PhoneService_Yes', 'MultipleLines_No phone service',\n",
              "       'MultipleLines_Yes', 'InternetService_Fiber optic',\n",
              "       'InternetService_No', 'OnlineSecurity_No internet service',\n",
              "       'OnlineSecurity_Yes', 'OnlineBackup_No internet service',\n",
              "       'OnlineBackup_Yes', 'DeviceProtection_No internet service',\n",
              "       'DeviceProtection_Yes', 'TechSupport_No internet service',\n",
              "       'TechSupport_Yes', 'StreamingTV_No internet service', 'StreamingTV_Yes',\n",
              "       'StreamingMovies_No internet service', 'StreamingMovies_Yes',\n",
              "       'Contract_One year', 'Contract_Two year', 'PaperlessBilling_Yes',\n",
              "       'PaymentMethod_Credit card (automatic)',\n",
              "       'PaymentMethod_Electronic check', 'PaymentMethod_Mailed check'],\n",
              "      dtype='object')"
            ]
          },
          "execution_count": 66,
          "metadata": {},
          "output_type": "execute_result"
        }
      ],
      "source": [
        "customer_churn.columns"
      ]
    },
    {
      "cell_type": "code",
      "execution_count": null,
      "id": "2a6b839a",
      "metadata": {
        "id": "2a6b839a",
        "outputId": "1323fdf4-0fd0-4292-947a-03fdb59cf7cc"
      },
      "outputs": [
        {
          "data": {
            "text/plain": [
              "7590-VHVEG    1\n",
              "0265-PSUAE    1\n",
              "2956-GGUCQ    1\n",
              "6008-NAIXK    1\n",
              "5956-YHHRX    1\n",
              "             ..\n",
              "7874-ECPQJ    1\n",
              "9796-MVYXX    1\n",
              "2637-FKFSY    1\n",
              "1552-AAGRX    1\n",
              "3186-AJIEK    1\n",
              "Name: customerID, Length: 7032, dtype: int64"
            ]
          },
          "execution_count": 67,
          "metadata": {},
          "output_type": "execute_result"
        }
      ],
      "source": [
        "customer_churn['customerID'].value_counts()"
      ]
    },
    {
      "cell_type": "code",
      "execution_count": null,
      "id": "78b96ae6",
      "metadata": {
        "id": "78b96ae6",
        "outputId": "e400e77b-3d17-461a-ac30-3ee6bb6ab520"
      },
      "outputs": [
        {
          "data": {
            "text/plain": [
              "Index(['SeniorCitizen', 'tenure', 'MonthlyCharges', 'TotalCharges',\n",
              "       'gender_Male', 'Partner_Yes', 'Dependents_Yes', 'PhoneService_Yes',\n",
              "       'MultipleLines_No phone service', 'MultipleLines_Yes',\n",
              "       'InternetService_Fiber optic', 'InternetService_No',\n",
              "       'OnlineSecurity_No internet service', 'OnlineSecurity_Yes',\n",
              "       'OnlineBackup_No internet service', 'OnlineBackup_Yes',\n",
              "       'DeviceProtection_No internet service', 'DeviceProtection_Yes',\n",
              "       'TechSupport_No internet service', 'TechSupport_Yes',\n",
              "       'StreamingTV_No internet service', 'StreamingTV_Yes',\n",
              "       'StreamingMovies_No internet service', 'StreamingMovies_Yes',\n",
              "       'Contract_One year', 'Contract_Two year', 'PaperlessBilling_Yes',\n",
              "       'PaymentMethod_Credit card (automatic)',\n",
              "       'PaymentMethod_Electronic check', 'PaymentMethod_Mailed check'],\n",
              "      dtype='object')"
            ]
          },
          "execution_count": 73,
          "metadata": {},
          "output_type": "execute_result"
        }
      ],
      "source": [
        "x_test.columns"
      ]
    },
    {
      "cell_type": "code",
      "execution_count": null,
      "id": "9d7b48c0",
      "metadata": {
        "id": "9d7b48c0"
      },
      "outputs": [],
      "source": [
        "customer_churn['probability1'] = logit.predict_proba(customer_churn[x_test.columns])[:,0]"
      ]
    },
    {
      "cell_type": "code",
      "execution_count": null,
      "id": "9983d093",
      "metadata": {
        "id": "9983d093",
        "outputId": "7f654522-82e9-402a-81c0-5cc4c245847c"
      },
      "outputs": [
        {
          "data": {
            "text/html": [
              "<div>\n",
              "<style scoped>\n",
              "    .dataframe tbody tr th:only-of-type {\n",
              "        vertical-align: middle;\n",
              "    }\n",
              "\n",
              "    .dataframe tbody tr th {\n",
              "        vertical-align: top;\n",
              "    }\n",
              "\n",
              "    .dataframe thead th {\n",
              "        text-align: right;\n",
              "    }\n",
              "</style>\n",
              "<table border=\"1\" class=\"dataframe\">\n",
              "  <thead>\n",
              "    <tr style=\"text-align: right;\">\n",
              "      <th></th>\n",
              "      <th>customerID</th>\n",
              "      <th>SeniorCitizen</th>\n",
              "      <th>tenure</th>\n",
              "      <th>MonthlyCharges</th>\n",
              "      <th>TotalCharges</th>\n",
              "      <th>Churn</th>\n",
              "      <th>gender_Male</th>\n",
              "      <th>Partner_Yes</th>\n",
              "      <th>Dependents_Yes</th>\n",
              "      <th>PhoneService_Yes</th>\n",
              "      <th>...</th>\n",
              "      <th>StreamingMovies_No internet service</th>\n",
              "      <th>StreamingMovies_Yes</th>\n",
              "      <th>Contract_One year</th>\n",
              "      <th>Contract_Two year</th>\n",
              "      <th>PaperlessBilling_Yes</th>\n",
              "      <th>PaymentMethod_Credit card (automatic)</th>\n",
              "      <th>PaymentMethod_Electronic check</th>\n",
              "      <th>PaymentMethod_Mailed check</th>\n",
              "      <th>probability</th>\n",
              "      <th>probability1</th>\n",
              "    </tr>\n",
              "  </thead>\n",
              "  <tbody>\n",
              "    <tr>\n",
              "      <th>0</th>\n",
              "      <td>7590-VHVEG</td>\n",
              "      <td>0</td>\n",
              "      <td>-1.280248</td>\n",
              "      <td>-1.161694</td>\n",
              "      <td>-0.994194</td>\n",
              "      <td>0</td>\n",
              "      <td>0</td>\n",
              "      <td>1</td>\n",
              "      <td>0</td>\n",
              "      <td>0</td>\n",
              "      <td>...</td>\n",
              "      <td>0</td>\n",
              "      <td>0</td>\n",
              "      <td>0</td>\n",
              "      <td>0</td>\n",
              "      <td>1</td>\n",
              "      <td>0</td>\n",
              "      <td>1</td>\n",
              "      <td>0</td>\n",
              "      <td>0.762849</td>\n",
              "      <td>0.237151</td>\n",
              "    </tr>\n",
              "    <tr>\n",
              "      <th>1</th>\n",
              "      <td>5575-GNVDE</td>\n",
              "      <td>0</td>\n",
              "      <td>0.064303</td>\n",
              "      <td>-0.260878</td>\n",
              "      <td>-0.173740</td>\n",
              "      <td>0</td>\n",
              "      <td>1</td>\n",
              "      <td>0</td>\n",
              "      <td>0</td>\n",
              "      <td>1</td>\n",
              "      <td>...</td>\n",
              "      <td>0</td>\n",
              "      <td>0</td>\n",
              "      <td>1</td>\n",
              "      <td>0</td>\n",
              "      <td>0</td>\n",
              "      <td>0</td>\n",
              "      <td>0</td>\n",
              "      <td>1</td>\n",
              "      <td>0.119737</td>\n",
              "      <td>0.880263</td>\n",
              "    </tr>\n",
              "    <tr>\n",
              "      <th>2</th>\n",
              "      <td>3668-QPYBK</td>\n",
              "      <td>0</td>\n",
              "      <td>-1.239504</td>\n",
              "      <td>-0.363923</td>\n",
              "      <td>-0.959649</td>\n",
              "      <td>1</td>\n",
              "      <td>1</td>\n",
              "      <td>0</td>\n",
              "      <td>0</td>\n",
              "      <td>1</td>\n",
              "      <td>...</td>\n",
              "      <td>0</td>\n",
              "      <td>0</td>\n",
              "      <td>0</td>\n",
              "      <td>0</td>\n",
              "      <td>1</td>\n",
              "      <td>0</td>\n",
              "      <td>0</td>\n",
              "      <td>1</td>\n",
              "      <td>0.321127</td>\n",
              "      <td>0.678873</td>\n",
              "    </tr>\n",
              "    <tr>\n",
              "      <th>3</th>\n",
              "      <td>7795-CFOCW</td>\n",
              "      <td>0</td>\n",
              "      <td>0.512486</td>\n",
              "      <td>-0.747850</td>\n",
              "      <td>-0.195248</td>\n",
              "      <td>0</td>\n",
              "      <td>1</td>\n",
              "      <td>0</td>\n",
              "      <td>0</td>\n",
              "      <td>0</td>\n",
              "      <td>...</td>\n",
              "      <td>0</td>\n",
              "      <td>0</td>\n",
              "      <td>1</td>\n",
              "      <td>0</td>\n",
              "      <td>0</td>\n",
              "      <td>0</td>\n",
              "      <td>0</td>\n",
              "      <td>0</td>\n",
              "      <td>0.100386</td>\n",
              "      <td>0.899614</td>\n",
              "    </tr>\n",
              "    <tr>\n",
              "      <th>4</th>\n",
              "      <td>9237-HQITU</td>\n",
              "      <td>0</td>\n",
              "      <td>-1.239504</td>\n",
              "      <td>0.196178</td>\n",
              "      <td>-0.940457</td>\n",
              "      <td>1</td>\n",
              "      <td>0</td>\n",
              "      <td>0</td>\n",
              "      <td>0</td>\n",
              "      <td>1</td>\n",
              "      <td>...</td>\n",
              "      <td>0</td>\n",
              "      <td>0</td>\n",
              "      <td>0</td>\n",
              "      <td>0</td>\n",
              "      <td>1</td>\n",
              "      <td>0</td>\n",
              "      <td>1</td>\n",
              "      <td>0</td>\n",
              "      <td>0.902743</td>\n",
              "      <td>0.097257</td>\n",
              "    </tr>\n",
              "    <tr>\n",
              "      <th>...</th>\n",
              "      <td>...</td>\n",
              "      <td>...</td>\n",
              "      <td>...</td>\n",
              "      <td>...</td>\n",
              "      <td>...</td>\n",
              "      <td>...</td>\n",
              "      <td>...</td>\n",
              "      <td>...</td>\n",
              "      <td>...</td>\n",
              "      <td>...</td>\n",
              "      <td>...</td>\n",
              "      <td>...</td>\n",
              "      <td>...</td>\n",
              "      <td>...</td>\n",
              "      <td>...</td>\n",
              "      <td>...</td>\n",
              "      <td>...</td>\n",
              "      <td>...</td>\n",
              "      <td>...</td>\n",
              "      <td>...</td>\n",
              "      <td>...</td>\n",
              "    </tr>\n",
              "    <tr>\n",
              "      <th>7027</th>\n",
              "      <td>6840-RESVB</td>\n",
              "      <td>0</td>\n",
              "      <td>-0.343137</td>\n",
              "      <td>0.664868</td>\n",
              "      <td>-0.129180</td>\n",
              "      <td>0</td>\n",
              "      <td>1</td>\n",
              "      <td>1</td>\n",
              "      <td>1</td>\n",
              "      <td>1</td>\n",
              "      <td>...</td>\n",
              "      <td>0</td>\n",
              "      <td>1</td>\n",
              "      <td>1</td>\n",
              "      <td>0</td>\n",
              "      <td>1</td>\n",
              "      <td>0</td>\n",
              "      <td>0</td>\n",
              "      <td>1</td>\n",
              "      <td>0.085621</td>\n",
              "      <td>0.914379</td>\n",
              "    </tr>\n",
              "    <tr>\n",
              "      <th>7028</th>\n",
              "      <td>2234-XADUH</td>\n",
              "      <td>0</td>\n",
              "      <td>1.612573</td>\n",
              "      <td>1.276493</td>\n",
              "      <td>2.241056</td>\n",
              "      <td>0</td>\n",
              "      <td>0</td>\n",
              "      <td>1</td>\n",
              "      <td>1</td>\n",
              "      <td>1</td>\n",
              "      <td>...</td>\n",
              "      <td>0</td>\n",
              "      <td>1</td>\n",
              "      <td>1</td>\n",
              "      <td>0</td>\n",
              "      <td>1</td>\n",
              "      <td>1</td>\n",
              "      <td>0</td>\n",
              "      <td>0</td>\n",
              "      <td>0.154954</td>\n",
              "      <td>0.845046</td>\n",
              "    </tr>\n",
              "    <tr>\n",
              "      <th>7029</th>\n",
              "      <td>4801-JZAZL</td>\n",
              "      <td>0</td>\n",
              "      <td>-0.872808</td>\n",
              "      <td>-1.170004</td>\n",
              "      <td>-0.854514</td>\n",
              "      <td>0</td>\n",
              "      <td>0</td>\n",
              "      <td>1</td>\n",
              "      <td>1</td>\n",
              "      <td>0</td>\n",
              "      <td>...</td>\n",
              "      <td>0</td>\n",
              "      <td>0</td>\n",
              "      <td>0</td>\n",
              "      <td>0</td>\n",
              "      <td>1</td>\n",
              "      <td>0</td>\n",
              "      <td>1</td>\n",
              "      <td>0</td>\n",
              "      <td>0.531942</td>\n",
              "      <td>0.468058</td>\n",
              "    </tr>\n",
              "    <tr>\n",
              "      <th>7030</th>\n",
              "      <td>8361-LTMKD</td>\n",
              "      <td>1</td>\n",
              "      <td>-1.158016</td>\n",
              "      <td>0.319168</td>\n",
              "      <td>-0.872095</td>\n",
              "      <td>1</td>\n",
              "      <td>1</td>\n",
              "      <td>1</td>\n",
              "      <td>0</td>\n",
              "      <td>1</td>\n",
              "      <td>...</td>\n",
              "      <td>0</td>\n",
              "      <td>0</td>\n",
              "      <td>0</td>\n",
              "      <td>0</td>\n",
              "      <td>1</td>\n",
              "      <td>0</td>\n",
              "      <td>0</td>\n",
              "      <td>1</td>\n",
              "      <td>0.712830</td>\n",
              "      <td>0.287170</td>\n",
              "    </tr>\n",
              "    <tr>\n",
              "      <th>7031</th>\n",
              "      <td>3186-AJIEK</td>\n",
              "      <td>0</td>\n",
              "      <td>1.368109</td>\n",
              "      <td>1.357932</td>\n",
              "      <td>2.012344</td>\n",
              "      <td>0</td>\n",
              "      <td>1</td>\n",
              "      <td>0</td>\n",
              "      <td>0</td>\n",
              "      <td>1</td>\n",
              "      <td>...</td>\n",
              "      <td>0</td>\n",
              "      <td>1</td>\n",
              "      <td>0</td>\n",
              "      <td>1</td>\n",
              "      <td>1</td>\n",
              "      <td>0</td>\n",
              "      <td>0</td>\n",
              "      <td>0</td>\n",
              "      <td>0.180604</td>\n",
              "      <td>0.819396</td>\n",
              "    </tr>\n",
              "  </tbody>\n",
              "</table>\n",
              "<p>7032 rows × 34 columns</p>\n",
              "</div>"
            ],
            "text/plain": [
              "      customerID  SeniorCitizen    tenure  MonthlyCharges  TotalCharges  \\\n",
              "0     7590-VHVEG              0 -1.280248       -1.161694     -0.994194   \n",
              "1     5575-GNVDE              0  0.064303       -0.260878     -0.173740   \n",
              "2     3668-QPYBK              0 -1.239504       -0.363923     -0.959649   \n",
              "3     7795-CFOCW              0  0.512486       -0.747850     -0.195248   \n",
              "4     9237-HQITU              0 -1.239504        0.196178     -0.940457   \n",
              "...          ...            ...       ...             ...           ...   \n",
              "7027  6840-RESVB              0 -0.343137        0.664868     -0.129180   \n",
              "7028  2234-XADUH              0  1.612573        1.276493      2.241056   \n",
              "7029  4801-JZAZL              0 -0.872808       -1.170004     -0.854514   \n",
              "7030  8361-LTMKD              1 -1.158016        0.319168     -0.872095   \n",
              "7031  3186-AJIEK              0  1.368109        1.357932      2.012344   \n",
              "\n",
              "      Churn  gender_Male  Partner_Yes  Dependents_Yes  PhoneService_Yes  ...  \\\n",
              "0         0            0            1               0                 0  ...   \n",
              "1         0            1            0               0                 1  ...   \n",
              "2         1            1            0               0                 1  ...   \n",
              "3         0            1            0               0                 0  ...   \n",
              "4         1            0            0               0                 1  ...   \n",
              "...     ...          ...          ...             ...               ...  ...   \n",
              "7027      0            1            1               1                 1  ...   \n",
              "7028      0            0            1               1                 1  ...   \n",
              "7029      0            0            1               1                 0  ...   \n",
              "7030      1            1            1               0                 1  ...   \n",
              "7031      0            1            0               0                 1  ...   \n",
              "\n",
              "      StreamingMovies_No internet service  StreamingMovies_Yes  \\\n",
              "0                                       0                    0   \n",
              "1                                       0                    0   \n",
              "2                                       0                    0   \n",
              "3                                       0                    0   \n",
              "4                                       0                    0   \n",
              "...                                   ...                  ...   \n",
              "7027                                    0                    1   \n",
              "7028                                    0                    1   \n",
              "7029                                    0                    0   \n",
              "7030                                    0                    0   \n",
              "7031                                    0                    1   \n",
              "\n",
              "      Contract_One year  Contract_Two year  PaperlessBilling_Yes  \\\n",
              "0                     0                  0                     1   \n",
              "1                     1                  0                     0   \n",
              "2                     0                  0                     1   \n",
              "3                     1                  0                     0   \n",
              "4                     0                  0                     1   \n",
              "...                 ...                ...                   ...   \n",
              "7027                  1                  0                     1   \n",
              "7028                  1                  0                     1   \n",
              "7029                  0                  0                     1   \n",
              "7030                  0                  0                     1   \n",
              "7031                  0                  1                     1   \n",
              "\n",
              "      PaymentMethod_Credit card (automatic)  PaymentMethod_Electronic check  \\\n",
              "0                                         0                               1   \n",
              "1                                         0                               0   \n",
              "2                                         0                               0   \n",
              "3                                         0                               0   \n",
              "4                                         0                               1   \n",
              "...                                     ...                             ...   \n",
              "7027                                      0                               0   \n",
              "7028                                      1                               0   \n",
              "7029                                      0                               1   \n",
              "7030                                      0                               0   \n",
              "7031                                      0                               0   \n",
              "\n",
              "      PaymentMethod_Mailed check  probability  probability1  \n",
              "0                              0     0.762849      0.237151  \n",
              "1                              1     0.119737      0.880263  \n",
              "2                              1     0.321127      0.678873  \n",
              "3                              0     0.100386      0.899614  \n",
              "4                              0     0.902743      0.097257  \n",
              "...                          ...          ...           ...  \n",
              "7027                           1     0.085621      0.914379  \n",
              "7028                           0     0.154954      0.845046  \n",
              "7029                           0     0.531942      0.468058  \n",
              "7030                           1     0.712830      0.287170  \n",
              "7031                           0     0.180604      0.819396  \n",
              "\n",
              "[7032 rows x 34 columns]"
            ]
          },
          "execution_count": 91,
          "metadata": {},
          "output_type": "execute_result"
        }
      ],
      "source": [
        "customer_churn"
      ]
    },
    {
      "cell_type": "code",
      "execution_count": null,
      "id": "59774412",
      "metadata": {
        "id": "59774412"
      },
      "outputs": [],
      "source": [
        "customer_churn['probability'] = logit.predict_proba(customer_churn[x_test.columns])[:,1]"
      ]
    },
    {
      "cell_type": "code",
      "execution_count": null,
      "id": "886f1f16",
      "metadata": {
        "id": "886f1f16",
        "outputId": "6307d399-ee2a-4ba3-f885-2e0fbf619b86"
      },
      "outputs": [
        {
          "data": {
            "text/html": [
              "<div>\n",
              "<style scoped>\n",
              "    .dataframe tbody tr th:only-of-type {\n",
              "        vertical-align: middle;\n",
              "    }\n",
              "\n",
              "    .dataframe tbody tr th {\n",
              "        vertical-align: top;\n",
              "    }\n",
              "\n",
              "    .dataframe thead th {\n",
              "        text-align: right;\n",
              "    }\n",
              "</style>\n",
              "<table border=\"1\" class=\"dataframe\">\n",
              "  <thead>\n",
              "    <tr style=\"text-align: right;\">\n",
              "      <th></th>\n",
              "      <th>customerID</th>\n",
              "      <th>SeniorCitizen</th>\n",
              "      <th>tenure</th>\n",
              "      <th>MonthlyCharges</th>\n",
              "      <th>TotalCharges</th>\n",
              "      <th>Churn</th>\n",
              "      <th>gender_Male</th>\n",
              "      <th>Partner_Yes</th>\n",
              "      <th>Dependents_Yes</th>\n",
              "      <th>PhoneService_Yes</th>\n",
              "      <th>...</th>\n",
              "      <th>StreamingTV_Yes</th>\n",
              "      <th>StreamingMovies_No internet service</th>\n",
              "      <th>StreamingMovies_Yes</th>\n",
              "      <th>Contract_One year</th>\n",
              "      <th>Contract_Two year</th>\n",
              "      <th>PaperlessBilling_Yes</th>\n",
              "      <th>PaymentMethod_Credit card (automatic)</th>\n",
              "      <th>PaymentMethod_Electronic check</th>\n",
              "      <th>PaymentMethod_Mailed check</th>\n",
              "      <th>probability</th>\n",
              "    </tr>\n",
              "  </thead>\n",
              "  <tbody>\n",
              "    <tr>\n",
              "      <th>0</th>\n",
              "      <td>7590-VHVEG</td>\n",
              "      <td>0</td>\n",
              "      <td>-1.280248</td>\n",
              "      <td>-1.161694</td>\n",
              "      <td>-0.994194</td>\n",
              "      <td>0</td>\n",
              "      <td>0</td>\n",
              "      <td>1</td>\n",
              "      <td>0</td>\n",
              "      <td>0</td>\n",
              "      <td>...</td>\n",
              "      <td>0</td>\n",
              "      <td>0</td>\n",
              "      <td>0</td>\n",
              "      <td>0</td>\n",
              "      <td>0</td>\n",
              "      <td>1</td>\n",
              "      <td>0</td>\n",
              "      <td>1</td>\n",
              "      <td>0</td>\n",
              "      <td>0.762849</td>\n",
              "    </tr>\n",
              "    <tr>\n",
              "      <th>1</th>\n",
              "      <td>5575-GNVDE</td>\n",
              "      <td>0</td>\n",
              "      <td>0.064303</td>\n",
              "      <td>-0.260878</td>\n",
              "      <td>-0.173740</td>\n",
              "      <td>0</td>\n",
              "      <td>1</td>\n",
              "      <td>0</td>\n",
              "      <td>0</td>\n",
              "      <td>1</td>\n",
              "      <td>...</td>\n",
              "      <td>0</td>\n",
              "      <td>0</td>\n",
              "      <td>0</td>\n",
              "      <td>1</td>\n",
              "      <td>0</td>\n",
              "      <td>0</td>\n",
              "      <td>0</td>\n",
              "      <td>0</td>\n",
              "      <td>1</td>\n",
              "      <td>0.119737</td>\n",
              "    </tr>\n",
              "    <tr>\n",
              "      <th>2</th>\n",
              "      <td>3668-QPYBK</td>\n",
              "      <td>0</td>\n",
              "      <td>-1.239504</td>\n",
              "      <td>-0.363923</td>\n",
              "      <td>-0.959649</td>\n",
              "      <td>1</td>\n",
              "      <td>1</td>\n",
              "      <td>0</td>\n",
              "      <td>0</td>\n",
              "      <td>1</td>\n",
              "      <td>...</td>\n",
              "      <td>0</td>\n",
              "      <td>0</td>\n",
              "      <td>0</td>\n",
              "      <td>0</td>\n",
              "      <td>0</td>\n",
              "      <td>1</td>\n",
              "      <td>0</td>\n",
              "      <td>0</td>\n",
              "      <td>1</td>\n",
              "      <td>0.321127</td>\n",
              "    </tr>\n",
              "    <tr>\n",
              "      <th>3</th>\n",
              "      <td>7795-CFOCW</td>\n",
              "      <td>0</td>\n",
              "      <td>0.512486</td>\n",
              "      <td>-0.747850</td>\n",
              "      <td>-0.195248</td>\n",
              "      <td>0</td>\n",
              "      <td>1</td>\n",
              "      <td>0</td>\n",
              "      <td>0</td>\n",
              "      <td>0</td>\n",
              "      <td>...</td>\n",
              "      <td>0</td>\n",
              "      <td>0</td>\n",
              "      <td>0</td>\n",
              "      <td>1</td>\n",
              "      <td>0</td>\n",
              "      <td>0</td>\n",
              "      <td>0</td>\n",
              "      <td>0</td>\n",
              "      <td>0</td>\n",
              "      <td>0.100386</td>\n",
              "    </tr>\n",
              "    <tr>\n",
              "      <th>4</th>\n",
              "      <td>9237-HQITU</td>\n",
              "      <td>0</td>\n",
              "      <td>-1.239504</td>\n",
              "      <td>0.196178</td>\n",
              "      <td>-0.940457</td>\n",
              "      <td>1</td>\n",
              "      <td>0</td>\n",
              "      <td>0</td>\n",
              "      <td>0</td>\n",
              "      <td>1</td>\n",
              "      <td>...</td>\n",
              "      <td>0</td>\n",
              "      <td>0</td>\n",
              "      <td>0</td>\n",
              "      <td>0</td>\n",
              "      <td>0</td>\n",
              "      <td>1</td>\n",
              "      <td>0</td>\n",
              "      <td>1</td>\n",
              "      <td>0</td>\n",
              "      <td>0.902743</td>\n",
              "    </tr>\n",
              "  </tbody>\n",
              "</table>\n",
              "<p>5 rows × 33 columns</p>\n",
              "</div>"
            ],
            "text/plain": [
              "   customerID  SeniorCitizen    tenure  MonthlyCharges  TotalCharges  Churn  \\\n",
              "0  7590-VHVEG              0 -1.280248       -1.161694     -0.994194      0   \n",
              "1  5575-GNVDE              0  0.064303       -0.260878     -0.173740      0   \n",
              "2  3668-QPYBK              0 -1.239504       -0.363923     -0.959649      1   \n",
              "3  7795-CFOCW              0  0.512486       -0.747850     -0.195248      0   \n",
              "4  9237-HQITU              0 -1.239504        0.196178     -0.940457      1   \n",
              "\n",
              "   gender_Male  Partner_Yes  Dependents_Yes  PhoneService_Yes  ...  \\\n",
              "0            0            1               0                 0  ...   \n",
              "1            1            0               0                 1  ...   \n",
              "2            1            0               0                 1  ...   \n",
              "3            1            0               0                 0  ...   \n",
              "4            0            0               0                 1  ...   \n",
              "\n",
              "   StreamingTV_Yes  StreamingMovies_No internet service  StreamingMovies_Yes  \\\n",
              "0                0                                    0                    0   \n",
              "1                0                                    0                    0   \n",
              "2                0                                    0                    0   \n",
              "3                0                                    0                    0   \n",
              "4                0                                    0                    0   \n",
              "\n",
              "   Contract_One year  Contract_Two year  PaperlessBilling_Yes  \\\n",
              "0                  0                  0                     1   \n",
              "1                  1                  0                     0   \n",
              "2                  0                  0                     1   \n",
              "3                  1                  0                     0   \n",
              "4                  0                  0                     1   \n",
              "\n",
              "   PaymentMethod_Credit card (automatic)  PaymentMethod_Electronic check  \\\n",
              "0                                      0                               1   \n",
              "1                                      0                               0   \n",
              "2                                      0                               0   \n",
              "3                                      0                               0   \n",
              "4                                      0                               1   \n",
              "\n",
              "   PaymentMethod_Mailed check  probability  \n",
              "0                           0     0.762849  \n",
              "1                           1     0.119737  \n",
              "2                           1     0.321127  \n",
              "3                           0     0.100386  \n",
              "4                           0     0.902743  \n",
              "\n",
              "[5 rows x 33 columns]"
            ]
          },
          "execution_count": 76,
          "metadata": {},
          "output_type": "execute_result"
        }
      ],
      "source": [
        "customer_churn.head()"
      ]
    },
    {
      "cell_type": "code",
      "execution_count": null,
      "id": "83dbfea7",
      "metadata": {
        "id": "83dbfea7",
        "outputId": "d326b966-15ef-4e59-f9e9-b7e7f0d8518c"
      },
      "outputs": [
        {
          "data": {
            "text/html": [
              "<div>\n",
              "<style scoped>\n",
              "    .dataframe tbody tr th:only-of-type {\n",
              "        vertical-align: middle;\n",
              "    }\n",
              "\n",
              "    .dataframe tbody tr th {\n",
              "        vertical-align: top;\n",
              "    }\n",
              "\n",
              "    .dataframe thead th {\n",
              "        text-align: right;\n",
              "    }\n",
              "</style>\n",
              "<table border=\"1\" class=\"dataframe\">\n",
              "  <thead>\n",
              "    <tr style=\"text-align: right;\">\n",
              "      <th></th>\n",
              "      <th>customerID</th>\n",
              "      <th>probability</th>\n",
              "    </tr>\n",
              "  </thead>\n",
              "  <tbody>\n",
              "    <tr>\n",
              "      <th>7012</th>\n",
              "      <td>1035-IPQPU</td>\n",
              "      <td>0.590967</td>\n",
              "    </tr>\n",
              "    <tr>\n",
              "      <th>7013</th>\n",
              "      <td>7398-LXGYX</td>\n",
              "      <td>0.305426</td>\n",
              "    </tr>\n",
              "    <tr>\n",
              "      <th>7014</th>\n",
              "      <td>2823-LKABH</td>\n",
              "      <td>0.794764</td>\n",
              "    </tr>\n",
              "    <tr>\n",
              "      <th>7015</th>\n",
              "      <td>8775-CEBBJ</td>\n",
              "      <td>0.700468</td>\n",
              "    </tr>\n",
              "    <tr>\n",
              "      <th>7016</th>\n",
              "      <td>0550-DCXLH</td>\n",
              "      <td>0.280602</td>\n",
              "    </tr>\n",
              "    <tr>\n",
              "      <th>7017</th>\n",
              "      <td>9281-CEDRU</td>\n",
              "      <td>0.017895</td>\n",
              "    </tr>\n",
              "    <tr>\n",
              "      <th>7018</th>\n",
              "      <td>2235-DWLJU</td>\n",
              "      <td>0.852886</td>\n",
              "    </tr>\n",
              "    <tr>\n",
              "      <th>7019</th>\n",
              "      <td>0871-OPBXW</td>\n",
              "      <td>0.483208</td>\n",
              "    </tr>\n",
              "    <tr>\n",
              "      <th>7020</th>\n",
              "      <td>3605-JISKB</td>\n",
              "      <td>0.018332</td>\n",
              "    </tr>\n",
              "    <tr>\n",
              "      <th>7021</th>\n",
              "      <td>6894-LFHLY</td>\n",
              "      <td>0.875468</td>\n",
              "    </tr>\n",
              "    <tr>\n",
              "      <th>7022</th>\n",
              "      <td>9767-FFLEM</td>\n",
              "      <td>0.502002</td>\n",
              "    </tr>\n",
              "    <tr>\n",
              "      <th>7023</th>\n",
              "      <td>0639-TSIQW</td>\n",
              "      <td>0.500158</td>\n",
              "    </tr>\n",
              "    <tr>\n",
              "      <th>7024</th>\n",
              "      <td>8456-QDAVC</td>\n",
              "      <td>0.784365</td>\n",
              "    </tr>\n",
              "    <tr>\n",
              "      <th>7025</th>\n",
              "      <td>7750-EYXWZ</td>\n",
              "      <td>0.418581</td>\n",
              "    </tr>\n",
              "    <tr>\n",
              "      <th>7026</th>\n",
              "      <td>2569-WGERO</td>\n",
              "      <td>0.010012</td>\n",
              "    </tr>\n",
              "    <tr>\n",
              "      <th>7027</th>\n",
              "      <td>6840-RESVB</td>\n",
              "      <td>0.085621</td>\n",
              "    </tr>\n",
              "    <tr>\n",
              "      <th>7028</th>\n",
              "      <td>2234-XADUH</td>\n",
              "      <td>0.154954</td>\n",
              "    </tr>\n",
              "    <tr>\n",
              "      <th>7029</th>\n",
              "      <td>4801-JZAZL</td>\n",
              "      <td>0.531942</td>\n",
              "    </tr>\n",
              "    <tr>\n",
              "      <th>7030</th>\n",
              "      <td>8361-LTMKD</td>\n",
              "      <td>0.712830</td>\n",
              "    </tr>\n",
              "    <tr>\n",
              "      <th>7031</th>\n",
              "      <td>3186-AJIEK</td>\n",
              "      <td>0.180604</td>\n",
              "    </tr>\n",
              "  </tbody>\n",
              "</table>\n",
              "</div>"
            ],
            "text/plain": [
              "      customerID  probability\n",
              "7012  1035-IPQPU     0.590967\n",
              "7013  7398-LXGYX     0.305426\n",
              "7014  2823-LKABH     0.794764\n",
              "7015  8775-CEBBJ     0.700468\n",
              "7016  0550-DCXLH     0.280602\n",
              "7017  9281-CEDRU     0.017895\n",
              "7018  2235-DWLJU     0.852886\n",
              "7019  0871-OPBXW     0.483208\n",
              "7020  3605-JISKB     0.018332\n",
              "7021  6894-LFHLY     0.875468\n",
              "7022  9767-FFLEM     0.502002\n",
              "7023  0639-TSIQW     0.500158\n",
              "7024  8456-QDAVC     0.784365\n",
              "7025  7750-EYXWZ     0.418581\n",
              "7026  2569-WGERO     0.010012\n",
              "7027  6840-RESVB     0.085621\n",
              "7028  2234-XADUH     0.154954\n",
              "7029  4801-JZAZL     0.531942\n",
              "7030  8361-LTMKD     0.712830\n",
              "7031  3186-AJIEK     0.180604"
            ]
          },
          "execution_count": 80,
          "metadata": {},
          "output_type": "execute_result"
        }
      ],
      "source": [
        "customer_churn[['customerID','probability']].tail(20)"
      ]
    },
    {
      "cell_type": "code",
      "execution_count": null,
      "id": "6dc0bb42",
      "metadata": {
        "id": "6dc0bb42"
      },
      "outputs": [],
      "source": []
    },
    {
      "cell_type": "code",
      "execution_count": null,
      "id": "3fba7e7a",
      "metadata": {
        "id": "3fba7e7a"
      },
      "outputs": [],
      "source": [
        "# pycaret package - automation package"
      ]
    },
    {
      "cell_type": "code",
      "execution_count": 3,
      "id": "cd6ade47",
      "metadata": {
        "colab": {
          "base_uri": "https://localhost:8080/"
        },
        "id": "cd6ade47",
        "outputId": "56da8d64-cc7f-4380-9296-77017932db44"
      },
      "outputs": [
        {
          "output_type": "stream",
          "name": "stdout",
          "text": [
            "Looking in indexes: https://pypi.org/simple, https://us-python.pkg.dev/colab-wheels/public/simple/\n",
            "Collecting pycaret\n",
            "  Downloading pycaret-3.0.0-py3-none-any.whl (481 kB)\n",
            "\u001b[2K     \u001b[90m━━━━━━━━━━━━━━━━━━━━━━━━━━━━━━━━━━━━━━\u001b[0m \u001b[32m481.8/481.8 KB\u001b[0m \u001b[31m10.1 MB/s\u001b[0m eta \u001b[36m0:00:00\u001b[0m\n",
            "\u001b[?25hRequirement already satisfied: pandas<1.6.0,>=1.3.0 in /usr/local/lib/python3.9/dist-packages (from pycaret) (1.4.4)\n",
            "Requirement already satisfied: importlib-metadata>=4.12.0 in /usr/local/lib/python3.9/dist-packages (from pycaret) (6.1.0)\n",
            "Requirement already satisfied: jinja2>=1.2 in /usr/local/lib/python3.9/dist-packages (from pycaret) (3.1.2)\n",
            "Collecting scikit-plot>=0.3.7\n",
            "  Downloading scikit_plot-0.3.7-py3-none-any.whl (33 kB)\n",
            "Collecting pyod>=1.0.8\n",
            "  Downloading pyod-1.0.9.tar.gz (149 kB)\n",
            "\u001b[2K     \u001b[90m━━━━━━━━━━━━━━━━━━━━━━━━━━━━━━━━━━━━━━\u001b[0m \u001b[32m150.0/150.0 KB\u001b[0m \u001b[31m18.6 MB/s\u001b[0m eta \u001b[36m0:00:00\u001b[0m\n",
            "\u001b[?25h  Preparing metadata (setup.py) ... \u001b[?25l\u001b[?25hdone\n",
            "Requirement already satisfied: tqdm>=4.62.0 in /usr/local/lib/python3.9/dist-packages (from pycaret) (4.65.0)\n",
            "Collecting schemdraw>=0.14\n",
            "  Downloading schemdraw-0.16-py3-none-any.whl (105 kB)\n",
            "\u001b[2K     \u001b[90m━━━━━━━━━━━━━━━━━━━━━━━━━━━━━━━━━━━━━━━\u001b[0m \u001b[32m105.8/105.8 KB\u001b[0m \u001b[31m9.4 MB/s\u001b[0m eta \u001b[36m0:00:00\u001b[0m\n",
            "\u001b[?25hRequirement already satisfied: nbformat>=4.2.0 in /usr/local/lib/python3.9/dist-packages (from pycaret) (5.8.0)\n",
            "Requirement already satisfied: ipywidgets>=7.6.5 in /usr/local/lib/python3.9/dist-packages (from pycaret) (7.7.1)\n",
            "Collecting sktime>=0.16.1\n",
            "  Downloading sktime-0.17.0-py3-none-any.whl (16.1 MB)\n",
            "\u001b[2K     \u001b[90m━━━━━━━━━━━━━━━━━━━━━━━━━━━━━━━━━━━━━━━━\u001b[0m \u001b[32m16.1/16.1 MB\u001b[0m \u001b[31m88.0 MB/s\u001b[0m eta \u001b[36m0:00:00\u001b[0m\n",
            "\u001b[?25hRequirement already satisfied: scikit-learn>=1.0 in /usr/local/lib/python3.9/dist-packages (from pycaret) (1.2.2)\n",
            "Collecting category-encoders>=2.4.0\n",
            "  Downloading category_encoders-2.6.0-py2.py3-none-any.whl (81 kB)\n",
            "\u001b[2K     \u001b[90m━━━━━━━━━━━━━━━━━━━━━━━━━━━━━━━━━━━━━━━━\u001b[0m \u001b[32m81.2/81.2 KB\u001b[0m \u001b[31m10.6 MB/s\u001b[0m eta \u001b[36m0:00:00\u001b[0m\n",
            "\u001b[?25hRequirement already satisfied: yellowbrick>=1.4 in /usr/local/lib/python3.9/dist-packages (from pycaret) (1.5)\n",
            "Requirement already satisfied: psutil>=5.9.0 in /usr/local/lib/python3.9/dist-packages (from pycaret) (5.9.4)\n",
            "Requirement already satisfied: requests>=2.27.1 in /usr/local/lib/python3.9/dist-packages (from pycaret) (2.27.1)\n",
            "Requirement already satisfied: imbalanced-learn>=0.8.1 in /usr/local/lib/python3.9/dist-packages (from pycaret) (0.10.1)\n",
            "Requirement already satisfied: lightgbm>=3.0.0 in /usr/local/lib/python3.9/dist-packages (from pycaret) (3.3.5)\n",
            "Requirement already satisfied: ipython>=5.5.0 in /usr/local/lib/python3.9/dist-packages (from pycaret) (7.34.0)\n",
            "Collecting xxhash\n",
            "  Downloading xxhash-3.2.0-cp39-cp39-manylinux_2_17_x86_64.manylinux2014_x86_64.whl (212 kB)\n",
            "\u001b[2K     \u001b[90m━━━━━━━━━━━━━━━━━━━━━━━━━━━━━━━━━━━━━━\u001b[0m \u001b[32m212.2/212.2 KB\u001b[0m \u001b[31m22.5 MB/s\u001b[0m eta \u001b[36m0:00:00\u001b[0m\n",
            "\u001b[?25hCollecting pmdarima!=1.8.1,<3.0.0,>=1.8.0\n",
            "  Downloading pmdarima-2.0.3-cp39-cp39-manylinux_2_17_x86_64.manylinux2014_x86_64.manylinux_2_28_x86_64.whl (1.9 MB)\n",
            "\u001b[2K     \u001b[90m━━━━━━━━━━━━━━━━━━━━━━━━━━━━━━━━━━━━━━━━\u001b[0m \u001b[32m1.9/1.9 MB\u001b[0m \u001b[31m79.3 MB/s\u001b[0m eta \u001b[36m0:00:00\u001b[0m\n",
            "\u001b[?25hCollecting wurlitzer\n",
            "  Downloading wurlitzer-3.0.3-py3-none-any.whl (7.3 kB)\n",
            "Requirement already satisfied: numpy<1.25,>=1.21 in /usr/local/lib/python3.9/dist-packages (from pycaret) (1.22.4)\n",
            "Collecting joblib>=1.2.0\n",
            "  Downloading joblib-1.2.0-py3-none-any.whl (297 kB)\n",
            "\u001b[2K     \u001b[90m━━━━━━━━━━━━━━━━━━━━━━━━━━━━━━━━━━━━━━\u001b[0m \u001b[32m298.0/298.0 KB\u001b[0m \u001b[31m24.8 MB/s\u001b[0m eta \u001b[36m0:00:00\u001b[0m\n",
            "\u001b[?25hRequirement already satisfied: plotly>=5.0.0 in /usr/local/lib/python3.9/dist-packages (from pycaret) (5.13.1)\n",
            "Collecting plotly-resampler>=0.8.3.1\n",
            "  Downloading plotly_resampler-0.8.3.2.tar.gz (46 kB)\n",
            "\u001b[2K     \u001b[90m━━━━━━━━━━━━━━━━━━━━━━━━━━━━━━━━━━━━━━━━\u001b[0m \u001b[32m46.4/46.4 KB\u001b[0m \u001b[31m5.5 MB/s\u001b[0m eta \u001b[36m0:00:00\u001b[0m\n",
            "\u001b[?25h  Installing build dependencies ... \u001b[?25l\u001b[?25hdone\n",
            "  Getting requirements to build wheel ... \u001b[?25l\u001b[?25hdone\n",
            "  Preparing metadata (pyproject.toml) ... \u001b[?25l\u001b[?25hdone\n",
            "Requirement already satisfied: numba>=0.55.0 in /usr/local/lib/python3.9/dist-packages (from pycaret) (0.56.4)\n",
            "Requirement already satisfied: scipy<2.0.0 in /usr/local/lib/python3.9/dist-packages (from pycaret) (1.10.1)\n",
            "Requirement already satisfied: matplotlib>=3.3.0 in /usr/local/lib/python3.9/dist-packages (from pycaret) (3.7.1)\n",
            "Requirement already satisfied: statsmodels>=0.12.1 in /usr/local/lib/python3.9/dist-packages (from pycaret) (0.13.5)\n",
            "Requirement already satisfied: cloudpickle in /usr/local/lib/python3.9/dist-packages (from pycaret) (2.2.1)\n",
            "Collecting tbats>=1.1.0\n",
            "  Downloading tbats-1.1.2-py3-none-any.whl (43 kB)\n",
            "\u001b[2K     \u001b[90m━━━━━━━━━━━━━━━━━━━━━━━━━━━━━━━━━━━━━━━━\u001b[0m \u001b[32m43.8/43.8 KB\u001b[0m \u001b[31m5.3 MB/s\u001b[0m eta \u001b[36m0:00:00\u001b[0m\n",
            "\u001b[?25hCollecting kaleido>=0.2.1\n",
            "  Downloading kaleido-0.2.1-py2.py3-none-manylinux1_x86_64.whl (79.9 MB)\n",
            "\u001b[2K     \u001b[90m━━━━━━━━━━━━━━━━━━━━━━━━━━━━━━━━━━━━━━━━\u001b[0m \u001b[32m79.9/79.9 MB\u001b[0m \u001b[31m12.3 MB/s\u001b[0m eta \u001b[36m0:00:00\u001b[0m\n",
            "\u001b[?25hRequirement already satisfied: markupsafe>=2.0.1 in /usr/local/lib/python3.9/dist-packages (from pycaret) (2.1.2)\n",
            "Collecting deprecation>=2.1.0\n",
            "  Downloading deprecation-2.1.0-py2.py3-none-any.whl (11 kB)\n",
            "Requirement already satisfied: patsy>=0.5.1 in /usr/local/lib/python3.9/dist-packages (from category-encoders>=2.4.0->pycaret) (0.5.3)\n",
            "Requirement already satisfied: packaging in /usr/local/lib/python3.9/dist-packages (from deprecation>=2.1.0->pycaret) (23.0)\n",
            "Requirement already satisfied: threadpoolctl>=2.0.0 in /usr/local/lib/python3.9/dist-packages (from imbalanced-learn>=0.8.1->pycaret) (3.1.0)\n",
            "Requirement already satisfied: zipp>=0.5 in /usr/local/lib/python3.9/dist-packages (from importlib-metadata>=4.12.0->pycaret) (3.15.0)\n",
            "Requirement already satisfied: traitlets>=4.2 in /usr/local/lib/python3.9/dist-packages (from ipython>=5.5.0->pycaret) (5.7.1)\n",
            "Requirement already satisfied: pexpect>4.3 in /usr/local/lib/python3.9/dist-packages (from ipython>=5.5.0->pycaret) (4.8.0)\n",
            "Requirement already satisfied: decorator in /usr/local/lib/python3.9/dist-packages (from ipython>=5.5.0->pycaret) (4.4.2)\n",
            "Requirement already satisfied: backcall in /usr/local/lib/python3.9/dist-packages (from ipython>=5.5.0->pycaret) (0.2.0)\n",
            "Requirement already satisfied: prompt-toolkit!=3.0.0,!=3.0.1,<3.1.0,>=2.0.0 in /usr/local/lib/python3.9/dist-packages (from ipython>=5.5.0->pycaret) (3.0.38)\n",
            "Requirement already satisfied: pickleshare in /usr/local/lib/python3.9/dist-packages (from ipython>=5.5.0->pycaret) (0.7.5)\n",
            "Requirement already satisfied: pygments in /usr/local/lib/python3.9/dist-packages (from ipython>=5.5.0->pycaret) (2.14.0)\n",
            "Requirement already satisfied: setuptools>=18.5 in /usr/local/lib/python3.9/dist-packages (from ipython>=5.5.0->pycaret) (67.6.1)\n",
            "Requirement already satisfied: matplotlib-inline in /usr/local/lib/python3.9/dist-packages (from ipython>=5.5.0->pycaret) (0.1.6)\n",
            "Collecting jedi>=0.16\n",
            "  Downloading jedi-0.18.2-py2.py3-none-any.whl (1.6 MB)\n",
            "\u001b[2K     \u001b[90m━━━━━━━━━━━━━━━━━━━━━━━━━━━━━━━━━━━━━━━━\u001b[0m \u001b[32m1.6/1.6 MB\u001b[0m \u001b[31m67.8 MB/s\u001b[0m eta \u001b[36m0:00:00\u001b[0m\n",
            "\u001b[?25hRequirement already satisfied: ipykernel>=4.5.1 in /usr/local/lib/python3.9/dist-packages (from ipywidgets>=7.6.5->pycaret) (5.5.6)\n",
            "Requirement already satisfied: jupyterlab-widgets>=1.0.0 in /usr/local/lib/python3.9/dist-packages (from ipywidgets>=7.6.5->pycaret) (3.0.7)\n",
            "Requirement already satisfied: ipython-genutils~=0.2.0 in /usr/local/lib/python3.9/dist-packages (from ipywidgets>=7.6.5->pycaret) (0.2.0)\n",
            "Requirement already satisfied: widgetsnbextension~=3.6.0 in /usr/local/lib/python3.9/dist-packages (from ipywidgets>=7.6.5->pycaret) (3.6.4)\n",
            "Requirement already satisfied: wheel in /usr/local/lib/python3.9/dist-packages (from lightgbm>=3.0.0->pycaret) (0.40.0)\n",
            "Requirement already satisfied: kiwisolver>=1.0.1 in /usr/local/lib/python3.9/dist-packages (from matplotlib>=3.3.0->pycaret) (1.4.4)\n",
            "Requirement already satisfied: pyparsing>=2.3.1 in /usr/local/lib/python3.9/dist-packages (from matplotlib>=3.3.0->pycaret) (3.0.9)\n",
            "Requirement already satisfied: importlib-resources>=3.2.0 in /usr/local/lib/python3.9/dist-packages (from matplotlib>=3.3.0->pycaret) (5.12.0)\n",
            "Requirement already satisfied: pillow>=6.2.0 in /usr/local/lib/python3.9/dist-packages (from matplotlib>=3.3.0->pycaret) (8.4.0)\n",
            "Requirement already satisfied: contourpy>=1.0.1 in /usr/local/lib/python3.9/dist-packages (from matplotlib>=3.3.0->pycaret) (1.0.7)\n",
            "Requirement already satisfied: fonttools>=4.22.0 in /usr/local/lib/python3.9/dist-packages (from matplotlib>=3.3.0->pycaret) (4.39.3)\n",
            "Requirement already satisfied: python-dateutil>=2.7 in /usr/local/lib/python3.9/dist-packages (from matplotlib>=3.3.0->pycaret) (2.8.2)\n",
            "Requirement already satisfied: cycler>=0.10 in /usr/local/lib/python3.9/dist-packages (from matplotlib>=3.3.0->pycaret) (0.11.0)\n",
            "Requirement already satisfied: jupyter-core in /usr/local/lib/python3.9/dist-packages (from nbformat>=4.2.0->pycaret) (5.3.0)\n",
            "Requirement already satisfied: fastjsonschema in /usr/local/lib/python3.9/dist-packages (from nbformat>=4.2.0->pycaret) (2.16.3)\n",
            "Requirement already satisfied: jsonschema>=2.6 in /usr/local/lib/python3.9/dist-packages (from nbformat>=4.2.0->pycaret) (4.3.3)\n",
            "Requirement already satisfied: llvmlite<0.40,>=0.39.0dev0 in /usr/local/lib/python3.9/dist-packages (from numba>=0.55.0->pycaret) (0.39.1)\n",
            "Requirement already satisfied: pytz>=2020.1 in /usr/local/lib/python3.9/dist-packages (from pandas<1.6.0,>=1.3.0->pycaret) (2022.7.1)\n",
            "Requirement already satisfied: tenacity>=6.2.0 in /usr/local/lib/python3.9/dist-packages (from plotly>=5.0.0->pycaret) (8.2.2)\n",
            "Collecting jupyter-dash>=0.4.2\n",
            "  Downloading jupyter_dash-0.4.2-py3-none-any.whl (23 kB)\n",
            "Collecting orjson<4.0.0,>=3.8.0\n",
            "  Downloading orjson-3.8.10-cp39-cp39-manylinux_2_28_x86_64.whl (140 kB)\n",
            "\u001b[2K     \u001b[90m━━━━━━━━━━━━━━━━━━━━━━━━━━━━━━━━━━━━━━\u001b[0m \u001b[32m140.5/140.5 KB\u001b[0m \u001b[31m17.5 MB/s\u001b[0m eta \u001b[36m0:00:00\u001b[0m\n",
            "\u001b[?25hCollecting dash<3.0.0,>=2.2.0\n",
            "  Downloading dash-2.9.2-py3-none-any.whl (10.2 MB)\n",
            "\u001b[2K     \u001b[90m━━━━━━━━━━━━━━━━━━━━━━━━━━━━━━━━━━━━━━━━\u001b[0m \u001b[32m10.2/10.2 MB\u001b[0m \u001b[31m77.6 MB/s\u001b[0m eta \u001b[36m0:00:00\u001b[0m\n",
            "\u001b[?25hCollecting trace-updater>=0.0.8\n",
            "  Downloading trace_updater-0.0.9.1-py3-none-any.whl (185 kB)\n",
            "\u001b[2K     \u001b[90m━━━━━━━━━━━━━━━━━━━━━━━━━━━━━━━━━━━━━━\u001b[0m \u001b[32m185.2/185.2 KB\u001b[0m \u001b[31m21.8 MB/s\u001b[0m eta \u001b[36m0:00:00\u001b[0m\n",
            "\u001b[?25hRequirement already satisfied: Cython!=0.29.18,!=0.29.31,>=0.29 in /usr/local/lib/python3.9/dist-packages (from pmdarima!=1.8.1,<3.0.0,>=1.8.0->pycaret) (0.29.34)\n",
            "Requirement already satisfied: urllib3 in /usr/local/lib/python3.9/dist-packages (from pmdarima!=1.8.1,<3.0.0,>=1.8.0->pycaret) (1.26.15)\n",
            "Requirement already satisfied: six in /usr/local/lib/python3.9/dist-packages (from pyod>=1.0.8->pycaret) (1.16.0)\n",
            "Requirement already satisfied: charset-normalizer~=2.0.0 in /usr/local/lib/python3.9/dist-packages (from requests>=2.27.1->pycaret) (2.0.12)\n",
            "Requirement already satisfied: idna<4,>=2.5 in /usr/local/lib/python3.9/dist-packages (from requests>=2.27.1->pycaret) (3.4)\n",
            "Requirement already satisfied: certifi>=2017.4.17 in /usr/local/lib/python3.9/dist-packages (from requests>=2.27.1->pycaret) (2022.12.7)\n",
            "Collecting deprecated>=1.2.13\n",
            "  Downloading Deprecated-1.2.13-py2.py3-none-any.whl (9.6 kB)\n",
            "Collecting dash-core-components==2.0.0\n",
            "  Downloading dash_core_components-2.0.0-py3-none-any.whl (3.8 kB)\n",
            "Collecting dash-html-components==2.0.0\n",
            "  Downloading dash_html_components-2.0.0-py3-none-any.whl (4.1 kB)\n",
            "Collecting dash-table==5.0.0\n",
            "  Downloading dash_table-5.0.0-py3-none-any.whl (3.9 kB)\n",
            "Requirement already satisfied: Flask>=1.0.4 in /usr/local/lib/python3.9/dist-packages (from dash<3.0.0,>=2.2.0->plotly-resampler>=0.8.3.1->pycaret) (2.2.3)\n",
            "Requirement already satisfied: wrapt<2,>=1.10 in /usr/local/lib/python3.9/dist-packages (from deprecated>=1.2.13->sktime>=0.16.1->pycaret) (1.14.1)\n",
            "Requirement already satisfied: jupyter-client in /usr/local/lib/python3.9/dist-packages (from ipykernel>=4.5.1->ipywidgets>=7.6.5->pycaret) (6.1.12)\n",
            "Requirement already satisfied: tornado>=4.2 in /usr/local/lib/python3.9/dist-packages (from ipykernel>=4.5.1->ipywidgets>=7.6.5->pycaret) (6.2)\n",
            "Requirement already satisfied: parso<0.9.0,>=0.8.0 in /usr/local/lib/python3.9/dist-packages (from jedi>=0.16->ipython>=5.5.0->pycaret) (0.8.3)\n",
            "Requirement already satisfied: attrs>=17.4.0 in /usr/local/lib/python3.9/dist-packages (from jsonschema>=2.6->nbformat>=4.2.0->pycaret) (22.2.0)\n",
            "Requirement already satisfied: pyrsistent!=0.17.0,!=0.17.1,!=0.17.2,>=0.14.0 in /usr/local/lib/python3.9/dist-packages (from jsonschema>=2.6->nbformat>=4.2.0->pycaret) (0.19.3)\n",
            "Collecting retrying\n",
            "  Downloading retrying-1.3.4-py3-none-any.whl (11 kB)\n",
            "Requirement already satisfied: nest-asyncio in /usr/local/lib/python3.9/dist-packages (from jupyter-dash>=0.4.2->plotly-resampler>=0.8.3.1->pycaret) (1.5.6)\n",
            "Collecting ansi2html\n",
            "  Downloading ansi2html-1.8.0-py3-none-any.whl (16 kB)\n",
            "Requirement already satisfied: ptyprocess>=0.5 in /usr/local/lib/python3.9/dist-packages (from pexpect>4.3->ipython>=5.5.0->pycaret) (0.7.0)\n",
            "Requirement already satisfied: wcwidth in /usr/local/lib/python3.9/dist-packages (from prompt-toolkit!=3.0.0,!=3.0.1,<3.1.0,>=2.0.0->ipython>=5.5.0->pycaret) (0.2.6)\n",
            "Requirement already satisfied: notebook>=4.4.1 in /usr/local/lib/python3.9/dist-packages (from widgetsnbextension~=3.6.0->ipywidgets>=7.6.5->pycaret) (6.4.8)\n",
            "Requirement already satisfied: platformdirs>=2.5 in /usr/local/lib/python3.9/dist-packages (from jupyter-core->nbformat>=4.2.0->pycaret) (3.2.0)\n",
            "Requirement already satisfied: itsdangerous>=2.0 in /usr/local/lib/python3.9/dist-packages (from Flask>=1.0.4->dash<3.0.0,>=2.2.0->plotly-resampler>=0.8.3.1->pycaret) (2.1.2)\n",
            "Requirement already satisfied: Werkzeug>=2.2.2 in /usr/local/lib/python3.9/dist-packages (from Flask>=1.0.4->dash<3.0.0,>=2.2.0->plotly-resampler>=0.8.3.1->pycaret) (2.2.3)\n",
            "Requirement already satisfied: click>=8.0 in /usr/local/lib/python3.9/dist-packages (from Flask>=1.0.4->dash<3.0.0,>=2.2.0->plotly-resampler>=0.8.3.1->pycaret) (8.1.3)\n",
            "Requirement already satisfied: pyzmq>=17 in /usr/local/lib/python3.9/dist-packages (from notebook>=4.4.1->widgetsnbextension~=3.6.0->ipywidgets>=7.6.5->pycaret) (23.2.1)\n",
            "Requirement already satisfied: Send2Trash>=1.8.0 in /usr/local/lib/python3.9/dist-packages (from notebook>=4.4.1->widgetsnbextension~=3.6.0->ipywidgets>=7.6.5->pycaret) (1.8.0)\n",
            "Requirement already satisfied: prometheus-client in /usr/local/lib/python3.9/dist-packages (from notebook>=4.4.1->widgetsnbextension~=3.6.0->ipywidgets>=7.6.5->pycaret) (0.16.0)\n",
            "Requirement already satisfied: argon2-cffi in /usr/local/lib/python3.9/dist-packages (from notebook>=4.4.1->widgetsnbextension~=3.6.0->ipywidgets>=7.6.5->pycaret) (21.3.0)\n",
            "Requirement already satisfied: nbconvert in /usr/local/lib/python3.9/dist-packages (from notebook>=4.4.1->widgetsnbextension~=3.6.0->ipywidgets>=7.6.5->pycaret) (6.5.4)\n",
            "Requirement already satisfied: terminado>=0.8.3 in /usr/local/lib/python3.9/dist-packages (from notebook>=4.4.1->widgetsnbextension~=3.6.0->ipywidgets>=7.6.5->pycaret) (0.17.1)\n",
            "Requirement already satisfied: argon2-cffi-bindings in /usr/local/lib/python3.9/dist-packages (from argon2-cffi->notebook>=4.4.1->widgetsnbextension~=3.6.0->ipywidgets>=7.6.5->pycaret) (21.2.0)\n",
            "Requirement already satisfied: defusedxml in /usr/local/lib/python3.9/dist-packages (from nbconvert->notebook>=4.4.1->widgetsnbextension~=3.6.0->ipywidgets>=7.6.5->pycaret) (0.7.1)\n",
            "Requirement already satisfied: tinycss2 in /usr/local/lib/python3.9/dist-packages (from nbconvert->notebook>=4.4.1->widgetsnbextension~=3.6.0->ipywidgets>=7.6.5->pycaret) (1.2.1)\n",
            "Requirement already satisfied: bleach in /usr/local/lib/python3.9/dist-packages (from nbconvert->notebook>=4.4.1->widgetsnbextension~=3.6.0->ipywidgets>=7.6.5->pycaret) (6.0.0)\n",
            "Requirement already satisfied: beautifulsoup4 in /usr/local/lib/python3.9/dist-packages (from nbconvert->notebook>=4.4.1->widgetsnbextension~=3.6.0->ipywidgets>=7.6.5->pycaret) (4.11.2)\n",
            "Requirement already satisfied: entrypoints>=0.2.2 in /usr/local/lib/python3.9/dist-packages (from nbconvert->notebook>=4.4.1->widgetsnbextension~=3.6.0->ipywidgets>=7.6.5->pycaret) (0.4)\n",
            "Requirement already satisfied: lxml in /usr/local/lib/python3.9/dist-packages (from nbconvert->notebook>=4.4.1->widgetsnbextension~=3.6.0->ipywidgets>=7.6.5->pycaret) (4.9.2)\n",
            "Requirement already satisfied: nbclient>=0.5.0 in /usr/local/lib/python3.9/dist-packages (from nbconvert->notebook>=4.4.1->widgetsnbextension~=3.6.0->ipywidgets>=7.6.5->pycaret) (0.7.3)\n",
            "Requirement already satisfied: jupyterlab-pygments in /usr/local/lib/python3.9/dist-packages (from nbconvert->notebook>=4.4.1->widgetsnbextension~=3.6.0->ipywidgets>=7.6.5->pycaret) (0.2.2)\n",
            "Requirement already satisfied: pandocfilters>=1.4.1 in /usr/local/lib/python3.9/dist-packages (from nbconvert->notebook>=4.4.1->widgetsnbextension~=3.6.0->ipywidgets>=7.6.5->pycaret) (1.5.0)\n",
            "Requirement already satisfied: mistune<2,>=0.8.1 in /usr/local/lib/python3.9/dist-packages (from nbconvert->notebook>=4.4.1->widgetsnbextension~=3.6.0->ipywidgets>=7.6.5->pycaret) (0.8.4)\n",
            "Requirement already satisfied: cffi>=1.0.1 in /usr/local/lib/python3.9/dist-packages (from argon2-cffi-bindings->argon2-cffi->notebook>=4.4.1->widgetsnbextension~=3.6.0->ipywidgets>=7.6.5->pycaret) (1.15.1)\n",
            "Requirement already satisfied: soupsieve>1.2 in /usr/local/lib/python3.9/dist-packages (from beautifulsoup4->nbconvert->notebook>=4.4.1->widgetsnbextension~=3.6.0->ipywidgets>=7.6.5->pycaret) (2.4)\n",
            "Requirement already satisfied: webencodings in /usr/local/lib/python3.9/dist-packages (from bleach->nbconvert->notebook>=4.4.1->widgetsnbextension~=3.6.0->ipywidgets>=7.6.5->pycaret) (0.5.1)\n",
            "Requirement already satisfied: pycparser in /usr/local/lib/python3.9/dist-packages (from cffi>=1.0.1->argon2-cffi-bindings->argon2-cffi->notebook>=4.4.1->widgetsnbextension~=3.6.0->ipywidgets>=7.6.5->pycaret) (2.21)\n",
            "Building wheels for collected packages: plotly-resampler, pyod\n",
            "  Building wheel for plotly-resampler (pyproject.toml) ... \u001b[?25l\u001b[?25hdone\n",
            "  Created wheel for plotly-resampler: filename=plotly_resampler-0.8.3.2-cp39-cp39-manylinux_2_31_x86_64.whl size=75067 sha256=bf6e68f5b4347673e86da709ebcb6a97d564107c9fba51c634530c17dfcfe598\n",
            "  Stored in directory: /root/.cache/pip/wheels/9e/36/06/4c11e300918011376af149098621ec7ebe06d8256566d43d51\n",
            "  Building wheel for pyod (setup.py) ... \u001b[?25l\u001b[?25hdone\n",
            "  Created wheel for pyod: filename=pyod-1.0.9-py3-none-any.whl size=184112 sha256=850ea10d1ae70ac132c8dd0305ac304375d4512f17abb00178f46f4c5e430991\n",
            "  Stored in directory: /root/.cache/pip/wheels/1b/9c/b8/9759d7cc64a1e01bb9872ade80cb7db445ccf506e083325106\n",
            "Successfully built plotly-resampler pyod\n",
            "Installing collected packages: trace-updater, kaleido, dash-table, dash-html-components, dash-core-components, xxhash, wurlitzer, schemdraw, retrying, orjson, joblib, jedi, deprecation, deprecated, ansi2html, sktime, scikit-plot, pyod, dash, pmdarima, jupyter-dash, category-encoders, tbats, plotly-resampler, pycaret\n",
            "  Attempting uninstall: joblib\n",
            "    Found existing installation: joblib 1.1.1\n",
            "    Uninstalling joblib-1.1.1:\n",
            "      Successfully uninstalled joblib-1.1.1\n",
            "\u001b[31mERROR: pip's dependency resolver does not currently take into account all the packages that are installed. This behaviour is the source of the following dependency conflicts.\n",
            "pandas-profiling 3.2.0 requires joblib~=1.1.0, but you have joblib 1.2.0 which is incompatible.\u001b[0m\u001b[31m\n",
            "\u001b[0mSuccessfully installed ansi2html-1.8.0 category-encoders-2.6.0 dash-2.9.2 dash-core-components-2.0.0 dash-html-components-2.0.0 dash-table-5.0.0 deprecated-1.2.13 deprecation-2.1.0 jedi-0.18.2 joblib-1.2.0 jupyter-dash-0.4.2 kaleido-0.2.1 orjson-3.8.10 plotly-resampler-0.8.3.2 pmdarima-2.0.3 pycaret-3.0.0 pyod-1.0.9 retrying-1.3.4 schemdraw-0.16 scikit-plot-0.3.7 sktime-0.17.0 tbats-1.1.2 trace-updater-0.0.9.1 wurlitzer-3.0.3 xxhash-3.2.0\n"
          ]
        }
      ],
      "source": [
        "!pip install pycaret"
      ]
    },
    {
      "cell_type": "code",
      "source": [
        "from pycaret.classification import *"
      ],
      "metadata": {
        "id": "x8JmwdNl8Fbl"
      },
      "id": "x8JmwdNl8Fbl",
      "execution_count": 4,
      "outputs": []
    },
    {
      "cell_type": "code",
      "source": [
        "classification = setup(data=customer_churn, target='Churn', session_id=123)"
      ],
      "metadata": {
        "colab": {
          "base_uri": "https://localhost:8080/",
          "height": 802
        },
        "id": "tcbJ_IXX8FfF",
        "outputId": "fc0fb827-7a8a-4918-cf20-8f97cab14af5"
      },
      "id": "tcbJ_IXX8FfF",
      "execution_count": 6,
      "outputs": [
        {
          "output_type": "display_data",
          "data": {
            "text/plain": [
              "<pandas.io.formats.style.Styler at 0x7f42de25d640>"
            ],
            "text/html": [
              "<style type=\"text/css\">\n",
              "#T_aebda_row11_col1 {\n",
              "  background-color: lightgreen;\n",
              "}\n",
              "</style>\n",
              "<table id=\"T_aebda\" class=\"dataframe\">\n",
              "  <thead>\n",
              "    <tr>\n",
              "      <th class=\"blank level0\" >&nbsp;</th>\n",
              "      <th id=\"T_aebda_level0_col0\" class=\"col_heading level0 col0\" >Description</th>\n",
              "      <th id=\"T_aebda_level0_col1\" class=\"col_heading level0 col1\" >Value</th>\n",
              "    </tr>\n",
              "  </thead>\n",
              "  <tbody>\n",
              "    <tr>\n",
              "      <th id=\"T_aebda_level0_row0\" class=\"row_heading level0 row0\" >0</th>\n",
              "      <td id=\"T_aebda_row0_col0\" class=\"data row0 col0\" >Session id</td>\n",
              "      <td id=\"T_aebda_row0_col1\" class=\"data row0 col1\" >123</td>\n",
              "    </tr>\n",
              "    <tr>\n",
              "      <th id=\"T_aebda_level0_row1\" class=\"row_heading level0 row1\" >1</th>\n",
              "      <td id=\"T_aebda_row1_col0\" class=\"data row1 col0\" >Target</td>\n",
              "      <td id=\"T_aebda_row1_col1\" class=\"data row1 col1\" >Churn</td>\n",
              "    </tr>\n",
              "    <tr>\n",
              "      <th id=\"T_aebda_level0_row2\" class=\"row_heading level0 row2\" >2</th>\n",
              "      <td id=\"T_aebda_row2_col0\" class=\"data row2 col0\" >Target type</td>\n",
              "      <td id=\"T_aebda_row2_col1\" class=\"data row2 col1\" >Binary</td>\n",
              "    </tr>\n",
              "    <tr>\n",
              "      <th id=\"T_aebda_level0_row3\" class=\"row_heading level0 row3\" >3</th>\n",
              "      <td id=\"T_aebda_row3_col0\" class=\"data row3 col0\" >Target mapping</td>\n",
              "      <td id=\"T_aebda_row3_col1\" class=\"data row3 col1\" >No: 0, Yes: 1</td>\n",
              "    </tr>\n",
              "    <tr>\n",
              "      <th id=\"T_aebda_level0_row4\" class=\"row_heading level0 row4\" >4</th>\n",
              "      <td id=\"T_aebda_row4_col0\" class=\"data row4 col0\" >Original data shape</td>\n",
              "      <td id=\"T_aebda_row4_col1\" class=\"data row4 col1\" >(7043, 21)</td>\n",
              "    </tr>\n",
              "    <tr>\n",
              "      <th id=\"T_aebda_level0_row5\" class=\"row_heading level0 row5\" >5</th>\n",
              "      <td id=\"T_aebda_row5_col0\" class=\"data row5 col0\" >Transformed data shape</td>\n",
              "      <td id=\"T_aebda_row5_col1\" class=\"data row5 col1\" >(7043, 42)</td>\n",
              "    </tr>\n",
              "    <tr>\n",
              "      <th id=\"T_aebda_level0_row6\" class=\"row_heading level0 row6\" >6</th>\n",
              "      <td id=\"T_aebda_row6_col0\" class=\"data row6 col0\" >Transformed train set shape</td>\n",
              "      <td id=\"T_aebda_row6_col1\" class=\"data row6 col1\" >(4930, 42)</td>\n",
              "    </tr>\n",
              "    <tr>\n",
              "      <th id=\"T_aebda_level0_row7\" class=\"row_heading level0 row7\" >7</th>\n",
              "      <td id=\"T_aebda_row7_col0\" class=\"data row7 col0\" >Transformed test set shape</td>\n",
              "      <td id=\"T_aebda_row7_col1\" class=\"data row7 col1\" >(2113, 42)</td>\n",
              "    </tr>\n",
              "    <tr>\n",
              "      <th id=\"T_aebda_level0_row8\" class=\"row_heading level0 row8\" >8</th>\n",
              "      <td id=\"T_aebda_row8_col0\" class=\"data row8 col0\" >Ordinal features</td>\n",
              "      <td id=\"T_aebda_row8_col1\" class=\"data row8 col1\" >5</td>\n",
              "    </tr>\n",
              "    <tr>\n",
              "      <th id=\"T_aebda_level0_row9\" class=\"row_heading level0 row9\" >9</th>\n",
              "      <td id=\"T_aebda_row9_col0\" class=\"data row9 col0\" >Numeric features</td>\n",
              "      <td id=\"T_aebda_row9_col1\" class=\"data row9 col1\" >3</td>\n",
              "    </tr>\n",
              "    <tr>\n",
              "      <th id=\"T_aebda_level0_row10\" class=\"row_heading level0 row10\" >10</th>\n",
              "      <td id=\"T_aebda_row10_col0\" class=\"data row10 col0\" >Categorical features</td>\n",
              "      <td id=\"T_aebda_row10_col1\" class=\"data row10 col1\" >17</td>\n",
              "    </tr>\n",
              "    <tr>\n",
              "      <th id=\"T_aebda_level0_row11\" class=\"row_heading level0 row11\" >11</th>\n",
              "      <td id=\"T_aebda_row11_col0\" class=\"data row11 col0\" >Preprocess</td>\n",
              "      <td id=\"T_aebda_row11_col1\" class=\"data row11 col1\" >True</td>\n",
              "    </tr>\n",
              "    <tr>\n",
              "      <th id=\"T_aebda_level0_row12\" class=\"row_heading level0 row12\" >12</th>\n",
              "      <td id=\"T_aebda_row12_col0\" class=\"data row12 col0\" >Imputation type</td>\n",
              "      <td id=\"T_aebda_row12_col1\" class=\"data row12 col1\" >simple</td>\n",
              "    </tr>\n",
              "    <tr>\n",
              "      <th id=\"T_aebda_level0_row13\" class=\"row_heading level0 row13\" >13</th>\n",
              "      <td id=\"T_aebda_row13_col0\" class=\"data row13 col0\" >Numeric imputation</td>\n",
              "      <td id=\"T_aebda_row13_col1\" class=\"data row13 col1\" >mean</td>\n",
              "    </tr>\n",
              "    <tr>\n",
              "      <th id=\"T_aebda_level0_row14\" class=\"row_heading level0 row14\" >14</th>\n",
              "      <td id=\"T_aebda_row14_col0\" class=\"data row14 col0\" >Categorical imputation</td>\n",
              "      <td id=\"T_aebda_row14_col1\" class=\"data row14 col1\" >mode</td>\n",
              "    </tr>\n",
              "    <tr>\n",
              "      <th id=\"T_aebda_level0_row15\" class=\"row_heading level0 row15\" >15</th>\n",
              "      <td id=\"T_aebda_row15_col0\" class=\"data row15 col0\" >Maximum one-hot encoding</td>\n",
              "      <td id=\"T_aebda_row15_col1\" class=\"data row15 col1\" >25</td>\n",
              "    </tr>\n",
              "    <tr>\n",
              "      <th id=\"T_aebda_level0_row16\" class=\"row_heading level0 row16\" >16</th>\n",
              "      <td id=\"T_aebda_row16_col0\" class=\"data row16 col0\" >Encoding method</td>\n",
              "      <td id=\"T_aebda_row16_col1\" class=\"data row16 col1\" >None</td>\n",
              "    </tr>\n",
              "    <tr>\n",
              "      <th id=\"T_aebda_level0_row17\" class=\"row_heading level0 row17\" >17</th>\n",
              "      <td id=\"T_aebda_row17_col0\" class=\"data row17 col0\" >Fold Generator</td>\n",
              "      <td id=\"T_aebda_row17_col1\" class=\"data row17 col1\" >StratifiedKFold</td>\n",
              "    </tr>\n",
              "    <tr>\n",
              "      <th id=\"T_aebda_level0_row18\" class=\"row_heading level0 row18\" >18</th>\n",
              "      <td id=\"T_aebda_row18_col0\" class=\"data row18 col0\" >Fold Number</td>\n",
              "      <td id=\"T_aebda_row18_col1\" class=\"data row18 col1\" >10</td>\n",
              "    </tr>\n",
              "    <tr>\n",
              "      <th id=\"T_aebda_level0_row19\" class=\"row_heading level0 row19\" >19</th>\n",
              "      <td id=\"T_aebda_row19_col0\" class=\"data row19 col0\" >CPU Jobs</td>\n",
              "      <td id=\"T_aebda_row19_col1\" class=\"data row19 col1\" >-1</td>\n",
              "    </tr>\n",
              "    <tr>\n",
              "      <th id=\"T_aebda_level0_row20\" class=\"row_heading level0 row20\" >20</th>\n",
              "      <td id=\"T_aebda_row20_col0\" class=\"data row20 col0\" >Use GPU</td>\n",
              "      <td id=\"T_aebda_row20_col1\" class=\"data row20 col1\" >False</td>\n",
              "    </tr>\n",
              "    <tr>\n",
              "      <th id=\"T_aebda_level0_row21\" class=\"row_heading level0 row21\" >21</th>\n",
              "      <td id=\"T_aebda_row21_col0\" class=\"data row21 col0\" >Log Experiment</td>\n",
              "      <td id=\"T_aebda_row21_col1\" class=\"data row21 col1\" >False</td>\n",
              "    </tr>\n",
              "    <tr>\n",
              "      <th id=\"T_aebda_level0_row22\" class=\"row_heading level0 row22\" >22</th>\n",
              "      <td id=\"T_aebda_row22_col0\" class=\"data row22 col0\" >Experiment Name</td>\n",
              "      <td id=\"T_aebda_row22_col1\" class=\"data row22 col1\" >clf-default-name</td>\n",
              "    </tr>\n",
              "    <tr>\n",
              "      <th id=\"T_aebda_level0_row23\" class=\"row_heading level0 row23\" >23</th>\n",
              "      <td id=\"T_aebda_row23_col0\" class=\"data row23 col0\" >USI</td>\n",
              "      <td id=\"T_aebda_row23_col1\" class=\"data row23 col1\" >9b50</td>\n",
              "    </tr>\n",
              "  </tbody>\n",
              "</table>\n"
            ]
          },
          "metadata": {}
        }
      ]
    },
    {
      "cell_type": "code",
      "source": [
        "compare_models()"
      ],
      "metadata": {
        "colab": {
          "base_uri": "https://localhost:8080/",
          "height": 611,
          "referenced_widgets": [
            "0e8afcc3f6c84ba3930671e8b44fe7a0",
            "43a7ee358d784ef08c54221a0399519b",
            "306300628ded49259b41fdfdfb6f24e3",
            "3cbca1cdcd664b2688ddbd6e995743d4",
            "0b9876f20589480b857c0c977d932a42",
            "de41bcce1a9e42478161ea36967a2e95",
            "a897d007ed07423dbb1002d985ffedd7",
            "f1a2fe6f85f843dcb6c1ee10a917816a",
            "dde57a75ee4e409c9a5d7c73244d25ea",
            "fb78c9b5015c4286a4b027f660dc288a",
            "868c17e99a0943b7a5d8f4089564b10f"
          ]
        },
        "id": "ozOI2pHm8Fig",
        "outputId": "7b19ceda-14cc-41ea-8def-3012db029571"
      },
      "id": "ozOI2pHm8Fig",
      "execution_count": 7,
      "outputs": [
        {
          "output_type": "display_data",
          "data": {
            "text/plain": [
              "<IPython.core.display.HTML object>"
            ],
            "text/html": []
          },
          "metadata": {}
        },
        {
          "output_type": "display_data",
          "data": {
            "text/plain": [
              "<pandas.io.formats.style.Styler at 0x7f42454d3160>"
            ],
            "text/html": [
              "<style type=\"text/css\">\n",
              "#T_7302e th {\n",
              "  text-align: left;\n",
              "}\n",
              "#T_7302e_row0_col0, #T_7302e_row0_col2, #T_7302e_row0_col3, #T_7302e_row0_col4, #T_7302e_row0_col5, #T_7302e_row0_col6, #T_7302e_row0_col7, #T_7302e_row1_col0, #T_7302e_row1_col1, #T_7302e_row1_col2, #T_7302e_row1_col3, #T_7302e_row1_col5, #T_7302e_row1_col6, #T_7302e_row1_col7, #T_7302e_row2_col0, #T_7302e_row2_col1, #T_7302e_row2_col3, #T_7302e_row2_col4, #T_7302e_row2_col5, #T_7302e_row2_col6, #T_7302e_row2_col7, #T_7302e_row3_col0, #T_7302e_row3_col1, #T_7302e_row3_col2, #T_7302e_row3_col3, #T_7302e_row3_col4, #T_7302e_row3_col5, #T_7302e_row3_col6, #T_7302e_row3_col7, #T_7302e_row4_col0, #T_7302e_row4_col1, #T_7302e_row4_col2, #T_7302e_row4_col3, #T_7302e_row4_col4, #T_7302e_row5_col0, #T_7302e_row5_col1, #T_7302e_row5_col2, #T_7302e_row5_col3, #T_7302e_row5_col4, #T_7302e_row5_col5, #T_7302e_row5_col6, #T_7302e_row5_col7, #T_7302e_row6_col0, #T_7302e_row6_col1, #T_7302e_row6_col2, #T_7302e_row6_col3, #T_7302e_row6_col4, #T_7302e_row6_col5, #T_7302e_row6_col6, #T_7302e_row6_col7, #T_7302e_row7_col0, #T_7302e_row7_col1, #T_7302e_row7_col2, #T_7302e_row7_col3, #T_7302e_row7_col4, #T_7302e_row7_col5, #T_7302e_row7_col6, #T_7302e_row7_col7, #T_7302e_row8_col0, #T_7302e_row8_col1, #T_7302e_row8_col2, #T_7302e_row8_col3, #T_7302e_row8_col4, #T_7302e_row8_col5, #T_7302e_row8_col6, #T_7302e_row8_col7, #T_7302e_row9_col0, #T_7302e_row9_col1, #T_7302e_row9_col2, #T_7302e_row9_col3, #T_7302e_row9_col4, #T_7302e_row9_col5, #T_7302e_row9_col6, #T_7302e_row9_col7, #T_7302e_row10_col0, #T_7302e_row10_col1, #T_7302e_row10_col2, #T_7302e_row10_col3, #T_7302e_row10_col4, #T_7302e_row10_col5, #T_7302e_row10_col6, #T_7302e_row10_col7, #T_7302e_row11_col0, #T_7302e_row11_col1, #T_7302e_row11_col2, #T_7302e_row11_col3, #T_7302e_row11_col4, #T_7302e_row11_col5, #T_7302e_row11_col6, #T_7302e_row11_col7, #T_7302e_row12_col0, #T_7302e_row12_col1, #T_7302e_row12_col2, #T_7302e_row12_col3, #T_7302e_row12_col4, #T_7302e_row12_col5, #T_7302e_row12_col6, #T_7302e_row12_col7, #T_7302e_row13_col0, #T_7302e_row13_col1, #T_7302e_row13_col2, #T_7302e_row13_col3, #T_7302e_row13_col4, #T_7302e_row13_col5, #T_7302e_row13_col6, #T_7302e_row13_col7, #T_7302e_row14_col0, #T_7302e_row14_col1, #T_7302e_row14_col2, #T_7302e_row14_col4, #T_7302e_row14_col5, #T_7302e_row14_col6, #T_7302e_row14_col7 {\n",
              "  text-align: left;\n",
              "}\n",
              "#T_7302e_row0_col1, #T_7302e_row1_col4, #T_7302e_row2_col2, #T_7302e_row4_col5, #T_7302e_row4_col6, #T_7302e_row4_col7, #T_7302e_row14_col3 {\n",
              "  text-align: left;\n",
              "  background-color: yellow;\n",
              "}\n",
              "#T_7302e_row0_col8, #T_7302e_row1_col8, #T_7302e_row2_col8, #T_7302e_row3_col8, #T_7302e_row4_col8, #T_7302e_row5_col8, #T_7302e_row6_col8, #T_7302e_row7_col8, #T_7302e_row8_col8, #T_7302e_row9_col8, #T_7302e_row10_col8, #T_7302e_row11_col8, #T_7302e_row12_col8, #T_7302e_row14_col8 {\n",
              "  text-align: left;\n",
              "  background-color: lightgrey;\n",
              "}\n",
              "#T_7302e_row13_col8 {\n",
              "  text-align: left;\n",
              "  background-color: yellow;\n",
              "  background-color: lightgrey;\n",
              "}\n",
              "</style>\n",
              "<table id=\"T_7302e\" class=\"dataframe\">\n",
              "  <thead>\n",
              "    <tr>\n",
              "      <th class=\"blank level0\" >&nbsp;</th>\n",
              "      <th id=\"T_7302e_level0_col0\" class=\"col_heading level0 col0\" >Model</th>\n",
              "      <th id=\"T_7302e_level0_col1\" class=\"col_heading level0 col1\" >Accuracy</th>\n",
              "      <th id=\"T_7302e_level0_col2\" class=\"col_heading level0 col2\" >AUC</th>\n",
              "      <th id=\"T_7302e_level0_col3\" class=\"col_heading level0 col3\" >Recall</th>\n",
              "      <th id=\"T_7302e_level0_col4\" class=\"col_heading level0 col4\" >Prec.</th>\n",
              "      <th id=\"T_7302e_level0_col5\" class=\"col_heading level0 col5\" >F1</th>\n",
              "      <th id=\"T_7302e_level0_col6\" class=\"col_heading level0 col6\" >Kappa</th>\n",
              "      <th id=\"T_7302e_level0_col7\" class=\"col_heading level0 col7\" >MCC</th>\n",
              "      <th id=\"T_7302e_level0_col8\" class=\"col_heading level0 col8\" >TT (Sec)</th>\n",
              "    </tr>\n",
              "  </thead>\n",
              "  <tbody>\n",
              "    <tr>\n",
              "      <th id=\"T_7302e_level0_row0\" class=\"row_heading level0 row0\" >ada</th>\n",
              "      <td id=\"T_7302e_row0_col0\" class=\"data row0 col0\" >Ada Boost Classifier</td>\n",
              "      <td id=\"T_7302e_row0_col1\" class=\"data row0 col1\" >0.8030</td>\n",
              "      <td id=\"T_7302e_row0_col2\" class=\"data row0 col2\" >0.8480</td>\n",
              "      <td id=\"T_7302e_row0_col3\" class=\"data row0 col3\" >0.5337</td>\n",
              "      <td id=\"T_7302e_row0_col4\" class=\"data row0 col4\" >0.6600</td>\n",
              "      <td id=\"T_7302e_row0_col5\" class=\"data row0 col5\" >0.5895</td>\n",
              "      <td id=\"T_7302e_row0_col6\" class=\"data row0 col6\" >0.4620</td>\n",
              "      <td id=\"T_7302e_row0_col7\" class=\"data row0 col7\" >0.4669</td>\n",
              "      <td id=\"T_7302e_row0_col8\" class=\"data row0 col8\" >1.0550</td>\n",
              "    </tr>\n",
              "    <tr>\n",
              "      <th id=\"T_7302e_level0_row1\" class=\"row_heading level0 row1\" >ridge</th>\n",
              "      <td id=\"T_7302e_row1_col0\" class=\"data row1 col0\" >Ridge Classifier</td>\n",
              "      <td id=\"T_7302e_row1_col1\" class=\"data row1 col1\" >0.8006</td>\n",
              "      <td id=\"T_7302e_row1_col2\" class=\"data row1 col2\" >0.0000</td>\n",
              "      <td id=\"T_7302e_row1_col3\" class=\"data row1 col3\" >0.5069</td>\n",
              "      <td id=\"T_7302e_row1_col4\" class=\"data row1 col4\" >0.6652</td>\n",
              "      <td id=\"T_7302e_row1_col5\" class=\"data row1 col5\" >0.5746</td>\n",
              "      <td id=\"T_7302e_row1_col6\" class=\"data row1 col6\" >0.4475</td>\n",
              "      <td id=\"T_7302e_row1_col7\" class=\"data row1 col7\" >0.4551</td>\n",
              "      <td id=\"T_7302e_row1_col8\" class=\"data row1 col8\" >0.7300</td>\n",
              "    </tr>\n",
              "    <tr>\n",
              "      <th id=\"T_7302e_level0_row2\" class=\"row_heading level0 row2\" >gbc</th>\n",
              "      <td id=\"T_7302e_row2_col0\" class=\"data row2 col0\" >Gradient Boosting Classifier</td>\n",
              "      <td id=\"T_7302e_row2_col1\" class=\"data row2 col1\" >0.8004</td>\n",
              "      <td id=\"T_7302e_row2_col2\" class=\"data row2 col2\" >0.8492</td>\n",
              "      <td id=\"T_7302e_row2_col3\" class=\"data row2 col3\" >0.5215</td>\n",
              "      <td id=\"T_7302e_row2_col4\" class=\"data row2 col4\" >0.6567</td>\n",
              "      <td id=\"T_7302e_row2_col5\" class=\"data row2 col5\" >0.5803</td>\n",
              "      <td id=\"T_7302e_row2_col6\" class=\"data row2 col6\" >0.4518</td>\n",
              "      <td id=\"T_7302e_row2_col7\" class=\"data row2 col7\" >0.4576</td>\n",
              "      <td id=\"T_7302e_row2_col8\" class=\"data row2 col8\" >1.3560</td>\n",
              "    </tr>\n",
              "    <tr>\n",
              "      <th id=\"T_7302e_level0_row3\" class=\"row_heading level0 row3\" >lr</th>\n",
              "      <td id=\"T_7302e_row3_col0\" class=\"data row3 col0\" >Logistic Regression</td>\n",
              "      <td id=\"T_7302e_row3_col1\" class=\"data row3 col1\" >0.8002</td>\n",
              "      <td id=\"T_7302e_row3_col2\" class=\"data row3 col2\" >0.8439</td>\n",
              "      <td id=\"T_7302e_row3_col3\" class=\"data row3 col3\" >0.5367</td>\n",
              "      <td id=\"T_7302e_row3_col4\" class=\"data row3 col4\" >0.6527</td>\n",
              "      <td id=\"T_7302e_row3_col5\" class=\"data row3 col5\" >0.5882</td>\n",
              "      <td id=\"T_7302e_row3_col6\" class=\"data row3 col6\" >0.4580</td>\n",
              "      <td id=\"T_7302e_row3_col7\" class=\"data row3 col7\" >0.4624</td>\n",
              "      <td id=\"T_7302e_row3_col8\" class=\"data row3 col8\" >1.4820</td>\n",
              "    </tr>\n",
              "    <tr>\n",
              "      <th id=\"T_7302e_level0_row4\" class=\"row_heading level0 row4\" >lda</th>\n",
              "      <td id=\"T_7302e_row4_col0\" class=\"data row4 col0\" >Linear Discriminant Analysis</td>\n",
              "      <td id=\"T_7302e_row4_col1\" class=\"data row4 col1\" >0.7959</td>\n",
              "      <td id=\"T_7302e_row4_col2\" class=\"data row4 col2\" >0.8404</td>\n",
              "      <td id=\"T_7302e_row4_col3\" class=\"data row4 col3\" >0.6026</td>\n",
              "      <td id=\"T_7302e_row4_col4\" class=\"data row4 col4\" >0.6269</td>\n",
              "      <td id=\"T_7302e_row4_col5\" class=\"data row4 col5\" >0.6098</td>\n",
              "      <td id=\"T_7302e_row4_col6\" class=\"data row4 col6\" >0.4727</td>\n",
              "      <td id=\"T_7302e_row4_col7\" class=\"data row4 col7\" >0.4764</td>\n",
              "      <td id=\"T_7302e_row4_col8\" class=\"data row4 col8\" >0.5740</td>\n",
              "    </tr>\n",
              "    <tr>\n",
              "      <th id=\"T_7302e_level0_row5\" class=\"row_heading level0 row5\" >lightgbm</th>\n",
              "      <td id=\"T_7302e_row5_col0\" class=\"data row5 col0\" >Light Gradient Boosting Machine</td>\n",
              "      <td id=\"T_7302e_row5_col1\" class=\"data row5 col1\" >0.7941</td>\n",
              "      <td id=\"T_7302e_row5_col2\" class=\"data row5 col2\" >0.8336</td>\n",
              "      <td id=\"T_7302e_row5_col3\" class=\"data row5 col3\" >0.5283</td>\n",
              "      <td id=\"T_7302e_row5_col4\" class=\"data row5 col4\" >0.6364</td>\n",
              "      <td id=\"T_7302e_row5_col5\" class=\"data row5 col5\" >0.5762</td>\n",
              "      <td id=\"T_7302e_row5_col6\" class=\"data row5 col6\" >0.4420</td>\n",
              "      <td id=\"T_7302e_row5_col7\" class=\"data row5 col7\" >0.4461</td>\n",
              "      <td id=\"T_7302e_row5_col8\" class=\"data row5 col8\" >0.7730</td>\n",
              "    </tr>\n",
              "    <tr>\n",
              "      <th id=\"T_7302e_level0_row6\" class=\"row_heading level0 row6\" >rf</th>\n",
              "      <td id=\"T_7302e_row6_col0\" class=\"data row6 col0\" >Random Forest Classifier</td>\n",
              "      <td id=\"T_7302e_row6_col1\" class=\"data row6 col1\" >0.7882</td>\n",
              "      <td id=\"T_7302e_row6_col2\" class=\"data row6 col2\" >0.8133</td>\n",
              "      <td id=\"T_7302e_row6_col3\" class=\"data row6 col3\" >0.4893</td>\n",
              "      <td id=\"T_7302e_row6_col4\" class=\"data row6 col4\" >0.6313</td>\n",
              "      <td id=\"T_7302e_row6_col5\" class=\"data row6 col5\" >0.5504</td>\n",
              "      <td id=\"T_7302e_row6_col6\" class=\"data row6 col6\" >0.4149</td>\n",
              "      <td id=\"T_7302e_row6_col7\" class=\"data row6 col7\" >0.4212</td>\n",
              "      <td id=\"T_7302e_row6_col8\" class=\"data row6 col8\" >1.6090</td>\n",
              "    </tr>\n",
              "    <tr>\n",
              "      <th id=\"T_7302e_level0_row7\" class=\"row_heading level0 row7\" >xgboost</th>\n",
              "      <td id=\"T_7302e_row7_col0\" class=\"data row7 col0\" >Extreme Gradient Boosting</td>\n",
              "      <td id=\"T_7302e_row7_col1\" class=\"data row7 col1\" >0.7870</td>\n",
              "      <td id=\"T_7302e_row7_col2\" class=\"data row7 col2\" >0.8255</td>\n",
              "      <td id=\"T_7302e_row7_col3\" class=\"data row7 col3\" >0.5284</td>\n",
              "      <td id=\"T_7302e_row7_col4\" class=\"data row7 col4\" >0.6151</td>\n",
              "      <td id=\"T_7302e_row7_col5\" class=\"data row7 col5\" >0.5673</td>\n",
              "      <td id=\"T_7302e_row7_col6\" class=\"data row7 col6\" >0.4274</td>\n",
              "      <td id=\"T_7302e_row7_col7\" class=\"data row7 col7\" >0.4303</td>\n",
              "      <td id=\"T_7302e_row7_col8\" class=\"data row7 col8\" >1.4220</td>\n",
              "    </tr>\n",
              "    <tr>\n",
              "      <th id=\"T_7302e_level0_row8\" class=\"row_heading level0 row8\" >knn</th>\n",
              "      <td id=\"T_7302e_row8_col0\" class=\"data row8 col0\" >K Neighbors Classifier</td>\n",
              "      <td id=\"T_7302e_row8_col1\" class=\"data row8 col1\" >0.7728</td>\n",
              "      <td id=\"T_7302e_row8_col2\" class=\"data row8 col2\" >0.7777</td>\n",
              "      <td id=\"T_7302e_row8_col3\" class=\"data row8 col3\" >0.5162</td>\n",
              "      <td id=\"T_7302e_row8_col4\" class=\"data row8 col4\" >0.5821</td>\n",
              "      <td id=\"T_7302e_row8_col5\" class=\"data row8 col5\" >0.5460</td>\n",
              "      <td id=\"T_7302e_row8_col6\" class=\"data row8 col6\" >0.3955</td>\n",
              "      <td id=\"T_7302e_row8_col7\" class=\"data row8 col7\" >0.3975</td>\n",
              "      <td id=\"T_7302e_row8_col8\" class=\"data row8 col8\" >0.7940</td>\n",
              "    </tr>\n",
              "    <tr>\n",
              "      <th id=\"T_7302e_level0_row9\" class=\"row_heading level0 row9\" >et</th>\n",
              "      <td id=\"T_7302e_row9_col0\" class=\"data row9 col0\" >Extra Trees Classifier</td>\n",
              "      <td id=\"T_7302e_row9_col1\" class=\"data row9 col1\" >0.7609</td>\n",
              "      <td id=\"T_7302e_row9_col2\" class=\"data row9 col2\" >0.7825</td>\n",
              "      <td id=\"T_7302e_row9_col3\" class=\"data row9 col3\" >0.4442</td>\n",
              "      <td id=\"T_7302e_row9_col4\" class=\"data row9 col4\" >0.5640</td>\n",
              "      <td id=\"T_7302e_row9_col5\" class=\"data row9 col5\" >0.4960</td>\n",
              "      <td id=\"T_7302e_row9_col6\" class=\"data row9 col6\" >0.3424</td>\n",
              "      <td id=\"T_7302e_row9_col7\" class=\"data row9 col7\" >0.3471</td>\n",
              "      <td id=\"T_7302e_row9_col8\" class=\"data row9 col8\" >1.8280</td>\n",
              "    </tr>\n",
              "    <tr>\n",
              "      <th id=\"T_7302e_level0_row10\" class=\"row_heading level0 row10\" >dummy</th>\n",
              "      <td id=\"T_7302e_row10_col0\" class=\"data row10 col0\" >Dummy Classifier</td>\n",
              "      <td id=\"T_7302e_row10_col1\" class=\"data row10 col1\" >0.7347</td>\n",
              "      <td id=\"T_7302e_row10_col2\" class=\"data row10 col2\" >0.5000</td>\n",
              "      <td id=\"T_7302e_row10_col3\" class=\"data row10 col3\" >0.0000</td>\n",
              "      <td id=\"T_7302e_row10_col4\" class=\"data row10 col4\" >0.0000</td>\n",
              "      <td id=\"T_7302e_row10_col5\" class=\"data row10 col5\" >0.0000</td>\n",
              "      <td id=\"T_7302e_row10_col6\" class=\"data row10 col6\" >0.0000</td>\n",
              "      <td id=\"T_7302e_row10_col7\" class=\"data row10 col7\" >0.0000</td>\n",
              "      <td id=\"T_7302e_row10_col8\" class=\"data row10 col8\" >0.7140</td>\n",
              "    </tr>\n",
              "    <tr>\n",
              "      <th id=\"T_7302e_level0_row11\" class=\"row_heading level0 row11\" >svm</th>\n",
              "      <td id=\"T_7302e_row11_col0\" class=\"data row11 col0\" >SVM - Linear Kernel</td>\n",
              "      <td id=\"T_7302e_row11_col1\" class=\"data row11 col1\" >0.7280</td>\n",
              "      <td id=\"T_7302e_row11_col2\" class=\"data row11 col2\" >0.0000</td>\n",
              "      <td id=\"T_7302e_row11_col3\" class=\"data row11 col3\" >0.3587</td>\n",
              "      <td id=\"T_7302e_row11_col4\" class=\"data row11 col4\" >0.4661</td>\n",
              "      <td id=\"T_7302e_row11_col5\" class=\"data row11 col5\" >0.2944</td>\n",
              "      <td id=\"T_7302e_row11_col6\" class=\"data row11 col6\" >0.1980</td>\n",
              "      <td id=\"T_7302e_row11_col7\" class=\"data row11 col7\" >0.2393</td>\n",
              "      <td id=\"T_7302e_row11_col8\" class=\"data row11 col8\" >0.5990</td>\n",
              "    </tr>\n",
              "    <tr>\n",
              "      <th id=\"T_7302e_level0_row12\" class=\"row_heading level0 row12\" >dt</th>\n",
              "      <td id=\"T_7302e_row12_col0\" class=\"data row12 col0\" >Decision Tree Classifier</td>\n",
              "      <td id=\"T_7302e_row12_col1\" class=\"data row12 col1\" >0.7243</td>\n",
              "      <td id=\"T_7302e_row12_col2\" class=\"data row12 col2\" >0.6502</td>\n",
              "      <td id=\"T_7302e_row12_col3\" class=\"data row12 col3\" >0.4924</td>\n",
              "      <td id=\"T_7302e_row12_col4\" class=\"data row12 col4\" >0.4827</td>\n",
              "      <td id=\"T_7302e_row12_col5\" class=\"data row12 col5\" >0.4868</td>\n",
              "      <td id=\"T_7302e_row12_col6\" class=\"data row12 col6\" >0.2986</td>\n",
              "      <td id=\"T_7302e_row12_col7\" class=\"data row12 col7\" >0.2990</td>\n",
              "      <td id=\"T_7302e_row12_col8\" class=\"data row12 col8\" >0.7660</td>\n",
              "    </tr>\n",
              "    <tr>\n",
              "      <th id=\"T_7302e_level0_row13\" class=\"row_heading level0 row13\" >qda</th>\n",
              "      <td id=\"T_7302e_row13_col0\" class=\"data row13 col0\" >Quadratic Discriminant Analysis</td>\n",
              "      <td id=\"T_7302e_row13_col1\" class=\"data row13 col1\" >0.7018</td>\n",
              "      <td id=\"T_7302e_row13_col2\" class=\"data row13 col2\" >0.7560</td>\n",
              "      <td id=\"T_7302e_row13_col3\" class=\"data row13 col3\" >0.6147</td>\n",
              "      <td id=\"T_7302e_row13_col4\" class=\"data row13 col4\" >0.4625</td>\n",
              "      <td id=\"T_7302e_row13_col5\" class=\"data row13 col5\" >0.5110</td>\n",
              "      <td id=\"T_7302e_row13_col6\" class=\"data row13 col6\" >0.3081</td>\n",
              "      <td id=\"T_7302e_row13_col7\" class=\"data row13 col7\" >0.3257</td>\n",
              "      <td id=\"T_7302e_row13_col8\" class=\"data row13 col8\" >0.5390</td>\n",
              "    </tr>\n",
              "    <tr>\n",
              "      <th id=\"T_7302e_level0_row14\" class=\"row_heading level0 row14\" >nb</th>\n",
              "      <td id=\"T_7302e_row14_col0\" class=\"data row14 col0\" >Naive Bayes</td>\n",
              "      <td id=\"T_7302e_row14_col1\" class=\"data row14 col1\" >0.6933</td>\n",
              "      <td id=\"T_7302e_row14_col2\" class=\"data row14 col2\" >0.8204</td>\n",
              "      <td id=\"T_7302e_row14_col3\" class=\"data row14 col3\" >0.8441</td>\n",
              "      <td id=\"T_7302e_row14_col4\" class=\"data row14 col4\" >0.4580</td>\n",
              "      <td id=\"T_7302e_row14_col5\" class=\"data row14 col5\" >0.5936</td>\n",
              "      <td id=\"T_7302e_row14_col6\" class=\"data row14 col6\" >0.3805</td>\n",
              "      <td id=\"T_7302e_row14_col7\" class=\"data row14 col7\" >0.4268</td>\n",
              "      <td id=\"T_7302e_row14_col8\" class=\"data row14 col8\" >0.5480</td>\n",
              "    </tr>\n",
              "  </tbody>\n",
              "</table>\n"
            ]
          },
          "metadata": {}
        },
        {
          "output_type": "display_data",
          "data": {
            "text/plain": [
              "Processing:   0%|          | 0/65 [00:00<?, ?it/s]"
            ],
            "application/vnd.jupyter.widget-view+json": {
              "version_major": 2,
              "version_minor": 0,
              "model_id": "0e8afcc3f6c84ba3930671e8b44fe7a0"
            }
          },
          "metadata": {
            "application/vnd.jupyter.widget-view+json": {
              "colab": {
                "custom_widget_manager": {
                  "url": "https://ssl.gstatic.com/colaboratory-static/widgets/colab-cdn-widget-manager/b3e629b1971e1542/manager.min.js"
                }
              }
            }
          }
        },
        {
          "output_type": "display_data",
          "data": {
            "text/plain": [
              "<IPython.core.display.HTML object>"
            ],
            "text/html": []
          },
          "metadata": {}
        },
        {
          "output_type": "execute_result",
          "data": {
            "text/plain": [
              "AdaBoostClassifier(algorithm='SAMME.R', base_estimator='deprecated',\n",
              "                   estimator=None, learning_rate=1.0, n_estimators=50,\n",
              "                   random_state=123)"
            ],
            "text/html": [
              "<style>#sk-container-id-1 {color: black;background-color: white;}#sk-container-id-1 pre{padding: 0;}#sk-container-id-1 div.sk-toggleable {background-color: white;}#sk-container-id-1 label.sk-toggleable__label {cursor: pointer;display: block;width: 100%;margin-bottom: 0;padding: 0.3em;box-sizing: border-box;text-align: center;}#sk-container-id-1 label.sk-toggleable__label-arrow:before {content: \"▸\";float: left;margin-right: 0.25em;color: #696969;}#sk-container-id-1 label.sk-toggleable__label-arrow:hover:before {color: black;}#sk-container-id-1 div.sk-estimator:hover label.sk-toggleable__label-arrow:before {color: black;}#sk-container-id-1 div.sk-toggleable__content {max-height: 0;max-width: 0;overflow: hidden;text-align: left;background-color: #f0f8ff;}#sk-container-id-1 div.sk-toggleable__content pre {margin: 0.2em;color: black;border-radius: 0.25em;background-color: #f0f8ff;}#sk-container-id-1 input.sk-toggleable__control:checked~div.sk-toggleable__content {max-height: 200px;max-width: 100%;overflow: auto;}#sk-container-id-1 input.sk-toggleable__control:checked~label.sk-toggleable__label-arrow:before {content: \"▾\";}#sk-container-id-1 div.sk-estimator input.sk-toggleable__control:checked~label.sk-toggleable__label {background-color: #d4ebff;}#sk-container-id-1 div.sk-label input.sk-toggleable__control:checked~label.sk-toggleable__label {background-color: #d4ebff;}#sk-container-id-1 input.sk-hidden--visually {border: 0;clip: rect(1px 1px 1px 1px);clip: rect(1px, 1px, 1px, 1px);height: 1px;margin: -1px;overflow: hidden;padding: 0;position: absolute;width: 1px;}#sk-container-id-1 div.sk-estimator {font-family: monospace;background-color: #f0f8ff;border: 1px dotted black;border-radius: 0.25em;box-sizing: border-box;margin-bottom: 0.5em;}#sk-container-id-1 div.sk-estimator:hover {background-color: #d4ebff;}#sk-container-id-1 div.sk-parallel-item::after {content: \"\";width: 100%;border-bottom: 1px solid gray;flex-grow: 1;}#sk-container-id-1 div.sk-label:hover label.sk-toggleable__label {background-color: #d4ebff;}#sk-container-id-1 div.sk-serial::before {content: \"\";position: absolute;border-left: 1px solid gray;box-sizing: border-box;top: 0;bottom: 0;left: 50%;z-index: 0;}#sk-container-id-1 div.sk-serial {display: flex;flex-direction: column;align-items: center;background-color: white;padding-right: 0.2em;padding-left: 0.2em;position: relative;}#sk-container-id-1 div.sk-item {position: relative;z-index: 1;}#sk-container-id-1 div.sk-parallel {display: flex;align-items: stretch;justify-content: center;background-color: white;position: relative;}#sk-container-id-1 div.sk-item::before, #sk-container-id-1 div.sk-parallel-item::before {content: \"\";position: absolute;border-left: 1px solid gray;box-sizing: border-box;top: 0;bottom: 0;left: 50%;z-index: -1;}#sk-container-id-1 div.sk-parallel-item {display: flex;flex-direction: column;z-index: 1;position: relative;background-color: white;}#sk-container-id-1 div.sk-parallel-item:first-child::after {align-self: flex-end;width: 50%;}#sk-container-id-1 div.sk-parallel-item:last-child::after {align-self: flex-start;width: 50%;}#sk-container-id-1 div.sk-parallel-item:only-child::after {width: 0;}#sk-container-id-1 div.sk-dashed-wrapped {border: 1px dashed gray;margin: 0 0.4em 0.5em 0.4em;box-sizing: border-box;padding-bottom: 0.4em;background-color: white;}#sk-container-id-1 div.sk-label label {font-family: monospace;font-weight: bold;display: inline-block;line-height: 1.2em;}#sk-container-id-1 div.sk-label-container {text-align: center;}#sk-container-id-1 div.sk-container {/* jupyter's `normalize.less` sets `[hidden] { display: none; }` but bootstrap.min.css set `[hidden] { display: none !important; }` so we also need the `!important` here to be able to override the default hidden behavior on the sphinx rendered scikit-learn.org. See: https://github.com/scikit-learn/scikit-learn/issues/21755 */display: inline-block !important;position: relative;}#sk-container-id-1 div.sk-text-repr-fallback {display: none;}</style><div id=\"sk-container-id-1\" class=\"sk-top-container\"><div class=\"sk-text-repr-fallback\"><pre>AdaBoostClassifier(algorithm=&#x27;SAMME.R&#x27;, base_estimator=&#x27;deprecated&#x27;,\n",
              "                   estimator=None, learning_rate=1.0, n_estimators=50,\n",
              "                   random_state=123)</pre><b>In a Jupyter environment, please rerun this cell to show the HTML representation or trust the notebook. <br />On GitHub, the HTML representation is unable to render, please try loading this page with nbviewer.org.</b></div><div class=\"sk-container\" hidden><div class=\"sk-item\"><div class=\"sk-estimator sk-toggleable\"><input class=\"sk-toggleable__control sk-hidden--visually\" id=\"sk-estimator-id-1\" type=\"checkbox\" checked><label for=\"sk-estimator-id-1\" class=\"sk-toggleable__label sk-toggleable__label-arrow\">AdaBoostClassifier</label><div class=\"sk-toggleable__content\"><pre>AdaBoostClassifier(algorithm=&#x27;SAMME.R&#x27;, base_estimator=&#x27;deprecated&#x27;,\n",
              "                   estimator=None, learning_rate=1.0, n_estimators=50,\n",
              "                   random_state=123)</pre></div></div></div></div></div>"
            ]
          },
          "metadata": {},
          "execution_count": 7
        }
      ]
    },
    {
      "cell_type": "code",
      "source": [
        "adaboost = create_model('ada')"
      ],
      "metadata": {
        "colab": {
          "base_uri": "https://localhost:8080/",
          "height": 457,
          "referenced_widgets": [
            "26703a6a72614119a24e193ba150591f",
            "0378a3f5c8d4414eaefe00117b70ec51",
            "1e4bca0e732e469f92d4c807c1b1be9b",
            "7e5347f72ee04f3ab8fdcdf65d9a690b",
            "1bdc2be36b20471283bdefd5a4a16c26",
            "b7852eef699b4a97b3b8cdf0b3b3d236",
            "f1525811cf2846b0a73104904b8da3d3",
            "4350b0f3e70649f8a059e95b94c649e2",
            "02081c5273af4c089efe8752504c2b49",
            "2c84bb8d7c134700a2c7fc2a7ec597c3",
            "4d28217f82b54d79b09c65ff0aff8df1"
          ]
        },
        "id": "vksrj6s38_qb",
        "outputId": "74974a4d-b3b1-4f0e-c552-c6cee65f3c4d"
      },
      "id": "vksrj6s38_qb",
      "execution_count": 8,
      "outputs": [
        {
          "output_type": "display_data",
          "data": {
            "text/plain": [
              "<IPython.core.display.HTML object>"
            ],
            "text/html": []
          },
          "metadata": {}
        },
        {
          "output_type": "display_data",
          "data": {
            "text/plain": [
              "<pandas.io.formats.style.Styler at 0x7f4244580130>"
            ],
            "text/html": [
              "<style type=\"text/css\">\n",
              "#T_4f39f_row10_col0, #T_4f39f_row10_col1, #T_4f39f_row10_col2, #T_4f39f_row10_col3, #T_4f39f_row10_col4, #T_4f39f_row10_col5, #T_4f39f_row10_col6 {\n",
              "  background: yellow;\n",
              "}\n",
              "</style>\n",
              "<table id=\"T_4f39f\" class=\"dataframe\">\n",
              "  <thead>\n",
              "    <tr>\n",
              "      <th class=\"blank level0\" >&nbsp;</th>\n",
              "      <th id=\"T_4f39f_level0_col0\" class=\"col_heading level0 col0\" >Accuracy</th>\n",
              "      <th id=\"T_4f39f_level0_col1\" class=\"col_heading level0 col1\" >AUC</th>\n",
              "      <th id=\"T_4f39f_level0_col2\" class=\"col_heading level0 col2\" >Recall</th>\n",
              "      <th id=\"T_4f39f_level0_col3\" class=\"col_heading level0 col3\" >Prec.</th>\n",
              "      <th id=\"T_4f39f_level0_col4\" class=\"col_heading level0 col4\" >F1</th>\n",
              "      <th id=\"T_4f39f_level0_col5\" class=\"col_heading level0 col5\" >Kappa</th>\n",
              "      <th id=\"T_4f39f_level0_col6\" class=\"col_heading level0 col6\" >MCC</th>\n",
              "    </tr>\n",
              "    <tr>\n",
              "      <th class=\"index_name level0\" >Fold</th>\n",
              "      <th class=\"blank col0\" >&nbsp;</th>\n",
              "      <th class=\"blank col1\" >&nbsp;</th>\n",
              "      <th class=\"blank col2\" >&nbsp;</th>\n",
              "      <th class=\"blank col3\" >&nbsp;</th>\n",
              "      <th class=\"blank col4\" >&nbsp;</th>\n",
              "      <th class=\"blank col5\" >&nbsp;</th>\n",
              "      <th class=\"blank col6\" >&nbsp;</th>\n",
              "    </tr>\n",
              "  </thead>\n",
              "  <tbody>\n",
              "    <tr>\n",
              "      <th id=\"T_4f39f_level0_row0\" class=\"row_heading level0 row0\" >0</th>\n",
              "      <td id=\"T_4f39f_row0_col0\" class=\"data row0 col0\" >0.7931</td>\n",
              "      <td id=\"T_4f39f_row0_col1\" class=\"data row0 col1\" >0.8437</td>\n",
              "      <td id=\"T_4f39f_row0_col2\" class=\"data row0 col2\" >0.5692</td>\n",
              "      <td id=\"T_4f39f_row0_col3\" class=\"data row0 col3\" >0.6167</td>\n",
              "      <td id=\"T_4f39f_row0_col4\" class=\"data row0 col4\" >0.5920</td>\n",
              "      <td id=\"T_4f39f_row0_col5\" class=\"data row0 col5\" >0.4537</td>\n",
              "      <td id=\"T_4f39f_row0_col6\" class=\"data row0 col6\" >0.4544</td>\n",
              "    </tr>\n",
              "    <tr>\n",
              "      <th id=\"T_4f39f_level0_row1\" class=\"row_heading level0 row1\" >1</th>\n",
              "      <td id=\"T_4f39f_row1_col0\" class=\"data row1 col0\" >0.8093</td>\n",
              "      <td id=\"T_4f39f_row1_col1\" class=\"data row1 col1\" >0.8339</td>\n",
              "      <td id=\"T_4f39f_row1_col2\" class=\"data row1 col2\" >0.5615</td>\n",
              "      <td id=\"T_4f39f_row1_col3\" class=\"data row1 col3\" >0.6636</td>\n",
              "      <td id=\"T_4f39f_row1_col4\" class=\"data row1 col4\" >0.6083</td>\n",
              "      <td id=\"T_4f39f_row1_col5\" class=\"data row1 col5\" >0.4835</td>\n",
              "      <td id=\"T_4f39f_row1_col6\" class=\"data row1 col6\" >0.4864</td>\n",
              "    </tr>\n",
              "    <tr>\n",
              "      <th id=\"T_4f39f_level0_row2\" class=\"row_heading level0 row2\" >2</th>\n",
              "      <td id=\"T_4f39f_row2_col0\" class=\"data row2 col0\" >0.7830</td>\n",
              "      <td id=\"T_4f39f_row2_col1\" class=\"data row2 col1\" >0.8206</td>\n",
              "      <td id=\"T_4f39f_row2_col2\" class=\"data row2 col2\" >0.4733</td>\n",
              "      <td id=\"T_4f39f_row2_col3\" class=\"data row2 col3\" >0.6200</td>\n",
              "      <td id=\"T_4f39f_row2_col4\" class=\"data row2 col4\" >0.5368</td>\n",
              "      <td id=\"T_4f39f_row2_col5\" class=\"data row2 col5\" >0.3984</td>\n",
              "      <td id=\"T_4f39f_row2_col6\" class=\"data row2 col6\" >0.4046</td>\n",
              "    </tr>\n",
              "    <tr>\n",
              "      <th id=\"T_4f39f_level0_row3\" class=\"row_heading level0 row3\" >3</th>\n",
              "      <td id=\"T_4f39f_row3_col0\" class=\"data row3 col0\" >0.8073</td>\n",
              "      <td id=\"T_4f39f_row3_col1\" class=\"data row3 col1\" >0.8421</td>\n",
              "      <td id=\"T_4f39f_row3_col2\" class=\"data row3 col2\" >0.5115</td>\n",
              "      <td id=\"T_4f39f_row3_col3\" class=\"data row3 col3\" >0.6837</td>\n",
              "      <td id=\"T_4f39f_row3_col4\" class=\"data row3 col4\" >0.5852</td>\n",
              "      <td id=\"T_4f39f_row3_col5\" class=\"data row3 col5\" >0.4630</td>\n",
              "      <td id=\"T_4f39f_row3_col6\" class=\"data row3 col6\" >0.4713</td>\n",
              "    </tr>\n",
              "    <tr>\n",
              "      <th id=\"T_4f39f_level0_row4\" class=\"row_heading level0 row4\" >4</th>\n",
              "      <td id=\"T_4f39f_row4_col0\" class=\"data row4 col0\" >0.7890</td>\n",
              "      <td id=\"T_4f39f_row4_col1\" class=\"data row4 col1\" >0.8281</td>\n",
              "      <td id=\"T_4f39f_row4_col2\" class=\"data row4 col2\" >0.5115</td>\n",
              "      <td id=\"T_4f39f_row4_col3\" class=\"data row4 col3\" >0.6262</td>\n",
              "      <td id=\"T_4f39f_row4_col4\" class=\"data row4 col4\" >0.5630</td>\n",
              "      <td id=\"T_4f39f_row4_col5\" class=\"data row4 col5\" >0.4258</td>\n",
              "      <td id=\"T_4f39f_row4_col6\" class=\"data row4 col6\" >0.4296</td>\n",
              "    </tr>\n",
              "    <tr>\n",
              "      <th id=\"T_4f39f_level0_row5\" class=\"row_heading level0 row5\" >5</th>\n",
              "      <td id=\"T_4f39f_row5_col0\" class=\"data row5 col0\" >0.7972</td>\n",
              "      <td id=\"T_4f39f_row5_col1\" class=\"data row5 col1\" >0.8420</td>\n",
              "      <td id=\"T_4f39f_row5_col2\" class=\"data row5 col2\" >0.5267</td>\n",
              "      <td id=\"T_4f39f_row5_col3\" class=\"data row5 col3\" >0.6449</td>\n",
              "      <td id=\"T_4f39f_row5_col4\" class=\"data row5 col4\" >0.5798</td>\n",
              "      <td id=\"T_4f39f_row5_col5\" class=\"data row5 col5\" >0.4479</td>\n",
              "      <td id=\"T_4f39f_row5_col6\" class=\"data row5 col6\" >0.4519</td>\n",
              "    </tr>\n",
              "    <tr>\n",
              "      <th id=\"T_4f39f_level0_row6\" class=\"row_heading level0 row6\" >6</th>\n",
              "      <td id=\"T_4f39f_row6_col0\" class=\"data row6 col0\" >0.8195</td>\n",
              "      <td id=\"T_4f39f_row6_col1\" class=\"data row6 col1\" >0.8744</td>\n",
              "      <td id=\"T_4f39f_row6_col2\" class=\"data row6 col2\" >0.5725</td>\n",
              "      <td id=\"T_4f39f_row6_col3\" class=\"data row6 col3\" >0.6944</td>\n",
              "      <td id=\"T_4f39f_row6_col4\" class=\"data row6 col4\" >0.6276</td>\n",
              "      <td id=\"T_4f39f_row6_col5\" class=\"data row6 col5\" >0.5099</td>\n",
              "      <td id=\"T_4f39f_row6_col6\" class=\"data row6 col6\" >0.5141</td>\n",
              "    </tr>\n",
              "    <tr>\n",
              "      <th id=\"T_4f39f_level0_row7\" class=\"row_heading level0 row7\" >7</th>\n",
              "      <td id=\"T_4f39f_row7_col0\" class=\"data row7 col0\" >0.7951</td>\n",
              "      <td id=\"T_4f39f_row7_col1\" class=\"data row7 col1\" >0.8574</td>\n",
              "      <td id=\"T_4f39f_row7_col2\" class=\"data row7 col2\" >0.5191</td>\n",
              "      <td id=\"T_4f39f_row7_col3\" class=\"data row7 col3\" >0.6415</td>\n",
              "      <td id=\"T_4f39f_row7_col4\" class=\"data row7 col4\" >0.5738</td>\n",
              "      <td id=\"T_4f39f_row7_col5\" class=\"data row7 col5\" >0.4410</td>\n",
              "      <td id=\"T_4f39f_row7_col6\" class=\"data row7 col6\" >0.4452</td>\n",
              "    </tr>\n",
              "    <tr>\n",
              "      <th id=\"T_4f39f_level0_row8\" class=\"row_heading level0 row8\" >8</th>\n",
              "      <td id=\"T_4f39f_row8_col0\" class=\"data row8 col0\" >0.8256</td>\n",
              "      <td id=\"T_4f39f_row8_col1\" class=\"data row8 col1\" >0.8726</td>\n",
              "      <td id=\"T_4f39f_row8_col2\" class=\"data row8 col2\" >0.5878</td>\n",
              "      <td id=\"T_4f39f_row8_col3\" class=\"data row8 col3\" >0.7064</td>\n",
              "      <td id=\"T_4f39f_row8_col4\" class=\"data row8 col4\" >0.6417</td>\n",
              "      <td id=\"T_4f39f_row8_col5\" class=\"data row8 col5\" >0.5277</td>\n",
              "      <td id=\"T_4f39f_row8_col6\" class=\"data row8 col6\" >0.5316</td>\n",
              "    </tr>\n",
              "    <tr>\n",
              "      <th id=\"T_4f39f_level0_row9\" class=\"row_heading level0 row9\" >9</th>\n",
              "      <td id=\"T_4f39f_row9_col0\" class=\"data row9 col0\" >0.8114</td>\n",
              "      <td id=\"T_4f39f_row9_col1\" class=\"data row9 col1\" >0.8651</td>\n",
              "      <td id=\"T_4f39f_row9_col2\" class=\"data row9 col2\" >0.5038</td>\n",
              "      <td id=\"T_4f39f_row9_col3\" class=\"data row9 col3\" >0.7021</td>\n",
              "      <td id=\"T_4f39f_row9_col4\" class=\"data row9 col4\" >0.5867</td>\n",
              "      <td id=\"T_4f39f_row9_col5\" class=\"data row9 col5\" >0.4687</td>\n",
              "      <td id=\"T_4f39f_row9_col6\" class=\"data row9 col6\" >0.4795</td>\n",
              "    </tr>\n",
              "    <tr>\n",
              "      <th id=\"T_4f39f_level0_row10\" class=\"row_heading level0 row10\" >Mean</th>\n",
              "      <td id=\"T_4f39f_row10_col0\" class=\"data row10 col0\" >0.8030</td>\n",
              "      <td id=\"T_4f39f_row10_col1\" class=\"data row10 col1\" >0.8480</td>\n",
              "      <td id=\"T_4f39f_row10_col2\" class=\"data row10 col2\" >0.5337</td>\n",
              "      <td id=\"T_4f39f_row10_col3\" class=\"data row10 col3\" >0.6600</td>\n",
              "      <td id=\"T_4f39f_row10_col4\" class=\"data row10 col4\" >0.5895</td>\n",
              "      <td id=\"T_4f39f_row10_col5\" class=\"data row10 col5\" >0.4620</td>\n",
              "      <td id=\"T_4f39f_row10_col6\" class=\"data row10 col6\" >0.4669</td>\n",
              "    </tr>\n",
              "    <tr>\n",
              "      <th id=\"T_4f39f_level0_row11\" class=\"row_heading level0 row11\" >Std</th>\n",
              "      <td id=\"T_4f39f_row11_col0\" class=\"data row11 col0\" >0.0130</td>\n",
              "      <td id=\"T_4f39f_row11_col1\" class=\"data row11 col1\" >0.0177</td>\n",
              "      <td id=\"T_4f39f_row11_col2\" class=\"data row11 col2\" >0.0350</td>\n",
              "      <td id=\"T_4f39f_row11_col3\" class=\"data row11 col3\" >0.0330</td>\n",
              "      <td id=\"T_4f39f_row11_col4\" class=\"data row11 col4\" >0.0289</td>\n",
              "      <td id=\"T_4f39f_row11_col5\" class=\"data row11 col5\" >0.0363</td>\n",
              "      <td id=\"T_4f39f_row11_col6\" class=\"data row11 col6\" >0.0362</td>\n",
              "    </tr>\n",
              "  </tbody>\n",
              "</table>\n"
            ]
          },
          "metadata": {}
        },
        {
          "output_type": "display_data",
          "data": {
            "text/plain": [
              "Processing:   0%|          | 0/4 [00:00<?, ?it/s]"
            ],
            "application/vnd.jupyter.widget-view+json": {
              "version_major": 2,
              "version_minor": 0,
              "model_id": "26703a6a72614119a24e193ba150591f"
            }
          },
          "metadata": {
            "application/vnd.jupyter.widget-view+json": {
              "colab": {
                "custom_widget_manager": {
                  "url": "https://ssl.gstatic.com/colaboratory-static/widgets/colab-cdn-widget-manager/b3e629b1971e1542/manager.min.js"
                }
              }
            }
          }
        },
        {
          "output_type": "display_data",
          "data": {
            "text/plain": [
              "<IPython.core.display.HTML object>"
            ],
            "text/html": []
          },
          "metadata": {}
        }
      ]
    },
    {
      "cell_type": "code",
      "source": [
        "tuned_ada = tune_model(adaboost)"
      ],
      "metadata": {
        "colab": {
          "base_uri": "https://localhost:8080/",
          "height": 491,
          "referenced_widgets": [
            "061ed0b93e2942e5926e8bf0c221f7f0",
            "f7c7083be61f47b1b714f0c6e52bcee0",
            "189080012f004c0fa134c6d272c9970f",
            "990bbf16b7914e43b35795b37c041409",
            "4e31ea77077742dba16534d73e7a063f",
            "0ecd87a97e9545a08e5bdae40bf59cbd",
            "c2bf6b795d1f4eb683dc49ce2624e3ab",
            "0b85e3d1144e4ecb8a1d3a7d4682705f",
            "b41113c5036d4217b0e322f70d558e53",
            "30f8d35a72874c15bfbcd6810e4dbf82",
            "9131dde040234857afe3c5077885b06d"
          ]
        },
        "id": "f8w-jiQm-DsG",
        "outputId": "00eb3fdb-115a-4d05-8363-48e5498b83f0"
      },
      "id": "f8w-jiQm-DsG",
      "execution_count": 9,
      "outputs": [
        {
          "output_type": "display_data",
          "data": {
            "text/plain": [
              "<IPython.core.display.HTML object>"
            ],
            "text/html": []
          },
          "metadata": {}
        },
        {
          "output_type": "display_data",
          "data": {
            "text/plain": [
              "<pandas.io.formats.style.Styler at 0x7f424464f280>"
            ],
            "text/html": [
              "<style type=\"text/css\">\n",
              "#T_10b0b_row10_col0, #T_10b0b_row10_col1, #T_10b0b_row10_col2, #T_10b0b_row10_col3, #T_10b0b_row10_col4, #T_10b0b_row10_col5, #T_10b0b_row10_col6 {\n",
              "  background: yellow;\n",
              "}\n",
              "</style>\n",
              "<table id=\"T_10b0b\" class=\"dataframe\">\n",
              "  <thead>\n",
              "    <tr>\n",
              "      <th class=\"blank level0\" >&nbsp;</th>\n",
              "      <th id=\"T_10b0b_level0_col0\" class=\"col_heading level0 col0\" >Accuracy</th>\n",
              "      <th id=\"T_10b0b_level0_col1\" class=\"col_heading level0 col1\" >AUC</th>\n",
              "      <th id=\"T_10b0b_level0_col2\" class=\"col_heading level0 col2\" >Recall</th>\n",
              "      <th id=\"T_10b0b_level0_col3\" class=\"col_heading level0 col3\" >Prec.</th>\n",
              "      <th id=\"T_10b0b_level0_col4\" class=\"col_heading level0 col4\" >F1</th>\n",
              "      <th id=\"T_10b0b_level0_col5\" class=\"col_heading level0 col5\" >Kappa</th>\n",
              "      <th id=\"T_10b0b_level0_col6\" class=\"col_heading level0 col6\" >MCC</th>\n",
              "    </tr>\n",
              "    <tr>\n",
              "      <th class=\"index_name level0\" >Fold</th>\n",
              "      <th class=\"blank col0\" >&nbsp;</th>\n",
              "      <th class=\"blank col1\" >&nbsp;</th>\n",
              "      <th class=\"blank col2\" >&nbsp;</th>\n",
              "      <th class=\"blank col3\" >&nbsp;</th>\n",
              "      <th class=\"blank col4\" >&nbsp;</th>\n",
              "      <th class=\"blank col5\" >&nbsp;</th>\n",
              "      <th class=\"blank col6\" >&nbsp;</th>\n",
              "    </tr>\n",
              "  </thead>\n",
              "  <tbody>\n",
              "    <tr>\n",
              "      <th id=\"T_10b0b_level0_row0\" class=\"row_heading level0 row0\" >0</th>\n",
              "      <td id=\"T_10b0b_row0_col0\" class=\"data row0 col0\" >0.7931</td>\n",
              "      <td id=\"T_10b0b_row0_col1\" class=\"data row0 col1\" >0.8473</td>\n",
              "      <td id=\"T_10b0b_row0_col2\" class=\"data row0 col2\" >0.5923</td>\n",
              "      <td id=\"T_10b0b_row0_col3\" class=\"data row0 col3\" >0.6111</td>\n",
              "      <td id=\"T_10b0b_row0_col4\" class=\"data row0 col4\" >0.6016</td>\n",
              "      <td id=\"T_10b0b_row0_col5\" class=\"data row0 col5\" >0.4619</td>\n",
              "      <td id=\"T_10b0b_row0_col6\" class=\"data row0 col6\" >0.4620</td>\n",
              "    </tr>\n",
              "    <tr>\n",
              "      <th id=\"T_10b0b_level0_row1\" class=\"row_heading level0 row1\" >1</th>\n",
              "      <td id=\"T_10b0b_row1_col0\" class=\"data row1 col0\" >0.8093</td>\n",
              "      <td id=\"T_10b0b_row1_col1\" class=\"data row1 col1\" >0.8355</td>\n",
              "      <td id=\"T_10b0b_row1_col2\" class=\"data row1 col2\" >0.5615</td>\n",
              "      <td id=\"T_10b0b_row1_col3\" class=\"data row1 col3\" >0.6636</td>\n",
              "      <td id=\"T_10b0b_row1_col4\" class=\"data row1 col4\" >0.6083</td>\n",
              "      <td id=\"T_10b0b_row1_col5\" class=\"data row1 col5\" >0.4835</td>\n",
              "      <td id=\"T_10b0b_row1_col6\" class=\"data row1 col6\" >0.4864</td>\n",
              "    </tr>\n",
              "    <tr>\n",
              "      <th id=\"T_10b0b_level0_row2\" class=\"row_heading level0 row2\" >2</th>\n",
              "      <td id=\"T_10b0b_row2_col0\" class=\"data row2 col0\" >0.7890</td>\n",
              "      <td id=\"T_10b0b_row2_col1\" class=\"data row2 col1\" >0.8246</td>\n",
              "      <td id=\"T_10b0b_row2_col2\" class=\"data row2 col2\" >0.4809</td>\n",
              "      <td id=\"T_10b0b_row2_col3\" class=\"data row2 col3\" >0.6364</td>\n",
              "      <td id=\"T_10b0b_row2_col4\" class=\"data row2 col4\" >0.5478</td>\n",
              "      <td id=\"T_10b0b_row2_col5\" class=\"data row2 col5\" >0.4137</td>\n",
              "      <td id=\"T_10b0b_row2_col6\" class=\"data row2 col6\" >0.4206</td>\n",
              "    </tr>\n",
              "    <tr>\n",
              "      <th id=\"T_10b0b_level0_row3\" class=\"row_heading level0 row3\" >3</th>\n",
              "      <td id=\"T_10b0b_row3_col0\" class=\"data row3 col0\" >0.7992</td>\n",
              "      <td id=\"T_10b0b_row3_col1\" class=\"data row3 col1\" >0.8385</td>\n",
              "      <td id=\"T_10b0b_row3_col2\" class=\"data row3 col2\" >0.5115</td>\n",
              "      <td id=\"T_10b0b_row3_col3\" class=\"data row3 col3\" >0.6569</td>\n",
              "      <td id=\"T_10b0b_row3_col4\" class=\"data row3 col4\" >0.5751</td>\n",
              "      <td id=\"T_10b0b_row3_col5\" class=\"data row3 col5\" >0.4463</td>\n",
              "      <td id=\"T_10b0b_row3_col6\" class=\"data row3 col6\" >0.4523</td>\n",
              "    </tr>\n",
              "    <tr>\n",
              "      <th id=\"T_10b0b_level0_row4\" class=\"row_heading level0 row4\" >4</th>\n",
              "      <td id=\"T_10b0b_row4_col0\" class=\"data row4 col0\" >0.7911</td>\n",
              "      <td id=\"T_10b0b_row4_col1\" class=\"data row4 col1\" >0.8281</td>\n",
              "      <td id=\"T_10b0b_row4_col2\" class=\"data row4 col2\" >0.5191</td>\n",
              "      <td id=\"T_10b0b_row4_col3\" class=\"data row4 col3\" >0.6296</td>\n",
              "      <td id=\"T_10b0b_row4_col4\" class=\"data row4 col4\" >0.5690</td>\n",
              "      <td id=\"T_10b0b_row4_col5\" class=\"data row4 col5\" >0.4328</td>\n",
              "      <td id=\"T_10b0b_row4_col6\" class=\"data row4 col6\" >0.4363</td>\n",
              "    </tr>\n",
              "    <tr>\n",
              "      <th id=\"T_10b0b_level0_row5\" class=\"row_heading level0 row5\" >5</th>\n",
              "      <td id=\"T_10b0b_row5_col0\" class=\"data row5 col0\" >0.8012</td>\n",
              "      <td id=\"T_10b0b_row5_col1\" class=\"data row5 col1\" >0.8419</td>\n",
              "      <td id=\"T_10b0b_row5_col2\" class=\"data row5 col2\" >0.5344</td>\n",
              "      <td id=\"T_10b0b_row5_col3\" class=\"data row5 col3\" >0.6542</td>\n",
              "      <td id=\"T_10b0b_row5_col4\" class=\"data row5 col4\" >0.5882</td>\n",
              "      <td id=\"T_10b0b_row5_col5\" class=\"data row5 col5\" >0.4590</td>\n",
              "      <td id=\"T_10b0b_row5_col6\" class=\"data row5 col6\" >0.4631</td>\n",
              "    </tr>\n",
              "    <tr>\n",
              "      <th id=\"T_10b0b_level0_row6\" class=\"row_heading level0 row6\" >6</th>\n",
              "      <td id=\"T_10b0b_row6_col0\" class=\"data row6 col0\" >0.8134</td>\n",
              "      <td id=\"T_10b0b_row6_col1\" class=\"data row6 col1\" >0.8726</td>\n",
              "      <td id=\"T_10b0b_row6_col2\" class=\"data row6 col2\" >0.5573</td>\n",
              "      <td id=\"T_10b0b_row6_col3\" class=\"data row6 col3\" >0.6822</td>\n",
              "      <td id=\"T_10b0b_row6_col4\" class=\"data row6 col4\" >0.6134</td>\n",
              "      <td id=\"T_10b0b_row6_col5\" class=\"data row6 col5\" >0.4921</td>\n",
              "      <td id=\"T_10b0b_row6_col6\" class=\"data row6 col6\" >0.4965</td>\n",
              "    </tr>\n",
              "    <tr>\n",
              "      <th id=\"T_10b0b_level0_row7\" class=\"row_heading level0 row7\" >7</th>\n",
              "      <td id=\"T_10b0b_row7_col0\" class=\"data row7 col0\" >0.7931</td>\n",
              "      <td id=\"T_10b0b_row7_col1\" class=\"data row7 col1\" >0.8570</td>\n",
              "      <td id=\"T_10b0b_row7_col2\" class=\"data row7 col2\" >0.4962</td>\n",
              "      <td id=\"T_10b0b_row7_col3\" class=\"data row7 col3\" >0.6436</td>\n",
              "      <td id=\"T_10b0b_row7_col4\" class=\"data row7 col4\" >0.5603</td>\n",
              "      <td id=\"T_10b0b_row7_col5\" class=\"data row7 col5\" >0.4280</td>\n",
              "      <td id=\"T_10b0b_row7_col6\" class=\"data row7 col6\" >0.4342</td>\n",
              "    </tr>\n",
              "    <tr>\n",
              "      <th id=\"T_10b0b_level0_row8\" class=\"row_heading level0 row8\" >8</th>\n",
              "      <td id=\"T_10b0b_row8_col0\" class=\"data row8 col0\" >0.8316</td>\n",
              "      <td id=\"T_10b0b_row8_col1\" class=\"data row8 col1\" >0.8771</td>\n",
              "      <td id=\"T_10b0b_row8_col2\" class=\"data row8 col2\" >0.5954</td>\n",
              "      <td id=\"T_10b0b_row8_col3\" class=\"data row8 col3\" >0.7222</td>\n",
              "      <td id=\"T_10b0b_row8_col4\" class=\"data row8 col4\" >0.6527</td>\n",
              "      <td id=\"T_10b0b_row8_col5\" class=\"data row8 col5\" >0.5430</td>\n",
              "      <td id=\"T_10b0b_row8_col6\" class=\"data row8 col6\" >0.5474</td>\n",
              "    </tr>\n",
              "    <tr>\n",
              "      <th id=\"T_10b0b_level0_row9\" class=\"row_heading level0 row9\" >9</th>\n",
              "      <td id=\"T_10b0b_row9_col0\" class=\"data row9 col0\" >0.8012</td>\n",
              "      <td id=\"T_10b0b_row9_col1\" class=\"data row9 col1\" >0.8620</td>\n",
              "      <td id=\"T_10b0b_row9_col2\" class=\"data row9 col2\" >0.4580</td>\n",
              "      <td id=\"T_10b0b_row9_col3\" class=\"data row9 col3\" >0.6897</td>\n",
              "      <td id=\"T_10b0b_row9_col4\" class=\"data row9 col4\" >0.5505</td>\n",
              "      <td id=\"T_10b0b_row9_col5\" class=\"data row9 col5\" >0.4295</td>\n",
              "      <td id=\"T_10b0b_row9_col6\" class=\"data row9 col6\" >0.4443</td>\n",
              "    </tr>\n",
              "    <tr>\n",
              "      <th id=\"T_10b0b_level0_row10\" class=\"row_heading level0 row10\" >Mean</th>\n",
              "      <td id=\"T_10b0b_row10_col0\" class=\"data row10 col0\" >0.8022</td>\n",
              "      <td id=\"T_10b0b_row10_col1\" class=\"data row10 col1\" >0.8485</td>\n",
              "      <td id=\"T_10b0b_row10_col2\" class=\"data row10 col2\" >0.5307</td>\n",
              "      <td id=\"T_10b0b_row10_col3\" class=\"data row10 col3\" >0.6589</td>\n",
              "      <td id=\"T_10b0b_row10_col4\" class=\"data row10 col4\" >0.5867</td>\n",
              "      <td id=\"T_10b0b_row10_col5\" class=\"data row10 col5\" >0.4590</td>\n",
              "      <td id=\"T_10b0b_row10_col6\" class=\"data row10 col6\" >0.4643</td>\n",
              "    </tr>\n",
              "    <tr>\n",
              "      <th id=\"T_10b0b_level0_row11\" class=\"row_heading level0 row11\" >Std</th>\n",
              "      <td id=\"T_10b0b_row11_col0\" class=\"data row11 col0\" >0.0123</td>\n",
              "      <td id=\"T_10b0b_row11_col1\" class=\"data row11 col1\" >0.0172</td>\n",
              "      <td id=\"T_10b0b_row11_col2\" class=\"data row11 col2\" >0.0437</td>\n",
              "      <td id=\"T_10b0b_row11_col3\" class=\"data row11 col3\" >0.0307</td>\n",
              "      <td id=\"T_10b0b_row11_col4\" class=\"data row11 col4\" >0.0312</td>\n",
              "      <td id=\"T_10b0b_row11_col5\" class=\"data row11 col5\" >0.0367</td>\n",
              "      <td id=\"T_10b0b_row11_col6\" class=\"data row11 col6\" >0.0355</td>\n",
              "    </tr>\n",
              "  </tbody>\n",
              "</table>\n"
            ]
          },
          "metadata": {}
        },
        {
          "output_type": "display_data",
          "data": {
            "text/plain": [
              "Processing:   0%|          | 0/7 [00:00<?, ?it/s]"
            ],
            "application/vnd.jupyter.widget-view+json": {
              "version_major": 2,
              "version_minor": 0,
              "model_id": "061ed0b93e2942e5926e8bf0c221f7f0"
            }
          },
          "metadata": {
            "application/vnd.jupyter.widget-view+json": {
              "colab": {
                "custom_widget_manager": {
                  "url": "https://ssl.gstatic.com/colaboratory-static/widgets/colab-cdn-widget-manager/b3e629b1971e1542/manager.min.js"
                }
              }
            }
          }
        },
        {
          "output_type": "stream",
          "name": "stdout",
          "text": [
            "Fitting 10 folds for each of 10 candidates, totalling 100 fits\n"
          ]
        },
        {
          "output_type": "display_data",
          "data": {
            "text/plain": [
              "<IPython.core.display.HTML object>"
            ],
            "text/html": []
          },
          "metadata": {}
        },
        {
          "output_type": "stream",
          "name": "stdout",
          "text": [
            "Original model was better than the tuned model, hence it will be returned. NOTE: The display metrics are for the tuned model (not the original one).\n"
          ]
        }
      ]
    },
    {
      "cell_type": "code",
      "source": [
        "evaluate_model(tuned_ada)"
      ],
      "metadata": {
        "colab": {
          "base_uri": "https://localhost:8080/",
          "height": 893,
          "referenced_widgets": [
            "e2920563e2744464b03b2d8ffdb21a91",
            "9ccf816891f2450399f7b96872980be4",
            "b76940d709294072bbeba5d07f1b9553",
            "473a5dc831c142818a94028a12e1708b",
            "0f33fb720efb4e41b2196c751faa7f03",
            "f6d3234c600c4bfb88dec060baa5fc85",
            "c0b81685ce06499c8ed6d6b5a0277dfe"
          ]
        },
        "id": "JvFLSPMM-a0V",
        "outputId": "18ef68bc-e30e-4e3e-f490-9f668fe5042e"
      },
      "id": "JvFLSPMM-a0V",
      "execution_count": 10,
      "outputs": [
        {
          "output_type": "display_data",
          "data": {
            "text/plain": [
              "interactive(children=(ToggleButtons(description='Plot Type:', icons=('',), options=(('Pipeline Plot', 'pipelin…"
            ],
            "application/vnd.jupyter.widget-view+json": {
              "version_major": 2,
              "version_minor": 0,
              "model_id": "e2920563e2744464b03b2d8ffdb21a91"
            }
          },
          "metadata": {
            "application/vnd.jupyter.widget-view+json": {
              "colab": {
                "custom_widget_manager": {
                  "url": "https://ssl.gstatic.com/colaboratory-static/widgets/colab-cdn-widget-manager/b3e629b1971e1542/manager.min.js"
                }
              }
            }
          }
        },
        {
          "output_type": "display_data",
          "data": {
            "text/plain": [
              "<Figure size 3200x600 with 1 Axes>"
            ],
            "image/png": "[encoded data removed]"
          },
          "metadata": {}
        }
      ]
    },
    {
      "cell_type": "code",
      "source": [
        "# https://pycaret.org/\n",
        "# https://pycaret.readthedocs.io/en/stable/#"
      ],
      "metadata": {
        "id": "QlYu6s1X_Lxo"
      },
      "id": "QlYu6s1X_Lxo",
      "execution_count": null,
      "outputs": []
    },
    {
      "cell_type": "code",
      "source": [],
      "metadata": {
        "id": "2DEgxBX68FlW"
      },
      "id": "2DEgxBX68FlW",
      "execution_count": null,
      "outputs": []
    },
    {
      "cell_type": "code",
      "source": [],
      "metadata": {
        "id": "Z0d4mLSS8Fn_"
      },
      "id": "Z0d4mLSS8Fn_",
      "execution_count": null,
      "outputs": []
    },
    {
      "cell_type": "code",
      "source": [],
      "metadata": {
        "id": "J-41xThF8FrC"
      },
      "id": "J-41xThF8FrC",
      "execution_count": null,
      "outputs": []
    },
    {
      "cell_type": "code",
      "execution_count": null,
      "id": "a360295e",
      "metadata": {
        "id": "a360295e"
      },
      "outputs": [],
      "source": []
    },
    {
      "cell_type": "code",
      "execution_count": null,
      "id": "4cf635a6",
      "metadata": {
        "id": "4cf635a6"
      },
      "outputs": [],
      "source": []
    },
    {
      "cell_type": "code",
      "execution_count": null,
      "id": "c73ad23f",
      "metadata": {
        "id": "c73ad23f"
      },
      "outputs": [],
      "source": []
    },
    {
      "cell_type": "code",
      "execution_count": null,
      "id": "6a10e18e",
      "metadata": {
        "id": "6a10e18e"
      },
      "outputs": [],
      "source": []
    },
    {
      "cell_type": "code",
      "execution_count": null,
      "id": "baf6d614",
      "metadata": {
        "id": "baf6d614"
      },
      "outputs": [],
      "source": [
        "x = np.arange(0,100)\n",
        "y = np.arange(0,100)"
      ]
    },
    {
      "cell_type": "code",
      "execution_count": null,
      "id": "d925891c",
      "metadata": {
        "id": "d925891c",
        "outputId": "9cb1d49a-d413-4689-d4a3-be9bc7e71f1c"
      },
      "outputs": [
        {
          "data": {
            "text/plain": [
              "(100,)"
            ]
          },
          "execution_count": 82,
          "metadata": {},
          "output_type": "execute_result"
        }
      ],
      "source": [
        "x.shape"
      ]
    },
    {
      "cell_type": "code",
      "execution_count": null,
      "id": "3b4bb4a7",
      "metadata": {
        "id": "3b4bb4a7"
      },
      "outputs": [],
      "source": [
        "x1 = x.reshape(-1,1)"
      ]
    },
    {
      "cell_type": "code",
      "execution_count": null,
      "id": "ef7c258d",
      "metadata": {
        "id": "ef7c258d",
        "outputId": "30618add-f781-458b-bf6b-b057f133de6c"
      },
      "outputs": [
        {
          "data": {
            "text/plain": [
              "(100, 1)"
            ]
          },
          "execution_count": 84,
          "metadata": {},
          "output_type": "execute_result"
        }
      ],
      "source": [
        "x1.shape"
      ]
    },
    {
      "cell_type": "code",
      "execution_count": null,
      "id": "080a02f0",
      "metadata": {
        "id": "080a02f0",
        "outputId": "0a24c237-3dad-41c3-eecd-60fcc75e505a"
      },
      "outputs": [
        {
          "data": {
            "text/plain": [
              "2"
            ]
          },
          "execution_count": 86,
          "metadata": {},
          "output_type": "execute_result"
        }
      ],
      "source": [
        "x1.ndim"
      ]
    },
    {
      "cell_type": "code",
      "execution_count": null,
      "id": "89fedca5",
      "metadata": {
        "id": "89fedca5"
      },
      "outputs": [],
      "source": [
        "x2 = x.reshape(1,-1)"
      ]
    },
    {
      "cell_type": "code",
      "execution_count": null,
      "id": "7aff3307",
      "metadata": {
        "id": "7aff3307",
        "outputId": "91d7c746-064a-4ba4-f084-60f6190cb296"
      },
      "outputs": [
        {
          "data": {
            "text/plain": [
              "(2, (1, 100))"
            ]
          },
          "execution_count": 88,
          "metadata": {},
          "output_type": "execute_result"
        }
      ],
      "source": [
        "x2.ndim, x2.shape"
      ]
    },
    {
      "cell_type": "code",
      "execution_count": null,
      "id": "cafd250c",
      "metadata": {
        "id": "cafd250c"
      },
      "outputs": [],
      "source": []
    }
  ],
  "metadata": {
    "kernelspec": {
      "display_name": "Python 3 (ipykernel)",
      "language": "python",
      "name": "python3"
    },
    "language_info": {
      "codemirror_mode": {
        "name": "ipython",
        "version": 3
      },
      "file_extension": ".py",
      "mimetype": "text/x-python",
      "name": "python",
      "nbconvert_exporter": "python",
      "pygments_lexer": "ipython3",
      "version": "3.9.13"
    },
    "colab": {
      "provenance": []
    },
    "accelerator": "GPU",
    "gpuClass": "standard",
    "widgets": {
      "application/vnd.jupyter.widget-state+json": {
        "0e8afcc3f6c84ba3930671e8b44fe7a0": {
          "model_module": "@jupyter-widgets/controls",
          "model_name": "HBoxModel",
          "model_module_version": "1.5.0",
          "state": {
            "_dom_classes": [],
            "_model_module": "@jupyter-widgets/controls",
            "_model_module_version": "1.5.0",
            "_model_name": "HBoxModel",
            "_view_count": null,
            "_view_module": "@jupyter-widgets/controls",
            "_view_module_version": "1.5.0",
            "_view_name": "HBoxView",
            "box_style": "",
            "children": [
              "IPY_MODEL_43a7ee358d784ef08c54221a0399519b",
              "IPY_MODEL_306300628ded49259b41fdfdfb6f24e3",
              "IPY_MODEL_3cbca1cdcd664b2688ddbd6e995743d4"
            ],
            "layout": "IPY_MODEL_0b9876f20589480b857c0c977d932a42"
          }
        },
        "43a7ee358d784ef08c54221a0399519b": {
          "model_module": "@jupyter-widgets/controls",
          "model_name": "HTMLModel",
          "model_module_version": "1.5.0",
          "state": {
            "_dom_classes": [],
            "_model_module": "@jupyter-widgets/controls",
            "_model_module_version": "1.5.0",
            "_model_name": "HTMLModel",
            "_view_count": null,
            "_view_module": "@jupyter-widgets/controls",
            "_view_module_version": "1.5.0",
            "_view_name": "HTMLView",
            "description": "",
            "description_tooltip": null,
            "layout": "IPY_MODEL_de41bcce1a9e42478161ea36967a2e95",
            "placeholder": "​",
            "style": "IPY_MODEL_a897d007ed07423dbb1002d985ffedd7",
            "value": "Processing: 100%"
          }
        },
        "306300628ded49259b41fdfdfb6f24e3": {
          "model_module": "@jupyter-widgets/controls",
          "model_name": "FloatProgressModel",
          "model_module_version": "1.5.0",
          "state": {
            "_dom_classes": [],
            "_model_module": "@jupyter-widgets/controls",
            "_model_module_version": "1.5.0",
            "_model_name": "FloatProgressModel",
            "_view_count": null,
            "_view_module": "@jupyter-widgets/controls",
            "_view_module_version": "1.5.0",
            "_view_name": "ProgressView",
            "bar_style": "",
            "description": "",
            "description_tooltip": null,
            "layout": "IPY_MODEL_f1a2fe6f85f843dcb6c1ee10a917816a",
            "max": 65,
            "min": 0,
            "orientation": "horizontal",
            "style": "IPY_MODEL_dde57a75ee4e409c9a5d7c73244d25ea",
            "value": 65
          }
        },
        "3cbca1cdcd664b2688ddbd6e995743d4": {
          "model_module": "@jupyter-widgets/controls",
          "model_name": "HTMLModel",
          "model_module_version": "1.5.0",
          "state": {
            "_dom_classes": [],
            "_model_module": "@jupyter-widgets/controls",
            "_model_module_version": "1.5.0",
            "_model_name": "HTMLModel",
            "_view_count": null,
            "_view_module": "@jupyter-widgets/controls",
            "_view_module_version": "1.5.0",
            "_view_name": "HTMLView",
            "description": "",
            "description_tooltip": null,
            "layout": "IPY_MODEL_fb78c9b5015c4286a4b027f660dc288a",
            "placeholder": "​",
            "style": "IPY_MODEL_868c17e99a0943b7a5d8f4089564b10f",
            "value": " 65/65 [02:33&lt;00:00,  1.46s/it]"
          }
        },
        "0b9876f20589480b857c0c977d932a42": {
          "model_module": "@jupyter-widgets/base",
          "model_name": "LayoutModel",
          "model_module_version": "1.2.0",
          "state": {
            "_model_module": "@jupyter-widgets/base",
            "_model_module_version": "1.2.0",
            "_model_name": "LayoutModel",
            "_view_count": null,
            "_view_module": "@jupyter-widgets/base",
            "_view_module_version": "1.2.0",
            "_view_name": "LayoutView",
            "align_content": null,
            "align_items": null,
            "align_self": null,
            "border": null,
            "bottom": null,
            "display": null,
            "flex": null,
            "flex_flow": null,
            "grid_area": null,
            "grid_auto_columns": null,
            "grid_auto_flow": null,
            "grid_auto_rows": null,
            "grid_column": null,
            "grid_gap": null,
            "grid_row": null,
            "grid_template_areas": null,
            "grid_template_columns": null,
            "grid_template_rows": null,
            "height": null,
            "justify_content": null,
            "justify_items": null,
            "left": null,
            "margin": null,
            "max_height": null,
            "max_width": null,
            "min_height": null,
            "min_width": null,
            "object_fit": null,
            "object_position": null,
            "order": null,
            "overflow": null,
            "overflow_x": null,
            "overflow_y": null,
            "padding": null,
            "right": null,
            "top": null,
            "visibility": "hidden",
            "width": null
          }
        },
        "de41bcce1a9e42478161ea36967a2e95": {
          "model_module": "@jupyter-widgets/base",
          "model_name": "LayoutModel",
          "model_module_version": "1.2.0",
          "state": {
            "_model_module": "@jupyter-widgets/base",
            "_model_module_version": "1.2.0",
            "_model_name": "LayoutModel",
            "_view_count": null,
            "_view_module": "@jupyter-widgets/base",
            "_view_module_version": "1.2.0",
            "_view_name": "LayoutView",
            "align_content": null,
            "align_items": null,
            "align_self": null,
            "border": null,
            "bottom": null,
            "display": null,
            "flex": null,
            "flex_flow": null,
            "grid_area": null,
            "grid_auto_columns": null,
            "grid_auto_flow": null,
            "grid_auto_rows": null,
            "grid_column": null,
            "grid_gap": null,
            "grid_row": null,
            "grid_template_areas": null,
            "grid_template_columns": null,
            "grid_template_rows": null,
            "height": null,
            "justify_content": null,
            "justify_items": null,
            "left": null,
            "margin": null,
            "max_height": null,
            "max_width": null,
            "min_height": null,
            "min_width": null,
            "object_fit": null,
            "object_position": null,
            "order": null,
            "overflow": null,
            "overflow_x": null,
            "overflow_y": null,
            "padding": null,
            "right": null,
            "top": null,
            "visibility": null,
            "width": null
          }
        },
        "a897d007ed07423dbb1002d985ffedd7": {
          "model_module": "@jupyter-widgets/controls",
          "model_name": "DescriptionStyleModel",
          "model_module_version": "1.5.0",
          "state": {
            "_model_module": "@jupyter-widgets/controls",
            "_model_module_version": "1.5.0",
            "_model_name": "DescriptionStyleModel",
            "_view_count": null,
            "_view_module": "@jupyter-widgets/base",
            "_view_module_version": "1.2.0",
            "_view_name": "StyleView",
            "description_width": ""
          }
        },
        "f1a2fe6f85f843dcb6c1ee10a917816a": {
          "model_module": "@jupyter-widgets/base",
          "model_name": "LayoutModel",
          "model_module_version": "1.2.0",
          "state": {
            "_model_module": "@jupyter-widgets/base",
            "_model_module_version": "1.2.0",
            "_model_name": "LayoutModel",
            "_view_count": null,
            "_view_module": "@jupyter-widgets/base",
            "_view_module_version": "1.2.0",
            "_view_name": "LayoutView",
            "align_content": null,
            "align_items": null,
            "align_self": null,
            "border": null,
            "bottom": null,
            "display": null,
            "flex": null,
            "flex_flow": null,
            "grid_area": null,
            "grid_auto_columns": null,
            "grid_auto_flow": null,
            "grid_auto_rows": null,
            "grid_column": null,
            "grid_gap": null,
            "grid_row": null,
            "grid_template_areas": null,
            "grid_template_columns": null,
            "grid_template_rows": null,
            "height": null,
            "justify_content": null,
            "justify_items": null,
            "left": null,
            "margin": null,
            "max_height": null,
            "max_width": null,
            "min_height": null,
            "min_width": null,
            "object_fit": null,
            "object_position": null,
            "order": null,
            "overflow": null,
            "overflow_x": null,
            "overflow_y": null,
            "padding": null,
            "right": null,
            "top": null,
            "visibility": null,
            "width": null
          }
        },
        "dde57a75ee4e409c9a5d7c73244d25ea": {
          "model_module": "@jupyter-widgets/controls",
          "model_name": "ProgressStyleModel",
          "model_module_version": "1.5.0",
          "state": {
            "_model_module": "@jupyter-widgets/controls",
            "_model_module_version": "1.5.0",
            "_model_name": "ProgressStyleModel",
            "_view_count": null,
            "_view_module": "@jupyter-widgets/base",
            "_view_module_version": "1.2.0",
            "_view_name": "StyleView",
            "bar_color": null,
            "description_width": ""
          }
        },
        "fb78c9b5015c4286a4b027f660dc288a": {
          "model_module": "@jupyter-widgets/base",
          "model_name": "LayoutModel",
          "model_module_version": "1.2.0",
          "state": {
            "_model_module": "@jupyter-widgets/base",
            "_model_module_version": "1.2.0",
            "_model_name": "LayoutModel",
            "_view_count": null,
            "_view_module": "@jupyter-widgets/base",
            "_view_module_version": "1.2.0",
            "_view_name": "LayoutView",
            "align_content": null,
            "align_items": null,
            "align_self": null,
            "border": null,
            "bottom": null,
            "display": null,
            "flex": null,
            "flex_flow": null,
            "grid_area": null,
            "grid_auto_columns": null,
            "grid_auto_flow": null,
            "grid_auto_rows": null,
            "grid_column": null,
            "grid_gap": null,
            "grid_row": null,
            "grid_template_areas": null,
            "grid_template_columns": null,
            "grid_template_rows": null,
            "height": null,
            "justify_content": null,
            "justify_items": null,
            "left": null,
            "margin": null,
            "max_height": null,
            "max_width": null,
            "min_height": null,
            "min_width": null,
            "object_fit": null,
            "object_position": null,
            "order": null,
            "overflow": null,
            "overflow_x": null,
            "overflow_y": null,
            "padding": null,
            "right": null,
            "top": null,
            "visibility": null,
            "width": null
          }
        },
        "868c17e99a0943b7a5d8f4089564b10f": {
          "model_module": "@jupyter-widgets/controls",
          "model_name": "DescriptionStyleModel",
          "model_module_version": "1.5.0",
          "state": {
            "_model_module": "@jupyter-widgets/controls",
            "_model_module_version": "1.5.0",
            "_model_name": "DescriptionStyleModel",
            "_view_count": null,
            "_view_module": "@jupyter-widgets/base",
            "_view_module_version": "1.2.0",
            "_view_name": "StyleView",
            "description_width": ""
          }
        },
        "26703a6a72614119a24e193ba150591f": {
          "model_module": "@jupyter-widgets/controls",
          "model_name": "HBoxModel",
          "model_module_version": "1.5.0",
          "state": {
            "_dom_classes": [],
            "_model_module": "@jupyter-widgets/controls",
            "_model_module_version": "1.5.0",
            "_model_name": "HBoxModel",
            "_view_count": null,
            "_view_module": "@jupyter-widgets/controls",
            "_view_module_version": "1.5.0",
            "_view_name": "HBoxView",
            "box_style": "",
            "children": [
              "IPY_MODEL_0378a3f5c8d4414eaefe00117b70ec51",
              "IPY_MODEL_1e4bca0e732e469f92d4c807c1b1be9b",
              "IPY_MODEL_7e5347f72ee04f3ab8fdcdf65d9a690b"
            ],
            "layout": "IPY_MODEL_1bdc2be36b20471283bdefd5a4a16c26"
          }
        },
        "0378a3f5c8d4414eaefe00117b70ec51": {
          "model_module": "@jupyter-widgets/controls",
          "model_name": "HTMLModel",
          "model_module_version": "1.5.0",
          "state": {
            "_dom_classes": [],
            "_model_module": "@jupyter-widgets/controls",
            "_model_module_version": "1.5.0",
            "_model_name": "HTMLModel",
            "_view_count": null,
            "_view_module": "@jupyter-widgets/controls",
            "_view_module_version": "1.5.0",
            "_view_name": "HTMLView",
            "description": "",
            "description_tooltip": null,
            "layout": "IPY_MODEL_b7852eef699b4a97b3b8cdf0b3b3d236",
            "placeholder": "​",
            "style": "IPY_MODEL_f1525811cf2846b0a73104904b8da3d3",
            "value": "Processing: 100%"
          }
        },
        "1e4bca0e732e469f92d4c807c1b1be9b": {
          "model_module": "@jupyter-widgets/controls",
          "model_name": "FloatProgressModel",
          "model_module_version": "1.5.0",
          "state": {
            "_dom_classes": [],
            "_model_module": "@jupyter-widgets/controls",
            "_model_module_version": "1.5.0",
            "_model_name": "FloatProgressModel",
            "_view_count": null,
            "_view_module": "@jupyter-widgets/controls",
            "_view_module_version": "1.5.0",
            "_view_name": "ProgressView",
            "bar_style": "",
            "description": "",
            "description_tooltip": null,
            "layout": "IPY_MODEL_4350b0f3e70649f8a059e95b94c649e2",
            "max": 4,
            "min": 0,
            "orientation": "horizontal",
            "style": "IPY_MODEL_02081c5273af4c089efe8752504c2b49",
            "value": 4
          }
        },
        "7e5347f72ee04f3ab8fdcdf65d9a690b": {
          "model_module": "@jupyter-widgets/controls",
          "model_name": "HTMLModel",
          "model_module_version": "1.5.0",
          "state": {
            "_dom_classes": [],
            "_model_module": "@jupyter-widgets/controls",
            "_model_module_version": "1.5.0",
            "_model_name": "HTMLModel",
            "_view_count": null,
            "_view_module": "@jupyter-widgets/controls",
            "_view_module_version": "1.5.0",
            "_view_name": "HTMLView",
            "description": "",
            "description_tooltip": null,
            "layout": "IPY_MODEL_2c84bb8d7c134700a2c7fc2a7ec597c3",
            "placeholder": "​",
            "style": "IPY_MODEL_4d28217f82b54d79b09c65ff0aff8df1",
            "value": " 4/4 [00:05&lt;00:00,  1.29s/it]"
          }
        },
        "1bdc2be36b20471283bdefd5a4a16c26": {
          "model_module": "@jupyter-widgets/base",
          "model_name": "LayoutModel",
          "model_module_version": "1.2.0",
          "state": {
            "_model_module": "@jupyter-widgets/base",
            "_model_module_version": "1.2.0",
            "_model_name": "LayoutModel",
            "_view_count": null,
            "_view_module": "@jupyter-widgets/base",
            "_view_module_version": "1.2.0",
            "_view_name": "LayoutView",
            "align_content": null,
            "align_items": null,
            "align_self": null,
            "border": null,
            "bottom": null,
            "display": null,
            "flex": null,
            "flex_flow": null,
            "grid_area": null,
            "grid_auto_columns": null,
            "grid_auto_flow": null,
            "grid_auto_rows": null,
            "grid_column": null,
            "grid_gap": null,
            "grid_row": null,
            "grid_template_areas": null,
            "grid_template_columns": null,
            "grid_template_rows": null,
            "height": null,
            "justify_content": null,
            "justify_items": null,
            "left": null,
            "margin": null,
            "max_height": null,
            "max_width": null,
            "min_height": null,
            "min_width": null,
            "object_fit": null,
            "object_position": null,
            "order": null,
            "overflow": null,
            "overflow_x": null,
            "overflow_y": null,
            "padding": null,
            "right": null,
            "top": null,
            "visibility": "hidden",
            "width": null
          }
        },
        "b7852eef699b4a97b3b8cdf0b3b3d236": {
          "model_module": "@jupyter-widgets/base",
          "model_name": "LayoutModel",
          "model_module_version": "1.2.0",
          "state": {
            "_model_module": "@jupyter-widgets/base",
            "_model_module_version": "1.2.0",
            "_model_name": "LayoutModel",
            "_view_count": null,
            "_view_module": "@jupyter-widgets/base",
            "_view_module_version": "1.2.0",
            "_view_name": "LayoutView",
            "align_content": null,
            "align_items": null,
            "align_self": null,
            "border": null,
            "bottom": null,
            "display": null,
            "flex": null,
            "flex_flow": null,
            "grid_area": null,
            "grid_auto_columns": null,
            "grid_auto_flow": null,
            "grid_auto_rows": null,
            "grid_column": null,
            "grid_gap": null,
            "grid_row": null,
            "grid_template_areas": null,
            "grid_template_columns": null,
            "grid_template_rows": null,
            "height": null,
            "justify_content": null,
            "justify_items": null,
            "left": null,
            "margin": null,
            "max_height": null,
            "max_width": null,
            "min_height": null,
            "min_width": null,
            "object_fit": null,
            "object_position": null,
            "order": null,
            "overflow": null,
            "overflow_x": null,
            "overflow_y": null,
            "padding": null,
            "right": null,
            "top": null,
            "visibility": null,
            "width": null
          }
        },
        "f1525811cf2846b0a73104904b8da3d3": {
          "model_module": "@jupyter-widgets/controls",
          "model_name": "DescriptionStyleModel",
          "model_module_version": "1.5.0",
          "state": {
            "_model_module": "@jupyter-widgets/controls",
            "_model_module_version": "1.5.0",
            "_model_name": "DescriptionStyleModel",
            "_view_count": null,
            "_view_module": "@jupyter-widgets/base",
            "_view_module_version": "1.2.0",
            "_view_name": "StyleView",
            "description_width": ""
          }
        },
        "4350b0f3e70649f8a059e95b94c649e2": {
          "model_module": "@jupyter-widgets/base",
          "model_name": "LayoutModel",
          "model_module_version": "1.2.0",
          "state": {
            "_model_module": "@jupyter-widgets/base",
            "_model_module_version": "1.2.0",
            "_model_name": "LayoutModel",
            "_view_count": null,
            "_view_module": "@jupyter-widgets/base",
            "_view_module_version": "1.2.0",
            "_view_name": "LayoutView",
            "align_content": null,
            "align_items": null,
            "align_self": null,
            "border": null,
            "bottom": null,
            "display": null,
            "flex": null,
            "flex_flow": null,
            "grid_area": null,
            "grid_auto_columns": null,
            "grid_auto_flow": null,
            "grid_auto_rows": null,
            "grid_column": null,
            "grid_gap": null,
            "grid_row": null,
            "grid_template_areas": null,
            "grid_template_columns": null,
            "grid_template_rows": null,
            "height": null,
            "justify_content": null,
            "justify_items": null,
            "left": null,
            "margin": null,
            "max_height": null,
            "max_width": null,
            "min_height": null,
            "min_width": null,
            "object_fit": null,
            "object_position": null,
            "order": null,
            "overflow": null,
            "overflow_x": null,
            "overflow_y": null,
            "padding": null,
            "right": null,
            "top": null,
            "visibility": null,
            "width": null
          }
        },
        "02081c5273af4c089efe8752504c2b49": {
          "model_module": "@jupyter-widgets/controls",
          "model_name": "ProgressStyleModel",
          "model_module_version": "1.5.0",
          "state": {
            "_model_module": "@jupyter-widgets/controls",
            "_model_module_version": "1.5.0",
            "_model_name": "ProgressStyleModel",
            "_view_count": null,
            "_view_module": "@jupyter-widgets/base",
            "_view_module_version": "1.2.0",
            "_view_name": "StyleView",
            "bar_color": null,
            "description_width": ""
          }
        },
        "2c84bb8d7c134700a2c7fc2a7ec597c3": {
          "model_module": "@jupyter-widgets/base",
          "model_name": "LayoutModel",
          "model_module_version": "1.2.0",
          "state": {
            "_model_module": "@jupyter-widgets/base",
            "_model_module_version": "1.2.0",
            "_model_name": "LayoutModel",
            "_view_count": null,
            "_view_module": "@jupyter-widgets/base",
            "_view_module_version": "1.2.0",
            "_view_name": "LayoutView",
            "align_content": null,
            "align_items": null,
            "align_self": null,
            "border": null,
            "bottom": null,
            "display": null,
            "flex": null,
            "flex_flow": null,
            "grid_area": null,
            "grid_auto_columns": null,
            "grid_auto_flow": null,
            "grid_auto_rows": null,
            "grid_column": null,
            "grid_gap": null,
            "grid_row": null,
            "grid_template_areas": null,
            "grid_template_columns": null,
            "grid_template_rows": null,
            "height": null,
            "justify_content": null,
            "justify_items": null,
            "left": null,
            "margin": null,
            "max_height": null,
            "max_width": null,
            "min_height": null,
            "min_width": null,
            "object_fit": null,
            "object_position": null,
            "order": null,
            "overflow": null,
            "overflow_x": null,
            "overflow_y": null,
            "padding": null,
            "right": null,
            "top": null,
            "visibility": null,
            "width": null
          }
        },
        "4d28217f82b54d79b09c65ff0aff8df1": {
          "model_module": "@jupyter-widgets/controls",
          "model_name": "DescriptionStyleModel",
          "model_module_version": "1.5.0",
          "state": {
            "_model_module": "@jupyter-widgets/controls",
            "_model_module_version": "1.5.0",
            "_model_name": "DescriptionStyleModel",
            "_view_count": null,
            "_view_module": "@jupyter-widgets/base",
            "_view_module_version": "1.2.0",
            "_view_name": "StyleView",
            "description_width": ""
          }
        },
        "061ed0b93e2942e5926e8bf0c221f7f0": {
          "model_module": "@jupyter-widgets/controls",
          "model_name": "HBoxModel",
          "model_module_version": "1.5.0",
          "state": {
            "_dom_classes": [],
            "_model_module": "@jupyter-widgets/controls",
            "_model_module_version": "1.5.0",
            "_model_name": "HBoxModel",
            "_view_count": null,
            "_view_module": "@jupyter-widgets/controls",
            "_view_module_version": "1.5.0",
            "_view_name": "HBoxView",
            "box_style": "",
            "children": [
              "IPY_MODEL_f7c7083be61f47b1b714f0c6e52bcee0",
              "IPY_MODEL_189080012f004c0fa134c6d272c9970f",
              "IPY_MODEL_990bbf16b7914e43b35795b37c041409"
            ],
            "layout": "IPY_MODEL_4e31ea77077742dba16534d73e7a063f"
          }
        },
        "f7c7083be61f47b1b714f0c6e52bcee0": {
          "model_module": "@jupyter-widgets/controls",
          "model_name": "HTMLModel",
          "model_module_version": "1.5.0",
          "state": {
            "_dom_classes": [],
            "_model_module": "@jupyter-widgets/controls",
            "_model_module_version": "1.5.0",
            "_model_name": "HTMLModel",
            "_view_count": null,
            "_view_module": "@jupyter-widgets/controls",
            "_view_module_version": "1.5.0",
            "_view_name": "HTMLView",
            "description": "",
            "description_tooltip": null,
            "layout": "IPY_MODEL_0ecd87a97e9545a08e5bdae40bf59cbd",
            "placeholder": "​",
            "style": "IPY_MODEL_c2bf6b795d1f4eb683dc49ce2624e3ab",
            "value": "Processing: 100%"
          }
        },
        "189080012f004c0fa134c6d272c9970f": {
          "model_module": "@jupyter-widgets/controls",
          "model_name": "FloatProgressModel",
          "model_module_version": "1.5.0",
          "state": {
            "_dom_classes": [],
            "_model_module": "@jupyter-widgets/controls",
            "_model_module_version": "1.5.0",
            "_model_name": "FloatProgressModel",
            "_view_count": null,
            "_view_module": "@jupyter-widgets/controls",
            "_view_module_version": "1.5.0",
            "_view_name": "ProgressView",
            "bar_style": "",
            "description": "",
            "description_tooltip": null,
            "layout": "IPY_MODEL_0b85e3d1144e4ecb8a1d3a7d4682705f",
            "max": 7,
            "min": 0,
            "orientation": "horizontal",
            "style": "IPY_MODEL_b41113c5036d4217b0e322f70d558e53",
            "value": 7
          }
        },
        "990bbf16b7914e43b35795b37c041409": {
          "model_module": "@jupyter-widgets/controls",
          "model_name": "HTMLModel",
          "model_module_version": "1.5.0",
          "state": {
            "_dom_classes": [],
            "_model_module": "@jupyter-widgets/controls",
            "_model_module_version": "1.5.0",
            "_model_name": "HTMLModel",
            "_view_count": null,
            "_view_module": "@jupyter-widgets/controls",
            "_view_module_version": "1.5.0",
            "_view_name": "HTMLView",
            "description": "",
            "description_tooltip": null,
            "layout": "IPY_MODEL_30f8d35a72874c15bfbcd6810e4dbf82",
            "placeholder": "​",
            "style": "IPY_MODEL_9131dde040234857afe3c5077885b06d",
            "value": " 7/7 [02:34&lt;00:00, 17.30s/it]"
          }
        },
        "4e31ea77077742dba16534d73e7a063f": {
          "model_module": "@jupyter-widgets/base",
          "model_name": "LayoutModel",
          "model_module_version": "1.2.0",
          "state": {
            "_model_module": "@jupyter-widgets/base",
            "_model_module_version": "1.2.0",
            "_model_name": "LayoutModel",
            "_view_count": null,
            "_view_module": "@jupyter-widgets/base",
            "_view_module_version": "1.2.0",
            "_view_name": "LayoutView",
            "align_content": null,
            "align_items": null,
            "align_self": null,
            "border": null,
            "bottom": null,
            "display": null,
            "flex": null,
            "flex_flow": null,
            "grid_area": null,
            "grid_auto_columns": null,
            "grid_auto_flow": null,
            "grid_auto_rows": null,
            "grid_column": null,
            "grid_gap": null,
            "grid_row": null,
            "grid_template_areas": null,
            "grid_template_columns": null,
            "grid_template_rows": null,
            "height": null,
            "justify_content": null,
            "justify_items": null,
            "left": null,
            "margin": null,
            "max_height": null,
            "max_width": null,
            "min_height": null,
            "min_width": null,
            "object_fit": null,
            "object_position": null,
            "order": null,
            "overflow": null,
            "overflow_x": null,
            "overflow_y": null,
            "padding": null,
            "right": null,
            "top": null,
            "visibility": "hidden",
            "width": null
          }
        },
        "0ecd87a97e9545a08e5bdae40bf59cbd": {
          "model_module": "@jupyter-widgets/base",
          "model_name": "LayoutModel",
          "model_module_version": "1.2.0",
          "state": {
            "_model_module": "@jupyter-widgets/base",
            "_model_module_version": "1.2.0",
            "_model_name": "LayoutModel",
            "_view_count": null,
            "_view_module": "@jupyter-widgets/base",
            "_view_module_version": "1.2.0",
            "_view_name": "LayoutView",
            "align_content": null,
            "align_items": null,
            "align_self": null,
            "border": null,
            "bottom": null,
            "display": null,
            "flex": null,
            "flex_flow": null,
            "grid_area": null,
            "grid_auto_columns": null,
            "grid_auto_flow": null,
            "grid_auto_rows": null,
            "grid_column": null,
            "grid_gap": null,
            "grid_row": null,
            "grid_template_areas": null,
            "grid_template_columns": null,
            "grid_template_rows": null,
            "height": null,
            "justify_content": null,
            "justify_items": null,
            "left": null,
            "margin": null,
            "max_height": null,
            "max_width": null,
            "min_height": null,
            "min_width": null,
            "object_fit": null,
            "object_position": null,
            "order": null,
            "overflow": null,
            "overflow_x": null,
            "overflow_y": null,
            "padding": null,
            "right": null,
            "top": null,
            "visibility": null,
            "width": null
          }
        },
        "c2bf6b795d1f4eb683dc49ce2624e3ab": {
          "model_module": "@jupyter-widgets/controls",
          "model_name": "DescriptionStyleModel",
          "model_module_version": "1.5.0",
          "state": {
            "_model_module": "@jupyter-widgets/controls",
            "_model_module_version": "1.5.0",
            "_model_name": "DescriptionStyleModel",
            "_view_count": null,
            "_view_module": "@jupyter-widgets/base",
            "_view_module_version": "1.2.0",
            "_view_name": "StyleView",
            "description_width": ""
          }
        },
        "0b85e3d1144e4ecb8a1d3a7d4682705f": {
          "model_module": "@jupyter-widgets/base",
          "model_name": "LayoutModel",
          "model_module_version": "1.2.0",
          "state": {
            "_model_module": "@jupyter-widgets/base",
            "_model_module_version": "1.2.0",
            "_model_name": "LayoutModel",
            "_view_count": null,
            "_view_module": "@jupyter-widgets/base",
            "_view_module_version": "1.2.0",
            "_view_name": "LayoutView",
            "align_content": null,
            "align_items": null,
            "align_self": null,
            "border": null,
            "bottom": null,
            "display": null,
            "flex": null,
            "flex_flow": null,
            "grid_area": null,
            "grid_auto_columns": null,
            "grid_auto_flow": null,
            "grid_auto_rows": null,
            "grid_column": null,
            "grid_gap": null,
            "grid_row": null,
            "grid_template_areas": null,
            "grid_template_columns": null,
            "grid_template_rows": null,
            "height": null,
            "justify_content": null,
            "justify_items": null,
            "left": null,
            "margin": null,
            "max_height": null,
            "max_width": null,
            "min_height": null,
            "min_width": null,
            "object_fit": null,
            "object_position": null,
            "order": null,
            "overflow": null,
            "overflow_x": null,
            "overflow_y": null,
            "padding": null,
            "right": null,
            "top": null,
            "visibility": null,
            "width": null
          }
        },
        "b41113c5036d4217b0e322f70d558e53": {
          "model_module": "@jupyter-widgets/controls",
          "model_name": "ProgressStyleModel",
          "model_module_version": "1.5.0",
          "state": {
            "_model_module": "@jupyter-widgets/controls",
            "_model_module_version": "1.5.0",
            "_model_name": "ProgressStyleModel",
            "_view_count": null,
            "_view_module": "@jupyter-widgets/base",
            "_view_module_version": "1.2.0",
            "_view_name": "StyleView",
            "bar_color": null,
            "description_width": ""
          }
        },
        "30f8d35a72874c15bfbcd6810e4dbf82": {
          "model_module": "@jupyter-widgets/base",
          "model_name": "LayoutModel",
          "model_module_version": "1.2.0",
          "state": {
            "_model_module": "@jupyter-widgets/base",
            "_model_module_version": "1.2.0",
            "_model_name": "LayoutModel",
            "_view_count": null,
            "_view_module": "@jupyter-widgets/base",
            "_view_module_version": "1.2.0",
            "_view_name": "LayoutView",
            "align_content": null,
            "align_items": null,
            "align_self": null,
            "border": null,
            "bottom": null,
            "display": null,
            "flex": null,
            "flex_flow": null,
            "grid_area": null,
            "grid_auto_columns": null,
            "grid_auto_flow": null,
            "grid_auto_rows": null,
            "grid_column": null,
            "grid_gap": null,
            "grid_row": null,
            "grid_template_areas": null,
            "grid_template_columns": null,
            "grid_template_rows": null,
            "height": null,
            "justify_content": null,
            "justify_items": null,
            "left": null,
            "margin": null,
            "max_height": null,
            "max_width": null,
            "min_height": null,
            "min_width": null,
            "object_fit": null,
            "object_position": null,
            "order": null,
            "overflow": null,
            "overflow_x": null,
            "overflow_y": null,
            "padding": null,
            "right": null,
            "top": null,
            "visibility": null,
            "width": null
          }
        },
        "9131dde040234857afe3c5077885b06d": {
          "model_module": "@jupyter-widgets/controls",
          "model_name": "DescriptionStyleModel",
          "model_module_version": "1.5.0",
          "state": {
            "_model_module": "@jupyter-widgets/controls",
            "_model_module_version": "1.5.0",
            "_model_name": "DescriptionStyleModel",
            "_view_count": null,
            "_view_module": "@jupyter-widgets/base",
            "_view_module_version": "1.2.0",
            "_view_name": "StyleView",
            "description_width": ""
          }
        },
        "e2920563e2744464b03b2d8ffdb21a91": {
          "model_module": "@jupyter-widgets/controls",
          "model_name": "VBoxModel",
          "model_module_version": "1.5.0",
          "state": {
            "_dom_classes": [
              "widget-interact"
            ],
            "_model_module": "@jupyter-widgets/controls",
            "_model_module_version": "1.5.0",
            "_model_name": "VBoxModel",
            "_view_count": null,
            "_view_module": "@jupyter-widgets/controls",
            "_view_module_version": "1.5.0",
            "_view_name": "VBoxView",
            "box_style": "",
            "children": [
              "IPY_MODEL_9ccf816891f2450399f7b96872980be4",
              "IPY_MODEL_b76940d709294072bbeba5d07f1b9553"
            ],
            "layout": "IPY_MODEL_473a5dc831c142818a94028a12e1708b"
          }
        },
        "9ccf816891f2450399f7b96872980be4": {
          "model_module": "@jupyter-widgets/controls",
          "model_name": "ToggleButtonsModel",
          "model_module_version": "1.5.0",
          "state": {
            "_dom_classes": [],
            "_model_module": "@jupyter-widgets/controls",
            "_model_module_version": "1.5.0",
            "_model_name": "ToggleButtonsModel",
            "_options_labels": [
              "Pipeline Plot",
              "Hyperparameters",
              "AUC",
              "Confusion Matrix",
              "Threshold",
              "Precision Recall",
              "Prediction Error",
              "Class Report",
              "Feature Selection",
              "Learning Curve",
              "Manifold Learning",
              "Calibration Curve",
              "Validation Curve",
              "Dimensions",
              "Feature Importance",
              "Feature Importance (All)",
              "Decision Boundary",
              "Lift Chart",
              "Gain Chart",
              "Decision Tree",
              "KS Statistic Plot"
            ],
            "_view_count": null,
            "_view_module": "@jupyter-widgets/controls",
            "_view_module_version": "1.5.0",
            "_view_name": "ToggleButtonsView",
            "button_style": "",
            "description": "Plot Type:",
            "description_tooltip": null,
            "disabled": false,
            "icons": [
              ""
            ],
            "index": 8,
            "layout": "IPY_MODEL_0f33fb720efb4e41b2196c751faa7f03",
            "style": "IPY_MODEL_f6d3234c600c4bfb88dec060baa5fc85",
            "tooltips": []
          }
        },
        "b76940d709294072bbeba5d07f1b9553": {
          "model_module": "@jupyter-widgets/output",
          "model_name": "OutputModel",
          "model_module_version": "1.0.0",
          "state": {
            "_dom_classes": [],
            "_model_module": "@jupyter-widgets/output",
            "_model_module_version": "1.0.0",
            "_model_name": "OutputModel",
            "_view_count": null,
            "_view_module": "@jupyter-widgets/output",
            "_view_module_version": "1.0.0",
            "_view_name": "OutputView",
            "layout": "IPY_MODEL_c0b81685ce06499c8ed6d6b5a0277dfe",
            "msg_id": "fdcc349f-a9d3-42ce-f08b-67d807d4d211",
            "outputs": [
              {
                "output_type": "display_data",
                "data": {
                  "text/plain": "<Figure size 800x550 with 1 Axes>",
                  "image/png": "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\n"
                },
                "metadata": {}
              }
            ]
          }
        },
        "473a5dc831c142818a94028a12e1708b": {
          "model_module": "@jupyter-widgets/base",
          "model_name": "LayoutModel",
          "model_module_version": "1.2.0",
          "state": {
            "_model_module": "@jupyter-widgets/base",
            "_model_module_version": "1.2.0",
            "_model_name": "LayoutModel",
            "_view_count": null,
            "_view_module": "@jupyter-widgets/base",
            "_view_module_version": "1.2.0",
            "_view_name": "LayoutView",
            "align_content": null,
            "align_items": null,
            "align_self": null,
            "border": null,
            "bottom": null,
            "display": null,
            "flex": null,
            "flex_flow": null,
            "grid_area": null,
            "grid_auto_columns": null,
            "grid_auto_flow": null,
            "grid_auto_rows": null,
            "grid_column": null,
            "grid_gap": null,
            "grid_row": null,
            "grid_template_areas": null,
            "grid_template_columns": null,
            "grid_template_rows": null,
            "height": null,
            "justify_content": null,
            "justify_items": null,
            "left": null,
            "margin": null,
            "max_height": null,
            "max_width": null,
            "min_height": null,
            "min_width": null,
            "object_fit": null,
            "object_position": null,
            "order": null,
            "overflow": null,
            "overflow_x": null,
            "overflow_y": null,
            "padding": null,
            "right": null,
            "top": null,
            "visibility": null,
            "width": null
          }
        },
        "0f33fb720efb4e41b2196c751faa7f03": {
          "model_module": "@jupyter-widgets/base",
          "model_name": "LayoutModel",
          "model_module_version": "1.2.0",
          "state": {
            "_model_module": "@jupyter-widgets/base",
            "_model_module_version": "1.2.0",
            "_model_name": "LayoutModel",
            "_view_count": null,
            "_view_module": "@jupyter-widgets/base",
            "_view_module_version": "1.2.0",
            "_view_name": "LayoutView",
            "align_content": null,
            "align_items": null,
            "align_self": null,
            "border": null,
            "bottom": null,
            "display": null,
            "flex": null,
            "flex_flow": null,
            "grid_area": null,
            "grid_auto_columns": null,
            "grid_auto_flow": null,
            "grid_auto_rows": null,
            "grid_column": null,
            "grid_gap": null,
            "grid_row": null,
            "grid_template_areas": null,
            "grid_template_columns": null,
            "grid_template_rows": null,
            "height": null,
            "justify_content": null,
            "justify_items": null,
            "left": null,
            "margin": null,
            "max_height": null,
            "max_width": null,
            "min_height": null,
            "min_width": null,
            "object_fit": null,
            "object_position": null,
            "order": null,
            "overflow": null,
            "overflow_x": null,
            "overflow_y": null,
            "padding": null,
            "right": null,
            "top": null,
            "visibility": null,
            "width": null
          }
        },
        "f6d3234c600c4bfb88dec060baa5fc85": {
          "model_module": "@jupyter-widgets/controls",
          "model_name": "ToggleButtonsStyleModel",
          "model_module_version": "1.5.0",
          "state": {
            "_model_module": "@jupyter-widgets/controls",
            "_model_module_version": "1.5.0",
            "_model_name": "ToggleButtonsStyleModel",
            "_view_count": null,
            "_view_module": "@jupyter-widgets/base",
            "_view_module_version": "1.2.0",
            "_view_name": "StyleView",
            "button_width": "",
            "description_width": "",
            "font_weight": ""
          }
        },
        "c0b81685ce06499c8ed6d6b5a0277dfe": {
          "model_module": "@jupyter-widgets/base",
          "model_name": "LayoutModel",
          "model_module_version": "1.2.0",
          "state": {
            "_model_module": "@jupyter-widgets/base",
            "_model_module_version": "1.2.0",
            "_model_name": "LayoutModel",
            "_view_count": null,
            "_view_module": "@jupyter-widgets/base",
            "_view_module_version": "1.2.0",
            "_view_name": "LayoutView",
            "align_content": null,
            "align_items": null,
            "align_self": null,
            "border": null,
            "bottom": null,
            "display": null,
            "flex": null,
            "flex_flow": null,
            "grid_area": null,
            "grid_auto_columns": null,
            "grid_auto_flow": null,
            "grid_auto_rows": null,
            "grid_column": null,
            "grid_gap": null,
            "grid_row": null,
            "grid_template_areas": null,
            "grid_template_columns": null,
            "grid_template_rows": null,
            "height": null,
            "justify_content": null,
            "justify_items": null,
            "left": null,
            "margin": null,
            "max_height": null,
            "max_width": null,
            "min_height": null,
            "min_width": null,
            "object_fit": null,
            "object_position": null,
            "order": null,
            "overflow": null,
            "overflow_x": null,
            "overflow_y": null,
            "padding": null,
            "right": null,
            "top": null,
            "visibility": null,
            "width": null
          }
        }
      }
    }
  },
  "nbformat": 4,
  "nbformat_minor": 5
}